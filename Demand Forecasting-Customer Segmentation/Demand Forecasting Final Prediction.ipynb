{
 "cells": [
  {
   "cell_type": "code",
   "execution_count": 1,
   "metadata": {
    "collapsed": true
   },
   "outputs": [],
   "source": [
    "import pandas as pd\n",
    "import numpy as np\n",
    "import seaborn as sns\n",
    "import matplotlib.pyplot as plt\n",
    "import datetime\n",
    "%matplotlib inline"
   ]
  },
  {
   "cell_type": "code",
   "execution_count": 2,
   "metadata": {
    "collapsed": true
   },
   "outputs": [],
   "source": [
    "from sklearn import preprocessing\n",
    "from sklearn.ensemble import RandomForestRegressor\n",
    "from sklearn.model_selection import GridSearchCV\n",
    "from sklearn.model_selection import train_test_split\n",
    "from sklearn.metrics import mean_squared_error, mean_absolute_error"
   ]
  },
  {
   "cell_type": "code",
   "execution_count": 3,
   "metadata": {
    "collapsed": true
   },
   "outputs": [],
   "source": [
    "transaction = pd.read_csv('trans_new.csv')"
   ]
  },
  {
   "cell_type": "code",
   "execution_count": 4,
   "metadata": {},
   "outputs": [
    {
     "data": {
      "text/html": [
       "<div>\n",
       "<style>\n",
       "    .dataframe thead tr:only-child th {\n",
       "        text-align: right;\n",
       "    }\n",
       "\n",
       "    .dataframe thead th {\n",
       "        text-align: left;\n",
       "    }\n",
       "\n",
       "    .dataframe tbody tr th {\n",
       "        vertical-align: top;\n",
       "    }\n",
       "</style>\n",
       "<table border=\"1\" class=\"dataframe\">\n",
       "  <thead>\n",
       "    <tr style=\"text-align: right;\">\n",
       "      <th></th>\n",
       "      <th>id</th>\n",
       "      <th>chain</th>\n",
       "      <th>dept</th>\n",
       "      <th>category</th>\n",
       "      <th>company</th>\n",
       "      <th>brand</th>\n",
       "      <th>date</th>\n",
       "      <th>productsize</th>\n",
       "      <th>productmeasure</th>\n",
       "      <th>purchasequantity</th>\n",
       "      <th>purchaseamount</th>\n",
       "    </tr>\n",
       "  </thead>\n",
       "  <tbody>\n",
       "    <tr>\n",
       "      <th>0</th>\n",
       "      <td>696521494</td>\n",
       "      <td>211</td>\n",
       "      <td>55</td>\n",
       "      <td>5558</td>\n",
       "      <td>101111010</td>\n",
       "      <td>9907</td>\n",
       "      <td>2013-01-23</td>\n",
       "      <td>36.0</td>\n",
       "      <td>OZ</td>\n",
       "      <td>1</td>\n",
       "      <td>2.99</td>\n",
       "    </tr>\n",
       "    <tr>\n",
       "      <th>1</th>\n",
       "      <td>417112954</td>\n",
       "      <td>100</td>\n",
       "      <td>63</td>\n",
       "      <td>6320</td>\n",
       "      <td>107509070</td>\n",
       "      <td>182</td>\n",
       "      <td>2012-12-09</td>\n",
       "      <td>12.0</td>\n",
       "      <td>CT</td>\n",
       "      <td>1</td>\n",
       "      <td>2.29</td>\n",
       "    </tr>\n",
       "    <tr>\n",
       "      <th>2</th>\n",
       "      <td>308340717</td>\n",
       "      <td>360</td>\n",
       "      <td>35</td>\n",
       "      <td>3504</td>\n",
       "      <td>103500030</td>\n",
       "      <td>13470</td>\n",
       "      <td>2012-06-12</td>\n",
       "      <td>10.0</td>\n",
       "      <td>OZ</td>\n",
       "      <td>1</td>\n",
       "      <td>1.79</td>\n",
       "    </tr>\n",
       "    <tr>\n",
       "      <th>3</th>\n",
       "      <td>4629335121</td>\n",
       "      <td>153</td>\n",
       "      <td>63</td>\n",
       "      <td>6320</td>\n",
       "      <td>1068826767</td>\n",
       "      <td>81691</td>\n",
       "      <td>2012-09-10</td>\n",
       "      <td>12.0</td>\n",
       "      <td>CT</td>\n",
       "      <td>1</td>\n",
       "      <td>2.79</td>\n",
       "    </tr>\n",
       "    <tr>\n",
       "      <th>4</th>\n",
       "      <td>743051948</td>\n",
       "      <td>58</td>\n",
       "      <td>63</td>\n",
       "      <td>6330</td>\n",
       "      <td>101111010</td>\n",
       "      <td>9907</td>\n",
       "      <td>2012-10-07</td>\n",
       "      <td>16.0</td>\n",
       "      <td>OZ</td>\n",
       "      <td>1</td>\n",
       "      <td>2.79</td>\n",
       "    </tr>\n",
       "  </tbody>\n",
       "</table>\n",
       "</div>"
      ],
      "text/plain": [
       "           id  chain  dept  category     company  brand        date  \\\n",
       "0   696521494    211    55      5558   101111010   9907  2013-01-23   \n",
       "1   417112954    100    63      6320   107509070    182  2012-12-09   \n",
       "2   308340717    360    35      3504   103500030  13470  2012-06-12   \n",
       "3  4629335121    153    63      6320  1068826767  81691  2012-09-10   \n",
       "4   743051948     58    63      6330   101111010   9907  2012-10-07   \n",
       "\n",
       "   productsize productmeasure  purchasequantity  purchaseamount  \n",
       "0         36.0             OZ                 1            2.99  \n",
       "1         12.0             CT                 1            2.29  \n",
       "2         10.0             OZ                 1            1.79  \n",
       "3         12.0             CT                 1            2.79  \n",
       "4         16.0             OZ                 1            2.79  "
      ]
     },
     "execution_count": 4,
     "metadata": {},
     "output_type": "execute_result"
    }
   ],
   "source": [
    "transaction = transaction.drop(transaction.columns[0], axis = 1)\n",
    "transaction.head()"
   ]
  },
  {
   "cell_type": "code",
   "execution_count": 5,
   "metadata": {
    "collapsed": true
   },
   "outputs": [],
   "source": [
    "def missing_count(dataset):\n",
    "    missing = {}\n",
    "    for col in dataset.columns:\n",
    "        missing[col] = len(dataset[dataset[col].isnull()])\n",
    "    return missing"
   ]
  },
  {
   "cell_type": "code",
   "execution_count": 6,
   "metadata": {},
   "outputs": [
    {
     "data": {
      "text/plain": [
       "{'brand': 0,\n",
       " 'category': 0,\n",
       " 'chain': 0,\n",
       " 'company': 0,\n",
       " 'date': 0,\n",
       " 'dept': 0,\n",
       " 'id': 0,\n",
       " 'productmeasure': 14441,\n",
       " 'productsize': 0,\n",
       " 'purchaseamount': 0,\n",
       " 'purchasequantity': 0}"
      ]
     },
     "execution_count": 6,
     "metadata": {},
     "output_type": "execute_result"
    }
   ],
   "source": [
    "missing_count(transaction)"
   ]
  },
  {
   "cell_type": "code",
   "execution_count": 7,
   "metadata": {},
   "outputs": [
    {
     "data": {
      "text/plain": [
       "132"
      ]
     },
     "execution_count": 7,
     "metadata": {},
     "output_type": "execute_result"
    }
   ],
   "source": [
    "len(set(transaction['chain']))   # 132 chain stores"
   ]
  },
  {
   "cell_type": "code",
   "execution_count": 8,
   "metadata": {},
   "outputs": [
    {
     "data": {
      "text/plain": [
       "58053"
      ]
     },
     "execution_count": 8,
     "metadata": {},
     "output_type": "execute_result"
    }
   ],
   "source": [
    "len(transaction.groupby(['category','company','brand','productsize','productmeasure']))\n",
    "# 58053 different types of goods"
   ]
  },
  {
   "cell_type": "code",
   "execution_count": 9,
   "metadata": {},
   "outputs": [
    {
     "data": {
      "text/plain": [
       "193779"
      ]
     },
     "execution_count": 9,
     "metadata": {},
     "output_type": "execute_result"
    }
   ],
   "source": [
    "len(set(transaction['id']))  # 193779 different customers"
   ]
  },
  {
   "cell_type": "code",
   "execution_count": 10,
   "metadata": {},
   "outputs": [
    {
     "data": {
      "text/plain": [
       "450252"
      ]
     },
     "execution_count": 10,
     "metadata": {},
     "output_type": "execute_result"
    }
   ],
   "source": [
    "transaction.shape[0]   # 450,252 transactions"
   ]
  },
  {
   "cell_type": "code",
   "execution_count": 11,
   "metadata": {},
   "outputs": [
    {
     "data": {
      "text/plain": [
       "804"
      ]
     },
     "execution_count": 11,
     "metadata": {},
     "output_type": "execute_result"
    }
   ],
   "source": [
    "len(set(transaction['category']))   # 804 categories"
   ]
  },
  {
   "cell_type": "code",
   "execution_count": 12,
   "metadata": {},
   "outputs": [
    {
     "data": {
      "text/plain": [
       "9463"
      ]
     },
     "execution_count": 12,
     "metadata": {},
     "output_type": "execute_result"
    }
   ],
   "source": [
    "len(set(transaction['company']))   # 9463 companies"
   ]
  },
  {
   "cell_type": "code",
   "execution_count": 13,
   "metadata": {},
   "outputs": [
    {
     "data": {
      "text/plain": [
       "0"
      ]
     },
     "execution_count": 13,
     "metadata": {},
     "output_type": "execute_result"
    }
   ],
   "source": [
    "len(transaction.loc[(transaction['productmeasure'].isnull()) & (transaction['productsize'] != 0.0)]) "
   ]
  },
  {
   "cell_type": "markdown",
   "metadata": {},
   "source": [
    "### This shows all records with null measures of product are associated with 0.0 product size, indicating either a product return or change. I then fill all the null values of product measure with 'Unknown'."
   ]
  },
  {
   "cell_type": "code",
   "execution_count": 14,
   "metadata": {},
   "outputs": [
    {
     "data": {
      "text/plain": [
       "OZ    367298\n",
       "CT     54246\n",
       "RL      5634\n",
       "LB      5122\n",
       "LT      3352\n",
       "YD       156\n",
       "FT         2\n",
       "1          1\n",
       "Name: productmeasure, dtype: int64"
      ]
     },
     "execution_count": 14,
     "metadata": {},
     "output_type": "execute_result"
    }
   ],
   "source": [
    "transaction['productmeasure'].value_counts()"
   ]
  },
  {
   "cell_type": "code",
   "execution_count": 15,
   "metadata": {
    "collapsed": true
   },
   "outputs": [],
   "source": [
    "transaction.loc[transaction[transaction['productmeasure'] == 1].index, 'productmeasure'] = 'oz' "
   ]
  },
  {
   "cell_type": "code",
   "execution_count": 16,
   "metadata": {
    "collapsed": true
   },
   "outputs": [],
   "source": [
    "transaction['productmeasure'].fillna('Unknown', inplace = True)"
   ]
  },
  {
   "cell_type": "markdown",
   "metadata": {},
   "source": [
    "### I also add a feature 'price' indicating the price of the product in the transaction, which is calculated as amount purchased in the transaction divided by quantity purchased in the transaction. For returns or changes, the price is None."
   ]
  },
  {
   "cell_type": "code",
   "execution_count": 17,
   "metadata": {
    "collapsed": true
   },
   "outputs": [],
   "source": [
    "transaction['price'] = transaction.apply(lambda x: x.purchaseamount/x.purchasequantity if (x.purchaseamount > 0 and x.purchasequantity > 0) else None, axis = 1)"
   ]
  },
  {
   "cell_type": "code",
   "execution_count": 18,
   "metadata": {},
   "outputs": [
    {
     "data": {
      "text/plain": [
       "17224"
      ]
     },
     "execution_count": 18,
     "metadata": {},
     "output_type": "execute_result"
    }
   ],
   "source": [
    "len(transaction[(transaction['purchaseamount'] <= 0) | (transaction['purchasequantity'] <= 0)])"
   ]
  },
  {
   "cell_type": "code",
   "execution_count": 19,
   "metadata": {},
   "outputs": [
    {
     "data": {
      "text/plain": [
       "3.8254133240940633"
      ]
     },
     "execution_count": 19,
     "metadata": {},
     "output_type": "execute_result"
    }
   ],
   "source": [
    "float(17224) / 450252 * 100   # 3.8% "
   ]
  },
  {
   "cell_type": "markdown",
   "metadata": {},
   "source": [
    "### This shows out of 450,252 transactions, there are 17,224 transactions are either returns or changes, which counts for 3.8% of the total transactions."
   ]
  },
  {
   "cell_type": "code",
   "execution_count": 20,
   "metadata": {},
   "outputs": [
    {
     "data": {
      "text/plain": [
       "count    433028.000000\n",
       "mean          3.498594\n",
       "std           4.932820\n",
       "min           0.004264\n",
       "25%           1.790000\n",
       "50%           2.790000\n",
       "75%           3.990000\n",
       "max        1623.550000\n",
       "Name: price, dtype: float64"
      ]
     },
     "execution_count": 20,
     "metadata": {},
     "output_type": "execute_result"
    }
   ],
   "source": [
    "transaction['price'].describe()"
   ]
  },
  {
   "cell_type": "code",
   "execution_count": 21,
   "metadata": {},
   "outputs": [
    {
     "data": {
      "text/plain": [
       "<matplotlib.axes._subplots.AxesSubplot at 0x113bf4d10>"
      ]
     },
     "execution_count": 21,
     "metadata": {},
     "output_type": "execute_result"
    },
    {
     "data": {
      "image/png": "[encoded data removed]",
      "text/plain": [
       "<matplotlib.figure.Figure at 0x113601250>"
      ]
     },
     "metadata": {},
     "output_type": "display_data"
    }
   ],
   "source": [
    "sns.distplot(transaction[transaction['price'] < 20].price)"
   ]
  },
  {
   "cell_type": "code",
   "execution_count": 22,
   "metadata": {},
   "outputs": [
    {
     "data": {
      "text/plain": [
       "<matplotlib.axes._subplots.AxesSubplot at 0x11ad45490>"
      ]
     },
     "execution_count": 22,
     "metadata": {},
     "output_type": "execute_result"
    },
    {
     "data": {
      "image/png": "[encoded data removed]",
      "text/plain": [
       "<matplotlib.figure.Figure at 0x109052250>"
      ]
     },
     "metadata": {},
     "output_type": "display_data"
    }
   ],
   "source": [
    "sns.distplot(transaction[(transaction['price'] >= 20) & (transaction['price'] <= 200)].price)"
   ]
  },
  {
   "cell_type": "code",
   "execution_count": 23,
   "metadata": {},
   "outputs": [
    {
     "data": {
      "text/plain": [
       "<matplotlib.axes._subplots.AxesSubplot at 0x1147122d0>"
      ]
     },
     "execution_count": 23,
     "metadata": {},
     "output_type": "execute_result"
    },
    {
     "data": {
      "image/png": "[encoded data removed]",
      "text/plain": [
       "<matplotlib.figure.Figure at 0x113bf4250>"
      ]
     },
     "metadata": {},
     "output_type": "display_data"
    }
   ],
   "source": [
    "sns.distplot(transaction[transaction['price'] >= 20].price)"
   ]
  },
  {
   "cell_type": "code",
   "execution_count": 24,
   "metadata": {},
   "outputs": [
    {
     "data": {
      "text/plain": [
       "<matplotlib.axes._subplots.AxesSubplot at 0x11ad34310>"
      ]
     },
     "execution_count": 24,
     "metadata": {},
     "output_type": "execute_result"
    },
    {
     "data": {
      "image/png": "[encoded data removed]",
      "text/plain": [
       "<matplotlib.figure.Figure at 0x1166c0450>"
      ]
     },
     "metadata": {},
     "output_type": "display_data"
    }
   ],
   "source": [
    "sns.distplot(transaction[transaction['price'] > 200].price)"
   ]
  },
  {
   "cell_type": "markdown",
   "metadata": {},
   "source": [
    "### Take a look at quantity purchased."
   ]
  },
  {
   "cell_type": "code",
   "execution_count": 25,
   "metadata": {},
   "outputs": [
    {
     "data": {
      "text/plain": [
       "count    450252.000000\n",
       "mean          1.610749\n",
       "std           6.388980\n",
       "min         -33.000000\n",
       "25%           1.000000\n",
       "50%           1.000000\n",
       "75%           2.000000\n",
       "max        1742.000000\n",
       "Name: purchasequantity, dtype: float64"
      ]
     },
     "execution_count": 25,
     "metadata": {},
     "output_type": "execute_result"
    }
   ],
   "source": [
    "transaction['purchasequantity'].describe()"
   ]
  },
  {
   "cell_type": "code",
   "execution_count": 26,
   "metadata": {},
   "outputs": [
    {
     "data": {
      "text/plain": [
       "count    449189.000000\n",
       "mean          1.615937\n",
       "std           6.395241\n",
       "min           1.000000\n",
       "25%           1.000000\n",
       "50%           1.000000\n",
       "75%           2.000000\n",
       "max        1742.000000\n",
       "Name: purchasequantity, dtype: float64"
      ]
     },
     "execution_count": 26,
     "metadata": {},
     "output_type": "execute_result"
    }
   ],
   "source": [
    "transaction[transaction['purchasequantity']>0].purchasequantity.describe()"
   ]
  },
  {
   "cell_type": "code",
   "execution_count": 27,
   "metadata": {},
   "outputs": [
    {
     "data": {
      "text/plain": [
       "<matplotlib.axes._subplots.AxesSubplot at 0x1166c07d0>"
      ]
     },
     "execution_count": 27,
     "metadata": {},
     "output_type": "execute_result"
    },
    {
     "data": {
      "image/png": "[encoded data removed]",
      "text/plain": [
       "<matplotlib.figure.Figure at 0x11944c8d0>"
      ]
     },
     "metadata": {},
     "output_type": "display_data"
    }
   ],
   "source": [
    "sns.distplot(transaction[(transaction['purchasequantity'] < 10) & (transaction['purchasequantity'] > 0)].purchasequantity)   \n",
    "## an important graph showing the majority of price distribution"
   ]
  },
  {
   "cell_type": "code",
   "execution_count": 28,
   "metadata": {},
   "outputs": [
    {
     "data": {
      "text/plain": [
       "<matplotlib.axes._subplots.AxesSubplot at 0x1195f4190>"
      ]
     },
     "execution_count": 28,
     "metadata": {},
     "output_type": "execute_result"
    },
    {
     "data": {
      "image/png": "[encoded data removed]",
      "text/plain": [
       "<matplotlib.figure.Figure at 0x118cd6590>"
      ]
     },
     "metadata": {},
     "output_type": "display_data"
    }
   ],
   "source": [
    "sns.distplot(transaction[transaction['purchasequantity'] >= 10].purchasequantity)   "
   ]
  },
  {
   "cell_type": "markdown",
   "metadata": {},
   "source": [
    "### I now extract year and month information from the data."
   ]
  },
  {
   "cell_type": "code",
   "execution_count": 29,
   "metadata": {
    "collapsed": true
   },
   "outputs": [],
   "source": [
    "transaction['date'] = transaction['date'].apply(lambda x: pd.to_datetime(x))"
   ]
  },
  {
   "cell_type": "code",
   "execution_count": 30,
   "metadata": {
    "collapsed": true
   },
   "outputs": [],
   "source": [
    "transaction['year'] = transaction['date'].dt.year\n",
    "transaction['month'] = transaction['date'].dt.month"
   ]
  },
  {
   "cell_type": "code",
   "execution_count": 31,
   "metadata": {},
   "outputs": [
    {
     "data": {
      "text/plain": [
       "2013-02-02    1942\n",
       "2012-12-22    1936\n",
       "2012-12-23    1920\n",
       "2012-11-18    1780\n",
       "2012-10-27    1743\n",
       "2013-03-03    1720\n",
       "2012-12-02    1704\n",
       "2012-11-17    1702\n",
       "2012-11-21    1698\n",
       "2012-12-16    1697\n",
       "2013-02-03    1669\n",
       "2013-01-13    1654\n",
       "2013-01-06    1644\n",
       "2013-01-27    1635\n",
       "2012-04-07    1621\n",
       "2012-12-09    1618\n",
       "2013-01-26    1616\n",
       "2012-10-28    1610\n",
       "2013-01-19    1609\n",
       "2012-12-15    1603\n",
       "2013-01-05    1599\n",
       "2013-03-10    1590\n",
       "2013-01-12    1587\n",
       "2013-03-02    1583\n",
       "2012-09-23    1582\n",
       "2012-11-04    1578\n",
       "2013-03-24    1576\n",
       "2012-11-11    1576\n",
       "2013-03-17    1576\n",
       "2013-03-09    1574\n",
       "              ... \n",
       "2012-04-26     861\n",
       "2012-04-25     859\n",
       "2012-05-30     859\n",
       "2012-04-11     857\n",
       "2012-04-09     857\n",
       "2012-03-08     857\n",
       "2012-07-18     855\n",
       "2012-03-12     855\n",
       "2012-03-27     851\n",
       "2012-09-25     847\n",
       "2012-08-28     845\n",
       "2012-05-08     842\n",
       "2012-03-14     839\n",
       "2012-04-10     839\n",
       "2012-03-06     836\n",
       "2012-04-17     828\n",
       "2013-03-27     827\n",
       "2012-11-23     818\n",
       "2012-03-28     812\n",
       "2012-03-21     809\n",
       "2012-03-13     807\n",
       "2012-10-30     793\n",
       "2013-03-26     789\n",
       "2012-04-24     786\n",
       "2013-03-25     761\n",
       "2013-01-01     757\n",
       "2012-04-08     579\n",
       "2013-03-31     538\n",
       "2012-11-22     403\n",
       "2012-12-25      47\n",
       "Name: date, Length: 395, dtype: int64"
      ]
     },
     "execution_count": 31,
     "metadata": {},
     "output_type": "execute_result"
    }
   ],
   "source": [
    "transaction['date'].value_counts()"
   ]
  },
  {
   "cell_type": "markdown",
   "metadata": {},
   "source": [
    "### We notice in particular on 2012-12-25 (Christmas), the number of transaction is particularly small, followed by 2012-11-22 (Thanksgiving). This is due to many stores close on that day. But we also notice 2012-12-22, 2012-12-23 and 2012-11-18 have huge sales, maybe because of the holidy reason. "
   ]
  },
  {
   "cell_type": "code",
   "execution_count": 32,
   "metadata": {},
   "outputs": [
    {
     "data": {
      "text/plain": [
       "118782   2012-03-02\n",
       "194257   2012-03-02\n",
       "265290   2012-03-02\n",
       "394479   2012-03-02\n",
       "133203   2012-03-02\n",
       "103710   2012-03-02\n",
       "200574   2012-03-02\n",
       "268410   2012-03-02\n",
       "121603   2012-03-02\n",
       "74885    2012-03-02\n",
       "444637   2012-03-02\n",
       "200545   2012-03-02\n",
       "367122   2012-03-02\n",
       "271614   2012-03-02\n",
       "13694    2012-03-02\n",
       "394469   2012-03-02\n",
       "402110   2012-03-02\n",
       "387587   2012-03-02\n",
       "387580   2012-03-02\n",
       "392384   2012-03-02\n",
       "380248   2012-03-02\n",
       "200700   2012-03-02\n",
       "380387   2012-03-02\n",
       "164258   2012-03-02\n",
       "103762   2012-03-02\n",
       "234816   2012-03-02\n",
       "318012   2012-03-02\n",
       "21385    2012-03-02\n",
       "130312   2012-03-02\n",
       "433952   2012-03-02\n",
       "            ...    \n",
       "155853   2013-03-31\n",
       "144532   2013-03-31\n",
       "132040   2013-03-31\n",
       "347383   2013-03-31\n",
       "278096   2013-03-31\n",
       "228250   2013-03-31\n",
       "228280   2013-03-31\n",
       "155183   2013-03-31\n",
       "155185   2013-03-31\n",
       "416505   2013-03-31\n",
       "448876   2013-03-31\n",
       "409509   2013-03-31\n",
       "186657   2013-03-31\n",
       "160497   2013-03-31\n",
       "208347   2013-03-31\n",
       "9432     2013-03-31\n",
       "347076   2013-03-31\n",
       "406629   2013-03-31\n",
       "310502   2013-03-31\n",
       "59232    2013-03-31\n",
       "346891   2013-03-31\n",
       "86943    2013-03-31\n",
       "228760   2013-03-31\n",
       "44211    2013-03-31\n",
       "67393    2013-03-31\n",
       "302488   2013-03-31\n",
       "228909   2013-03-31\n",
       "228930   2013-03-31\n",
       "229030   2013-03-31\n",
       "167495   2013-03-31\n",
       "Name: date, Length: 450252, dtype: datetime64[ns]"
      ]
     },
     "execution_count": 32,
     "metadata": {},
     "output_type": "execute_result"
    }
   ],
   "source": [
    "transaction['date'].sort_values(ascending = True)"
   ]
  },
  {
   "cell_type": "markdown",
   "metadata": {},
   "source": [
    "### We see that the dates range from the beginning of March 2012 to the end of March 2013."
   ]
  },
  {
   "cell_type": "markdown",
   "metadata": {},
   "source": [
    "### I want to build date block for each transaction, that is, transactions in the same month will be grouped in the same date block. For example, transactions in March 2012 belongs to date block 'lag_12', transactions in April 2012 belongs to date block'lag_11',..., transactions in March 2013 belongs to date block'lag_0', which is the current month."
   ]
  },
  {
   "cell_type": "code",
   "execution_count": 33,
   "metadata": {
    "collapsed": true
   },
   "outputs": [],
   "source": [
    "transaction['dateblock'] = transaction.apply(lambda x: \"lag_{}\".format(3 - x.month) if x.year == 2013 else \"lag_{}\".format(15 - x.month), axis = 1)"
   ]
  },
  {
   "cell_type": "code",
   "execution_count": 34,
   "metadata": {
    "collapsed": true
   },
   "outputs": [],
   "source": [
    "transaction_counts = pd.DataFrame({'Count': transaction['dateblock'].value_counts().sort_values(ascending = False)})"
   ]
  },
  {
   "cell_type": "code",
   "execution_count": 35,
   "metadata": {},
   "outputs": [
    {
     "data": {
      "text/html": [
       "<div>\n",
       "<style>\n",
       "    .dataframe thead tr:only-child th {\n",
       "        text-align: right;\n",
       "    }\n",
       "\n",
       "    .dataframe thead th {\n",
       "        text-align: left;\n",
       "    }\n",
       "\n",
       "    .dataframe tbody tr th {\n",
       "        vertical-align: top;\n",
       "    }\n",
       "</style>\n",
       "<table border=\"1\" class=\"dataframe\">\n",
       "  <thead>\n",
       "    <tr style=\"text-align: right;\">\n",
       "      <th></th>\n",
       "      <th>Count</th>\n",
       "    </tr>\n",
       "  </thead>\n",
       "  <tbody>\n",
       "    <tr>\n",
       "      <th>lag_3</th>\n",
       "      <td>39256</td>\n",
       "    </tr>\n",
       "    <tr>\n",
       "      <th>lag_2</th>\n",
       "      <td>37509</td>\n",
       "    </tr>\n",
       "    <tr>\n",
       "      <th>lag_4</th>\n",
       "      <td>36936</td>\n",
       "    </tr>\n",
       "    <tr>\n",
       "      <th>lag_0</th>\n",
       "      <td>36199</td>\n",
       "    </tr>\n",
       "    <tr>\n",
       "      <th>lag_5</th>\n",
       "      <td>35460</td>\n",
       "    </tr>\n",
       "    <tr>\n",
       "      <th>lag_1</th>\n",
       "      <td>34940</td>\n",
       "    </tr>\n",
       "    <tr>\n",
       "      <th>lag_6</th>\n",
       "      <td>34673</td>\n",
       "    </tr>\n",
       "    <tr>\n",
       "      <th>lag_7</th>\n",
       "      <td>34089</td>\n",
       "    </tr>\n",
       "    <tr>\n",
       "      <th>lag_8</th>\n",
       "      <td>33356</td>\n",
       "    </tr>\n",
       "    <tr>\n",
       "      <th>lag_10</th>\n",
       "      <td>33143</td>\n",
       "    </tr>\n",
       "    <tr>\n",
       "      <th>lag_9</th>\n",
       "      <td>32554</td>\n",
       "    </tr>\n",
       "    <tr>\n",
       "      <th>lag_11</th>\n",
       "      <td>31252</td>\n",
       "    </tr>\n",
       "    <tr>\n",
       "      <th>lag_12</th>\n",
       "      <td>30885</td>\n",
       "    </tr>\n",
       "  </tbody>\n",
       "</table>\n",
       "</div>"
      ],
      "text/plain": [
       "        Count\n",
       "lag_3   39256\n",
       "lag_2   37509\n",
       "lag_4   36936\n",
       "lag_0   36199\n",
       "lag_5   35460\n",
       "lag_1   34940\n",
       "lag_6   34673\n",
       "lag_7   34089\n",
       "lag_8   33356\n",
       "lag_10  33143\n",
       "lag_9   32554\n",
       "lag_11  31252\n",
       "lag_12  30885"
      ]
     },
     "execution_count": 35,
     "metadata": {},
     "output_type": "execute_result"
    }
   ],
   "source": [
    "transaction_counts"
   ]
  },
  {
   "cell_type": "code",
   "execution_count": 36,
   "metadata": {
    "collapsed": true
   },
   "outputs": [],
   "source": [
    "transaction_counts= transaction_counts.reindex_axis([u'lag_0', u'lag_1', u'lag_2', u'lag_3', u'lag_4', u'lag_5',\n",
    "       u'lag_6', u'lag_7', u'lag_8', u'lag_9', u'lag_10', u'lag_11', u'lag_12'], axis = 0)"
   ]
  },
  {
   "cell_type": "code",
   "execution_count": 37,
   "metadata": {},
   "outputs": [
    {
     "data": {
      "text/html": [
       "<div>\n",
       "<style>\n",
       "    .dataframe thead tr:only-child th {\n",
       "        text-align: right;\n",
       "    }\n",
       "\n",
       "    .dataframe thead th {\n",
       "        text-align: left;\n",
       "    }\n",
       "\n",
       "    .dataframe tbody tr th {\n",
       "        vertical-align: top;\n",
       "    }\n",
       "</style>\n",
       "<table border=\"1\" class=\"dataframe\">\n",
       "  <thead>\n",
       "    <tr style=\"text-align: right;\">\n",
       "      <th></th>\n",
       "      <th>Count</th>\n",
       "    </tr>\n",
       "  </thead>\n",
       "  <tbody>\n",
       "    <tr>\n",
       "      <th>lag_0</th>\n",
       "      <td>36199</td>\n",
       "    </tr>\n",
       "    <tr>\n",
       "      <th>lag_1</th>\n",
       "      <td>34940</td>\n",
       "    </tr>\n",
       "    <tr>\n",
       "      <th>lag_2</th>\n",
       "      <td>37509</td>\n",
       "    </tr>\n",
       "    <tr>\n",
       "      <th>lag_3</th>\n",
       "      <td>39256</td>\n",
       "    </tr>\n",
       "    <tr>\n",
       "      <th>lag_4</th>\n",
       "      <td>36936</td>\n",
       "    </tr>\n",
       "    <tr>\n",
       "      <th>lag_5</th>\n",
       "      <td>35460</td>\n",
       "    </tr>\n",
       "    <tr>\n",
       "      <th>lag_6</th>\n",
       "      <td>34673</td>\n",
       "    </tr>\n",
       "    <tr>\n",
       "      <th>lag_7</th>\n",
       "      <td>34089</td>\n",
       "    </tr>\n",
       "    <tr>\n",
       "      <th>lag_8</th>\n",
       "      <td>33356</td>\n",
       "    </tr>\n",
       "    <tr>\n",
       "      <th>lag_9</th>\n",
       "      <td>32554</td>\n",
       "    </tr>\n",
       "    <tr>\n",
       "      <th>lag_10</th>\n",
       "      <td>33143</td>\n",
       "    </tr>\n",
       "    <tr>\n",
       "      <th>lag_11</th>\n",
       "      <td>31252</td>\n",
       "    </tr>\n",
       "    <tr>\n",
       "      <th>lag_12</th>\n",
       "      <td>30885</td>\n",
       "    </tr>\n",
       "  </tbody>\n",
       "</table>\n",
       "</div>"
      ],
      "text/plain": [
       "        Count\n",
       "lag_0   36199\n",
       "lag_1   34940\n",
       "lag_2   37509\n",
       "lag_3   39256\n",
       "lag_4   36936\n",
       "lag_5   35460\n",
       "lag_6   34673\n",
       "lag_7   34089\n",
       "lag_8   33356\n",
       "lag_9   32554\n",
       "lag_10  33143\n",
       "lag_11  31252\n",
       "lag_12  30885"
      ]
     },
     "execution_count": 37,
     "metadata": {},
     "output_type": "execute_result"
    }
   ],
   "source": [
    "transaction_counts"
   ]
  },
  {
   "cell_type": "code",
   "execution_count": 38,
   "metadata": {},
   "outputs": [
    {
     "data": {
      "text/plain": [
       "Text(0.5,1,u'Number of transaction in each dateblock/month')"
      ]
     },
     "execution_count": 38,
     "metadata": {},
     "output_type": "execute_result"
    },
    {
     "data": {
      "image/png": "[encoded data removed]",
      "text/plain": [
       "<matplotlib.figure.Figure at 0x118d460d0>"
      ]
     },
     "metadata": {},
     "output_type": "display_data"
    }
   ],
   "source": [
    "plt.figure(figsize = (10, 5))\n",
    "plt.bar(np.arange(len(transaction_counts)), transaction_counts.Count, color = 'green')\n",
    "plt.xticks(np.arange(len(transaction_counts)), transaction_counts.index, rotation = 45)\n",
    "plt.ylabel(\"Number of transactions\")\n",
    "plt.title(\"Number of transaction in each dateblock/month\")"
   ]
  },
  {
   "cell_type": "markdown",
   "metadata": {},
   "source": [
    "### Now I want to restrict the data to the data that has positive price. So I ignore transactions that are either returns or changes."
   ]
  },
  {
   "cell_type": "code",
   "execution_count": 39,
   "metadata": {
    "collapsed": true
   },
   "outputs": [],
   "source": [
    "transaction = transaction.dropna(subset = ['price'])"
   ]
  },
  {
   "cell_type": "code",
   "execution_count": 40,
   "metadata": {},
   "outputs": [
    {
     "data": {
      "text/plain": [
       "433028"
      ]
     },
     "execution_count": 40,
     "metadata": {},
     "output_type": "execute_result"
    }
   ],
   "source": [
    "len(transaction)   # 433028 valid transactions out of 450252 transactions."
   ]
  },
  {
   "cell_type": "code",
   "execution_count": 41,
   "metadata": {
    "collapsed": true
   },
   "outputs": [],
   "source": [
    "ave_quantity_block = transaction.groupby(['dateblock']).purchasequantity.mean()\n",
    "ave_amount_block = transaction.groupby(['dateblock']).purchaseamount.mean()"
   ]
  },
  {
   "cell_type": "code",
   "execution_count": 42,
   "metadata": {},
   "outputs": [
    {
     "data": {
      "text/plain": [
       "dateblock\n",
       "lag_0     1.623877\n",
       "lag_1     1.612330\n",
       "lag_10    1.614391\n",
       "lag_11    1.684356\n",
       "lag_12    1.612943\n",
       "lag_2     1.626208\n",
       "lag_3     1.688698\n",
       "lag_4     1.635062\n",
       "lag_5     1.578581\n",
       "lag_6     1.631277\n",
       "lag_7     1.574484\n",
       "lag_8     1.618326\n",
       "lag_9     1.588150\n",
       "Name: purchasequantity, dtype: float64"
      ]
     },
     "execution_count": 42,
     "metadata": {},
     "output_type": "execute_result"
    }
   ],
   "source": [
    "ave_quantity_block"
   ]
  },
  {
   "cell_type": "code",
   "execution_count": 43,
   "metadata": {
    "collapsed": true
   },
   "outputs": [],
   "source": [
    "ave_quantity_block= ave_quantity_block.reindex_axis([u'lag_0', u'lag_1', u'lag_2', u'lag_3', u'lag_4', u'lag_5',\n",
    "       u'lag_6', u'lag_7', u'lag_8', u'lag_9', u'lag_10', u'lag_11', u'lag_12'], axis = 0)"
   ]
  },
  {
   "cell_type": "code",
   "execution_count": 44,
   "metadata": {},
   "outputs": [
    {
     "data": {
      "text/plain": [
       "dateblock\n",
       "lag_0     1.623877\n",
       "lag_1     1.612330\n",
       "lag_2     1.626208\n",
       "lag_3     1.688698\n",
       "lag_4     1.635062\n",
       "lag_5     1.578581\n",
       "lag_6     1.631277\n",
       "lag_7     1.574484\n",
       "lag_8     1.618326\n",
       "lag_9     1.588150\n",
       "lag_10    1.614391\n",
       "lag_11    1.684356\n",
       "lag_12    1.612943\n",
       "Name: purchasequantity, dtype: float64"
      ]
     },
     "execution_count": 44,
     "metadata": {},
     "output_type": "execute_result"
    }
   ],
   "source": [
    "ave_quantity_block"
   ]
  },
  {
   "cell_type": "code",
   "execution_count": 45,
   "metadata": {
    "collapsed": true
   },
   "outputs": [],
   "source": [
    "ave_amount_block= ave_amount_block.reindex_axis([u'lag_0', u'lag_1', u'lag_2', u'lag_3', u'lag_4', u'lag_5',\n",
    "       u'lag_6', u'lag_7', u'lag_8', u'lag_9', u'lag_10', u'lag_11', u'lag_12'], axis = 0)"
   ]
  },
  {
   "cell_type": "code",
   "execution_count": 46,
   "metadata": {},
   "outputs": [
    {
     "data": {
      "text/plain": [
       "Text(0.5,1,u'Average quantity purchased per transaction')"
      ]
     },
     "execution_count": 46,
     "metadata": {},
     "output_type": "execute_result"
    },
    {
     "data": {
      "image/png": "[encoded data removed]",
      "text/plain": [
       "<matplotlib.figure.Figure at 0x11e90d9d0>"
      ]
     },
     "metadata": {},
     "output_type": "display_data"
    }
   ],
   "source": [
    "plt.figure(figsize = (10, 5))\n",
    "plt.bar(np.arange(len(ave_quantity_block)),ave_quantity_block.values, color = 'pink')\n",
    "plt.xticks(np.arange(len(ave_quantity_block)),ave_quantity_block.index, rotation = 45)\n",
    "plt.ylabel('Quantities purchased')\n",
    "plt.title('Average quantity purchased per transaction', fontsize = 20)"
   ]
  },
  {
   "cell_type": "code",
   "execution_count": 47,
   "metadata": {},
   "outputs": [
    {
     "data": {
      "text/plain": [
       "Text(0.5,1,u'Average amount purchased per transaction')"
      ]
     },
     "execution_count": 47,
     "metadata": {},
     "output_type": "execute_result"
    },
    {
     "data": {
      "image/png": "[encoded data removed]",
      "text/plain": [
       "<matplotlib.figure.Figure at 0x11f53e210>"
      ]
     },
     "metadata": {},
     "output_type": "display_data"
    }
   ],
   "source": [
    "plt.figure(figsize = (10, 5))\n",
    "plt.bar(np.arange(len(ave_amount_block)),ave_amount_block.values, color = 'purple')\n",
    "plt.xticks(np.arange(len(ave_amount_block)),ave_amount_block.index, rotation = 45)\n",
    "plt.ylabel('Amount purchased')\n",
    "plt.title('Average amount purchased per transaction', fontsize = 20)"
   ]
  },
  {
   "cell_type": "code",
   "execution_count": 48,
   "metadata": {
    "collapsed": true
   },
   "outputs": [],
   "source": [
    "total_quantity_block = transaction.groupby(['dateblock']).purchasequantity.sum()\n",
    "total_amount_block = transaction.groupby(['dateblock']).purchaseamount.sum()"
   ]
  },
  {
   "cell_type": "code",
   "execution_count": 49,
   "metadata": {
    "collapsed": true
   },
   "outputs": [],
   "source": [
    "total_quantity_block= total_quantity_block.reindex_axis([u'lag_0', u'lag_1', u'lag_2', u'lag_3', u'lag_4', u'lag_5',\n",
    "       u'lag_6', u'lag_7', u'lag_8', u'lag_9', u'lag_10', u'lag_11', u'lag_12'], axis = 0)"
   ]
  },
  {
   "cell_type": "code",
   "execution_count": 50,
   "metadata": {
    "collapsed": true
   },
   "outputs": [],
   "source": [
    "total_amount_block= total_amount_block.reindex_axis([u'lag_0', u'lag_1', u'lag_2', u'lag_3', u'lag_4', u'lag_5',\n",
    "       u'lag_6', u'lag_7', u'lag_8', u'lag_9', u'lag_10', u'lag_11', u'lag_12'], axis = 0)"
   ]
  },
  {
   "cell_type": "code",
   "execution_count": 51,
   "metadata": {},
   "outputs": [
    {
     "data": {
      "text/plain": [
       "Text(0.5,1,u'Total quantity purchased each month')"
      ]
     },
     "execution_count": 51,
     "metadata": {},
     "output_type": "execute_result"
    },
    {
     "data": {
      "image/png": "[encoded data removed]",
      "text/plain": [
       "<matplotlib.figure.Figure at 0x11f6b1850>"
      ]
     },
     "metadata": {},
     "output_type": "display_data"
    }
   ],
   "source": [
    "plt.figure(figsize = (10, 5))\n",
    "plt.bar(np.arange(len(total_quantity_block)),total_quantity_block.values, color = 'orange')\n",
    "plt.xticks(np.arange(len(total_quantity_block)),total_quantity_block.index, rotation = 45)\n",
    "plt.ylabel('Quantities purchased')\n",
    "plt.title('Total quantity purchased each month', fontsize = 20)"
   ]
  },
  {
   "cell_type": "code",
   "execution_count": 52,
   "metadata": {},
   "outputs": [
    {
     "data": {
      "text/plain": [
       "Text(0.5,1,u'Total amount purchased each month')"
      ]
     },
     "execution_count": 52,
     "metadata": {},
     "output_type": "execute_result"
    },
    {
     "data": {
      "image/png": "[encoded data removed]",
      "text/plain": [
       "<matplotlib.figure.Figure at 0x128186a10>"
      ]
     },
     "metadata": {},
     "output_type": "display_data"
    }
   ],
   "source": [
    "plt.figure(figsize = (10, 5))\n",
    "plt.bar(np.arange(len(total_amount_block)),total_amount_block.values, color = 'green')\n",
    "plt.xticks(np.arange(len(total_amount_block)),total_amount_block.index, rotation = 45)\n",
    "plt.ylabel('Amount purchased')\n",
    "plt.title('Total amount purchased each month', fontsize = 20)"
   ]
  },
  {
   "cell_type": "markdown",
   "metadata": {},
   "source": [
    "### lag_3 has the highest total amount/quantity purchased. This month is December, a holiday month."
   ]
  },
  {
   "cell_type": "markdown",
   "metadata": {},
   "source": [
    "## Demand Forecasting of each item in each store:\n",
    "### I want to build a forecasting model such that if I want to predict the demand in April 2013, I will use data from April 2012 to March 2013 (a whole year data before April 2013) to predict. By building the model, I have data from March 2012 to March 2013, which can be trained to build the model."
   ]
  },
  {
   "cell_type": "code",
   "execution_count": 53,
   "metadata": {
    "collapsed": true
   },
   "outputs": [],
   "source": [
    "quantity_table = transaction.pivot_table(index = ['chain','company','brand','category','productsize','productmeasure'],\n",
    "                                        columns = 'dateblock',\n",
    "                                        values = 'purchasequantity',\n",
    "                                        aggfunc = 'sum').fillna(0).reset_index()"
   ]
  },
  {
   "cell_type": "code",
   "execution_count": 54,
   "metadata": {},
   "outputs": [
    {
     "data": {
      "text/html": [
       "<div>\n",
       "<style>\n",
       "    .dataframe thead tr:only-child th {\n",
       "        text-align: right;\n",
       "    }\n",
       "\n",
       "    .dataframe thead th {\n",
       "        text-align: left;\n",
       "    }\n",
       "\n",
       "    .dataframe tbody tr th {\n",
       "        vertical-align: top;\n",
       "    }\n",
       "</style>\n",
       "<table border=\"1\" class=\"dataframe\">\n",
       "  <thead>\n",
       "    <tr style=\"text-align: right;\">\n",
       "      <th>dateblock</th>\n",
       "      <th>chain</th>\n",
       "      <th>company</th>\n",
       "      <th>brand</th>\n",
       "      <th>category</th>\n",
       "      <th>productsize</th>\n",
       "      <th>productmeasure</th>\n",
       "      <th>lag_0</th>\n",
       "      <th>lag_1</th>\n",
       "      <th>lag_10</th>\n",
       "      <th>lag_11</th>\n",
       "      <th>lag_12</th>\n",
       "      <th>lag_2</th>\n",
       "      <th>lag_3</th>\n",
       "      <th>lag_4</th>\n",
       "      <th>lag_5</th>\n",
       "      <th>lag_6</th>\n",
       "      <th>lag_7</th>\n",
       "      <th>lag_8</th>\n",
       "      <th>lag_9</th>\n",
       "    </tr>\n",
       "  </thead>\n",
       "  <tbody>\n",
       "    <tr>\n",
       "      <th>0</th>\n",
       "      <td>2</td>\n",
       "      <td>10000</td>\n",
       "      <td>0</td>\n",
       "      <td>0</td>\n",
       "      <td>0.0</td>\n",
       "      <td>Unknown</td>\n",
       "      <td>1.0</td>\n",
       "      <td>0.0</td>\n",
       "      <td>1.0</td>\n",
       "      <td>0.0</td>\n",
       "      <td>1.0</td>\n",
       "      <td>0.0</td>\n",
       "      <td>0.0</td>\n",
       "      <td>5.0</td>\n",
       "      <td>0.0</td>\n",
       "      <td>3.0</td>\n",
       "      <td>0.0</td>\n",
       "      <td>0.0</td>\n",
       "      <td>0.0</td>\n",
       "    </tr>\n",
       "    <tr>\n",
       "      <th>1</th>\n",
       "      <td>2</td>\n",
       "      <td>10000</td>\n",
       "      <td>0</td>\n",
       "      <td>9753</td>\n",
       "      <td>1.0</td>\n",
       "      <td>CT</td>\n",
       "      <td>2.0</td>\n",
       "      <td>0.0</td>\n",
       "      <td>1.0</td>\n",
       "      <td>5.0</td>\n",
       "      <td>0.0</td>\n",
       "      <td>2.0</td>\n",
       "      <td>2.0</td>\n",
       "      <td>2.0</td>\n",
       "      <td>1.0</td>\n",
       "      <td>1.0</td>\n",
       "      <td>1.0</td>\n",
       "      <td>2.0</td>\n",
       "      <td>1.0</td>\n",
       "    </tr>\n",
       "    <tr>\n",
       "      <th>2</th>\n",
       "      <td>2</td>\n",
       "      <td>1013313</td>\n",
       "      <td>52604</td>\n",
       "      <td>1841</td>\n",
       "      <td>1.0</td>\n",
       "      <td>CT</td>\n",
       "      <td>0.0</td>\n",
       "      <td>0.0</td>\n",
       "      <td>0.0</td>\n",
       "      <td>0.0</td>\n",
       "      <td>0.0</td>\n",
       "      <td>0.0</td>\n",
       "      <td>1.0</td>\n",
       "      <td>0.0</td>\n",
       "      <td>0.0</td>\n",
       "      <td>0.0</td>\n",
       "      <td>0.0</td>\n",
       "      <td>0.0</td>\n",
       "      <td>0.0</td>\n",
       "    </tr>\n",
       "    <tr>\n",
       "      <th>3</th>\n",
       "      <td>2</td>\n",
       "      <td>10100010</td>\n",
       "      <td>9907</td>\n",
       "      <td>1006</td>\n",
       "      <td>16.0</td>\n",
       "      <td>OZ</td>\n",
       "      <td>0.0</td>\n",
       "      <td>0.0</td>\n",
       "      <td>0.0</td>\n",
       "      <td>0.0</td>\n",
       "      <td>0.0</td>\n",
       "      <td>1.0</td>\n",
       "      <td>0.0</td>\n",
       "      <td>0.0</td>\n",
       "      <td>0.0</td>\n",
       "      <td>0.0</td>\n",
       "      <td>0.0</td>\n",
       "      <td>0.0</td>\n",
       "      <td>0.0</td>\n",
       "    </tr>\n",
       "    <tr>\n",
       "      <th>4</th>\n",
       "      <td>2</td>\n",
       "      <td>10912898</td>\n",
       "      <td>46937</td>\n",
       "      <td>7901</td>\n",
       "      <td>1.0</td>\n",
       "      <td>CT</td>\n",
       "      <td>0.0</td>\n",
       "      <td>0.0</td>\n",
       "      <td>0.0</td>\n",
       "      <td>0.0</td>\n",
       "      <td>0.0</td>\n",
       "      <td>0.0</td>\n",
       "      <td>0.0</td>\n",
       "      <td>0.0</td>\n",
       "      <td>0.0</td>\n",
       "      <td>0.0</td>\n",
       "      <td>1.0</td>\n",
       "      <td>0.0</td>\n",
       "      <td>0.0</td>\n",
       "    </tr>\n",
       "  </tbody>\n",
       "</table>\n",
       "</div>"
      ],
      "text/plain": [
       "dateblock  chain   company  brand  category  productsize productmeasure  \\\n",
       "0              2     10000      0         0          0.0        Unknown   \n",
       "1              2     10000      0      9753          1.0             CT   \n",
       "2              2   1013313  52604      1841          1.0             CT   \n",
       "3              2  10100010   9907      1006         16.0             OZ   \n",
       "4              2  10912898  46937      7901          1.0             CT   \n",
       "\n",
       "dateblock  lag_0  lag_1  lag_10  lag_11  lag_12  lag_2  lag_3  lag_4  lag_5  \\\n",
       "0            1.0    0.0     1.0     0.0     1.0    0.0    0.0    5.0    0.0   \n",
       "1            2.0    0.0     1.0     5.0     0.0    2.0    2.0    2.0    1.0   \n",
       "2            0.0    0.0     0.0     0.0     0.0    0.0    1.0    0.0    0.0   \n",
       "3            0.0    0.0     0.0     0.0     0.0    1.0    0.0    0.0    0.0   \n",
       "4            0.0    0.0     0.0     0.0     0.0    0.0    0.0    0.0    0.0   \n",
       "\n",
       "dateblock  lag_6  lag_7  lag_8  lag_9  \n",
       "0            3.0    0.0    0.0    0.0  \n",
       "1            1.0    1.0    2.0    1.0  \n",
       "2            0.0    0.0    0.0    0.0  \n",
       "3            0.0    0.0    0.0    0.0  \n",
       "4            0.0    1.0    0.0    0.0  "
      ]
     },
     "execution_count": 54,
     "metadata": {},
     "output_type": "execute_result"
    }
   ],
   "source": [
    "quantity_table.head()"
   ]
  },
  {
   "cell_type": "code",
   "execution_count": 55,
   "metadata": {
    "collapsed": true
   },
   "outputs": [],
   "source": [
    "features = ['chain','company','brand','category','productsize','productmeasure',\n",
    "          'lag_12','lag_11','lag_10','lag_9','lag_8','lag_7','lag_6','lag_5','lag_4',\n",
    "            'lag_3','lag_2','lag_1','lag_0']"
   ]
  },
  {
   "cell_type": "code",
   "execution_count": 56,
   "metadata": {
    "collapsed": true
   },
   "outputs": [],
   "source": [
    "quantity_table = quantity_table[features]"
   ]
  },
  {
   "cell_type": "code",
   "execution_count": 57,
   "metadata": {},
   "outputs": [
    {
     "data": {
      "text/html": [
       "<div>\n",
       "<style>\n",
       "    .dataframe thead tr:only-child th {\n",
       "        text-align: right;\n",
       "    }\n",
       "\n",
       "    .dataframe thead th {\n",
       "        text-align: left;\n",
       "    }\n",
       "\n",
       "    .dataframe tbody tr th {\n",
       "        vertical-align: top;\n",
       "    }\n",
       "</style>\n",
       "<table border=\"1\" class=\"dataframe\">\n",
       "  <thead>\n",
       "    <tr style=\"text-align: right;\">\n",
       "      <th>dateblock</th>\n",
       "      <th>chain</th>\n",
       "      <th>company</th>\n",
       "      <th>brand</th>\n",
       "      <th>category</th>\n",
       "      <th>productsize</th>\n",
       "      <th>productmeasure</th>\n",
       "      <th>lag_12</th>\n",
       "      <th>lag_11</th>\n",
       "      <th>lag_10</th>\n",
       "      <th>lag_9</th>\n",
       "      <th>lag_8</th>\n",
       "      <th>lag_7</th>\n",
       "      <th>lag_6</th>\n",
       "      <th>lag_5</th>\n",
       "      <th>lag_4</th>\n",
       "      <th>lag_3</th>\n",
       "      <th>lag_2</th>\n",
       "      <th>lag_1</th>\n",
       "      <th>lag_0</th>\n",
       "    </tr>\n",
       "  </thead>\n",
       "  <tbody>\n",
       "    <tr>\n",
       "      <th>0</th>\n",
       "      <td>2</td>\n",
       "      <td>10000</td>\n",
       "      <td>0</td>\n",
       "      <td>0</td>\n",
       "      <td>0.0</td>\n",
       "      <td>Unknown</td>\n",
       "      <td>1.0</td>\n",
       "      <td>0.0</td>\n",
       "      <td>1.0</td>\n",
       "      <td>0.0</td>\n",
       "      <td>0.0</td>\n",
       "      <td>0.0</td>\n",
       "      <td>3.0</td>\n",
       "      <td>0.0</td>\n",
       "      <td>5.0</td>\n",
       "      <td>0.0</td>\n",
       "      <td>0.0</td>\n",
       "      <td>0.0</td>\n",
       "      <td>1.0</td>\n",
       "    </tr>\n",
       "    <tr>\n",
       "      <th>1</th>\n",
       "      <td>2</td>\n",
       "      <td>10000</td>\n",
       "      <td>0</td>\n",
       "      <td>9753</td>\n",
       "      <td>1.0</td>\n",
       "      <td>CT</td>\n",
       "      <td>0.0</td>\n",
       "      <td>5.0</td>\n",
       "      <td>1.0</td>\n",
       "      <td>1.0</td>\n",
       "      <td>2.0</td>\n",
       "      <td>1.0</td>\n",
       "      <td>1.0</td>\n",
       "      <td>1.0</td>\n",
       "      <td>2.0</td>\n",
       "      <td>2.0</td>\n",
       "      <td>2.0</td>\n",
       "      <td>0.0</td>\n",
       "      <td>2.0</td>\n",
       "    </tr>\n",
       "    <tr>\n",
       "      <th>2</th>\n",
       "      <td>2</td>\n",
       "      <td>1013313</td>\n",
       "      <td>52604</td>\n",
       "      <td>1841</td>\n",
       "      <td>1.0</td>\n",
       "      <td>CT</td>\n",
       "      <td>0.0</td>\n",
       "      <td>0.0</td>\n",
       "      <td>0.0</td>\n",
       "      <td>0.0</td>\n",
       "      <td>0.0</td>\n",
       "      <td>0.0</td>\n",
       "      <td>0.0</td>\n",
       "      <td>0.0</td>\n",
       "      <td>0.0</td>\n",
       "      <td>1.0</td>\n",
       "      <td>0.0</td>\n",
       "      <td>0.0</td>\n",
       "      <td>0.0</td>\n",
       "    </tr>\n",
       "    <tr>\n",
       "      <th>3</th>\n",
       "      <td>2</td>\n",
       "      <td>10100010</td>\n",
       "      <td>9907</td>\n",
       "      <td>1006</td>\n",
       "      <td>16.0</td>\n",
       "      <td>OZ</td>\n",
       "      <td>0.0</td>\n",
       "      <td>0.0</td>\n",
       "      <td>0.0</td>\n",
       "      <td>0.0</td>\n",
       "      <td>0.0</td>\n",
       "      <td>0.0</td>\n",
       "      <td>0.0</td>\n",
       "      <td>0.0</td>\n",
       "      <td>0.0</td>\n",
       "      <td>0.0</td>\n",
       "      <td>1.0</td>\n",
       "      <td>0.0</td>\n",
       "      <td>0.0</td>\n",
       "    </tr>\n",
       "    <tr>\n",
       "      <th>4</th>\n",
       "      <td>2</td>\n",
       "      <td>10912898</td>\n",
       "      <td>46937</td>\n",
       "      <td>7901</td>\n",
       "      <td>1.0</td>\n",
       "      <td>CT</td>\n",
       "      <td>0.0</td>\n",
       "      <td>0.0</td>\n",
       "      <td>0.0</td>\n",
       "      <td>0.0</td>\n",
       "      <td>0.0</td>\n",
       "      <td>1.0</td>\n",
       "      <td>0.0</td>\n",
       "      <td>0.0</td>\n",
       "      <td>0.0</td>\n",
       "      <td>0.0</td>\n",
       "      <td>0.0</td>\n",
       "      <td>0.0</td>\n",
       "      <td>0.0</td>\n",
       "    </tr>\n",
       "  </tbody>\n",
       "</table>\n",
       "</div>"
      ],
      "text/plain": [
       "dateblock  chain   company  brand  category  productsize productmeasure  \\\n",
       "0              2     10000      0         0          0.0        Unknown   \n",
       "1              2     10000      0      9753          1.0             CT   \n",
       "2              2   1013313  52604      1841          1.0             CT   \n",
       "3              2  10100010   9907      1006         16.0             OZ   \n",
       "4              2  10912898  46937      7901          1.0             CT   \n",
       "\n",
       "dateblock  lag_12  lag_11  lag_10  lag_9  lag_8  lag_7  lag_6  lag_5  lag_4  \\\n",
       "0             1.0     0.0     1.0    0.0    0.0    0.0    3.0    0.0    5.0   \n",
       "1             0.0     5.0     1.0    1.0    2.0    1.0    1.0    1.0    2.0   \n",
       "2             0.0     0.0     0.0    0.0    0.0    0.0    0.0    0.0    0.0   \n",
       "3             0.0     0.0     0.0    0.0    0.0    0.0    0.0    0.0    0.0   \n",
       "4             0.0     0.0     0.0    0.0    0.0    1.0    0.0    0.0    0.0   \n",
       "\n",
       "dateblock  lag_3  lag_2  lag_1  lag_0  \n",
       "0            0.0    0.0    0.0    1.0  \n",
       "1            2.0    2.0    0.0    2.0  \n",
       "2            1.0    0.0    0.0    0.0  \n",
       "3            0.0    1.0    0.0    0.0  \n",
       "4            0.0    0.0    0.0    0.0  "
      ]
     },
     "execution_count": 57,
     "metadata": {},
     "output_type": "execute_result"
    }
   ],
   "source": [
    "quantity_table.head()"
   ]
  },
  {
   "cell_type": "markdown",
   "metadata": {},
   "source": [
    "### Now I want to adjust values in quantity table, so values in each lag_i corresponds to 30 days' value.The adjustment is done by multiplying the average value per day for each month by 30."
   ]
  },
  {
   "cell_type": "code",
   "execution_count": 58,
   "metadata": {
    "collapsed": true
   },
   "outputs": [],
   "source": [
    "product_features = ['chain','company','brand','category','productsize','productmeasure']"
   ]
  },
  {
   "cell_type": "code",
   "execution_count": 59,
   "metadata": {
    "collapsed": true
   },
   "outputs": [],
   "source": [
    "quantity_adjusted_table = pd.DataFrame()\n",
    "for feature in product_features:\n",
    "    quantity_adjusted_table[feature] = quantity_table[feature]"
   ]
  },
  {
   "cell_type": "code",
   "execution_count": 60,
   "metadata": {},
   "outputs": [
    {
     "data": {
      "text/html": [
       "<div>\n",
       "<style>\n",
       "    .dataframe thead tr:only-child th {\n",
       "        text-align: right;\n",
       "    }\n",
       "\n",
       "    .dataframe thead th {\n",
       "        text-align: left;\n",
       "    }\n",
       "\n",
       "    .dataframe tbody tr th {\n",
       "        vertical-align: top;\n",
       "    }\n",
       "</style>\n",
       "<table border=\"1\" class=\"dataframe\">\n",
       "  <thead>\n",
       "    <tr style=\"text-align: right;\">\n",
       "      <th></th>\n",
       "      <th>chain</th>\n",
       "      <th>company</th>\n",
       "      <th>brand</th>\n",
       "      <th>category</th>\n",
       "      <th>productsize</th>\n",
       "      <th>productmeasure</th>\n",
       "    </tr>\n",
       "  </thead>\n",
       "  <tbody>\n",
       "    <tr>\n",
       "      <th>0</th>\n",
       "      <td>2</td>\n",
       "      <td>10000</td>\n",
       "      <td>0</td>\n",
       "      <td>0</td>\n",
       "      <td>0.00</td>\n",
       "      <td>Unknown</td>\n",
       "    </tr>\n",
       "    <tr>\n",
       "      <th>1</th>\n",
       "      <td>2</td>\n",
       "      <td>10000</td>\n",
       "      <td>0</td>\n",
       "      <td>9753</td>\n",
       "      <td>1.00</td>\n",
       "      <td>CT</td>\n",
       "    </tr>\n",
       "    <tr>\n",
       "      <th>2</th>\n",
       "      <td>2</td>\n",
       "      <td>1013313</td>\n",
       "      <td>52604</td>\n",
       "      <td>1841</td>\n",
       "      <td>1.00</td>\n",
       "      <td>CT</td>\n",
       "    </tr>\n",
       "    <tr>\n",
       "      <th>3</th>\n",
       "      <td>2</td>\n",
       "      <td>10100010</td>\n",
       "      <td>9907</td>\n",
       "      <td>1006</td>\n",
       "      <td>16.00</td>\n",
       "      <td>OZ</td>\n",
       "    </tr>\n",
       "    <tr>\n",
       "      <th>4</th>\n",
       "      <td>2</td>\n",
       "      <td>10912898</td>\n",
       "      <td>46937</td>\n",
       "      <td>7901</td>\n",
       "      <td>1.00</td>\n",
       "      <td>CT</td>\n",
       "    </tr>\n",
       "    <tr>\n",
       "      <th>5</th>\n",
       "      <td>2</td>\n",
       "      <td>10930090</td>\n",
       "      <td>12157</td>\n",
       "      <td>2806</td>\n",
       "      <td>24.00</td>\n",
       "      <td>OZ</td>\n",
       "    </tr>\n",
       "    <tr>\n",
       "      <th>6</th>\n",
       "      <td>2</td>\n",
       "      <td>10980090</td>\n",
       "      <td>12851</td>\n",
       "      <td>1910</td>\n",
       "      <td>13.00</td>\n",
       "      <td>OZ</td>\n",
       "    </tr>\n",
       "    <tr>\n",
       "      <th>7</th>\n",
       "      <td>2</td>\n",
       "      <td>10980090</td>\n",
       "      <td>18366</td>\n",
       "      <td>427</td>\n",
       "      <td>1.00</td>\n",
       "      <td>OZ</td>\n",
       "    </tr>\n",
       "    <tr>\n",
       "      <th>8</th>\n",
       "      <td>2</td>\n",
       "      <td>101030010</td>\n",
       "      <td>5740</td>\n",
       "      <td>3315</td>\n",
       "      <td>7.50</td>\n",
       "      <td>OZ</td>\n",
       "    </tr>\n",
       "    <tr>\n",
       "      <th>9</th>\n",
       "      <td>2</td>\n",
       "      <td>101070010</td>\n",
       "      <td>7446</td>\n",
       "      <td>407</td>\n",
       "      <td>6.00</td>\n",
       "      <td>OZ</td>\n",
       "    </tr>\n",
       "    <tr>\n",
       "      <th>10</th>\n",
       "      <td>2</td>\n",
       "      <td>101070010</td>\n",
       "      <td>11692</td>\n",
       "      <td>417</td>\n",
       "      <td>5.00</td>\n",
       "      <td>OZ</td>\n",
       "    </tr>\n",
       "    <tr>\n",
       "      <th>11</th>\n",
       "      <td>2</td>\n",
       "      <td>101070010</td>\n",
       "      <td>19846</td>\n",
       "      <td>416</td>\n",
       "      <td>3.50</td>\n",
       "      <td>OZ</td>\n",
       "    </tr>\n",
       "    <tr>\n",
       "      <th>12</th>\n",
       "      <td>2</td>\n",
       "      <td>101070010</td>\n",
       "      <td>19846</td>\n",
       "      <td>418</td>\n",
       "      <td>3.50</td>\n",
       "      <td>OZ</td>\n",
       "    </tr>\n",
       "    <tr>\n",
       "      <th>13</th>\n",
       "      <td>2</td>\n",
       "      <td>101090010</td>\n",
       "      <td>15232</td>\n",
       "      <td>2604</td>\n",
       "      <td>32.00</td>\n",
       "      <td>CT</td>\n",
       "    </tr>\n",
       "    <tr>\n",
       "      <th>14</th>\n",
       "      <td>2</td>\n",
       "      <td>101090010</td>\n",
       "      <td>15232</td>\n",
       "      <td>2617</td>\n",
       "      <td>1.00</td>\n",
       "      <td>CT</td>\n",
       "    </tr>\n",
       "    <tr>\n",
       "      <th>15</th>\n",
       "      <td>2</td>\n",
       "      <td>101111010</td>\n",
       "      <td>1814</td>\n",
       "      <td>3601</td>\n",
       "      <td>67.60</td>\n",
       "      <td>OZ</td>\n",
       "    </tr>\n",
       "    <tr>\n",
       "      <th>16</th>\n",
       "      <td>2</td>\n",
       "      <td>101111010</td>\n",
       "      <td>1814</td>\n",
       "      <td>3618</td>\n",
       "      <td>67.60</td>\n",
       "      <td>OZ</td>\n",
       "    </tr>\n",
       "    <tr>\n",
       "      <th>17</th>\n",
       "      <td>2</td>\n",
       "      <td>101111010</td>\n",
       "      <td>1814</td>\n",
       "      <td>3618</td>\n",
       "      <td>144.00</td>\n",
       "      <td>OZ</td>\n",
       "    </tr>\n",
       "    <tr>\n",
       "      <th>18</th>\n",
       "      <td>2</td>\n",
       "      <td>101111010</td>\n",
       "      <td>1814</td>\n",
       "      <td>3627</td>\n",
       "      <td>144.00</td>\n",
       "      <td>OZ</td>\n",
       "    </tr>\n",
       "    <tr>\n",
       "      <th>19</th>\n",
       "      <td>2</td>\n",
       "      <td>101111010</td>\n",
       "      <td>1814</td>\n",
       "      <td>3628</td>\n",
       "      <td>67.60</td>\n",
       "      <td>OZ</td>\n",
       "    </tr>\n",
       "    <tr>\n",
       "      <th>20</th>\n",
       "      <td>2</td>\n",
       "      <td>101111010</td>\n",
       "      <td>1814</td>\n",
       "      <td>3628</td>\n",
       "      <td>144.00</td>\n",
       "      <td>OZ</td>\n",
       "    </tr>\n",
       "    <tr>\n",
       "      <th>21</th>\n",
       "      <td>2</td>\n",
       "      <td>101111010</td>\n",
       "      <td>1814</td>\n",
       "      <td>3631</td>\n",
       "      <td>144.00</td>\n",
       "      <td>OZ</td>\n",
       "    </tr>\n",
       "    <tr>\n",
       "      <th>22</th>\n",
       "      <td>2</td>\n",
       "      <td>101111010</td>\n",
       "      <td>1814</td>\n",
       "      <td>3632</td>\n",
       "      <td>67.60</td>\n",
       "      <td>OZ</td>\n",
       "    </tr>\n",
       "    <tr>\n",
       "      <th>23</th>\n",
       "      <td>2</td>\n",
       "      <td>101111010</td>\n",
       "      <td>1814</td>\n",
       "      <td>3632</td>\n",
       "      <td>72.00</td>\n",
       "      <td>OZ</td>\n",
       "    </tr>\n",
       "    <tr>\n",
       "      <th>24</th>\n",
       "      <td>2</td>\n",
       "      <td>101111010</td>\n",
       "      <td>4020</td>\n",
       "      <td>5558</td>\n",
       "      <td>30.00</td>\n",
       "      <td>OZ</td>\n",
       "    </tr>\n",
       "    <tr>\n",
       "      <th>25</th>\n",
       "      <td>2</td>\n",
       "      <td>101111010</td>\n",
       "      <td>4020</td>\n",
       "      <td>5558</td>\n",
       "      <td>42.00</td>\n",
       "      <td>OZ</td>\n",
       "    </tr>\n",
       "    <tr>\n",
       "      <th>26</th>\n",
       "      <td>2</td>\n",
       "      <td>101111010</td>\n",
       "      <td>4020</td>\n",
       "      <td>5559</td>\n",
       "      <td>27.00</td>\n",
       "      <td>OZ</td>\n",
       "    </tr>\n",
       "    <tr>\n",
       "      <th>27</th>\n",
       "      <td>2</td>\n",
       "      <td>101111010</td>\n",
       "      <td>4020</td>\n",
       "      <td>5559</td>\n",
       "      <td>54.00</td>\n",
       "      <td>OZ</td>\n",
       "    </tr>\n",
       "    <tr>\n",
       "      <th>28</th>\n",
       "      <td>2</td>\n",
       "      <td>101111010</td>\n",
       "      <td>4367</td>\n",
       "      <td>3635</td>\n",
       "      <td>33.80</td>\n",
       "      <td>OZ</td>\n",
       "    </tr>\n",
       "    <tr>\n",
       "      <th>29</th>\n",
       "      <td>2</td>\n",
       "      <td>101111010</td>\n",
       "      <td>4766</td>\n",
       "      <td>5552</td>\n",
       "      <td>16.00</td>\n",
       "      <td>OZ</td>\n",
       "    </tr>\n",
       "    <tr>\n",
       "      <th>...</th>\n",
       "      <td>...</td>\n",
       "      <td>...</td>\n",
       "      <td>...</td>\n",
       "      <td>...</td>\n",
       "      <td>...</td>\n",
       "      <td>...</td>\n",
       "    </tr>\n",
       "    <tr>\n",
       "      <th>216552</th>\n",
       "      <td>526</td>\n",
       "      <td>1060308464</td>\n",
       "      <td>7034</td>\n",
       "      <td>7501</td>\n",
       "      <td>1.70</td>\n",
       "      <td>OZ</td>\n",
       "    </tr>\n",
       "    <tr>\n",
       "      <th>216553</th>\n",
       "      <td>526</td>\n",
       "      <td>1060559262</td>\n",
       "      <td>12610</td>\n",
       "      <td>7114</td>\n",
       "      <td>10.00</td>\n",
       "      <td>OZ</td>\n",
       "    </tr>\n",
       "    <tr>\n",
       "      <th>216554</th>\n",
       "      <td>526</td>\n",
       "      <td>1061126969</td>\n",
       "      <td>15041</td>\n",
       "      <td>610</td>\n",
       "      <td>8.40</td>\n",
       "      <td>OZ</td>\n",
       "    </tr>\n",
       "    <tr>\n",
       "      <th>216555</th>\n",
       "      <td>526</td>\n",
       "      <td>1063810262</td>\n",
       "      <td>20375</td>\n",
       "      <td>607</td>\n",
       "      <td>1.76</td>\n",
       "      <td>OZ</td>\n",
       "    </tr>\n",
       "    <tr>\n",
       "      <th>216556</th>\n",
       "      <td>526</td>\n",
       "      <td>1064541666</td>\n",
       "      <td>25075</td>\n",
       "      <td>9518</td>\n",
       "      <td>1.00</td>\n",
       "      <td>CT</td>\n",
       "    </tr>\n",
       "    <tr>\n",
       "      <th>216557</th>\n",
       "      <td>526</td>\n",
       "      <td>1068142161</td>\n",
       "      <td>5339</td>\n",
       "      <td>7309</td>\n",
       "      <td>30.00</td>\n",
       "      <td>CT</td>\n",
       "    </tr>\n",
       "    <tr>\n",
       "      <th>216558</th>\n",
       "      <td>526</td>\n",
       "      <td>1068550969</td>\n",
       "      <td>49508</td>\n",
       "      <td>9211</td>\n",
       "      <td>0.05</td>\n",
       "      <td>OZ</td>\n",
       "    </tr>\n",
       "    <tr>\n",
       "      <th>216559</th>\n",
       "      <td>526</td>\n",
       "      <td>1069223767</td>\n",
       "      <td>28185</td>\n",
       "      <td>9213</td>\n",
       "      <td>6.00</td>\n",
       "      <td>OZ</td>\n",
       "    </tr>\n",
       "    <tr>\n",
       "      <th>216560</th>\n",
       "      <td>526</td>\n",
       "      <td>1071722676</td>\n",
       "      <td>9241</td>\n",
       "      <td>7113</td>\n",
       "      <td>1.50</td>\n",
       "      <td>OZ</td>\n",
       "    </tr>\n",
       "    <tr>\n",
       "      <th>216561</th>\n",
       "      <td>526</td>\n",
       "      <td>1071722676</td>\n",
       "      <td>9241</td>\n",
       "      <td>7113</td>\n",
       "      <td>8.50</td>\n",
       "      <td>OZ</td>\n",
       "    </tr>\n",
       "    <tr>\n",
       "      <th>216562</th>\n",
       "      <td>526</td>\n",
       "      <td>1071941070</td>\n",
       "      <td>24978</td>\n",
       "      <td>610</td>\n",
       "      <td>11.58</td>\n",
       "      <td>OZ</td>\n",
       "    </tr>\n",
       "    <tr>\n",
       "      <th>216563</th>\n",
       "      <td>526</td>\n",
       "      <td>1073192878</td>\n",
       "      <td>8675</td>\n",
       "      <td>7356</td>\n",
       "      <td>60.00</td>\n",
       "      <td>CT</td>\n",
       "    </tr>\n",
       "    <tr>\n",
       "      <th>216564</th>\n",
       "      <td>526</td>\n",
       "      <td>1073530373</td>\n",
       "      <td>16214</td>\n",
       "      <td>7112</td>\n",
       "      <td>16.00</td>\n",
       "      <td>OZ</td>\n",
       "    </tr>\n",
       "    <tr>\n",
       "      <th>216565</th>\n",
       "      <td>526</td>\n",
       "      <td>1073530373</td>\n",
       "      <td>19396</td>\n",
       "      <td>3404</td>\n",
       "      <td>28.00</td>\n",
       "      <td>OZ</td>\n",
       "    </tr>\n",
       "    <tr>\n",
       "      <th>216566</th>\n",
       "      <td>526</td>\n",
       "      <td>1074098575</td>\n",
       "      <td>6788</td>\n",
       "      <td>9707</td>\n",
       "      <td>1.00</td>\n",
       "      <td>CT</td>\n",
       "    </tr>\n",
       "    <tr>\n",
       "      <th>216567</th>\n",
       "      <td>526</td>\n",
       "      <td>1074491171</td>\n",
       "      <td>23861</td>\n",
       "      <td>410</td>\n",
       "      <td>0.59</td>\n",
       "      <td>OZ</td>\n",
       "    </tr>\n",
       "    <tr>\n",
       "      <th>216568</th>\n",
       "      <td>526</td>\n",
       "      <td>1075714575</td>\n",
       "      <td>2330</td>\n",
       "      <td>7325</td>\n",
       "      <td>10.00</td>\n",
       "      <td>CT</td>\n",
       "    </tr>\n",
       "    <tr>\n",
       "      <th>216569</th>\n",
       "      <td>526</td>\n",
       "      <td>1080702080</td>\n",
       "      <td>14717</td>\n",
       "      <td>2704</td>\n",
       "      <td>16.00</td>\n",
       "      <td>OZ</td>\n",
       "    </tr>\n",
       "    <tr>\n",
       "      <th>216570</th>\n",
       "      <td>526</td>\n",
       "      <td>1084105888</td>\n",
       "      <td>5593</td>\n",
       "      <td>7402</td>\n",
       "      <td>7.00</td>\n",
       "      <td>OZ</td>\n",
       "    </tr>\n",
       "    <tr>\n",
       "      <th>216571</th>\n",
       "      <td>526</td>\n",
       "      <td>1084105888</td>\n",
       "      <td>15983</td>\n",
       "      <td>7407</td>\n",
       "      <td>1.00</td>\n",
       "      <td>CT</td>\n",
       "    </tr>\n",
       "    <tr>\n",
       "      <th>216572</th>\n",
       "      <td>526</td>\n",
       "      <td>1084105888</td>\n",
       "      <td>15983</td>\n",
       "      <td>7407</td>\n",
       "      <td>2.00</td>\n",
       "      <td>CT</td>\n",
       "    </tr>\n",
       "    <tr>\n",
       "      <th>216573</th>\n",
       "      <td>526</td>\n",
       "      <td>1084357181</td>\n",
       "      <td>14274</td>\n",
       "      <td>3301</td>\n",
       "      <td>9.00</td>\n",
       "      <td>OZ</td>\n",
       "    </tr>\n",
       "    <tr>\n",
       "      <th>216574</th>\n",
       "      <td>526</td>\n",
       "      <td>1084626080</td>\n",
       "      <td>78517</td>\n",
       "      <td>9215</td>\n",
       "      <td>1.00</td>\n",
       "      <td>OZ</td>\n",
       "    </tr>\n",
       "    <tr>\n",
       "      <th>216575</th>\n",
       "      <td>526</td>\n",
       "      <td>1085352282</td>\n",
       "      <td>5803</td>\n",
       "      <td>518</td>\n",
       "      <td>5.00</td>\n",
       "      <td>OZ</td>\n",
       "    </tr>\n",
       "    <tr>\n",
       "      <th>216576</th>\n",
       "      <td>526</td>\n",
       "      <td>1087606383</td>\n",
       "      <td>12204</td>\n",
       "      <td>605</td>\n",
       "      <td>14.00</td>\n",
       "      <td>OZ</td>\n",
       "    </tr>\n",
       "    <tr>\n",
       "      <th>216577</th>\n",
       "      <td>526</td>\n",
       "      <td>1087627484</td>\n",
       "      <td>56310</td>\n",
       "      <td>418</td>\n",
       "      <td>5.30</td>\n",
       "      <td>OZ</td>\n",
       "    </tr>\n",
       "    <tr>\n",
       "      <th>216578</th>\n",
       "      <td>526</td>\n",
       "      <td>1088351585</td>\n",
       "      <td>25075</td>\n",
       "      <td>9518</td>\n",
       "      <td>1.00</td>\n",
       "      <td>CT</td>\n",
       "    </tr>\n",
       "    <tr>\n",
       "      <th>216579</th>\n",
       "      <td>526</td>\n",
       "      <td>1088392989</td>\n",
       "      <td>26923</td>\n",
       "      <td>9717</td>\n",
       "      <td>1.00</td>\n",
       "      <td>CT</td>\n",
       "    </tr>\n",
       "    <tr>\n",
       "      <th>216580</th>\n",
       "      <td>526</td>\n",
       "      <td>1089299282</td>\n",
       "      <td>5830</td>\n",
       "      <td>7503</td>\n",
       "      <td>0.25</td>\n",
       "      <td>OZ</td>\n",
       "    </tr>\n",
       "    <tr>\n",
       "      <th>216581</th>\n",
       "      <td>526</td>\n",
       "      <td>10489415646</td>\n",
       "      <td>33170</td>\n",
       "      <td>9519</td>\n",
       "      <td>18.00</td>\n",
       "      <td>CT</td>\n",
       "    </tr>\n",
       "  </tbody>\n",
       "</table>\n",
       "<p>216582 rows × 6 columns</p>\n",
       "</div>"
      ],
      "text/plain": [
       "        chain      company  brand  category  productsize productmeasure\n",
       "0           2        10000      0         0         0.00        Unknown\n",
       "1           2        10000      0      9753         1.00             CT\n",
       "2           2      1013313  52604      1841         1.00             CT\n",
       "3           2     10100010   9907      1006        16.00             OZ\n",
       "4           2     10912898  46937      7901         1.00             CT\n",
       "5           2     10930090  12157      2806        24.00             OZ\n",
       "6           2     10980090  12851      1910        13.00             OZ\n",
       "7           2     10980090  18366       427         1.00             OZ\n",
       "8           2    101030010   5740      3315         7.50             OZ\n",
       "9           2    101070010   7446       407         6.00             OZ\n",
       "10          2    101070010  11692       417         5.00             OZ\n",
       "11          2    101070010  19846       416         3.50             OZ\n",
       "12          2    101070010  19846       418         3.50             OZ\n",
       "13          2    101090010  15232      2604        32.00             CT\n",
       "14          2    101090010  15232      2617         1.00             CT\n",
       "15          2    101111010   1814      3601        67.60             OZ\n",
       "16          2    101111010   1814      3618        67.60             OZ\n",
       "17          2    101111010   1814      3618       144.00             OZ\n",
       "18          2    101111010   1814      3627       144.00             OZ\n",
       "19          2    101111010   1814      3628        67.60             OZ\n",
       "20          2    101111010   1814      3628       144.00             OZ\n",
       "21          2    101111010   1814      3631       144.00             OZ\n",
       "22          2    101111010   1814      3632        67.60             OZ\n",
       "23          2    101111010   1814      3632        72.00             OZ\n",
       "24          2    101111010   4020      5558        30.00             OZ\n",
       "25          2    101111010   4020      5558        42.00             OZ\n",
       "26          2    101111010   4020      5559        27.00             OZ\n",
       "27          2    101111010   4020      5559        54.00             OZ\n",
       "28          2    101111010   4367      3635        33.80             OZ\n",
       "29          2    101111010   4766      5552        16.00             OZ\n",
       "...       ...          ...    ...       ...          ...            ...\n",
       "216552    526   1060308464   7034      7501         1.70             OZ\n",
       "216553    526   1060559262  12610      7114        10.00             OZ\n",
       "216554    526   1061126969  15041       610         8.40             OZ\n",
       "216555    526   1063810262  20375       607         1.76             OZ\n",
       "216556    526   1064541666  25075      9518         1.00             CT\n",
       "216557    526   1068142161   5339      7309        30.00             CT\n",
       "216558    526   1068550969  49508      9211         0.05             OZ\n",
       "216559    526   1069223767  28185      9213         6.00             OZ\n",
       "216560    526   1071722676   9241      7113         1.50             OZ\n",
       "216561    526   1071722676   9241      7113         8.50             OZ\n",
       "216562    526   1071941070  24978       610        11.58             OZ\n",
       "216563    526   1073192878   8675      7356        60.00             CT\n",
       "216564    526   1073530373  16214      7112        16.00             OZ\n",
       "216565    526   1073530373  19396      3404        28.00             OZ\n",
       "216566    526   1074098575   6788      9707         1.00             CT\n",
       "216567    526   1074491171  23861       410         0.59             OZ\n",
       "216568    526   1075714575   2330      7325        10.00             CT\n",
       "216569    526   1080702080  14717      2704        16.00             OZ\n",
       "216570    526   1084105888   5593      7402         7.00             OZ\n",
       "216571    526   1084105888  15983      7407         1.00             CT\n",
       "216572    526   1084105888  15983      7407         2.00             CT\n",
       "216573    526   1084357181  14274      3301         9.00             OZ\n",
       "216574    526   1084626080  78517      9215         1.00             OZ\n",
       "216575    526   1085352282   5803       518         5.00             OZ\n",
       "216576    526   1087606383  12204       605        14.00             OZ\n",
       "216577    526   1087627484  56310       418         5.30             OZ\n",
       "216578    526   1088351585  25075      9518         1.00             CT\n",
       "216579    526   1088392989  26923      9717         1.00             CT\n",
       "216580    526   1089299282   5830      7503         0.25             OZ\n",
       "216581    526  10489415646  33170      9519        18.00             CT\n",
       "\n",
       "[216582 rows x 6 columns]"
      ]
     },
     "execution_count": 60,
     "metadata": {},
     "output_type": "execute_result"
    }
   ],
   "source": [
    "quantity_adjusted_table"
   ]
  },
  {
   "cell_type": "code",
   "execution_count": 61,
   "metadata": {
    "collapsed": true
   },
   "outputs": [],
   "source": [
    "quantity_adjusted_table['lag_12_q'] = quantity_table['lag_12']/31*30\n",
    "quantity_adjusted_table['lag_11_q'] = quantity_table['lag_11']\n",
    "quantity_adjusted_table['lag_10_q'] = quantity_table['lag_10']/31*30\n",
    "quantity_adjusted_table['lag_9_q'] = quantity_table['lag_9']\n",
    "quantity_adjusted_table['lag_8_q'] = quantity_table['lag_8']/31*30\n",
    "quantity_adjusted_table['lag_7_q'] = quantity_table['lag_7']/31*30\n",
    "quantity_adjusted_table['lag_6_q'] = quantity_table['lag_6']\n",
    "quantity_adjusted_table['lag_5_q'] = quantity_table['lag_5']/31*30\n",
    "quantity_adjusted_table['lag_4_q'] = quantity_table['lag_4']\n",
    "quantity_adjusted_table['lag_3_q'] = quantity_table['lag_3']/31*30\n",
    "quantity_adjusted_table['lag_2_q'] = quantity_table['lag_2']/31*30\n",
    "quantity_adjusted_table['lag_1_q'] = quantity_table['lag_1']\n",
    "quantity_adjusted_table['lag_0_q'] = quantity_table['lag_0']/31*30"
   ]
  },
  {
   "cell_type": "code",
   "execution_count": 62,
   "metadata": {},
   "outputs": [
    {
     "data": {
      "text/html": [
       "<div>\n",
       "<style>\n",
       "    .dataframe thead tr:only-child th {\n",
       "        text-align: right;\n",
       "    }\n",
       "\n",
       "    .dataframe thead th {\n",
       "        text-align: left;\n",
       "    }\n",
       "\n",
       "    .dataframe tbody tr th {\n",
       "        vertical-align: top;\n",
       "    }\n",
       "</style>\n",
       "<table border=\"1\" class=\"dataframe\">\n",
       "  <thead>\n",
       "    <tr style=\"text-align: right;\">\n",
       "      <th></th>\n",
       "      <th>chain</th>\n",
       "      <th>company</th>\n",
       "      <th>brand</th>\n",
       "      <th>category</th>\n",
       "      <th>productsize</th>\n",
       "      <th>productmeasure</th>\n",
       "      <th>lag_12_q</th>\n",
       "      <th>lag_11_q</th>\n",
       "      <th>lag_10_q</th>\n",
       "      <th>lag_9_q</th>\n",
       "      <th>lag_8_q</th>\n",
       "      <th>lag_7_q</th>\n",
       "      <th>lag_6_q</th>\n",
       "      <th>lag_5_q</th>\n",
       "      <th>lag_4_q</th>\n",
       "      <th>lag_3_q</th>\n",
       "      <th>lag_2_q</th>\n",
       "      <th>lag_1_q</th>\n",
       "      <th>lag_0_q</th>\n",
       "    </tr>\n",
       "  </thead>\n",
       "  <tbody>\n",
       "    <tr>\n",
       "      <th>0</th>\n",
       "      <td>2</td>\n",
       "      <td>10000</td>\n",
       "      <td>0</td>\n",
       "      <td>0</td>\n",
       "      <td>0.0</td>\n",
       "      <td>Unknown</td>\n",
       "      <td>0.967742</td>\n",
       "      <td>0.0</td>\n",
       "      <td>0.967742</td>\n",
       "      <td>0.0</td>\n",
       "      <td>0.000000</td>\n",
       "      <td>0.000000</td>\n",
       "      <td>3.0</td>\n",
       "      <td>0.000000</td>\n",
       "      <td>5.0</td>\n",
       "      <td>0.000000</td>\n",
       "      <td>0.000000</td>\n",
       "      <td>0.0</td>\n",
       "      <td>0.967742</td>\n",
       "    </tr>\n",
       "    <tr>\n",
       "      <th>1</th>\n",
       "      <td>2</td>\n",
       "      <td>10000</td>\n",
       "      <td>0</td>\n",
       "      <td>9753</td>\n",
       "      <td>1.0</td>\n",
       "      <td>CT</td>\n",
       "      <td>0.000000</td>\n",
       "      <td>5.0</td>\n",
       "      <td>0.967742</td>\n",
       "      <td>1.0</td>\n",
       "      <td>1.935484</td>\n",
       "      <td>0.967742</td>\n",
       "      <td>1.0</td>\n",
       "      <td>0.967742</td>\n",
       "      <td>2.0</td>\n",
       "      <td>1.935484</td>\n",
       "      <td>1.935484</td>\n",
       "      <td>0.0</td>\n",
       "      <td>1.935484</td>\n",
       "    </tr>\n",
       "    <tr>\n",
       "      <th>2</th>\n",
       "      <td>2</td>\n",
       "      <td>1013313</td>\n",
       "      <td>52604</td>\n",
       "      <td>1841</td>\n",
       "      <td>1.0</td>\n",
       "      <td>CT</td>\n",
       "      <td>0.000000</td>\n",
       "      <td>0.0</td>\n",
       "      <td>0.000000</td>\n",
       "      <td>0.0</td>\n",
       "      <td>0.000000</td>\n",
       "      <td>0.000000</td>\n",
       "      <td>0.0</td>\n",
       "      <td>0.000000</td>\n",
       "      <td>0.0</td>\n",
       "      <td>0.967742</td>\n",
       "      <td>0.000000</td>\n",
       "      <td>0.0</td>\n",
       "      <td>0.000000</td>\n",
       "    </tr>\n",
       "    <tr>\n",
       "      <th>3</th>\n",
       "      <td>2</td>\n",
       "      <td>10100010</td>\n",
       "      <td>9907</td>\n",
       "      <td>1006</td>\n",
       "      <td>16.0</td>\n",
       "      <td>OZ</td>\n",
       "      <td>0.000000</td>\n",
       "      <td>0.0</td>\n",
       "      <td>0.000000</td>\n",
       "      <td>0.0</td>\n",
       "      <td>0.000000</td>\n",
       "      <td>0.000000</td>\n",
       "      <td>0.0</td>\n",
       "      <td>0.000000</td>\n",
       "      <td>0.0</td>\n",
       "      <td>0.000000</td>\n",
       "      <td>0.967742</td>\n",
       "      <td>0.0</td>\n",
       "      <td>0.000000</td>\n",
       "    </tr>\n",
       "    <tr>\n",
       "      <th>4</th>\n",
       "      <td>2</td>\n",
       "      <td>10912898</td>\n",
       "      <td>46937</td>\n",
       "      <td>7901</td>\n",
       "      <td>1.0</td>\n",
       "      <td>CT</td>\n",
       "      <td>0.000000</td>\n",
       "      <td>0.0</td>\n",
       "      <td>0.000000</td>\n",
       "      <td>0.0</td>\n",
       "      <td>0.000000</td>\n",
       "      <td>0.967742</td>\n",
       "      <td>0.0</td>\n",
       "      <td>0.000000</td>\n",
       "      <td>0.0</td>\n",
       "      <td>0.000000</td>\n",
       "      <td>0.000000</td>\n",
       "      <td>0.0</td>\n",
       "      <td>0.000000</td>\n",
       "    </tr>\n",
       "  </tbody>\n",
       "</table>\n",
       "</div>"
      ],
      "text/plain": [
       "   chain   company  brand  category  productsize productmeasure  lag_12_q  \\\n",
       "0      2     10000      0         0          0.0        Unknown  0.967742   \n",
       "1      2     10000      0      9753          1.0             CT  0.000000   \n",
       "2      2   1013313  52604      1841          1.0             CT  0.000000   \n",
       "3      2  10100010   9907      1006         16.0             OZ  0.000000   \n",
       "4      2  10912898  46937      7901          1.0             CT  0.000000   \n",
       "\n",
       "   lag_11_q  lag_10_q  lag_9_q   lag_8_q   lag_7_q  lag_6_q   lag_5_q  \\\n",
       "0       0.0  0.967742      0.0  0.000000  0.000000      3.0  0.000000   \n",
       "1       5.0  0.967742      1.0  1.935484  0.967742      1.0  0.967742   \n",
       "2       0.0  0.000000      0.0  0.000000  0.000000      0.0  0.000000   \n",
       "3       0.0  0.000000      0.0  0.000000  0.000000      0.0  0.000000   \n",
       "4       0.0  0.000000      0.0  0.000000  0.967742      0.0  0.000000   \n",
       "\n",
       "   lag_4_q   lag_3_q   lag_2_q  lag_1_q   lag_0_q  \n",
       "0      5.0  0.000000  0.000000      0.0  0.967742  \n",
       "1      2.0  1.935484  1.935484      0.0  1.935484  \n",
       "2      0.0  0.967742  0.000000      0.0  0.000000  \n",
       "3      0.0  0.000000  0.967742      0.0  0.000000  \n",
       "4      0.0  0.000000  0.000000      0.0  0.000000  "
      ]
     },
     "execution_count": 62,
     "metadata": {},
     "output_type": "execute_result"
    }
   ],
   "source": [
    "quantity_adjusted_table.head()"
   ]
  },
  {
   "cell_type": "markdown",
   "metadata": {},
   "source": [
    "### I also want to add price information in final modeling. As demand also depends on prices."
   ]
  },
  {
   "cell_type": "code",
   "execution_count": 63,
   "metadata": {
    "collapsed": true
   },
   "outputs": [],
   "source": [
    "price_table = transaction.pivot_table(index = ['chain','company','brand','category','productsize','productmeasure'],\n",
    "                                        columns = 'dateblock',\n",
    "                                        values = 'price',\n",
    "                                        aggfunc = 'mean').fillna(0).reset_index()"
   ]
  },
  {
   "cell_type": "code",
   "execution_count": 64,
   "metadata": {},
   "outputs": [
    {
     "data": {
      "text/html": [
       "<div>\n",
       "<style>\n",
       "    .dataframe thead tr:only-child th {\n",
       "        text-align: right;\n",
       "    }\n",
       "\n",
       "    .dataframe thead th {\n",
       "        text-align: left;\n",
       "    }\n",
       "\n",
       "    .dataframe tbody tr th {\n",
       "        vertical-align: top;\n",
       "    }\n",
       "</style>\n",
       "<table border=\"1\" class=\"dataframe\">\n",
       "  <thead>\n",
       "    <tr style=\"text-align: right;\">\n",
       "      <th>dateblock</th>\n",
       "      <th>chain</th>\n",
       "      <th>company</th>\n",
       "      <th>brand</th>\n",
       "      <th>category</th>\n",
       "      <th>productsize</th>\n",
       "      <th>productmeasure</th>\n",
       "      <th>lag_0</th>\n",
       "      <th>lag_1</th>\n",
       "      <th>lag_10</th>\n",
       "      <th>lag_11</th>\n",
       "      <th>lag_12</th>\n",
       "      <th>lag_2</th>\n",
       "      <th>lag_3</th>\n",
       "      <th>lag_4</th>\n",
       "      <th>lag_5</th>\n",
       "      <th>lag_6</th>\n",
       "      <th>lag_7</th>\n",
       "      <th>lag_8</th>\n",
       "      <th>lag_9</th>\n",
       "    </tr>\n",
       "  </thead>\n",
       "  <tbody>\n",
       "    <tr>\n",
       "      <th>0</th>\n",
       "      <td>2</td>\n",
       "      <td>10000</td>\n",
       "      <td>0</td>\n",
       "      <td>0</td>\n",
       "      <td>0.0</td>\n",
       "      <td>Unknown</td>\n",
       "      <td>5.99</td>\n",
       "      <td>0.0</td>\n",
       "      <td>2.50</td>\n",
       "      <td>0.00</td>\n",
       "      <td>5.39</td>\n",
       "      <td>0.00</td>\n",
       "      <td>0.00</td>\n",
       "      <td>1.5625</td>\n",
       "      <td>0.0</td>\n",
       "      <td>2.2475</td>\n",
       "      <td>0.00</td>\n",
       "      <td>0.00</td>\n",
       "      <td>0.00</td>\n",
       "    </tr>\n",
       "    <tr>\n",
       "      <th>1</th>\n",
       "      <td>2</td>\n",
       "      <td>10000</td>\n",
       "      <td>0</td>\n",
       "      <td>9753</td>\n",
       "      <td>1.0</td>\n",
       "      <td>CT</td>\n",
       "      <td>0.99</td>\n",
       "      <td>0.0</td>\n",
       "      <td>0.69</td>\n",
       "      <td>0.93</td>\n",
       "      <td>0.00</td>\n",
       "      <td>5.65</td>\n",
       "      <td>1.21</td>\n",
       "      <td>4.0050</td>\n",
       "      <td>3.4</td>\n",
       "      <td>0.9900</td>\n",
       "      <td>0.99</td>\n",
       "      <td>0.74</td>\n",
       "      <td>0.99</td>\n",
       "    </tr>\n",
       "    <tr>\n",
       "      <th>2</th>\n",
       "      <td>2</td>\n",
       "      <td>1013313</td>\n",
       "      <td>52604</td>\n",
       "      <td>1841</td>\n",
       "      <td>1.0</td>\n",
       "      <td>CT</td>\n",
       "      <td>0.00</td>\n",
       "      <td>0.0</td>\n",
       "      <td>0.00</td>\n",
       "      <td>0.00</td>\n",
       "      <td>0.00</td>\n",
       "      <td>0.00</td>\n",
       "      <td>29.99</td>\n",
       "      <td>0.0000</td>\n",
       "      <td>0.0</td>\n",
       "      <td>0.0000</td>\n",
       "      <td>0.00</td>\n",
       "      <td>0.00</td>\n",
       "      <td>0.00</td>\n",
       "    </tr>\n",
       "    <tr>\n",
       "      <th>3</th>\n",
       "      <td>2</td>\n",
       "      <td>10100010</td>\n",
       "      <td>9907</td>\n",
       "      <td>1006</td>\n",
       "      <td>16.0</td>\n",
       "      <td>OZ</td>\n",
       "      <td>0.00</td>\n",
       "      <td>0.0</td>\n",
       "      <td>0.00</td>\n",
       "      <td>0.00</td>\n",
       "      <td>0.00</td>\n",
       "      <td>3.29</td>\n",
       "      <td>0.00</td>\n",
       "      <td>0.0000</td>\n",
       "      <td>0.0</td>\n",
       "      <td>0.0000</td>\n",
       "      <td>0.00</td>\n",
       "      <td>0.00</td>\n",
       "      <td>0.00</td>\n",
       "    </tr>\n",
       "    <tr>\n",
       "      <th>4</th>\n",
       "      <td>2</td>\n",
       "      <td>10912898</td>\n",
       "      <td>46937</td>\n",
       "      <td>7901</td>\n",
       "      <td>1.0</td>\n",
       "      <td>CT</td>\n",
       "      <td>0.00</td>\n",
       "      <td>0.0</td>\n",
       "      <td>0.00</td>\n",
       "      <td>0.00</td>\n",
       "      <td>0.00</td>\n",
       "      <td>0.00</td>\n",
       "      <td>0.00</td>\n",
       "      <td>0.0000</td>\n",
       "      <td>0.0</td>\n",
       "      <td>0.0000</td>\n",
       "      <td>5.99</td>\n",
       "      <td>0.00</td>\n",
       "      <td>0.00</td>\n",
       "    </tr>\n",
       "  </tbody>\n",
       "</table>\n",
       "</div>"
      ],
      "text/plain": [
       "dateblock  chain   company  brand  category  productsize productmeasure  \\\n",
       "0              2     10000      0         0          0.0        Unknown   \n",
       "1              2     10000      0      9753          1.0             CT   \n",
       "2              2   1013313  52604      1841          1.0             CT   \n",
       "3              2  10100010   9907      1006         16.0             OZ   \n",
       "4              2  10912898  46937      7901          1.0             CT   \n",
       "\n",
       "dateblock  lag_0  lag_1  lag_10  lag_11  lag_12  lag_2  lag_3   lag_4  lag_5  \\\n",
       "0           5.99    0.0    2.50    0.00    5.39   0.00   0.00  1.5625    0.0   \n",
       "1           0.99    0.0    0.69    0.93    0.00   5.65   1.21  4.0050    3.4   \n",
       "2           0.00    0.0    0.00    0.00    0.00   0.00  29.99  0.0000    0.0   \n",
       "3           0.00    0.0    0.00    0.00    0.00   3.29   0.00  0.0000    0.0   \n",
       "4           0.00    0.0    0.00    0.00    0.00   0.00   0.00  0.0000    0.0   \n",
       "\n",
       "dateblock   lag_6  lag_7  lag_8  lag_9  \n",
       "0          2.2475   0.00   0.00   0.00  \n",
       "1          0.9900   0.99   0.74   0.99  \n",
       "2          0.0000   0.00   0.00   0.00  \n",
       "3          0.0000   0.00   0.00   0.00  \n",
       "4          0.0000   5.99   0.00   0.00  "
      ]
     },
     "execution_count": 64,
     "metadata": {},
     "output_type": "execute_result"
    }
   ],
   "source": [
    "price_table.head()"
   ]
  },
  {
   "cell_type": "code",
   "execution_count": 65,
   "metadata": {
    "collapsed": true
   },
   "outputs": [],
   "source": [
    "features = ['chain','company','brand','category','productsize','productmeasure',\n",
    "          'lag_12','lag_11','lag_10','lag_9','lag_8','lag_7','lag_6','lag_5','lag_4',\n",
    "            'lag_3','lag_2','lag_1','lag_0']"
   ]
  },
  {
   "cell_type": "code",
   "execution_count": 66,
   "metadata": {
    "collapsed": true
   },
   "outputs": [],
   "source": [
    "price_table = price_table[features]"
   ]
  },
  {
   "cell_type": "code",
   "execution_count": 67,
   "metadata": {},
   "outputs": [
    {
     "data": {
      "text/html": [
       "<div>\n",
       "<style>\n",
       "    .dataframe thead tr:only-child th {\n",
       "        text-align: right;\n",
       "    }\n",
       "\n",
       "    .dataframe thead th {\n",
       "        text-align: left;\n",
       "    }\n",
       "\n",
       "    .dataframe tbody tr th {\n",
       "        vertical-align: top;\n",
       "    }\n",
       "</style>\n",
       "<table border=\"1\" class=\"dataframe\">\n",
       "  <thead>\n",
       "    <tr style=\"text-align: right;\">\n",
       "      <th>dateblock</th>\n",
       "      <th>chain</th>\n",
       "      <th>company</th>\n",
       "      <th>brand</th>\n",
       "      <th>category</th>\n",
       "      <th>productsize</th>\n",
       "      <th>productmeasure</th>\n",
       "      <th>lag_12</th>\n",
       "      <th>lag_11</th>\n",
       "      <th>lag_10</th>\n",
       "      <th>lag_9</th>\n",
       "      <th>lag_8</th>\n",
       "      <th>lag_7</th>\n",
       "      <th>lag_6</th>\n",
       "      <th>lag_5</th>\n",
       "      <th>lag_4</th>\n",
       "      <th>lag_3</th>\n",
       "      <th>lag_2</th>\n",
       "      <th>lag_1</th>\n",
       "      <th>lag_0</th>\n",
       "    </tr>\n",
       "  </thead>\n",
       "  <tbody>\n",
       "    <tr>\n",
       "      <th>0</th>\n",
       "      <td>2</td>\n",
       "      <td>10000</td>\n",
       "      <td>0</td>\n",
       "      <td>0</td>\n",
       "      <td>0.0</td>\n",
       "      <td>Unknown</td>\n",
       "      <td>5.39</td>\n",
       "      <td>0.00</td>\n",
       "      <td>2.50</td>\n",
       "      <td>0.00</td>\n",
       "      <td>0.00</td>\n",
       "      <td>0.00</td>\n",
       "      <td>2.2475</td>\n",
       "      <td>0.0</td>\n",
       "      <td>1.5625</td>\n",
       "      <td>0.00</td>\n",
       "      <td>0.00</td>\n",
       "      <td>0.0</td>\n",
       "      <td>5.99</td>\n",
       "    </tr>\n",
       "    <tr>\n",
       "      <th>1</th>\n",
       "      <td>2</td>\n",
       "      <td>10000</td>\n",
       "      <td>0</td>\n",
       "      <td>9753</td>\n",
       "      <td>1.0</td>\n",
       "      <td>CT</td>\n",
       "      <td>0.00</td>\n",
       "      <td>0.93</td>\n",
       "      <td>0.69</td>\n",
       "      <td>0.99</td>\n",
       "      <td>0.74</td>\n",
       "      <td>0.99</td>\n",
       "      <td>0.9900</td>\n",
       "      <td>3.4</td>\n",
       "      <td>4.0050</td>\n",
       "      <td>1.21</td>\n",
       "      <td>5.65</td>\n",
       "      <td>0.0</td>\n",
       "      <td>0.99</td>\n",
       "    </tr>\n",
       "    <tr>\n",
       "      <th>2</th>\n",
       "      <td>2</td>\n",
       "      <td>1013313</td>\n",
       "      <td>52604</td>\n",
       "      <td>1841</td>\n",
       "      <td>1.0</td>\n",
       "      <td>CT</td>\n",
       "      <td>0.00</td>\n",
       "      <td>0.00</td>\n",
       "      <td>0.00</td>\n",
       "      <td>0.00</td>\n",
       "      <td>0.00</td>\n",
       "      <td>0.00</td>\n",
       "      <td>0.0000</td>\n",
       "      <td>0.0</td>\n",
       "      <td>0.0000</td>\n",
       "      <td>29.99</td>\n",
       "      <td>0.00</td>\n",
       "      <td>0.0</td>\n",
       "      <td>0.00</td>\n",
       "    </tr>\n",
       "    <tr>\n",
       "      <th>3</th>\n",
       "      <td>2</td>\n",
       "      <td>10100010</td>\n",
       "      <td>9907</td>\n",
       "      <td>1006</td>\n",
       "      <td>16.0</td>\n",
       "      <td>OZ</td>\n",
       "      <td>0.00</td>\n",
       "      <td>0.00</td>\n",
       "      <td>0.00</td>\n",
       "      <td>0.00</td>\n",
       "      <td>0.00</td>\n",
       "      <td>0.00</td>\n",
       "      <td>0.0000</td>\n",
       "      <td>0.0</td>\n",
       "      <td>0.0000</td>\n",
       "      <td>0.00</td>\n",
       "      <td>3.29</td>\n",
       "      <td>0.0</td>\n",
       "      <td>0.00</td>\n",
       "    </tr>\n",
       "    <tr>\n",
       "      <th>4</th>\n",
       "      <td>2</td>\n",
       "      <td>10912898</td>\n",
       "      <td>46937</td>\n",
       "      <td>7901</td>\n",
       "      <td>1.0</td>\n",
       "      <td>CT</td>\n",
       "      <td>0.00</td>\n",
       "      <td>0.00</td>\n",
       "      <td>0.00</td>\n",
       "      <td>0.00</td>\n",
       "      <td>0.00</td>\n",
       "      <td>5.99</td>\n",
       "      <td>0.0000</td>\n",
       "      <td>0.0</td>\n",
       "      <td>0.0000</td>\n",
       "      <td>0.00</td>\n",
       "      <td>0.00</td>\n",
       "      <td>0.0</td>\n",
       "      <td>0.00</td>\n",
       "    </tr>\n",
       "  </tbody>\n",
       "</table>\n",
       "</div>"
      ],
      "text/plain": [
       "dateblock  chain   company  brand  category  productsize productmeasure  \\\n",
       "0              2     10000      0         0          0.0        Unknown   \n",
       "1              2     10000      0      9753          1.0             CT   \n",
       "2              2   1013313  52604      1841          1.0             CT   \n",
       "3              2  10100010   9907      1006         16.0             OZ   \n",
       "4              2  10912898  46937      7901          1.0             CT   \n",
       "\n",
       "dateblock  lag_12  lag_11  lag_10  lag_9  lag_8  lag_7   lag_6  lag_5   lag_4  \\\n",
       "0            5.39    0.00    2.50   0.00   0.00   0.00  2.2475    0.0  1.5625   \n",
       "1            0.00    0.93    0.69   0.99   0.74   0.99  0.9900    3.4  4.0050   \n",
       "2            0.00    0.00    0.00   0.00   0.00   0.00  0.0000    0.0  0.0000   \n",
       "3            0.00    0.00    0.00   0.00   0.00   0.00  0.0000    0.0  0.0000   \n",
       "4            0.00    0.00    0.00   0.00   0.00   5.99  0.0000    0.0  0.0000   \n",
       "\n",
       "dateblock  lag_3  lag_2  lag_1  lag_0  \n",
       "0           0.00   0.00    0.0   5.99  \n",
       "1           1.21   5.65    0.0   0.99  \n",
       "2          29.99   0.00    0.0   0.00  \n",
       "3           0.00   3.29    0.0   0.00  \n",
       "4           0.00   0.00    0.0   0.00  "
      ]
     },
     "execution_count": 67,
     "metadata": {},
     "output_type": "execute_result"
    }
   ],
   "source": [
    "price_table.head()"
   ]
  },
  {
   "cell_type": "code",
   "execution_count": 68,
   "metadata": {
    "collapsed": true
   },
   "outputs": [],
   "source": [
    "price_table = price_table.rename(columns = {'lag_0': 'lag_0_p',\n",
    "                                             'lag_1': 'lag_1_p',\n",
    "                                             'lag_2': 'lag_2_p',\n",
    "                                             'lag_3': 'lag_3_p',\n",
    "                                             'lag_4': 'lag_4_p',\n",
    "                                             'lag_5': 'lag_5_p',\n",
    "                                             'lag_6': 'lag_6_p',\n",
    "                                             'lag_7': 'lag_7_p',\n",
    "                                             'lag_8': 'lag_8_p',\n",
    "                                             'lag_9': 'lag_9_p',\n",
    "                                             'lag_10': 'lag_10_p',\n",
    "                                             'lag_11': 'lag_11_p',\n",
    "                                             'lag_12': 'lag_12_p'})"
   ]
  },
  {
   "cell_type": "code",
   "execution_count": 69,
   "metadata": {},
   "outputs": [
    {
     "data": {
      "text/html": [
       "<div>\n",
       "<style>\n",
       "    .dataframe thead tr:only-child th {\n",
       "        text-align: right;\n",
       "    }\n",
       "\n",
       "    .dataframe thead th {\n",
       "        text-align: left;\n",
       "    }\n",
       "\n",
       "    .dataframe tbody tr th {\n",
       "        vertical-align: top;\n",
       "    }\n",
       "</style>\n",
       "<table border=\"1\" class=\"dataframe\">\n",
       "  <thead>\n",
       "    <tr style=\"text-align: right;\">\n",
       "      <th>dateblock</th>\n",
       "      <th>chain</th>\n",
       "      <th>company</th>\n",
       "      <th>brand</th>\n",
       "      <th>category</th>\n",
       "      <th>productsize</th>\n",
       "      <th>productmeasure</th>\n",
       "      <th>lag_12_p</th>\n",
       "      <th>lag_11_p</th>\n",
       "      <th>lag_10_p</th>\n",
       "      <th>lag_9_p</th>\n",
       "      <th>lag_8_p</th>\n",
       "      <th>lag_7_p</th>\n",
       "      <th>lag_6_p</th>\n",
       "      <th>lag_5_p</th>\n",
       "      <th>lag_4_p</th>\n",
       "      <th>lag_3_p</th>\n",
       "      <th>lag_2_p</th>\n",
       "      <th>lag_1_p</th>\n",
       "      <th>lag_0_p</th>\n",
       "    </tr>\n",
       "  </thead>\n",
       "  <tbody>\n",
       "    <tr>\n",
       "      <th>0</th>\n",
       "      <td>2</td>\n",
       "      <td>10000</td>\n",
       "      <td>0</td>\n",
       "      <td>0</td>\n",
       "      <td>0.0</td>\n",
       "      <td>Unknown</td>\n",
       "      <td>5.39</td>\n",
       "      <td>0.00</td>\n",
       "      <td>2.50</td>\n",
       "      <td>0.00</td>\n",
       "      <td>0.00</td>\n",
       "      <td>0.00</td>\n",
       "      <td>2.2475</td>\n",
       "      <td>0.0</td>\n",
       "      <td>1.5625</td>\n",
       "      <td>0.00</td>\n",
       "      <td>0.00</td>\n",
       "      <td>0.0</td>\n",
       "      <td>5.99</td>\n",
       "    </tr>\n",
       "    <tr>\n",
       "      <th>1</th>\n",
       "      <td>2</td>\n",
       "      <td>10000</td>\n",
       "      <td>0</td>\n",
       "      <td>9753</td>\n",
       "      <td>1.0</td>\n",
       "      <td>CT</td>\n",
       "      <td>0.00</td>\n",
       "      <td>0.93</td>\n",
       "      <td>0.69</td>\n",
       "      <td>0.99</td>\n",
       "      <td>0.74</td>\n",
       "      <td>0.99</td>\n",
       "      <td>0.9900</td>\n",
       "      <td>3.4</td>\n",
       "      <td>4.0050</td>\n",
       "      <td>1.21</td>\n",
       "      <td>5.65</td>\n",
       "      <td>0.0</td>\n",
       "      <td>0.99</td>\n",
       "    </tr>\n",
       "    <tr>\n",
       "      <th>2</th>\n",
       "      <td>2</td>\n",
       "      <td>1013313</td>\n",
       "      <td>52604</td>\n",
       "      <td>1841</td>\n",
       "      <td>1.0</td>\n",
       "      <td>CT</td>\n",
       "      <td>0.00</td>\n",
       "      <td>0.00</td>\n",
       "      <td>0.00</td>\n",
       "      <td>0.00</td>\n",
       "      <td>0.00</td>\n",
       "      <td>0.00</td>\n",
       "      <td>0.0000</td>\n",
       "      <td>0.0</td>\n",
       "      <td>0.0000</td>\n",
       "      <td>29.99</td>\n",
       "      <td>0.00</td>\n",
       "      <td>0.0</td>\n",
       "      <td>0.00</td>\n",
       "    </tr>\n",
       "    <tr>\n",
       "      <th>3</th>\n",
       "      <td>2</td>\n",
       "      <td>10100010</td>\n",
       "      <td>9907</td>\n",
       "      <td>1006</td>\n",
       "      <td>16.0</td>\n",
       "      <td>OZ</td>\n",
       "      <td>0.00</td>\n",
       "      <td>0.00</td>\n",
       "      <td>0.00</td>\n",
       "      <td>0.00</td>\n",
       "      <td>0.00</td>\n",
       "      <td>0.00</td>\n",
       "      <td>0.0000</td>\n",
       "      <td>0.0</td>\n",
       "      <td>0.0000</td>\n",
       "      <td>0.00</td>\n",
       "      <td>3.29</td>\n",
       "      <td>0.0</td>\n",
       "      <td>0.00</td>\n",
       "    </tr>\n",
       "    <tr>\n",
       "      <th>4</th>\n",
       "      <td>2</td>\n",
       "      <td>10912898</td>\n",
       "      <td>46937</td>\n",
       "      <td>7901</td>\n",
       "      <td>1.0</td>\n",
       "      <td>CT</td>\n",
       "      <td>0.00</td>\n",
       "      <td>0.00</td>\n",
       "      <td>0.00</td>\n",
       "      <td>0.00</td>\n",
       "      <td>0.00</td>\n",
       "      <td>5.99</td>\n",
       "      <td>0.0000</td>\n",
       "      <td>0.0</td>\n",
       "      <td>0.0000</td>\n",
       "      <td>0.00</td>\n",
       "      <td>0.00</td>\n",
       "      <td>0.0</td>\n",
       "      <td>0.00</td>\n",
       "    </tr>\n",
       "  </tbody>\n",
       "</table>\n",
       "</div>"
      ],
      "text/plain": [
       "dateblock  chain   company  brand  category  productsize productmeasure  \\\n",
       "0              2     10000      0         0          0.0        Unknown   \n",
       "1              2     10000      0      9753          1.0             CT   \n",
       "2              2   1013313  52604      1841          1.0             CT   \n",
       "3              2  10100010   9907      1006         16.0             OZ   \n",
       "4              2  10912898  46937      7901          1.0             CT   \n",
       "\n",
       "dateblock  lag_12_p  lag_11_p  lag_10_p  lag_9_p  lag_8_p  lag_7_p  lag_6_p  \\\n",
       "0              5.39      0.00      2.50     0.00     0.00     0.00   2.2475   \n",
       "1              0.00      0.93      0.69     0.99     0.74     0.99   0.9900   \n",
       "2              0.00      0.00      0.00     0.00     0.00     0.00   0.0000   \n",
       "3              0.00      0.00      0.00     0.00     0.00     0.00   0.0000   \n",
       "4              0.00      0.00      0.00     0.00     0.00     5.99   0.0000   \n",
       "\n",
       "dateblock  lag_5_p  lag_4_p  lag_3_p  lag_2_p  lag_1_p  lag_0_p  \n",
       "0              0.0   1.5625     0.00     0.00      0.0     5.99  \n",
       "1              3.4   4.0050     1.21     5.65      0.0     0.99  \n",
       "2              0.0   0.0000    29.99     0.00      0.0     0.00  \n",
       "3              0.0   0.0000     0.00     3.29      0.0     0.00  \n",
       "4              0.0   0.0000     0.00     0.00      0.0     0.00  "
      ]
     },
     "execution_count": 69,
     "metadata": {},
     "output_type": "execute_result"
    }
   ],
   "source": [
    "price_table.head()"
   ]
  },
  {
   "cell_type": "code",
   "execution_count": 70,
   "metadata": {
    "collapsed": true
   },
   "outputs": [],
   "source": [
    "data_table = price_table.join(quantity_adjusted_table.loc[:,'lag_12_q':'lag_0_q'])"
   ]
  },
  {
   "cell_type": "code",
   "execution_count": 71,
   "metadata": {},
   "outputs": [
    {
     "data": {
      "text/html": [
       "<div>\n",
       "<style>\n",
       "    .dataframe thead tr:only-child th {\n",
       "        text-align: right;\n",
       "    }\n",
       "\n",
       "    .dataframe thead th {\n",
       "        text-align: left;\n",
       "    }\n",
       "\n",
       "    .dataframe tbody tr th {\n",
       "        vertical-align: top;\n",
       "    }\n",
       "</style>\n",
       "<table border=\"1\" class=\"dataframe\">\n",
       "  <thead>\n",
       "    <tr style=\"text-align: right;\">\n",
       "      <th></th>\n",
       "      <th>chain</th>\n",
       "      <th>company</th>\n",
       "      <th>brand</th>\n",
       "      <th>category</th>\n",
       "      <th>productsize</th>\n",
       "      <th>productmeasure</th>\n",
       "      <th>lag_12_p</th>\n",
       "      <th>lag_11_p</th>\n",
       "      <th>lag_10_p</th>\n",
       "      <th>lag_9_p</th>\n",
       "      <th>...</th>\n",
       "      <th>lag_9_q</th>\n",
       "      <th>lag_8_q</th>\n",
       "      <th>lag_7_q</th>\n",
       "      <th>lag_6_q</th>\n",
       "      <th>lag_5_q</th>\n",
       "      <th>lag_4_q</th>\n",
       "      <th>lag_3_q</th>\n",
       "      <th>lag_2_q</th>\n",
       "      <th>lag_1_q</th>\n",
       "      <th>lag_0_q</th>\n",
       "    </tr>\n",
       "  </thead>\n",
       "  <tbody>\n",
       "    <tr>\n",
       "      <th>0</th>\n",
       "      <td>2</td>\n",
       "      <td>10000</td>\n",
       "      <td>0</td>\n",
       "      <td>0</td>\n",
       "      <td>0.0</td>\n",
       "      <td>Unknown</td>\n",
       "      <td>5.39</td>\n",
       "      <td>0.00</td>\n",
       "      <td>2.50</td>\n",
       "      <td>0.00</td>\n",
       "      <td>...</td>\n",
       "      <td>0.0</td>\n",
       "      <td>0.000000</td>\n",
       "      <td>0.000000</td>\n",
       "      <td>3.0</td>\n",
       "      <td>0.000000</td>\n",
       "      <td>5.0</td>\n",
       "      <td>0.000000</td>\n",
       "      <td>0.000000</td>\n",
       "      <td>0.0</td>\n",
       "      <td>0.967742</td>\n",
       "    </tr>\n",
       "    <tr>\n",
       "      <th>1</th>\n",
       "      <td>2</td>\n",
       "      <td>10000</td>\n",
       "      <td>0</td>\n",
       "      <td>9753</td>\n",
       "      <td>1.0</td>\n",
       "      <td>CT</td>\n",
       "      <td>0.00</td>\n",
       "      <td>0.93</td>\n",
       "      <td>0.69</td>\n",
       "      <td>0.99</td>\n",
       "      <td>...</td>\n",
       "      <td>1.0</td>\n",
       "      <td>1.935484</td>\n",
       "      <td>0.967742</td>\n",
       "      <td>1.0</td>\n",
       "      <td>0.967742</td>\n",
       "      <td>2.0</td>\n",
       "      <td>1.935484</td>\n",
       "      <td>1.935484</td>\n",
       "      <td>0.0</td>\n",
       "      <td>1.935484</td>\n",
       "    </tr>\n",
       "    <tr>\n",
       "      <th>2</th>\n",
       "      <td>2</td>\n",
       "      <td>1013313</td>\n",
       "      <td>52604</td>\n",
       "      <td>1841</td>\n",
       "      <td>1.0</td>\n",
       "      <td>CT</td>\n",
       "      <td>0.00</td>\n",
       "      <td>0.00</td>\n",
       "      <td>0.00</td>\n",
       "      <td>0.00</td>\n",
       "      <td>...</td>\n",
       "      <td>0.0</td>\n",
       "      <td>0.000000</td>\n",
       "      <td>0.000000</td>\n",
       "      <td>0.0</td>\n",
       "      <td>0.000000</td>\n",
       "      <td>0.0</td>\n",
       "      <td>0.967742</td>\n",
       "      <td>0.000000</td>\n",
       "      <td>0.0</td>\n",
       "      <td>0.000000</td>\n",
       "    </tr>\n",
       "    <tr>\n",
       "      <th>3</th>\n",
       "      <td>2</td>\n",
       "      <td>10100010</td>\n",
       "      <td>9907</td>\n",
       "      <td>1006</td>\n",
       "      <td>16.0</td>\n",
       "      <td>OZ</td>\n",
       "      <td>0.00</td>\n",
       "      <td>0.00</td>\n",
       "      <td>0.00</td>\n",
       "      <td>0.00</td>\n",
       "      <td>...</td>\n",
       "      <td>0.0</td>\n",
       "      <td>0.000000</td>\n",
       "      <td>0.000000</td>\n",
       "      <td>0.0</td>\n",
       "      <td>0.000000</td>\n",
       "      <td>0.0</td>\n",
       "      <td>0.000000</td>\n",
       "      <td>0.967742</td>\n",
       "      <td>0.0</td>\n",
       "      <td>0.000000</td>\n",
       "    </tr>\n",
       "    <tr>\n",
       "      <th>4</th>\n",
       "      <td>2</td>\n",
       "      <td>10912898</td>\n",
       "      <td>46937</td>\n",
       "      <td>7901</td>\n",
       "      <td>1.0</td>\n",
       "      <td>CT</td>\n",
       "      <td>0.00</td>\n",
       "      <td>0.00</td>\n",
       "      <td>0.00</td>\n",
       "      <td>0.00</td>\n",
       "      <td>...</td>\n",
       "      <td>0.0</td>\n",
       "      <td>0.000000</td>\n",
       "      <td>0.967742</td>\n",
       "      <td>0.0</td>\n",
       "      <td>0.000000</td>\n",
       "      <td>0.0</td>\n",
       "      <td>0.000000</td>\n",
       "      <td>0.000000</td>\n",
       "      <td>0.0</td>\n",
       "      <td>0.000000</td>\n",
       "    </tr>\n",
       "  </tbody>\n",
       "</table>\n",
       "<p>5 rows × 32 columns</p>\n",
       "</div>"
      ],
      "text/plain": [
       "   chain   company  brand  category  productsize productmeasure  lag_12_p  \\\n",
       "0      2     10000      0         0          0.0        Unknown      5.39   \n",
       "1      2     10000      0      9753          1.0             CT      0.00   \n",
       "2      2   1013313  52604      1841          1.0             CT      0.00   \n",
       "3      2  10100010   9907      1006         16.0             OZ      0.00   \n",
       "4      2  10912898  46937      7901          1.0             CT      0.00   \n",
       "\n",
       "   lag_11_p  lag_10_p  lag_9_p    ...     lag_9_q   lag_8_q   lag_7_q  \\\n",
       "0      0.00      2.50     0.00    ...         0.0  0.000000  0.000000   \n",
       "1      0.93      0.69     0.99    ...         1.0  1.935484  0.967742   \n",
       "2      0.00      0.00     0.00    ...         0.0  0.000000  0.000000   \n",
       "3      0.00      0.00     0.00    ...         0.0  0.000000  0.000000   \n",
       "4      0.00      0.00     0.00    ...         0.0  0.000000  0.967742   \n",
       "\n",
       "   lag_6_q   lag_5_q  lag_4_q   lag_3_q   lag_2_q  lag_1_q   lag_0_q  \n",
       "0      3.0  0.000000      5.0  0.000000  0.000000      0.0  0.967742  \n",
       "1      1.0  0.967742      2.0  1.935484  1.935484      0.0  1.935484  \n",
       "2      0.0  0.000000      0.0  0.967742  0.000000      0.0  0.000000  \n",
       "3      0.0  0.000000      0.0  0.000000  0.967742      0.0  0.000000  \n",
       "4      0.0  0.000000      0.0  0.000000  0.000000      0.0  0.000000  \n",
       "\n",
       "[5 rows x 32 columns]"
      ]
     },
     "execution_count": 71,
     "metadata": {},
     "output_type": "execute_result"
    }
   ],
   "source": [
    "data_table.head()"
   ]
  },
  {
   "cell_type": "code",
   "execution_count": 72,
   "metadata": {},
   "outputs": [
    {
     "data": {
      "text/html": [
       "<div>\n",
       "<style>\n",
       "    .dataframe thead tr:only-child th {\n",
       "        text-align: right;\n",
       "    }\n",
       "\n",
       "    .dataframe thead th {\n",
       "        text-align: left;\n",
       "    }\n",
       "\n",
       "    .dataframe tbody tr th {\n",
       "        vertical-align: top;\n",
       "    }\n",
       "</style>\n",
       "<table border=\"1\" class=\"dataframe\">\n",
       "  <thead>\n",
       "    <tr style=\"text-align: right;\">\n",
       "      <th></th>\n",
       "      <th>lag_12_p</th>\n",
       "      <th>lag_11_p</th>\n",
       "      <th>lag_10_p</th>\n",
       "      <th>lag_9_p</th>\n",
       "      <th>lag_8_p</th>\n",
       "      <th>lag_7_p</th>\n",
       "      <th>lag_6_p</th>\n",
       "      <th>lag_5_p</th>\n",
       "      <th>lag_4_p</th>\n",
       "      <th>lag_3_p</th>\n",
       "      <th>...</th>\n",
       "      <th>lag_9_q</th>\n",
       "      <th>lag_8_q</th>\n",
       "      <th>lag_7_q</th>\n",
       "      <th>lag_6_q</th>\n",
       "      <th>lag_5_q</th>\n",
       "      <th>lag_4_q</th>\n",
       "      <th>lag_3_q</th>\n",
       "      <th>lag_2_q</th>\n",
       "      <th>lag_1_q</th>\n",
       "      <th>lag_0_q</th>\n",
       "    </tr>\n",
       "  </thead>\n",
       "  <tbody>\n",
       "    <tr>\n",
       "      <th>0</th>\n",
       "      <td>5.39</td>\n",
       "      <td>0.00</td>\n",
       "      <td>2.50</td>\n",
       "      <td>0.00</td>\n",
       "      <td>0.00</td>\n",
       "      <td>0.00</td>\n",
       "      <td>2.2475</td>\n",
       "      <td>0.0</td>\n",
       "      <td>1.5625</td>\n",
       "      <td>0.00</td>\n",
       "      <td>...</td>\n",
       "      <td>0.0</td>\n",
       "      <td>0.000000</td>\n",
       "      <td>0.000000</td>\n",
       "      <td>3.0</td>\n",
       "      <td>0.000000</td>\n",
       "      <td>5.0</td>\n",
       "      <td>0.000000</td>\n",
       "      <td>0.000000</td>\n",
       "      <td>0.0</td>\n",
       "      <td>0.967742</td>\n",
       "    </tr>\n",
       "    <tr>\n",
       "      <th>1</th>\n",
       "      <td>0.00</td>\n",
       "      <td>0.93</td>\n",
       "      <td>0.69</td>\n",
       "      <td>0.99</td>\n",
       "      <td>0.74</td>\n",
       "      <td>0.99</td>\n",
       "      <td>0.9900</td>\n",
       "      <td>3.4</td>\n",
       "      <td>4.0050</td>\n",
       "      <td>1.21</td>\n",
       "      <td>...</td>\n",
       "      <td>1.0</td>\n",
       "      <td>1.935484</td>\n",
       "      <td>0.967742</td>\n",
       "      <td>1.0</td>\n",
       "      <td>0.967742</td>\n",
       "      <td>2.0</td>\n",
       "      <td>1.935484</td>\n",
       "      <td>1.935484</td>\n",
       "      <td>0.0</td>\n",
       "      <td>1.935484</td>\n",
       "    </tr>\n",
       "    <tr>\n",
       "      <th>2</th>\n",
       "      <td>0.00</td>\n",
       "      <td>0.00</td>\n",
       "      <td>0.00</td>\n",
       "      <td>0.00</td>\n",
       "      <td>0.00</td>\n",
       "      <td>0.00</td>\n",
       "      <td>0.0000</td>\n",
       "      <td>0.0</td>\n",
       "      <td>0.0000</td>\n",
       "      <td>29.99</td>\n",
       "      <td>...</td>\n",
       "      <td>0.0</td>\n",
       "      <td>0.000000</td>\n",
       "      <td>0.000000</td>\n",
       "      <td>0.0</td>\n",
       "      <td>0.000000</td>\n",
       "      <td>0.0</td>\n",
       "      <td>0.967742</td>\n",
       "      <td>0.000000</td>\n",
       "      <td>0.0</td>\n",
       "      <td>0.000000</td>\n",
       "    </tr>\n",
       "    <tr>\n",
       "      <th>3</th>\n",
       "      <td>0.00</td>\n",
       "      <td>0.00</td>\n",
       "      <td>0.00</td>\n",
       "      <td>0.00</td>\n",
       "      <td>0.00</td>\n",
       "      <td>0.00</td>\n",
       "      <td>0.0000</td>\n",
       "      <td>0.0</td>\n",
       "      <td>0.0000</td>\n",
       "      <td>0.00</td>\n",
       "      <td>...</td>\n",
       "      <td>0.0</td>\n",
       "      <td>0.000000</td>\n",
       "      <td>0.000000</td>\n",
       "      <td>0.0</td>\n",
       "      <td>0.000000</td>\n",
       "      <td>0.0</td>\n",
       "      <td>0.000000</td>\n",
       "      <td>0.967742</td>\n",
       "      <td>0.0</td>\n",
       "      <td>0.000000</td>\n",
       "    </tr>\n",
       "    <tr>\n",
       "      <th>4</th>\n",
       "      <td>0.00</td>\n",
       "      <td>0.00</td>\n",
       "      <td>0.00</td>\n",
       "      <td>0.00</td>\n",
       "      <td>0.00</td>\n",
       "      <td>5.99</td>\n",
       "      <td>0.0000</td>\n",
       "      <td>0.0</td>\n",
       "      <td>0.0000</td>\n",
       "      <td>0.00</td>\n",
       "      <td>...</td>\n",
       "      <td>0.0</td>\n",
       "      <td>0.000000</td>\n",
       "      <td>0.967742</td>\n",
       "      <td>0.0</td>\n",
       "      <td>0.000000</td>\n",
       "      <td>0.0</td>\n",
       "      <td>0.000000</td>\n",
       "      <td>0.000000</td>\n",
       "      <td>0.0</td>\n",
       "      <td>0.000000</td>\n",
       "    </tr>\n",
       "  </tbody>\n",
       "</table>\n",
       "<p>5 rows × 26 columns</p>\n",
       "</div>"
      ],
      "text/plain": [
       "   lag_12_p  lag_11_p  lag_10_p  lag_9_p  lag_8_p  lag_7_p  lag_6_p  lag_5_p  \\\n",
       "0      5.39      0.00      2.50     0.00     0.00     0.00   2.2475      0.0   \n",
       "1      0.00      0.93      0.69     0.99     0.74     0.99   0.9900      3.4   \n",
       "2      0.00      0.00      0.00     0.00     0.00     0.00   0.0000      0.0   \n",
       "3      0.00      0.00      0.00     0.00     0.00     0.00   0.0000      0.0   \n",
       "4      0.00      0.00      0.00     0.00     0.00     5.99   0.0000      0.0   \n",
       "\n",
       "   lag_4_p  lag_3_p    ...     lag_9_q   lag_8_q   lag_7_q  lag_6_q   lag_5_q  \\\n",
       "0   1.5625     0.00    ...         0.0  0.000000  0.000000      3.0  0.000000   \n",
       "1   4.0050     1.21    ...         1.0  1.935484  0.967742      1.0  0.967742   \n",
       "2   0.0000    29.99    ...         0.0  0.000000  0.000000      0.0  0.000000   \n",
       "3   0.0000     0.00    ...         0.0  0.000000  0.000000      0.0  0.000000   \n",
       "4   0.0000     0.00    ...         0.0  0.000000  0.967742      0.0  0.000000   \n",
       "\n",
       "   lag_4_q   lag_3_q   lag_2_q  lag_1_q   lag_0_q  \n",
       "0      5.0  0.000000  0.000000      0.0  0.967742  \n",
       "1      2.0  1.935484  1.935484      0.0  1.935484  \n",
       "2      0.0  0.967742  0.000000      0.0  0.000000  \n",
       "3      0.0  0.000000  0.967742      0.0  0.000000  \n",
       "4      0.0  0.000000  0.000000      0.0  0.000000  \n",
       "\n",
       "[5 rows x 26 columns]"
      ]
     },
     "execution_count": 72,
     "metadata": {},
     "output_type": "execute_result"
    }
   ],
   "source": [
    "data_table.iloc[:,6:].head()"
   ]
  },
  {
   "cell_type": "code",
   "execution_count": 73,
   "metadata": {
    "collapsed": true
   },
   "outputs": [],
   "source": [
    "#encode label 'productmeasure'\n",
    "from sklearn.preprocessing import LabelEncoder\n",
    "le = LabelEncoder()\n",
    "data_table['productmeasure'] = le.fit_transform(data_table['productmeasure'])"
   ]
  },
  {
   "cell_type": "code",
   "execution_count": 74,
   "metadata": {},
   "outputs": [
    {
     "data": {
      "text/plain": [
       "count    216582.000000\n",
       "mean          0.491423\n",
       "std           1.963103\n",
       "min           0.000000\n",
       "25%           0.000000\n",
       "50%           0.000000\n",
       "75%           0.000000\n",
       "max         288.750000\n",
       "Name: lag_0_p, dtype: float64"
      ]
     },
     "execution_count": 74,
     "metadata": {},
     "output_type": "execute_result"
    }
   ],
   "source": [
    "data_table['lag_0_p'].describe()"
   ]
  },
  {
   "cell_type": "code",
   "execution_count": 75,
   "metadata": {},
   "outputs": [
    {
     "data": {
      "text/plain": [
       "count    216582.000000\n",
       "mean          0.252040\n",
       "std           4.180196\n",
       "min           0.000000\n",
       "25%           0.000000\n",
       "50%           0.000000\n",
       "75%           0.000000\n",
       "max        1685.806452\n",
       "Name: lag_0_q, dtype: float64"
      ]
     },
     "execution_count": 75,
     "metadata": {},
     "output_type": "execute_result"
    }
   ],
   "source": [
    "data_table['lag_0_q'].describe()"
   ]
  },
  {
   "cell_type": "code",
   "execution_count": 76,
   "metadata": {},
   "outputs": [
    {
     "data": {
      "text/plain": [
       "187260"
      ]
     },
     "execution_count": 76,
     "metadata": {},
     "output_type": "execute_result"
    }
   ],
   "source": [
    "len(data_table[data_table['lag_0_q'] == 0])"
   ]
  },
  {
   "cell_type": "code",
   "execution_count": 77,
   "metadata": {},
   "outputs": [
    {
     "data": {
      "text/plain": [
       "0.8646147879325151"
      ]
     },
     "execution_count": 77,
     "metadata": {},
     "output_type": "execute_result"
    }
   ],
   "source": [
    "float(len(data_table[data_table['lag_0_q'] == 0]))/len(data_table)"
   ]
  },
  {
   "cell_type": "code",
   "execution_count": 78,
   "metadata": {},
   "outputs": [
    {
     "data": {
      "text/plain": [
       "188306"
      ]
     },
     "execution_count": 78,
     "metadata": {},
     "output_type": "execute_result"
    }
   ],
   "source": [
    "len(data_table[data_table['lag_1_q'] == 0])"
   ]
  },
  {
   "cell_type": "code",
   "execution_count": 79,
   "metadata": {},
   "outputs": [
    {
     "data": {
      "text/plain": [
       "0.8694443674912966"
      ]
     },
     "execution_count": 79,
     "metadata": {},
     "output_type": "execute_result"
    }
   ],
   "source": [
    "float(len(data_table[data_table['lag_1_q'] == 0]))/len(data_table)"
   ]
  },
  {
   "cell_type": "code",
   "execution_count": 80,
   "metadata": {},
   "outputs": [
    {
     "data": {
      "text/plain": [
       "0.8713349287496723"
      ]
     },
     "execution_count": 80,
     "metadata": {},
     "output_type": "execute_result"
    }
   ],
   "source": [
    "zero_quantity_percent = 0\n",
    "for i in range(13):\n",
    "    zero_quantity_percent += float(len(data_table[data_table['lag_{}_q'.format(i)] == 0]))/len(data_table)\n",
    "zero_quantity_percent / 13    "
   ]
  },
  {
   "cell_type": "markdown",
   "metadata": {},
   "source": [
    "### This shows on average 87% of the products in each store have demand 0 each month. "
   ]
  },
  {
   "cell_type": "markdown",
   "metadata": {},
   "source": [
    "### Check outliers in the data table."
   ]
  },
  {
   "cell_type": "code",
   "execution_count": 81,
   "metadata": {},
   "outputs": [
    {
     "data": {
      "text/plain": [
       "216582"
      ]
     },
     "execution_count": 81,
     "metadata": {},
     "output_type": "execute_result"
    }
   ],
   "source": [
    "len(data_table)"
   ]
  },
  {
   "cell_type": "code",
   "execution_count": 82,
   "metadata": {},
   "outputs": [
    {
     "data": {
      "text/plain": [
       "328"
      ]
     },
     "execution_count": 82,
     "metadata": {},
     "output_type": "execute_result"
    }
   ],
   "source": [
    "outlier_greater_than_ten_sum = 0\n",
    "for i in range(12):\n",
    "    outlier_greater_than_ten_sum += len(data_table[data_table['lag_{}_q'.format(i+1)] > 10])\n",
    "outlier_greater_than_ten_ave = outlier_greater_than_ten_sum / 12\n",
    "outlier_greater_than_ten_ave"
   ]
  },
  {
   "cell_type": "code",
   "execution_count": 83,
   "metadata": {},
   "outputs": [
    {
     "data": {
      "text/plain": [
       "1056"
      ]
     },
     "execution_count": 83,
     "metadata": {},
     "output_type": "execute_result"
    }
   ],
   "source": [
    "outlier_greater_than_five_sum = 0\n",
    "for i in range(12):\n",
    "    outlier_greater_than_five_sum += len(data_table[data_table['lag_{}_q'.format(i+1)] > 5])\n",
    "outlier_greater_than_five_ave = outlier_greater_than_five_sum / 12\n",
    "outlier_greater_than_five_ave"
   ]
  },
  {
   "cell_type": "code",
   "execution_count": 84,
   "metadata": {},
   "outputs": [
    {
     "data": {
      "text/plain": [
       "2371"
      ]
     },
     "execution_count": 84,
     "metadata": {},
     "output_type": "execute_result"
    }
   ],
   "source": [
    "outlier_greater_than_three_sum = 0\n",
    "for i in range(12):\n",
    "    outlier_greater_than_three_sum += len(data_table[data_table['lag_{}_q'.format(i+1)] > 3])\n",
    "outlier_greater_than_three_ave = outlier_greater_than_three_sum / 12\n",
    "outlier_greater_than_three_ave"
   ]
  },
  {
   "cell_type": "code",
   "execution_count": 85,
   "metadata": {},
   "outputs": [
    {
     "data": {
      "text/plain": [
       "0.0015144379495987664"
      ]
     },
     "execution_count": 85,
     "metadata": {},
     "output_type": "execute_result"
    }
   ],
   "source": [
    "float(outlier_greater_than_ten_ave) / len(data_table)"
   ]
  },
  {
   "cell_type": "code",
   "execution_count": 86,
   "metadata": {},
   "outputs": [
    {
     "data": {
      "text/plain": [
       "0.004875751447488711"
      ]
     },
     "execution_count": 86,
     "metadata": {},
     "output_type": "execute_result"
    }
   ],
   "source": [
    "float(outlier_greater_than_five_ave) / len(data_table)"
   ]
  },
  {
   "cell_type": "code",
   "execution_count": 87,
   "metadata": {},
   "outputs": [
    {
     "data": {
      "text/plain": [
       "0.01094735481249596"
      ]
     },
     "execution_count": 87,
     "metadata": {},
     "output_type": "execute_result"
    }
   ],
   "source": [
    "float(outlier_greater_than_three_ave) / len(data_table)"
   ]
  },
  {
   "cell_type": "markdown",
   "metadata": {},
   "source": [
    "### This shows on average 0.15% of the product in each store have demand greater than 10 each month, 0.49% of the product in each store have demand greater than 5 each month, and 1.09% of the product in each store in each store have demand greater than 3 each month."
   ]
  },
  {
   "cell_type": "markdown",
   "metadata": {},
   "source": [
    "### Building models: we know the current price and previous prices, previous demand, now want to predict current demand. This is how I approach the forecasting problem: The current demand depends on current price, previous prices and previous demand."
   ]
  },
  {
   "cell_type": "markdown",
   "metadata": {},
   "source": [
    "### First of all, I build models using demand data from  March 2012 to Jan 2013, price data from March 2012 to Feb 2013, train on those data and validate the model on demand Feb 2013. Then I use the model and price data March 2013 to predict demand in March 2013. Since I have real demand data in March 2013, I can see how my model works.\n",
    "### Suppose we don't know lag_0_q and lag_0_p (for modeling purpose, I want to test how my model works, so I assume I don't know the demand in March 2013). We want to train on lag_12_q,...,lag_2_q and lag_12_p,..., lag_1_p and predict on lag_1_q. Then we use the model and lag_0_p to predict on lag_0_q."
   ]
  },
  {
   "cell_type": "code",
   "execution_count": 100,
   "metadata": {},
   "outputs": [],
   "source": [
    "import xgboost as xgb"
   ]
  },
  {
   "cell_type": "code",
   "execution_count": 89,
   "metadata": {},
   "outputs": [
    {
     "data": {
      "text/html": [
       "<div>\n",
       "<style>\n",
       "    .dataframe thead tr:only-child th {\n",
       "        text-align: right;\n",
       "    }\n",
       "\n",
       "    .dataframe thead th {\n",
       "        text-align: left;\n",
       "    }\n",
       "\n",
       "    .dataframe tbody tr th {\n",
       "        vertical-align: top;\n",
       "    }\n",
       "</style>\n",
       "<table border=\"1\" class=\"dataframe\">\n",
       "  <thead>\n",
       "    <tr style=\"text-align: right;\">\n",
       "      <th></th>\n",
       "      <th>lag_0_p</th>\n",
       "    </tr>\n",
       "  </thead>\n",
       "  <tbody>\n",
       "    <tr>\n",
       "      <th>0</th>\n",
       "      <td>5.99</td>\n",
       "    </tr>\n",
       "    <tr>\n",
       "      <th>1</th>\n",
       "      <td>0.99</td>\n",
       "    </tr>\n",
       "    <tr>\n",
       "      <th>2</th>\n",
       "      <td>0.00</td>\n",
       "    </tr>\n",
       "    <tr>\n",
       "      <th>3</th>\n",
       "      <td>0.00</td>\n",
       "    </tr>\n",
       "    <tr>\n",
       "      <th>4</th>\n",
       "      <td>0.00</td>\n",
       "    </tr>\n",
       "  </tbody>\n",
       "</table>\n",
       "</div>"
      ],
      "text/plain": [
       "   lag_0_p\n",
       "0     5.99\n",
       "1     0.99\n",
       "2     0.00\n",
       "3     0.00\n",
       "4     0.00"
      ]
     },
     "execution_count": 89,
     "metadata": {},
     "output_type": "execute_result"
    }
   ],
   "source": [
    "data_table.iloc[:,18:19].head()  # need  to remove column 18"
   ]
  },
  {
   "cell_type": "code",
   "execution_count": 90,
   "metadata": {},
   "outputs": [
    {
     "data": {
      "text/html": [
       "<div>\n",
       "<style>\n",
       "    .dataframe thead tr:only-child th {\n",
       "        text-align: right;\n",
       "    }\n",
       "\n",
       "    .dataframe thead th {\n",
       "        text-align: left;\n",
       "    }\n",
       "\n",
       "    .dataframe tbody tr th {\n",
       "        vertical-align: top;\n",
       "    }\n",
       "</style>\n",
       "<table border=\"1\" class=\"dataframe\">\n",
       "  <thead>\n",
       "    <tr style=\"text-align: right;\">\n",
       "      <th></th>\n",
       "      <th>lag_12_p</th>\n",
       "      <th>lag_11_p</th>\n",
       "      <th>lag_10_p</th>\n",
       "      <th>lag_9_p</th>\n",
       "      <th>lag_8_p</th>\n",
       "      <th>lag_7_p</th>\n",
       "      <th>lag_6_p</th>\n",
       "      <th>lag_5_p</th>\n",
       "      <th>lag_4_p</th>\n",
       "      <th>lag_3_p</th>\n",
       "      <th>...</th>\n",
       "      <th>lag_10_q</th>\n",
       "      <th>lag_9_q</th>\n",
       "      <th>lag_8_q</th>\n",
       "      <th>lag_7_q</th>\n",
       "      <th>lag_6_q</th>\n",
       "      <th>lag_5_q</th>\n",
       "      <th>lag_4_q</th>\n",
       "      <th>lag_3_q</th>\n",
       "      <th>lag_2_q</th>\n",
       "      <th>lag_1_q</th>\n",
       "    </tr>\n",
       "  </thead>\n",
       "  <tbody>\n",
       "    <tr>\n",
       "      <th>0</th>\n",
       "      <td>5.39</td>\n",
       "      <td>0.00</td>\n",
       "      <td>2.50</td>\n",
       "      <td>0.00</td>\n",
       "      <td>0.00</td>\n",
       "      <td>0.00</td>\n",
       "      <td>2.2475</td>\n",
       "      <td>0.0</td>\n",
       "      <td>1.5625</td>\n",
       "      <td>0.00</td>\n",
       "      <td>...</td>\n",
       "      <td>0.967742</td>\n",
       "      <td>0.0</td>\n",
       "      <td>0.000000</td>\n",
       "      <td>0.000000</td>\n",
       "      <td>3.0</td>\n",
       "      <td>0.000000</td>\n",
       "      <td>5.0</td>\n",
       "      <td>0.000000</td>\n",
       "      <td>0.000000</td>\n",
       "      <td>0.0</td>\n",
       "    </tr>\n",
       "    <tr>\n",
       "      <th>1</th>\n",
       "      <td>0.00</td>\n",
       "      <td>0.93</td>\n",
       "      <td>0.69</td>\n",
       "      <td>0.99</td>\n",
       "      <td>0.74</td>\n",
       "      <td>0.99</td>\n",
       "      <td>0.9900</td>\n",
       "      <td>3.4</td>\n",
       "      <td>4.0050</td>\n",
       "      <td>1.21</td>\n",
       "      <td>...</td>\n",
       "      <td>0.967742</td>\n",
       "      <td>1.0</td>\n",
       "      <td>1.935484</td>\n",
       "      <td>0.967742</td>\n",
       "      <td>1.0</td>\n",
       "      <td>0.967742</td>\n",
       "      <td>2.0</td>\n",
       "      <td>1.935484</td>\n",
       "      <td>1.935484</td>\n",
       "      <td>0.0</td>\n",
       "    </tr>\n",
       "    <tr>\n",
       "      <th>2</th>\n",
       "      <td>0.00</td>\n",
       "      <td>0.00</td>\n",
       "      <td>0.00</td>\n",
       "      <td>0.00</td>\n",
       "      <td>0.00</td>\n",
       "      <td>0.00</td>\n",
       "      <td>0.0000</td>\n",
       "      <td>0.0</td>\n",
       "      <td>0.0000</td>\n",
       "      <td>29.99</td>\n",
       "      <td>...</td>\n",
       "      <td>0.000000</td>\n",
       "      <td>0.0</td>\n",
       "      <td>0.000000</td>\n",
       "      <td>0.000000</td>\n",
       "      <td>0.0</td>\n",
       "      <td>0.000000</td>\n",
       "      <td>0.0</td>\n",
       "      <td>0.967742</td>\n",
       "      <td>0.000000</td>\n",
       "      <td>0.0</td>\n",
       "    </tr>\n",
       "    <tr>\n",
       "      <th>3</th>\n",
       "      <td>0.00</td>\n",
       "      <td>0.00</td>\n",
       "      <td>0.00</td>\n",
       "      <td>0.00</td>\n",
       "      <td>0.00</td>\n",
       "      <td>0.00</td>\n",
       "      <td>0.0000</td>\n",
       "      <td>0.0</td>\n",
       "      <td>0.0000</td>\n",
       "      <td>0.00</td>\n",
       "      <td>...</td>\n",
       "      <td>0.000000</td>\n",
       "      <td>0.0</td>\n",
       "      <td>0.000000</td>\n",
       "      <td>0.000000</td>\n",
       "      <td>0.0</td>\n",
       "      <td>0.000000</td>\n",
       "      <td>0.0</td>\n",
       "      <td>0.000000</td>\n",
       "      <td>0.967742</td>\n",
       "      <td>0.0</td>\n",
       "    </tr>\n",
       "    <tr>\n",
       "      <th>4</th>\n",
       "      <td>0.00</td>\n",
       "      <td>0.00</td>\n",
       "      <td>0.00</td>\n",
       "      <td>0.00</td>\n",
       "      <td>0.00</td>\n",
       "      <td>5.99</td>\n",
       "      <td>0.0000</td>\n",
       "      <td>0.0</td>\n",
       "      <td>0.0000</td>\n",
       "      <td>0.00</td>\n",
       "      <td>...</td>\n",
       "      <td>0.000000</td>\n",
       "      <td>0.0</td>\n",
       "      <td>0.000000</td>\n",
       "      <td>0.967742</td>\n",
       "      <td>0.0</td>\n",
       "      <td>0.000000</td>\n",
       "      <td>0.0</td>\n",
       "      <td>0.000000</td>\n",
       "      <td>0.000000</td>\n",
       "      <td>0.0</td>\n",
       "    </tr>\n",
       "  </tbody>\n",
       "</table>\n",
       "<p>5 rows × 24 columns</p>\n",
       "</div>"
      ],
      "text/plain": [
       "   lag_12_p  lag_11_p  lag_10_p  lag_9_p  lag_8_p  lag_7_p  lag_6_p  lag_5_p  \\\n",
       "0      5.39      0.00      2.50     0.00     0.00     0.00   2.2475      0.0   \n",
       "1      0.00      0.93      0.69     0.99     0.74     0.99   0.9900      3.4   \n",
       "2      0.00      0.00      0.00     0.00     0.00     0.00   0.0000      0.0   \n",
       "3      0.00      0.00      0.00     0.00     0.00     0.00   0.0000      0.0   \n",
       "4      0.00      0.00      0.00     0.00     0.00     5.99   0.0000      0.0   \n",
       "\n",
       "   lag_4_p  lag_3_p   ...     lag_10_q  lag_9_q   lag_8_q   lag_7_q  lag_6_q  \\\n",
       "0   1.5625     0.00   ...     0.967742      0.0  0.000000  0.000000      3.0   \n",
       "1   4.0050     1.21   ...     0.967742      1.0  1.935484  0.967742      1.0   \n",
       "2   0.0000    29.99   ...     0.000000      0.0  0.000000  0.000000      0.0   \n",
       "3   0.0000     0.00   ...     0.000000      0.0  0.000000  0.000000      0.0   \n",
       "4   0.0000     0.00   ...     0.000000      0.0  0.000000  0.967742      0.0   \n",
       "\n",
       "    lag_5_q  lag_4_q   lag_3_q   lag_2_q  lag_1_q  \n",
       "0  0.000000      5.0  0.000000  0.000000      0.0  \n",
       "1  0.967742      2.0  1.935484  1.935484      0.0  \n",
       "2  0.000000      0.0  0.967742  0.000000      0.0  \n",
       "3  0.000000      0.0  0.000000  0.967742      0.0  \n",
       "4  0.000000      0.0  0.000000  0.000000      0.0  \n",
       "\n",
       "[5 rows x 24 columns]"
      ]
     },
     "execution_count": 90,
     "metadata": {},
     "output_type": "execute_result"
    }
   ],
   "source": [
    "data_train_table = data_table.iloc[:,6:18].join(data_table.iloc[:,19:-1])\n",
    "data_train_table.head()"
   ]
  },
  {
   "cell_type": "code",
   "execution_count": 107,
   "metadata": {
    "collapsed": true
   },
   "outputs": [],
   "source": [
    "X = data_train_table.iloc[:,:-1].values\n",
    "y = data_train_table.iloc[:,-1].values"
   ]
  },
  {
   "cell_type": "code",
   "execution_count": 108,
   "metadata": {
    "collapsed": true
   },
   "outputs": [],
   "source": [
    "X_train, X_vali, y_train, y_vali = train_test_split(X, y, test_size = 0.2, random_state = 42)"
   ]
  },
  {
   "cell_type": "markdown",
   "metadata": {},
   "source": [
    "### Use XGBoost Regressor"
   ]
  },
  {
   "cell_type": "code",
   "execution_count": 109,
   "metadata": {
    "collapsed": true
   },
   "outputs": [],
   "source": [
    "xgb_1 = xgb.XGBRegressor(objective = 'reg:linear',\n",
    "                        max_depth = 12,\n",
    "                        subsample = 0.9,\n",
    "                        colsample_bytree = 0.9,\n",
    "                        min_child_weight = 0.5,\n",
    "                        learning_rate = 0.1,\n",
    "                        seed = 0,\n",
    "                        silent = 0)"
   ]
  },
  {
   "cell_type": "code",
   "execution_count": 110,
   "metadata": {},
   "outputs": [
    {
     "data": {
      "text/plain": [
       "XGBRegressor(base_score=0.5, colsample_bylevel=1, colsample_bytree=0.9,\n",
       "       gamma=0, learning_rate=0.1, max_delta_step=0, max_depth=12,\n",
       "       min_child_weight=0.5, missing=None, n_estimators=100, nthread=-1,\n",
       "       objective='reg:linear', reg_alpha=0, reg_lambda=1,\n",
       "       scale_pos_weight=1, seed=0, silent=0, subsample=0.9)"
      ]
     },
     "execution_count": 110,
     "metadata": {},
     "output_type": "execute_result"
    }
   ],
   "source": [
    "xgb_1.fit(X_train, y_train)"
   ]
  },
  {
   "cell_type": "code",
   "execution_count": 111,
   "metadata": {},
   "outputs": [
    {
     "name": "stdout",
     "output_type": "stream",
     "text": [
      "('Train data RMSE', 1.6565591744121766)\n"
     ]
    }
   ],
   "source": [
    "y_1_pred_train = xgb_1.predict(X_train)\n",
    "xgb_1_mse_train = mean_squared_error(y_1_pred_train, y_train)\n",
    "print (\"Train data RMSE\", np.sqrt(xgb_1_mse_train))"
   ]
  },
  {
   "cell_type": "code",
   "execution_count": 112,
   "metadata": {},
   "outputs": [
    {
     "name": "stdout",
     "output_type": "stream",
     "text": [
      "('Validation-data_quantity RMSE', 2.0091586126377812)\n"
     ]
    }
   ],
   "source": [
    "# Validate the data\n",
    "y_1_pred_validate = xgb_1.predict(X_vali)\n",
    "xgb_1_mse_validate = mean_squared_error(y_1_pred_validate, y_vali)\n",
    "print(\"Validation-data_quantity RMSE\", np.sqrt(xgb_1_mse_validate))  "
   ]
  },
  {
   "cell_type": "code",
   "execution_count": 113,
   "metadata": {},
   "outputs": [
    {
     "data": {
      "text/plain": [
       "XGBRegressor(base_score=0.5, colsample_bylevel=1, colsample_bytree=0.9,\n",
       "       gamma=0, learning_rate=0.1, max_delta_step=0, max_depth=12,\n",
       "       min_child_weight=0.5, missing=None, n_estimators=100, nthread=-1,\n",
       "       objective='reg:linear', reg_alpha=0, reg_lambda=1,\n",
       "       scale_pos_weight=1, seed=0, silent=0, subsample=0.9)"
      ]
     },
     "execution_count": 113,
     "metadata": {},
     "output_type": "execute_result"
    }
   ],
   "source": [
    "xgb_1.fit(X,y)"
   ]
  },
  {
   "cell_type": "code",
   "execution_count": 114,
   "metadata": {},
   "outputs": [
    {
     "data": {
      "text/html": [
       "<div>\n",
       "<style>\n",
       "    .dataframe thead tr:only-child th {\n",
       "        text-align: right;\n",
       "    }\n",
       "\n",
       "    .dataframe thead th {\n",
       "        text-align: left;\n",
       "    }\n",
       "\n",
       "    .dataframe tbody tr th {\n",
       "        vertical-align: top;\n",
       "    }\n",
       "</style>\n",
       "<table border=\"1\" class=\"dataframe\">\n",
       "  <thead>\n",
       "    <tr style=\"text-align: right;\">\n",
       "      <th></th>\n",
       "      <th>lag_12_q</th>\n",
       "    </tr>\n",
       "  </thead>\n",
       "  <tbody>\n",
       "    <tr>\n",
       "      <th>0</th>\n",
       "      <td>0.967742</td>\n",
       "    </tr>\n",
       "    <tr>\n",
       "      <th>1</th>\n",
       "      <td>0.000000</td>\n",
       "    </tr>\n",
       "    <tr>\n",
       "      <th>2</th>\n",
       "      <td>0.000000</td>\n",
       "    </tr>\n",
       "    <tr>\n",
       "      <th>3</th>\n",
       "      <td>0.000000</td>\n",
       "    </tr>\n",
       "    <tr>\n",
       "      <th>4</th>\n",
       "      <td>0.000000</td>\n",
       "    </tr>\n",
       "  </tbody>\n",
       "</table>\n",
       "</div>"
      ],
      "text/plain": [
       "   lag_12_q\n",
       "0  0.967742\n",
       "1  0.000000\n",
       "2  0.000000\n",
       "3  0.000000\n",
       "4  0.000000"
      ]
     },
     "execution_count": 114,
     "metadata": {},
     "output_type": "execute_result"
    }
   ],
   "source": [
    "data_table.iloc[:,19:20].head()"
   ]
  },
  {
   "cell_type": "code",
   "execution_count": 115,
   "metadata": {},
   "outputs": [
    {
     "data": {
      "text/html": [
       "<div>\n",
       "<style>\n",
       "    .dataframe thead tr:only-child th {\n",
       "        text-align: right;\n",
       "    }\n",
       "\n",
       "    .dataframe thead th {\n",
       "        text-align: left;\n",
       "    }\n",
       "\n",
       "    .dataframe tbody tr th {\n",
       "        vertical-align: top;\n",
       "    }\n",
       "</style>\n",
       "<table border=\"1\" class=\"dataframe\">\n",
       "  <thead>\n",
       "    <tr style=\"text-align: right;\">\n",
       "      <th></th>\n",
       "      <th>lag_11_p</th>\n",
       "      <th>lag_10_p</th>\n",
       "      <th>lag_9_p</th>\n",
       "      <th>lag_8_p</th>\n",
       "      <th>lag_7_p</th>\n",
       "      <th>lag_6_p</th>\n",
       "      <th>lag_5_p</th>\n",
       "      <th>lag_4_p</th>\n",
       "      <th>lag_3_p</th>\n",
       "      <th>lag_2_p</th>\n",
       "      <th>...</th>\n",
       "      <th>lag_9_q</th>\n",
       "      <th>lag_8_q</th>\n",
       "      <th>lag_7_q</th>\n",
       "      <th>lag_6_q</th>\n",
       "      <th>lag_5_q</th>\n",
       "      <th>lag_4_q</th>\n",
       "      <th>lag_3_q</th>\n",
       "      <th>lag_2_q</th>\n",
       "      <th>lag_1_q</th>\n",
       "      <th>lag_0_q</th>\n",
       "    </tr>\n",
       "  </thead>\n",
       "  <tbody>\n",
       "    <tr>\n",
       "      <th>0</th>\n",
       "      <td>0.00</td>\n",
       "      <td>2.50</td>\n",
       "      <td>0.00</td>\n",
       "      <td>0.00</td>\n",
       "      <td>0.00</td>\n",
       "      <td>2.2475</td>\n",
       "      <td>0.0</td>\n",
       "      <td>1.5625</td>\n",
       "      <td>0.00</td>\n",
       "      <td>0.00</td>\n",
       "      <td>...</td>\n",
       "      <td>0.0</td>\n",
       "      <td>0.000000</td>\n",
       "      <td>0.000000</td>\n",
       "      <td>3.0</td>\n",
       "      <td>0.000000</td>\n",
       "      <td>5.0</td>\n",
       "      <td>0.000000</td>\n",
       "      <td>0.000000</td>\n",
       "      <td>0.0</td>\n",
       "      <td>0.967742</td>\n",
       "    </tr>\n",
       "    <tr>\n",
       "      <th>1</th>\n",
       "      <td>0.93</td>\n",
       "      <td>0.69</td>\n",
       "      <td>0.99</td>\n",
       "      <td>0.74</td>\n",
       "      <td>0.99</td>\n",
       "      <td>0.9900</td>\n",
       "      <td>3.4</td>\n",
       "      <td>4.0050</td>\n",
       "      <td>1.21</td>\n",
       "      <td>5.65</td>\n",
       "      <td>...</td>\n",
       "      <td>1.0</td>\n",
       "      <td>1.935484</td>\n",
       "      <td>0.967742</td>\n",
       "      <td>1.0</td>\n",
       "      <td>0.967742</td>\n",
       "      <td>2.0</td>\n",
       "      <td>1.935484</td>\n",
       "      <td>1.935484</td>\n",
       "      <td>0.0</td>\n",
       "      <td>1.935484</td>\n",
       "    </tr>\n",
       "    <tr>\n",
       "      <th>2</th>\n",
       "      <td>0.00</td>\n",
       "      <td>0.00</td>\n",
       "      <td>0.00</td>\n",
       "      <td>0.00</td>\n",
       "      <td>0.00</td>\n",
       "      <td>0.0000</td>\n",
       "      <td>0.0</td>\n",
       "      <td>0.0000</td>\n",
       "      <td>29.99</td>\n",
       "      <td>0.00</td>\n",
       "      <td>...</td>\n",
       "      <td>0.0</td>\n",
       "      <td>0.000000</td>\n",
       "      <td>0.000000</td>\n",
       "      <td>0.0</td>\n",
       "      <td>0.000000</td>\n",
       "      <td>0.0</td>\n",
       "      <td>0.967742</td>\n",
       "      <td>0.000000</td>\n",
       "      <td>0.0</td>\n",
       "      <td>0.000000</td>\n",
       "    </tr>\n",
       "    <tr>\n",
       "      <th>3</th>\n",
       "      <td>0.00</td>\n",
       "      <td>0.00</td>\n",
       "      <td>0.00</td>\n",
       "      <td>0.00</td>\n",
       "      <td>0.00</td>\n",
       "      <td>0.0000</td>\n",
       "      <td>0.0</td>\n",
       "      <td>0.0000</td>\n",
       "      <td>0.00</td>\n",
       "      <td>3.29</td>\n",
       "      <td>...</td>\n",
       "      <td>0.0</td>\n",
       "      <td>0.000000</td>\n",
       "      <td>0.000000</td>\n",
       "      <td>0.0</td>\n",
       "      <td>0.000000</td>\n",
       "      <td>0.0</td>\n",
       "      <td>0.000000</td>\n",
       "      <td>0.967742</td>\n",
       "      <td>0.0</td>\n",
       "      <td>0.000000</td>\n",
       "    </tr>\n",
       "    <tr>\n",
       "      <th>4</th>\n",
       "      <td>0.00</td>\n",
       "      <td>0.00</td>\n",
       "      <td>0.00</td>\n",
       "      <td>0.00</td>\n",
       "      <td>5.99</td>\n",
       "      <td>0.0000</td>\n",
       "      <td>0.0</td>\n",
       "      <td>0.0000</td>\n",
       "      <td>0.00</td>\n",
       "      <td>0.00</td>\n",
       "      <td>...</td>\n",
       "      <td>0.0</td>\n",
       "      <td>0.000000</td>\n",
       "      <td>0.967742</td>\n",
       "      <td>0.0</td>\n",
       "      <td>0.000000</td>\n",
       "      <td>0.0</td>\n",
       "      <td>0.000000</td>\n",
       "      <td>0.000000</td>\n",
       "      <td>0.0</td>\n",
       "      <td>0.000000</td>\n",
       "    </tr>\n",
       "  </tbody>\n",
       "</table>\n",
       "<p>5 rows × 24 columns</p>\n",
       "</div>"
      ],
      "text/plain": [
       "   lag_11_p  lag_10_p  lag_9_p  lag_8_p  lag_7_p  lag_6_p  lag_5_p  lag_4_p  \\\n",
       "0      0.00      2.50     0.00     0.00     0.00   2.2475      0.0   1.5625   \n",
       "1      0.93      0.69     0.99     0.74     0.99   0.9900      3.4   4.0050   \n",
       "2      0.00      0.00     0.00     0.00     0.00   0.0000      0.0   0.0000   \n",
       "3      0.00      0.00     0.00     0.00     0.00   0.0000      0.0   0.0000   \n",
       "4      0.00      0.00     0.00     0.00     5.99   0.0000      0.0   0.0000   \n",
       "\n",
       "   lag_3_p  lag_2_p    ...     lag_9_q   lag_8_q   lag_7_q  lag_6_q   lag_5_q  \\\n",
       "0     0.00     0.00    ...         0.0  0.000000  0.000000      3.0  0.000000   \n",
       "1     1.21     5.65    ...         1.0  1.935484  0.967742      1.0  0.967742   \n",
       "2    29.99     0.00    ...         0.0  0.000000  0.000000      0.0  0.000000   \n",
       "3     0.00     3.29    ...         0.0  0.000000  0.000000      0.0  0.000000   \n",
       "4     0.00     0.00    ...         0.0  0.000000  0.967742      0.0  0.000000   \n",
       "\n",
       "   lag_4_q   lag_3_q   lag_2_q  lag_1_q   lag_0_q  \n",
       "0      5.0  0.000000  0.000000      0.0  0.967742  \n",
       "1      2.0  1.935484  1.935484      0.0  1.935484  \n",
       "2      0.0  0.967742  0.000000      0.0  0.000000  \n",
       "3      0.0  0.000000  0.967742      0.0  0.000000  \n",
       "4      0.0  0.000000  0.000000      0.0  0.000000  \n",
       "\n",
       "[5 rows x 24 columns]"
      ]
     },
     "execution_count": 115,
     "metadata": {},
     "output_type": "execute_result"
    }
   ],
   "source": [
    "data_test_table = data_table.iloc[:,7:19].join(data_table.iloc[:,20:])\n",
    "data_test_table.head()"
   ]
  },
  {
   "cell_type": "code",
   "execution_count": 116,
   "metadata": {
    "collapsed": true
   },
   "outputs": [],
   "source": [
    "X_test = data_test_table.iloc[:,0:-1].values\n",
    "y_test = data_test_table.iloc[:,-1].values"
   ]
  },
  {
   "cell_type": "markdown",
   "metadata": {},
   "source": [
    "## We want to have some idea what real values of demand in March 2013 looks like."
   ]
  },
  {
   "cell_type": "code",
   "execution_count": 175,
   "metadata": {},
   "outputs": [
    {
     "data": {
      "text/plain": [
       "count    216582.000000\n",
       "mean          0.252040\n",
       "std           4.180196\n",
       "min           0.000000\n",
       "25%           0.000000\n",
       "50%           0.000000\n",
       "75%           0.000000\n",
       "max        1685.806452\n",
       "Name: lag_0_q, dtype: float64"
      ]
     },
     "execution_count": 175,
     "metadata": {},
     "output_type": "execute_result"
    }
   ],
   "source": [
    "data_test_table.iloc[:,-1].describe()"
   ]
  },
  {
   "cell_type": "code",
   "execution_count": 172,
   "metadata": {},
   "outputs": [
    {
     "data": {
      "text/plain": [
       "<matplotlib.axes._subplots.AxesSubplot at 0x1229bd110>"
      ]
     },
     "execution_count": 172,
     "metadata": {},
     "output_type": "execute_result"
    },
    {
     "data": {
      "image/png": "[encoded data removed]",
      "text/plain": [
       "<matplotlib.figure.Figure at 0x1227c1610>"
      ]
     },
     "metadata": {},
     "output_type": "display_data"
    }
   ],
   "source": [
    "sns.distplot(data_test_table[data_test_table['lag_0_q']<5].lag_0_q)"
   ]
  },
  {
   "cell_type": "code",
   "execution_count": 170,
   "metadata": {},
   "outputs": [
    {
     "data": {
      "text/plain": [
       "<matplotlib.axes._subplots.AxesSubplot at 0x119dadb10>"
      ]
     },
     "execution_count": 170,
     "metadata": {},
     "output_type": "execute_result"
    },
    {
     "data": {
      "image/png": "[encoded data removed]",
      "text/plain": [
       "<matplotlib.figure.Figure at 0x12277d550>"
      ]
     },
     "metadata": {},
     "output_type": "display_data"
    }
   ],
   "source": [
    "sns.distplot(data_test_table[data_test_table['lag_0_q']>20].lag_0_q)"
   ]
  },
  {
   "cell_type": "code",
   "execution_count": 117,
   "metadata": {},
   "outputs": [
    {
     "name": "stdout",
     "output_type": "stream",
     "text": [
      "('Test data RMSE', 4.1225932356108901)\n"
     ]
    }
   ],
   "source": [
    "# Validate the data\n",
    "y_1_pred_test = xgb_1.predict(X_test)\n",
    "xgb_1_mse_test = mean_squared_error(y_1_pred_test, y_test)\n",
    "print(\"Test data RMSE\", np.sqrt(xgb_1_mse_test))   # 4.1225932356108901"
   ]
  },
  {
   "cell_type": "markdown",
   "metadata": {},
   "source": [
    "### RandomForest Regressor"
   ]
  },
  {
   "cell_type": "code",
   "execution_count": 118,
   "metadata": {
    "collapsed": true
   },
   "outputs": [],
   "source": [
    "from sklearn.ensemble import RandomForestRegressor"
   ]
  },
  {
   "cell_type": "code",
   "execution_count": 119,
   "metadata": {
    "collapsed": true
   },
   "outputs": [],
   "source": [
    "rf_1 = RandomForestRegressor(n_estimators = 50, max_depth = 50,\n",
    "                            max_features = 'sqrt',\n",
    "                            min_samples_split = 10,\n",
    "                            min_samples_leaf = 1,\n",
    "                            random_state = 42)"
   ]
  },
  {
   "cell_type": "code",
   "execution_count": 120,
   "metadata": {},
   "outputs": [
    {
     "data": {
      "text/plain": [
       "RandomForestRegressor(bootstrap=True, criterion='mse', max_depth=50,\n",
       "           max_features='sqrt', max_leaf_nodes=None,\n",
       "           min_impurity_split=1e-07, min_samples_leaf=1,\n",
       "           min_samples_split=10, min_weight_fraction_leaf=0.0,\n",
       "           n_estimators=50, n_jobs=1, oob_score=False, random_state=42,\n",
       "           verbose=0, warm_start=False)"
      ]
     },
     "execution_count": 120,
     "metadata": {},
     "output_type": "execute_result"
    }
   ],
   "source": [
    "rf_1.fit(X_train, y_train)"
   ]
  },
  {
   "cell_type": "code",
   "execution_count": 121,
   "metadata": {},
   "outputs": [
    {
     "name": "stdout",
     "output_type": "stream",
     "text": [
      "('Train data RMSE', 1.8498688804839485)\n"
     ]
    }
   ],
   "source": [
    "y_2_pred_train = rf_1.predict(X_train)\n",
    "rf_1_mse_train = mean_squared_error(y_2_pred_train, y_train)\n",
    "print (\"Train data RMSE\", np.sqrt(rf_1_mse_train))"
   ]
  },
  {
   "cell_type": "code",
   "execution_count": 122,
   "metadata": {},
   "outputs": [
    {
     "name": "stdout",
     "output_type": "stream",
     "text": [
      "('Validation-data_quantity RMSE', 1.7166649507068588)\n"
     ]
    }
   ],
   "source": [
    "# Validate the data\n",
    "y_2_pred_validate = rf_1.predict(X_vali)\n",
    "rf_1_mse_validate = mean_squared_error(y_2_pred_validate, y_vali)\n",
    "print(\"Validation-data_quantity RMSE\", np.sqrt(rf_1_mse_validate))  "
   ]
  },
  {
   "cell_type": "code",
   "execution_count": 123,
   "metadata": {},
   "outputs": [
    {
     "data": {
      "text/plain": [
       "RandomForestRegressor(bootstrap=True, criterion='mse', max_depth=50,\n",
       "           max_features='sqrt', max_leaf_nodes=None,\n",
       "           min_impurity_split=1e-07, min_samples_leaf=1,\n",
       "           min_samples_split=10, min_weight_fraction_leaf=0.0,\n",
       "           n_estimators=50, n_jobs=1, oob_score=False, random_state=42,\n",
       "           verbose=0, warm_start=False)"
      ]
     },
     "execution_count": 123,
     "metadata": {},
     "output_type": "execute_result"
    }
   ],
   "source": [
    "rf_1.fit(X,y)"
   ]
  },
  {
   "cell_type": "code",
   "execution_count": 125,
   "metadata": {},
   "outputs": [
    {
     "name": "stdout",
     "output_type": "stream",
     "text": [
      "('Test data RMSE', 4.1217321176442416)\n"
     ]
    }
   ],
   "source": [
    "# Test the data\n",
    "y_2_pred_test = rf_1.predict(X_test)\n",
    "rf_1_mse_test = mean_squared_error(y_2_pred_test, y_test)\n",
    "print(\"Test data RMSE\", np.sqrt(rf_1_mse_test))  # 4.1217321176442416"
   ]
  },
  {
   "cell_type": "markdown",
   "metadata": {},
   "source": [
    "### Use neural network"
   ]
  },
  {
   "cell_type": "code",
   "execution_count": 126,
   "metadata": {},
   "outputs": [
    {
     "name": "stderr",
     "output_type": "stream",
     "text": [
      "Using TensorFlow backend.\n"
     ]
    }
   ],
   "source": [
    "from keras.models import Sequential\n",
    "from keras.layers import Dense"
   ]
  },
  {
   "cell_type": "code",
   "execution_count": 127,
   "metadata": {
    "collapsed": true
   },
   "outputs": [],
   "source": [
    "nn_1 = Sequential()\n",
    "nn_1.add(Dense(8, input_dim = len(data_train_table.iloc[:,:-1].columns), activation = 'relu'))\n",
    "nn_1.add(Dense(8, activation = 'relu'))\n",
    "nn_1.add(Dense(1, activation = 'linear'))\n",
    "nn_1.compile(loss = 'mean_squared_error', optimizer = 'adam')"
   ]
  },
  {
   "cell_type": "code",
   "execution_count": 128,
   "metadata": {},
   "outputs": [
    {
     "data": {
      "text/plain": [
       "<keras.callbacks.History at 0x13c2b8390>"
      ]
     },
     "execution_count": 128,
     "metadata": {},
     "output_type": "execute_result"
    }
   ],
   "source": [
    "nn_1.fit(X_train, y_train, epochs = 100, verbose = 0)"
   ]
  },
  {
   "cell_type": "code",
   "execution_count": 129,
   "metadata": {
    "collapsed": true
   },
   "outputs": [],
   "source": [
    "y_3_pred_train = nn_1.predict(X_train)"
   ]
  },
  {
   "cell_type": "code",
   "execution_count": 130,
   "metadata": {},
   "outputs": [
    {
     "name": "stdout",
     "output_type": "stream",
     "text": [
      "('Train data RMSE', 2.1508592273123686)\n"
     ]
    }
   ],
   "source": [
    "nn_1_mse_train = mean_squared_error(y_3_pred_train, y_train)\n",
    "print (\"Train data RMSE\", np.sqrt(nn_1_mse_train))"
   ]
  },
  {
   "cell_type": "code",
   "execution_count": 131,
   "metadata": {
    "collapsed": true
   },
   "outputs": [],
   "source": [
    "y_3_pred_validate = nn_1.predict(X_vali)"
   ]
  },
  {
   "cell_type": "code",
   "execution_count": 133,
   "metadata": {},
   "outputs": [
    {
     "name": "stdout",
     "output_type": "stream",
     "text": [
      "('Validate data RMSE', 1.6167286768353721)\n"
     ]
    }
   ],
   "source": [
    "nn_1_mse_validate = mean_squared_error(y_3_pred_validate, y_vali)\n",
    "print (\"Validate data RMSE\", np.sqrt(nn_1_mse_validate))"
   ]
  },
  {
   "cell_type": "code",
   "execution_count": 134,
   "metadata": {},
   "outputs": [
    {
     "data": {
      "text/plain": [
       "<keras.callbacks.History at 0x10902bed0>"
      ]
     },
     "execution_count": 134,
     "metadata": {},
     "output_type": "execute_result"
    }
   ],
   "source": [
    "nn_1.fit(X, y, epochs = 100, verbose = 0)"
   ]
  },
  {
   "cell_type": "code",
   "execution_count": 135,
   "metadata": {
    "collapsed": true
   },
   "outputs": [],
   "source": [
    "y_4_pred_test = nn_1.predict(X_test)"
   ]
  },
  {
   "cell_type": "code",
   "execution_count": 136,
   "metadata": {},
   "outputs": [
    {
     "name": "stdout",
     "output_type": "stream",
     "text": [
      "('Test data RMSE', 4.112976661278795)\n"
     ]
    }
   ],
   "source": [
    "nn_1_mse_test = mean_squared_error(y_4_pred_test, y_test)\n",
    "print (\"Test data RMSE\", np.sqrt(nn_1_mse_test))   # 4.112976661278795"
   ]
  },
  {
   "cell_type": "markdown",
   "metadata": {},
   "source": [
    "### RandomForest is a good estimator. I will do grid search using RandomForest model."
   ]
  },
  {
   "cell_type": "code",
   "execution_count": 138,
   "metadata": {},
   "outputs": [],
   "source": [
    "from sklearn.model_selection import GridSearchCV"
   ]
  },
  {
   "cell_type": "code",
   "execution_count": 139,
   "metadata": {
    "collapsed": true
   },
   "outputs": [],
   "source": [
    "param_1 = {\n",
    "    'n_estimators': [20, 50, 80],\n",
    "    'max_features':['auto','sqrt','log2',None]\n",
    "}"
   ]
  },
  {
   "cell_type": "code",
   "execution_count": 140,
   "metadata": {
    "collapsed": true
   },
   "outputs": [],
   "source": [
    "rf = RandomForestRegressor(n_estimators = 50, max_depth = 50,\n",
    "                            max_features = 'sqrt',\n",
    "                            min_samples_split = 10,\n",
    "                            min_samples_leaf = 1,\n",
    "                            random_state = 42)"
   ]
  },
  {
   "cell_type": "code",
   "execution_count": 141,
   "metadata": {
    "collapsed": true
   },
   "outputs": [],
   "source": [
    "rf_grid_1 = GridSearchCV(rf, param_1, scoring = 'neg_mean_squared_error',cv = 3)"
   ]
  },
  {
   "cell_type": "code",
   "execution_count": 142,
   "metadata": {},
   "outputs": [
    {
     "data": {
      "text/plain": [
       "GridSearchCV(cv=3, error_score='raise',\n",
       "       estimator=RandomForestRegressor(bootstrap=True, criterion='mse', max_depth=50,\n",
       "           max_features='sqrt', max_leaf_nodes=None,\n",
       "           min_impurity_split=1e-07, min_samples_leaf=1,\n",
       "           min_samples_split=10, min_weight_fraction_leaf=0.0,\n",
       "           n_estimators=50, n_jobs=1, oob_score=False, random_state=42,\n",
       "           verbose=0, warm_start=False),\n",
       "       fit_params={}, iid=True, n_jobs=1,\n",
       "       param_grid={'n_estimators': [20, 50, 80], 'max_features': ['auto', 'sqrt', 'log2', None]},\n",
       "       pre_dispatch='2*n_jobs', refit=True, return_train_score=True,\n",
       "       scoring='neg_mean_squared_error', verbose=0)"
      ]
     },
     "execution_count": 142,
     "metadata": {},
     "output_type": "execute_result"
    }
   ],
   "source": [
    "rf_grid_1.fit(X, y)"
   ]
  },
  {
   "cell_type": "code",
   "execution_count": 143,
   "metadata": {},
   "outputs": [
    {
     "name": "stdout",
     "output_type": "stream",
     "text": [
      "-4.9022547672 {'max_features': 'sqrt', 'n_estimators': 80}\n"
     ]
    }
   ],
   "source": [
    "print rf_grid_1.best_score_, rf_grid_1.best_params_ "
   ]
  },
  {
   "cell_type": "code",
   "execution_count": 144,
   "metadata": {
    "collapsed": true
   },
   "outputs": [],
   "source": [
    "rf_2 = RandomForestRegressor(n_estimators = 80, max_depth = 50,\n",
    "                            max_features = 'sqrt',\n",
    "                            min_samples_split = 10,\n",
    "                            min_samples_leaf = 1,\n",
    "                            random_state = 42)"
   ]
  },
  {
   "cell_type": "code",
   "execution_count": 146,
   "metadata": {},
   "outputs": [
    {
     "name": "stdout",
     "output_type": "stream",
     "text": [
      "('Test data RMSE', 4.1161460730516053)\n"
     ]
    }
   ],
   "source": [
    "# Test the data\n",
    "rf_2.fit(X, y)\n",
    "y_5_pred_test = rf_2.predict(X_test)\n",
    "rf_2_mse_test = mean_squared_error(y_5_pred_test, y_test)\n",
    "print(\"Test data RMSE\", np.sqrt(rf_2_mse_test))  # 4.1161460730516053"
   ]
  },
  {
   "cell_type": "code",
   "execution_count": 147,
   "metadata": {
    "collapsed": true
   },
   "outputs": [],
   "source": [
    "param_2 = {\n",
    "    'max_depth': [10,20,50,80],\n",
    "    'min_samples_split': [2, 5, 10],\n",
    "    'min_samples_leaf': [1, 2, 4, 10]\n",
    "}"
   ]
  },
  {
   "cell_type": "code",
   "execution_count": 148,
   "metadata": {
    "collapsed": true
   },
   "outputs": [],
   "source": [
    "rf_grid_2 = GridSearchCV(rf_2, param_2, scoring = 'neg_mean_squared_error',cv = 3)"
   ]
  },
  {
   "cell_type": "code",
   "execution_count": 149,
   "metadata": {},
   "outputs": [
    {
     "data": {
      "text/plain": [
       "GridSearchCV(cv=3, error_score='raise',\n",
       "       estimator=RandomForestRegressor(bootstrap=True, criterion='mse', max_depth=50,\n",
       "           max_features='sqrt', max_leaf_nodes=None,\n",
       "           min_impurity_split=1e-07, min_samples_leaf=1,\n",
       "           min_samples_split=10, min_weight_fraction_leaf=0.0,\n",
       "           n_estimators=80, n_jobs=1, oob_score=False, random_state=42,\n",
       "           verbose=0, warm_start=False),\n",
       "       fit_params={}, iid=True, n_jobs=1,\n",
       "       param_grid={'min_samples_split': [2, 5, 10], 'max_depth': [10, 20, 50, 80], 'min_samples_leaf': [1, 2, 4, 10]},\n",
       "       pre_dispatch='2*n_jobs', refit=True, return_train_score=True,\n",
       "       scoring='neg_mean_squared_error', verbose=0)"
      ]
     },
     "execution_count": 149,
     "metadata": {},
     "output_type": "execute_result"
    }
   ],
   "source": [
    "rf_grid_2.fit(X, y)"
   ]
  },
  {
   "cell_type": "code",
   "execution_count": 150,
   "metadata": {},
   "outputs": [
    {
     "name": "stdout",
     "output_type": "stream",
     "text": [
      "-4.72066745909 {'min_samples_split': 2, 'max_depth': 10, 'min_samples_leaf': 2}\n"
     ]
    }
   ],
   "source": [
    "print rf_grid_2.best_score_, rf_grid_2.best_params_ "
   ]
  },
  {
   "cell_type": "code",
   "execution_count": 151,
   "metadata": {
    "collapsed": true
   },
   "outputs": [],
   "source": [
    "rf_3 = RandomForestRegressor(n_estimators = 80, max_depth = 10,\n",
    "                            max_features = 'sqrt',\n",
    "                            min_samples_split = 2,\n",
    "                            min_samples_leaf = 2,\n",
    "                            random_state = 42)"
   ]
  },
  {
   "cell_type": "code",
   "execution_count": 152,
   "metadata": {},
   "outputs": [
    {
     "data": {
      "text/plain": [
       "RandomForestRegressor(bootstrap=True, criterion='mse', max_depth=10,\n",
       "           max_features='sqrt', max_leaf_nodes=None,\n",
       "           min_impurity_split=1e-07, min_samples_leaf=2,\n",
       "           min_samples_split=2, min_weight_fraction_leaf=0.0,\n",
       "           n_estimators=80, n_jobs=1, oob_score=False, random_state=42,\n",
       "           verbose=0, warm_start=False)"
      ]
     },
     "execution_count": 152,
     "metadata": {},
     "output_type": "execute_result"
    }
   ],
   "source": [
    "rf_3.fit(X,y)"
   ]
  },
  {
   "cell_type": "code",
   "execution_count": 153,
   "metadata": {},
   "outputs": [
    {
     "name": "stdout",
     "output_type": "stream",
     "text": [
      "('Test data RMSE', 4.1040812273190106)\n"
     ]
    }
   ],
   "source": [
    "# Test the data\n",
    "y_6_pred_test = rf_3.predict(X_test)\n",
    "rf_3_mse_test = mean_squared_error(y_6_pred_test, y_test)\n",
    "print(\"Test data RMSE\", np.sqrt(rf_3_mse_test))  # 4.1040812273190106"
   ]
  },
  {
   "cell_type": "code",
   "execution_count": 189,
   "metadata": {},
   "outputs": [
    {
     "data": {
      "text/plain": [
       "count    216582.000000\n",
       "mean          0.249716\n",
       "std           2.329625\n",
       "min           0.000000\n",
       "25%           0.000000\n",
       "50%           0.000000\n",
       "75%           0.000000\n",
       "max         629.000000\n",
       "Name: lag_1_q, dtype: float64"
      ]
     },
     "execution_count": 189,
     "metadata": {},
     "output_type": "execute_result"
    }
   ],
   "source": [
    "data_train_table.iloc[:,-1].describe()  \n",
    "#take a look at the demand of the most recent month in training set"
   ]
  },
  {
   "cell_type": "markdown",
   "metadata": {},
   "source": [
    "### We want to convert our predictions into integers. Considering the adjustment of demand in 30 days, we want to consider the demand in 31 days (since the month we want to predict is March 2013)."
   ]
  },
  {
   "cell_type": "code",
   "execution_count": 199,
   "metadata": {},
   "outputs": [
    {
     "data": {
      "text/html": [
       "<div>\n",
       "<style>\n",
       "    .dataframe thead tr:only-child th {\n",
       "        text-align: right;\n",
       "    }\n",
       "\n",
       "    .dataframe thead th {\n",
       "        text-align: left;\n",
       "    }\n",
       "\n",
       "    .dataframe tbody tr th {\n",
       "        vertical-align: top;\n",
       "    }\n",
       "</style>\n",
       "<table border=\"1\" class=\"dataframe\">\n",
       "  <thead>\n",
       "    <tr style=\"text-align: right;\">\n",
       "      <th></th>\n",
       "      <th>prediction</th>\n",
       "    </tr>\n",
       "  </thead>\n",
       "  <tbody>\n",
       "    <tr>\n",
       "      <th>count</th>\n",
       "      <td>216582.000000</td>\n",
       "    </tr>\n",
       "    <tr>\n",
       "      <th>mean</th>\n",
       "      <td>0.263064</td>\n",
       "    </tr>\n",
       "    <tr>\n",
       "      <th>std</th>\n",
       "      <td>0.828917</td>\n",
       "    </tr>\n",
       "    <tr>\n",
       "      <th>min</th>\n",
       "      <td>0.020111</td>\n",
       "    </tr>\n",
       "    <tr>\n",
       "      <th>25%</th>\n",
       "      <td>0.040997</td>\n",
       "    </tr>\n",
       "    <tr>\n",
       "      <th>50%</th>\n",
       "      <td>0.044392</td>\n",
       "    </tr>\n",
       "    <tr>\n",
       "      <th>75%</th>\n",
       "      <td>0.045981</td>\n",
       "    </tr>\n",
       "    <tr>\n",
       "      <th>max</th>\n",
       "      <td>115.831039</td>\n",
       "    </tr>\n",
       "  </tbody>\n",
       "</table>\n",
       "</div>"
      ],
      "text/plain": [
       "          prediction\n",
       "count  216582.000000\n",
       "mean        0.263064\n",
       "std         0.828917\n",
       "min         0.020111\n",
       "25%         0.040997\n",
       "50%         0.044392\n",
       "75%         0.045981\n",
       "max       115.831039"
      ]
     },
     "execution_count": 199,
     "metadata": {},
     "output_type": "execute_result"
    }
   ],
   "source": [
    "best_prediction = pd.DataFrame({'prediction': y_6_pred_test/30*31})\n",
    "best_prediction.describe()"
   ]
  },
  {
   "cell_type": "code",
   "execution_count": 198,
   "metadata": {},
   "outputs": [
    {
     "data": {
      "text/html": [
       "<div>\n",
       "<style>\n",
       "    .dataframe thead tr:only-child th {\n",
       "        text-align: right;\n",
       "    }\n",
       "\n",
       "    .dataframe thead th {\n",
       "        text-align: left;\n",
       "    }\n",
       "\n",
       "    .dataframe tbody tr th {\n",
       "        vertical-align: top;\n",
       "    }\n",
       "</style>\n",
       "<table border=\"1\" class=\"dataframe\">\n",
       "  <thead>\n",
       "    <tr style=\"text-align: right;\">\n",
       "      <th></th>\n",
       "      <th>real values</th>\n",
       "    </tr>\n",
       "  </thead>\n",
       "  <tbody>\n",
       "    <tr>\n",
       "      <th>count</th>\n",
       "      <td>216582.000000</td>\n",
       "    </tr>\n",
       "    <tr>\n",
       "      <th>mean</th>\n",
       "      <td>0.260442</td>\n",
       "    </tr>\n",
       "    <tr>\n",
       "      <th>std</th>\n",
       "      <td>4.319536</td>\n",
       "    </tr>\n",
       "    <tr>\n",
       "      <th>min</th>\n",
       "      <td>0.000000</td>\n",
       "    </tr>\n",
       "    <tr>\n",
       "      <th>25%</th>\n",
       "      <td>0.000000</td>\n",
       "    </tr>\n",
       "    <tr>\n",
       "      <th>50%</th>\n",
       "      <td>0.000000</td>\n",
       "    </tr>\n",
       "    <tr>\n",
       "      <th>75%</th>\n",
       "      <td>0.000000</td>\n",
       "    </tr>\n",
       "    <tr>\n",
       "      <th>max</th>\n",
       "      <td>1742.000000</td>\n",
       "    </tr>\n",
       "  </tbody>\n",
       "</table>\n",
       "</div>"
      ],
      "text/plain": [
       "         real values\n",
       "count  216582.000000\n",
       "mean        0.260442\n",
       "std         4.319536\n",
       "min         0.000000\n",
       "25%         0.000000\n",
       "50%         0.000000\n",
       "75%         0.000000\n",
       "max      1742.000000"
      ]
     },
     "execution_count": 198,
     "metadata": {},
     "output_type": "execute_result"
    }
   ],
   "source": [
    "real_value = pd.DataFrame({'real values': y_test/30*31})\n",
    "real_value.describe()"
   ]
  },
  {
   "cell_type": "markdown",
   "metadata": {},
   "source": [
    "### Our predictions result from machine learning modeling is just slightly better than taking average of the most recent demand."
   ]
  },
  {
   "cell_type": "code",
   "execution_count": 204,
   "metadata": {
    "collapsed": true
   },
   "outputs": [],
   "source": [
    "import math"
   ]
  },
  {
   "cell_type": "code",
   "execution_count": 210,
   "metadata": {},
   "outputs": [
    {
     "data": {
      "text/plain": [
       "116.0"
      ]
     },
     "execution_count": 210,
     "metadata": {},
     "output_type": "execute_result"
    }
   ],
   "source": [
    "math.ceil(115.81039)"
   ]
  },
  {
   "cell_type": "code",
   "execution_count": 211,
   "metadata": {
    "collapsed": true
   },
   "outputs": [],
   "source": [
    "y_test_adjusted = y_test/30*31      "
   ]
  },
  {
   "cell_type": "code",
   "execution_count": 245,
   "metadata": {
    "collapsed": true
   },
   "outputs": [],
   "source": [
    "y_mean_zero = [0]*len(y_test)"
   ]
  },
  {
   "cell_type": "code",
   "execution_count": 246,
   "metadata": {},
   "outputs": [
    {
     "data": {
      "text/plain": [
       "4.3273700375785724"
      ]
     },
     "execution_count": 246,
     "metadata": {},
     "output_type": "execute_result"
    }
   ],
   "source": [
    "np.sqrt(mean_squared_error(y_mean_zero, y_test/30*31))  # 4.3273700375785724\n",
    "## our predictions results from modeling is just slightly better than taking average of the most recent demand."
   ]
  },
  {
   "cell_type": "code",
   "execution_count": 247,
   "metadata": {
    "collapsed": true
   },
   "outputs": [],
   "source": [
    "y_mean_ones = [1]*len(y_test)"
   ]
  },
  {
   "cell_type": "code",
   "execution_count": 248,
   "metadata": {},
   "outputs": [
    {
     "data": {
      "text/plain": [
       "4.3823792506891124"
      ]
     },
     "execution_count": 248,
     "metadata": {},
     "output_type": "execute_result"
    }
   ],
   "source": [
    "np.sqrt(mean_squared_error(y_mean_ones, y_test/30*31))  # 4.3823792506891124\n",
    "## our predictions results from modeling is just slightly better than taking average of the most recent demand."
   ]
  },
  {
   "cell_type": "code",
   "execution_count": 235,
   "metadata": {},
   "outputs": [],
   "source": [
    "y_pred_adjusted = []\n",
    "for i in range(len(y_6_pred_test)):\n",
    "    y_pred_adjusted.append(round(y_6_pred_test[i]/30*31))"
   ]
  },
  {
   "cell_type": "code",
   "execution_count": 236,
   "metadata": {},
   "outputs": [
    {
     "data": {
      "text/html": [
       "<div>\n",
       "<style>\n",
       "    .dataframe thead tr:only-child th {\n",
       "        text-align: right;\n",
       "    }\n",
       "\n",
       "    .dataframe thead th {\n",
       "        text-align: left;\n",
       "    }\n",
       "\n",
       "    .dataframe tbody tr th {\n",
       "        vertical-align: top;\n",
       "    }\n",
       "</style>\n",
       "<table border=\"1\" class=\"dataframe\">\n",
       "  <thead>\n",
       "    <tr style=\"text-align: right;\">\n",
       "      <th></th>\n",
       "      <th>prediction adjusted</th>\n",
       "    </tr>\n",
       "  </thead>\n",
       "  <tbody>\n",
       "    <tr>\n",
       "      <th>count</th>\n",
       "      <td>216582.000000</td>\n",
       "    </tr>\n",
       "    <tr>\n",
       "      <th>mean</th>\n",
       "      <td>0.199499</td>\n",
       "    </tr>\n",
       "    <tr>\n",
       "      <th>std</th>\n",
       "      <td>0.818678</td>\n",
       "    </tr>\n",
       "    <tr>\n",
       "      <th>min</th>\n",
       "      <td>0.000000</td>\n",
       "    </tr>\n",
       "    <tr>\n",
       "      <th>25%</th>\n",
       "      <td>0.000000</td>\n",
       "    </tr>\n",
       "    <tr>\n",
       "      <th>50%</th>\n",
       "      <td>0.000000</td>\n",
       "    </tr>\n",
       "    <tr>\n",
       "      <th>75%</th>\n",
       "      <td>0.000000</td>\n",
       "    </tr>\n",
       "    <tr>\n",
       "      <th>max</th>\n",
       "      <td>116.000000</td>\n",
       "    </tr>\n",
       "  </tbody>\n",
       "</table>\n",
       "</div>"
      ],
      "text/plain": [
       "       prediction adjusted\n",
       "count        216582.000000\n",
       "mean              0.199499\n",
       "std               0.818678\n",
       "min               0.000000\n",
       "25%               0.000000\n",
       "50%               0.000000\n",
       "75%               0.000000\n",
       "max             116.000000"
      ]
     },
     "execution_count": 236,
     "metadata": {},
     "output_type": "execute_result"
    }
   ],
   "source": [
    "prediction_adjusted = pd.DataFrame({'prediction adjusted': y_pred_adjusted})\n",
    "prediction_adjusted.describe()"
   ]
  },
  {
   "cell_type": "code",
   "execution_count": 238,
   "metadata": {},
   "outputs": [
    {
     "data": {
      "text/plain": [
       "4.243388814932854"
      ]
     },
     "execution_count": 238,
     "metadata": {},
     "output_type": "execute_result"
    }
   ],
   "source": [
    "np.sqrt(mean_squared_error(y_pred_adjusted, y_test_adjusted)) #4.243388814932854"
   ]
  },
  {
   "cell_type": "code",
   "execution_count": 249,
   "metadata": {},
   "outputs": [
    {
     "data": {
      "text/plain": [
       "0.9682842520454151"
      ]
     },
     "execution_count": 249,
     "metadata": {},
     "output_type": "execute_result"
    }
   ],
   "source": [
    "4.243388814932854/4.3823792506891124"
   ]
  },
  {
   "cell_type": "code",
   "execution_count": 250,
   "metadata": {},
   "outputs": [
    {
     "data": {
      "image/png": "[encoded data removed]",
      "text/plain": [
       "<matplotlib.figure.Figure at 0x1416add90>"
      ]
     },
     "metadata": {},
     "output_type": "display_data"
    }
   ],
   "source": [
    "plt.plot(y_test_adjusted)\n",
    "plt.plot(y_pred_adjusted, color = 'red')\n",
    "plt.show()"
   ]
  },
  {
   "cell_type": "code",
   "execution_count": 274,
   "metadata": {},
   "outputs": [
    {
     "name": "stdout",
     "output_type": "stream",
     "text": [
      "29613 548 140 32 7 1\n"
     ]
    }
   ],
   "source": [
    "count_1 = 0 \n",
    "count_5 = 0\n",
    "count_10 = 0\n",
    "count_20 = 0\n",
    "count_50 = 0\n",
    "count_100 = 0\n",
    "for i in range(len(y_pred_adjusted)):\n",
    "    if y_pred_adjusted[i] >= 1:\n",
    "        count_1 += 1\n",
    "    if y_pred_adjusted[i] >= 5:\n",
    "        count_5 += 1\n",
    "    if y_pred_adjusted[i] >= 10:\n",
    "        count_10 += 1\n",
    "    if y_pred_adjusted[i] >= 20:\n",
    "        count_20 += 1\n",
    "    if y_pred_adjusted[i] >= 50:\n",
    "        count_50 += 1\n",
    "    if y_pred_adjusted[i] >= 100:\n",
    "        count_100 += 1\n",
    "print count_1, count_5, count_10, count_20, count_50, count_100"
   ]
  },
  {
   "cell_type": "code",
   "execution_count": 275,
   "metadata": {},
   "outputs": [
    {
     "name": "stdout",
     "output_type": "stream",
     "text": [
      "29322 1469 371 92 25 12\n"
     ]
    }
   ],
   "source": [
    "count_1 = 0\n",
    "count_5 = 0\n",
    "count_10 = 0\n",
    "count_20 = 0\n",
    "count_50 = 0\n",
    "count_100 = 0\n",
    "for i in range(len(y_test_adjusted)):\n",
    "    if y_test_adjusted[i] >= 1:\n",
    "        count_1 += 1\n",
    "    if y_test_adjusted[i] >= 5:\n",
    "        count_5 += 1\n",
    "    if y_test_adjusted[i] >= 10:\n",
    "        count_10 += 1\n",
    "    if y_test_adjusted[i] >= 20:\n",
    "        count_20 += 1\n",
    "    if y_test_adjusted[i] >= 50:\n",
    "        count_50 += 1\n",
    "    if y_test_adjusted[i] >= 100:\n",
    "        count_100 += 1\n",
    "print count_1, count_5, count_10, count_20, count_50, count_100"
   ]
  },
  {
   "cell_type": "code",
   "execution_count": 253,
   "metadata": {},
   "outputs": [
    {
     "name": "stdout",
     "output_type": "stream",
     "text": [
      "186969\n"
     ]
    }
   ],
   "source": [
    "count_true_zeros = 0\n",
    "for i in range(len(y_test_adjusted)):\n",
    "    if y_test_adjusted[i] == 0 and y_pred_adjusted[i] == 0:\n",
    "        count_true_zeros += 1\n",
    "print count_true_zeros"
   ]
  },
  {
   "cell_type": "code",
   "execution_count": 276,
   "metadata": {},
   "outputs": [
    {
     "name": "stdout",
     "output_type": "stream",
     "text": [
      "29322\n"
     ]
    }
   ],
   "source": [
    "count_true_nonzeros = 0\n",
    "for i in range(len(y_test_adjusted)):\n",
    "    if y_test_adjusted[i] > 0 and y_pred_adjusted[i] > 0:\n",
    "        count_true_nonzeros += 1\n",
    "print count_true_nonzeros"
   ]
  },
  {
   "cell_type": "code",
   "execution_count": 285,
   "metadata": {},
   "outputs": [
    {
     "name": "stdout",
     "output_type": "stream",
     "text": [
      "296\n"
     ]
    }
   ],
   "source": [
    "count_true_fives = 0\n",
    "for i in range(len(y_test_adjusted)):\n",
    "    if y_test_adjusted[i] >= 5 and y_pred_adjusted[i] >= 5:\n",
    "        count_true_fives += 1\n",
    "print count_true_fives"
   ]
  },
  {
   "cell_type": "code",
   "execution_count": 286,
   "metadata": {},
   "outputs": [
    {
     "name": "stdout",
     "output_type": "stream",
     "text": [
      "64\n"
     ]
    }
   ],
   "source": [
    "count_true_tens = 0\n",
    "for i in range(len(y_test_adjusted)):\n",
    "    if y_test_adjusted[i] >= 10 and y_pred_adjusted[i] >= 10:\n",
    "        count_true_tens += 1\n",
    "print count_true_tens"
   ]
  },
  {
   "cell_type": "code",
   "execution_count": 277,
   "metadata": {},
   "outputs": [
    {
     "name": "stdout",
     "output_type": "stream",
     "text": [
      "187260\n"
     ]
    }
   ],
   "source": [
    "count_0 = 0\n",
    "for i in range(len(y_test_adjusted)):\n",
    "    if y_test_adjusted[i] == 0:\n",
    "        count_0 += 1\n",
    "print count_0"
   ]
  },
  {
   "cell_type": "code",
   "execution_count": 278,
   "metadata": {},
   "outputs": [
    {
     "name": "stdout",
     "output_type": "stream",
     "text": [
      "186969\n"
     ]
    }
   ],
   "source": [
    "count_0 = 0\n",
    "for i in range(len(y_pred_adjusted)):\n",
    "    if y_pred_adjusted[i] == 0:\n",
    "        count_0 += 1\n",
    "print count_0"
   ]
  },
  {
   "cell_type": "code",
   "execution_count": 279,
   "metadata": {},
   "outputs": [
    {
     "data": {
      "text/plain": [
       "216582"
      ]
     },
     "execution_count": 279,
     "metadata": {},
     "output_type": "execute_result"
    }
   ],
   "source": [
    "len(y_test_adjusted)  # number of data"
   ]
  },
  {
   "cell_type": "code",
   "execution_count": 280,
   "metadata": {},
   "outputs": [
    {
     "data": {
      "text/plain": [
       "0.8646147879325151"
      ]
     },
     "execution_count": 280,
     "metadata": {},
     "output_type": "execute_result"
    }
   ],
   "source": [
    "float(187260)/216582   # zero demand percentage in real values"
   ]
  },
  {
   "cell_type": "code",
   "execution_count": 283,
   "metadata": {},
   "outputs": [
    {
     "data": {
      "text/plain": [
       "0.9984460108939442"
      ]
     },
     "execution_count": 283,
     "metadata": {},
     "output_type": "execute_result"
    }
   ],
   "source": [
    "float(186969) / 187260  # percentage of correctly predicted zero demand"
   ]
  },
  {
   "cell_type": "code",
   "execution_count": 284,
   "metadata": {},
   "outputs": [
    {
     "data": {
      "text/plain": [
       "1"
      ]
     },
     "execution_count": 284,
     "metadata": {},
     "output_type": "execute_result"
    }
   ],
   "source": [
    "29322 / 29322 # percentage of correctly predicted nonzero demand"
   ]
  },
  {
   "cell_type": "code",
   "execution_count": 296,
   "metadata": {},
   "outputs": [
    {
     "name": "stdout",
     "output_type": "stream",
     "text": [
      "11.497094113\n"
     ]
    }
   ],
   "source": [
    "y_test_positive = []\n",
    "y_pred_positive = []\n",
    "for i in range(len(y_test_adjusted)):\n",
    "    if y_test_adjusted[i] > 0:\n",
    "        y_test_positive.append(y_test_adjusted[i])\n",
    "        y_pred_positive.append(y_pred_adjusted[i])\n",
    "print np.sqrt(mean_squared_error(y_test_positive, y_pred_positive))"
   ]
  },
  {
   "cell_type": "code",
   "execution_count": 303,
   "metadata": {},
   "outputs": [
    {
     "name": "stdout",
     "output_type": "stream",
     "text": [
      " 1742.0 1.0 1.92370916036 11.6024458539\n"
     ]
    }
   ],
   "source": [
    "print max(y_test_positive), min(y_test_positive), sum(y_test_positive)/float(len(y_test_positive)),np.std(y_test_positive)"
   ]
  },
  {
   "cell_type": "code",
   "execution_count": 306,
   "metadata": {},
   "outputs": [
    {
     "name": "stdout",
     "output_type": "stream",
     "text": [
      "116.0 1.0 1.44273924016 1.5314536301\n"
     ]
    }
   ],
   "source": [
    "print max(y_pred_positive), min(y_pred_positive),sum(y_pred_positive)/float(len(y_pred_positive)), np.std(y_pred_positive)"
   ]
  },
  {
   "cell_type": "code",
   "execution_count": 308,
   "metadata": {},
   "outputs": [
    {
     "data": {
      "text/plain": [
       "11.602445853856965"
      ]
     },
     "execution_count": 308,
     "metadata": {},
     "output_type": "execute_result"
    }
   ],
   "source": [
    "np.sqrt(mean_squared_error([1.92370916036]*len(y_test_positive),y_test_positive ))"
   ]
  },
  {
   "cell_type": "code",
   "execution_count": 310,
   "metadata": {},
   "outputs": [
    {
     "data": {
      "text/plain": [
       "29322"
      ]
     },
     "execution_count": 310,
     "metadata": {},
     "output_type": "execute_result"
    }
   ],
   "source": [
    "len(y_test_positive)"
   ]
  },
  {
   "cell_type": "markdown",
   "metadata": {},
   "source": [
    "### As we can compare from prediction and true values, the reason that RMSE of our predictions is not significantly better than RMSE of taking the smallest integer greater than the mean of previous demand, or simply the RMSE of assuming zero demand for all products is that our modeling cannot predict unusal large values. The unusal sales with large values can be random, hence is unexpected and hard to predict.\n",
    "### However in our model we are able to correct predict the zero demand products."
   ]
  },
  {
   "cell_type": "markdown",
   "metadata": {},
   "source": [
    "### Now I plot the feature importances of the Random Forest model."
   ]
  },
  {
   "cell_type": "code",
   "execution_count": 287,
   "metadata": {
    "collapsed": true
   },
   "outputs": [],
   "source": [
    "best_rf_model = rf_3.fit(X,y)"
   ]
  },
  {
   "cell_type": "code",
   "execution_count": 288,
   "metadata": {
    "collapsed": true
   },
   "outputs": [],
   "source": [
    "def plot_top_importance(model):\n",
    "    plt.style.use('fivethirtyeight')\n",
    "    ax = pd.DataFrame({'importance': model.feature_importances_},\n",
    "                     index = data_train_table.iloc[:,0:-1].columns).sort_values('importance',\n",
    "                     ascending = True).tail(10).plot(kind = 'barh', legend = False,\n",
    "                                                    figsize = (20, 10),\n",
    "                                                    fontsize = 17,\n",
    "                                                    title = 'Top 10 most important features')\n",
    "    ax.tick_params(axis = 'x', colors = 'pink')\n",
    "    ax.tick_params(axis = 'y', colors = 'blue')\n",
    "    plt.tight_layout()"
   ]
  },
  {
   "cell_type": "code",
   "execution_count": 289,
   "metadata": {
    "collapsed": true
   },
   "outputs": [],
   "source": [
    "def plot_least_importance(model):\n",
    "    plt.style.use('fivethirtyeight')\n",
    "    ax = pd.DataFrame({'importance': model.feature_importances_},\n",
    "                     index = data_train_table.iloc[:,0:-1].columns).sort_values('importance',\n",
    "                     ascending = False).tail(10).plot(kind = 'barh', legend = False,\n",
    "                                                    figsize = (20, 10),\n",
    "                                                    fontsize = 17,\n",
    "                                                    title = 'Top 10 least important features')\n",
    "    ax.tick_params(axis = 'x', colors = 'pink')\n",
    "    ax.tick_params(axis = 'y', colors = 'blue')\n",
    "    plt.tight_layout()"
   ]
  },
  {
   "cell_type": "markdown",
   "metadata": {},
   "source": [
    "### By observing feature importance, we found that the current price, demand 11 months ago, demand 5 months ago and demand 1 month ago are most important features in predicting current demand. Those demand values correspond to current month's coming month(a year ago)'s demand, half a year's ago's demand, previous month's demand."
   ]
  },
  {
   "cell_type": "code",
   "execution_count": 290,
   "metadata": {},
   "outputs": [
    {
     "data": {
      "image/png": "[encoded data removed]",
      "text/plain": [
       "<matplotlib.figure.Figure at 0x169b55890>"
      ]
     },
     "metadata": {},
     "output_type": "display_data"
    }
   ],
   "source": [
    "plot_top_importance(best_rf_model)"
   ]
  },
  {
   "cell_type": "code",
   "execution_count": 291,
   "metadata": {},
   "outputs": [
    {
     "data": {
      "image/png": "[encoded data removed]",
      "text/plain": [
       "<matplotlib.figure.Figure at 0x169f2a310>"
      ]
     },
     "metadata": {},
     "output_type": "display_data"
    }
   ],
   "source": [
    "plot_least_importance(best_rf_model)"
   ]
  },
  {
   "cell_type": "markdown",
   "metadata": {},
   "source": [
    "### If we just include the most recent price information."
   ]
  },
  {
   "cell_type": "code",
   "execution_count": 292,
   "metadata": {},
   "outputs": [],
   "source": [
    "X_smaller = data_train_table.iloc[:,11:-1].values"
   ]
  },
  {
   "cell_type": "code",
   "execution_count": 293,
   "metadata": {
    "collapsed": true
   },
   "outputs": [],
   "source": [
    "X_test_smaller = data_test_table.iloc[:,11:-1].values"
   ]
  },
  {
   "cell_type": "code",
   "execution_count": 294,
   "metadata": {},
   "outputs": [],
   "source": [
    "best_rf_model = rf_3.fit(X_smaller,y)"
   ]
  },
  {
   "cell_type": "code",
   "execution_count": 295,
   "metadata": {},
   "outputs": [
    {
     "name": "stdout",
     "output_type": "stream",
     "text": [
      "('Test data RMSE', 4.104518302404065)\n"
     ]
    }
   ],
   "source": [
    "# Test the data\n",
    "y_7_pred_test = best_rf_model.predict(X_test_smaller)\n",
    "best_rf_mse_test = mean_squared_error(y_7_pred_test, y_test)\n",
    "print(\"Test data RMSE\", np.sqrt(best_rf_mse_test))   #4.104518302404065"
   ]
  },
  {
   "cell_type": "markdown",
   "metadata": {},
   "source": [
    "### This shows reducing number of features does not help improve the prediction."
   ]
  }
 ],
 "metadata": {
  "kernelspec": {
   "display_name": "Python 2",
   "language": "python",
   "name": "python2"
  },
  "language_info": {
   "codemirror_mode": {
    "name": "ipython",
    "version": 2
   },
   "file_extension": ".py",
   "mimetype": "text/x-python",
   "name": "python",
   "nbconvert_exporter": "python",
   "pygments_lexer": "ipython2",
   "version": "2.7.14"
  }
 },
 "nbformat": 4,
 "nbformat_minor": 2
}
