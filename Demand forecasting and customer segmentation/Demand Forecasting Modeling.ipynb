{
 "cells": [
  {
   "cell_type": "code",
   "execution_count": 1,
   "metadata": {
    "collapsed": true
   },
   "outputs": [],
   "source": [
    "import pandas as pd\n",
    "import numpy as np\n",
    "import seaborn as sns\n",
    "import matplotlib.pyplot as plt\n",
    "import datetime\n",
    "%matplotlib inline"
   ]
  },
  {
   "cell_type": "code",
   "execution_count": 2,
   "metadata": {},
   "outputs": [
    {
     "name": "stderr",
     "output_type": "stream",
     "text": [
      "/Users/apple/anaconda/lib/python2.7/site-packages/sklearn/cross_validation.py:44: DeprecationWarning: This module was deprecated in version 0.18 in favor of the model_selection module into which all the refactored classes and functions are moved. Also note that the interface of the new CV iterators are different from that of this module. This module will be removed in 0.20.\n",
      "  \"This module will be removed in 0.20.\", DeprecationWarning)\n"
     ]
    }
   ],
   "source": [
    "from sklearn import preprocessing\n",
    "from sklearn.ensemble import RandomForestRegressor\n",
    "from sklearn.model_selection import GridSearchCV\n",
    "from sklearn.cross_validation import train_test_split\n",
    "from sklearn.metrics import mean_squared_error"
   ]
  },
  {
   "cell_type": "code",
   "execution_count": 3,
   "metadata": {
    "collapsed": true
   },
   "outputs": [],
   "source": [
    "transaction = pd.read_csv('transactions_sampled.csv',\n",
    "                         names = ['id','chain','dept','category','company',\n",
    "                                 'brand','date','productsize','productmeasure',\n",
    "                                 'purchasequantity','purchaseamount'])"
   ]
  },
  {
   "cell_type": "code",
   "execution_count": 4,
   "metadata": {
    "collapsed": true
   },
   "outputs": [],
   "source": [
    "transaction['date'] = transaction['date'].apply(lambda x: pd.to_datetime(x))"
   ]
  },
  {
   "cell_type": "code",
   "execution_count": 5,
   "metadata": {},
   "outputs": [
    {
     "data": {
      "text/html": [
       "<div>\n",
       "<style>\n",
       "    .dataframe thead tr:only-child th {\n",
       "        text-align: right;\n",
       "    }\n",
       "\n",
       "    .dataframe thead th {\n",
       "        text-align: left;\n",
       "    }\n",
       "\n",
       "    .dataframe tbody tr th {\n",
       "        vertical-align: top;\n",
       "    }\n",
       "</style>\n",
       "<table border=\"1\" class=\"dataframe\">\n",
       "  <thead>\n",
       "    <tr style=\"text-align: right;\">\n",
       "      <th></th>\n",
       "      <th>id</th>\n",
       "      <th>chain</th>\n",
       "      <th>dept</th>\n",
       "      <th>category</th>\n",
       "      <th>company</th>\n",
       "      <th>brand</th>\n",
       "      <th>date</th>\n",
       "      <th>productsize</th>\n",
       "      <th>productmeasure</th>\n",
       "      <th>purchasequantity</th>\n",
       "      <th>purchaseamount</th>\n",
       "    </tr>\n",
       "  </thead>\n",
       "  <tbody>\n",
       "    <tr>\n",
       "      <th>0</th>\n",
       "      <td>696521494</td>\n",
       "      <td>211</td>\n",
       "      <td>55</td>\n",
       "      <td>5558</td>\n",
       "      <td>101111010</td>\n",
       "      <td>9907</td>\n",
       "      <td>2013-01-23</td>\n",
       "      <td>36.0</td>\n",
       "      <td>OZ</td>\n",
       "      <td>1</td>\n",
       "      <td>2.99</td>\n",
       "    </tr>\n",
       "    <tr>\n",
       "      <th>1</th>\n",
       "      <td>417112954</td>\n",
       "      <td>100</td>\n",
       "      <td>63</td>\n",
       "      <td>6320</td>\n",
       "      <td>107509070</td>\n",
       "      <td>182</td>\n",
       "      <td>2012-12-09</td>\n",
       "      <td>12.0</td>\n",
       "      <td>CT</td>\n",
       "      <td>1</td>\n",
       "      <td>2.29</td>\n",
       "    </tr>\n",
       "    <tr>\n",
       "      <th>2</th>\n",
       "      <td>308340717</td>\n",
       "      <td>360</td>\n",
       "      <td>35</td>\n",
       "      <td>3504</td>\n",
       "      <td>103500030</td>\n",
       "      <td>13470</td>\n",
       "      <td>2012-06-12</td>\n",
       "      <td>10.0</td>\n",
       "      <td>OZ</td>\n",
       "      <td>1</td>\n",
       "      <td>1.79</td>\n",
       "    </tr>\n",
       "    <tr>\n",
       "      <th>3</th>\n",
       "      <td>4629335121</td>\n",
       "      <td>153</td>\n",
       "      <td>63</td>\n",
       "      <td>6320</td>\n",
       "      <td>1068826767</td>\n",
       "      <td>81691</td>\n",
       "      <td>2012-09-10</td>\n",
       "      <td>12.0</td>\n",
       "      <td>CT</td>\n",
       "      <td>1</td>\n",
       "      <td>2.79</td>\n",
       "    </tr>\n",
       "    <tr>\n",
       "      <th>4</th>\n",
       "      <td>743051948</td>\n",
       "      <td>58</td>\n",
       "      <td>63</td>\n",
       "      <td>6330</td>\n",
       "      <td>101111010</td>\n",
       "      <td>9907</td>\n",
       "      <td>2012-10-07</td>\n",
       "      <td>16.0</td>\n",
       "      <td>OZ</td>\n",
       "      <td>1</td>\n",
       "      <td>2.79</td>\n",
       "    </tr>\n",
       "  </tbody>\n",
       "</table>\n",
       "</div>"
      ],
      "text/plain": [
       "           id  chain  dept  category     company  brand       date  \\\n",
       "0   696521494    211    55      5558   101111010   9907 2013-01-23   \n",
       "1   417112954    100    63      6320   107509070    182 2012-12-09   \n",
       "2   308340717    360    35      3504   103500030  13470 2012-06-12   \n",
       "3  4629335121    153    63      6320  1068826767  81691 2012-09-10   \n",
       "4   743051948     58    63      6330   101111010   9907 2012-10-07   \n",
       "\n",
       "   productsize productmeasure  purchasequantity  purchaseamount  \n",
       "0         36.0             OZ                 1            2.99  \n",
       "1         12.0             CT                 1            2.29  \n",
       "2         10.0             OZ                 1            1.79  \n",
       "3         12.0             CT                 1            2.79  \n",
       "4         16.0             OZ                 1            2.79  "
      ]
     },
     "execution_count": 5,
     "metadata": {},
     "output_type": "execute_result"
    }
   ],
   "source": [
    "transaction.head()"
   ]
  },
  {
   "cell_type": "code",
   "execution_count": 6,
   "metadata": {
    "collapsed": true
   },
   "outputs": [],
   "source": [
    "def missing_count(dataset):\n",
    "    missing = {}\n",
    "    for col in dataset.columns:\n",
    "        missing[col] = len(dataset[dataset[col].isnull()])\n",
    "    return missing"
   ]
  },
  {
   "cell_type": "code",
   "execution_count": 7,
   "metadata": {},
   "outputs": [
    {
     "data": {
      "text/plain": [
       "{'brand': 0,\n",
       " 'category': 0,\n",
       " 'chain': 0,\n",
       " 'company': 0,\n",
       " 'date': 0,\n",
       " 'dept': 0,\n",
       " 'id': 0,\n",
       " 'productmeasure': 16260,\n",
       " 'productsize': 0,\n",
       " 'purchaseamount': 0,\n",
       " 'purchasequantity': 0}"
      ]
     },
     "execution_count": 7,
     "metadata": {},
     "output_type": "execute_result"
    }
   ],
   "source": [
    "missing_count(transaction)"
   ]
  },
  {
   "cell_type": "code",
   "execution_count": 8,
   "metadata": {},
   "outputs": [
    {
     "data": {
      "text/plain": [
       "132"
      ]
     },
     "execution_count": 8,
     "metadata": {},
     "output_type": "execute_result"
    }
   ],
   "source": [
    "len(set(transaction['chain']))   # 132 chain stores"
   ]
  },
  {
   "cell_type": "code",
   "execution_count": 9,
   "metadata": {},
   "outputs": [
    {
     "data": {
      "text/plain": [
       "60443"
      ]
     },
     "execution_count": 9,
     "metadata": {},
     "output_type": "execute_result"
    }
   ],
   "source": [
    "len(transaction.groupby(['category','company','brand','productsize','productmeasure']).purchaseamount.sum())\n",
    "# 60443 different types of goods"
   ]
  },
  {
   "cell_type": "code",
   "execution_count": 10,
   "metadata": {},
   "outputs": [
    {
     "data": {
      "text/plain": [
       "204078"
      ]
     },
     "execution_count": 10,
     "metadata": {},
     "output_type": "execute_result"
    }
   ],
   "source": [
    "len(set(transaction['id']))  #204078 different customers"
   ]
  },
  {
   "cell_type": "code",
   "execution_count": 11,
   "metadata": {},
   "outputs": [
    {
     "data": {
      "text/plain": [
       "500000"
      ]
     },
     "execution_count": 11,
     "metadata": {},
     "output_type": "execute_result"
    }
   ],
   "source": [
    "transaction.shape[0]   #500,000 transactions"
   ]
  },
  {
   "cell_type": "code",
   "execution_count": 12,
   "metadata": {},
   "outputs": [
    {
     "data": {
      "text/plain": [
       "806"
      ]
     },
     "execution_count": 12,
     "metadata": {},
     "output_type": "execute_result"
    }
   ],
   "source": [
    "len(set(transaction['category']))   #806 categories"
   ]
  },
  {
   "cell_type": "code",
   "execution_count": 13,
   "metadata": {},
   "outputs": [
    {
     "data": {
      "text/plain": [
       "9867"
      ]
     },
     "execution_count": 13,
     "metadata": {},
     "output_type": "execute_result"
    }
   ],
   "source": [
    "len(set(transaction['company']))   #9867 transactions"
   ]
  },
  {
   "cell_type": "markdown",
   "metadata": {},
   "source": [
    "### This shows all records with null measurement of product are associated with 0.0 product size, which indicates either product returns or changes. I then fill all the null values of product measure with 'Unknown'."
   ]
  },
  {
   "cell_type": "code",
   "execution_count": 14,
   "metadata": {},
   "outputs": [
    {
     "data": {
      "text/plain": [
       "OZ    407541\n",
       "CT     60347\n",
       "RL      6270\n",
       "LB      5667\n",
       "LT      3736\n",
       "YD       176\n",
       "FT         2\n",
       "1          1\n",
       "Name: productmeasure, dtype: int64"
      ]
     },
     "execution_count": 14,
     "metadata": {},
     "output_type": "execute_result"
    }
   ],
   "source": [
    "transaction['productmeasure'].value_counts()"
   ]
  },
  {
   "cell_type": "code",
   "execution_count": 15,
   "metadata": {
    "collapsed": true
   },
   "outputs": [],
   "source": [
    "transaction.loc[transaction[transaction['productmeasure'] == '1'].index, 'productmeasure'] = 'OZ'"
   ]
  },
  {
   "cell_type": "code",
   "execution_count": 16,
   "metadata": {
    "collapsed": true
   },
   "outputs": [],
   "source": [
    "transaction['productmeasure'].fillna('Unknown', inplace = True)"
   ]
  },
  {
   "cell_type": "markdown",
   "metadata": {},
   "source": [
    "### I also add a feature 'price' indicating the price of the product in the transaction, which is calculated as amount purchased in the transaction divided by quantity purchased in the transaction. For returns or changes, I just fill the price with zero."
   ]
  },
  {
   "cell_type": "code",
   "execution_count": 17,
   "metadata": {
    "collapsed": true
   },
   "outputs": [],
   "source": [
    "transaction['price'] = transaction.apply(lambda x: x.purchaseamount/x.purchasequantity if (x.purchaseamount>0 and x.purchasequantity > 0 ) else 0, axis = 1)"
   ]
  },
  {
   "cell_type": "code",
   "execution_count": 18,
   "metadata": {},
   "outputs": [
    {
     "data": {
      "text/plain": [
       "19360"
      ]
     },
     "execution_count": 18,
     "metadata": {},
     "output_type": "execute_result"
    }
   ],
   "source": [
    "len(transaction[(transaction['purchaseamount'] <= 0) | (transaction['purchasequantity'] <= 0)])"
   ]
  },
  {
   "cell_type": "code",
   "execution_count": 19,
   "metadata": {},
   "outputs": [
    {
     "data": {
      "text/plain": [
       "500000"
      ]
     },
     "execution_count": 19,
     "metadata": {},
     "output_type": "execute_result"
    }
   ],
   "source": [
    "len(transaction)"
   ]
  },
  {
   "cell_type": "markdown",
   "metadata": {},
   "source": [
    "### This shows out of 500,000 transactions there are 19,360 transactions are either returns or changes, which counts for 3.872% of the total transactions."
   ]
  },
  {
   "cell_type": "code",
   "execution_count": 20,
   "metadata": {},
   "outputs": [
    {
     "data": {
      "text/plain": [
       "count    500000.000000\n",
       "mean          3.364557\n",
       "std           4.893497\n",
       "min           0.000000\n",
       "25%           1.666667\n",
       "50%           2.690000\n",
       "75%           3.990000\n",
       "max        1623.550000\n",
       "Name: price, dtype: float64"
      ]
     },
     "execution_count": 20,
     "metadata": {},
     "output_type": "execute_result"
    }
   ],
   "source": [
    "transaction['price'].describe()"
   ]
  },
  {
   "cell_type": "code",
   "execution_count": 21,
   "metadata": {},
   "outputs": [
    {
     "data": {
      "text/plain": [
       "<matplotlib.axes._subplots.AxesSubplot at 0x111b72050>"
      ]
     },
     "execution_count": 21,
     "metadata": {},
     "output_type": "execute_result"
    },
    {
     "data": {
      "image/png": "[encoded data removed]",
      "text/plain": [
       "<matplotlib.figure.Figure at 0x10d319f50>"
      ]
     },
     "metadata": {},
     "output_type": "display_data"
    }
   ],
   "source": [
    "sns.distplot(transaction[transaction['price'] < 20].price)   "
   ]
  },
  {
   "cell_type": "code",
   "execution_count": 22,
   "metadata": {},
   "outputs": [
    {
     "data": {
      "text/plain": [
       "<matplotlib.axes._subplots.AxesSubplot at 0x11acc7350>"
      ]
     },
     "execution_count": 22,
     "metadata": {},
     "output_type": "execute_result"
    },
    {
     "data": {
      "image/png": "[encoded data removed]",
      "text/plain": [
       "<matplotlib.figure.Figure at 0x11acffa50>"
      ]
     },
     "metadata": {},
     "output_type": "display_data"
    }
   ],
   "source": [
    "sns.distplot(transaction[(transaction['price'] >= 20) & (transaction['price'] <= 200)].price)"
   ]
  },
  {
   "cell_type": "code",
   "execution_count": 23,
   "metadata": {},
   "outputs": [
    {
     "data": {
      "text/plain": [
       "<matplotlib.axes._subplots.AxesSubplot at 0x10d3772d0>"
      ]
     },
     "execution_count": 23,
     "metadata": {},
     "output_type": "execute_result"
    },
    {
     "data": {
      "image/png": "[encoded data removed]",
      "text/plain": [
       "<matplotlib.figure.Figure at 0x102463590>"
      ]
     },
     "metadata": {},
     "output_type": "display_data"
    }
   ],
   "source": [
    "sns.distplot(transaction[transaction['price'] >= 20].price)"
   ]
  },
  {
   "cell_type": "code",
   "execution_count": 24,
   "metadata": {},
   "outputs": [
    {
     "data": {
      "text/plain": [
       "<matplotlib.axes._subplots.AxesSubplot at 0x10d5f6850>"
      ]
     },
     "execution_count": 24,
     "metadata": {},
     "output_type": "execute_result"
    },
    {
     "data": {
      "image/png": "[encoded data removed]",
      "text/plain": [
       "<matplotlib.figure.Figure at 0x116989a50>"
      ]
     },
     "metadata": {},
     "output_type": "display_data"
    }
   ],
   "source": [
    "sns.distplot(transaction[transaction['price'] > 200].price)"
   ]
  },
  {
   "cell_type": "markdown",
   "metadata": {},
   "source": [
    "### Take a look at quantity purchased in the transaction."
   ]
  },
  {
   "cell_type": "code",
   "execution_count": 25,
   "metadata": {},
   "outputs": [
    {
     "data": {
      "text/plain": [
       "count    500000.000000\n",
       "mean          1.603382\n",
       "std           6.372761\n",
       "min         -33.000000\n",
       "25%           1.000000\n",
       "50%           1.000000\n",
       "75%           2.000000\n",
       "max        1742.000000\n",
       "Name: purchasequantity, dtype: float64"
      ]
     },
     "execution_count": 25,
     "metadata": {},
     "output_type": "execute_result"
    }
   ],
   "source": [
    "transaction['purchasequantity'].describe()"
   ]
  },
  {
   "cell_type": "code",
   "execution_count": 26,
   "metadata": {},
   "outputs": [
    {
     "data": {
      "text/plain": [
       "<matplotlib.axes._subplots.AxesSubplot at 0x110804c10>"
      ]
     },
     "execution_count": 26,
     "metadata": {},
     "output_type": "execute_result"
    },
    {
     "data": {
      "image/png": "[encoded data removed]",
      "text/plain": [
       "<matplotlib.figure.Figure at 0x10d5ba990>"
      ]
     },
     "metadata": {},
     "output_type": "display_data"
    }
   ],
   "source": [
    "sns.distplot(transaction[(transaction['purchasequantity'] < 10) & (transaction['purchasequantity'] > 0)].purchasequantity)   ## an important graph showing the majority of price distribution"
   ]
  },
  {
   "cell_type": "code",
   "execution_count": 27,
   "metadata": {},
   "outputs": [
    {
     "data": {
      "text/plain": [
       "<matplotlib.axes._subplots.AxesSubplot at 0x11085fb10>"
      ]
     },
     "execution_count": 27,
     "metadata": {},
     "output_type": "execute_result"
    },
    {
     "data": {
      "image/png": "[encoded data removed]",
      "text/plain": [
       "<matplotlib.figure.Figure at 0x10d4e2c10>"
      ]
     },
     "metadata": {},
     "output_type": "display_data"
    }
   ],
   "source": [
    "sns.distplot(transaction[transaction['purchasequantity'] >= 10].purchasequantity)   ## an important graph showing the majority of price distribution"
   ]
  },
  {
   "cell_type": "code",
   "execution_count": 28,
   "metadata": {},
   "outputs": [
    {
     "data": {
      "text/plain": [
       "<matplotlib.axes._subplots.AxesSubplot at 0x111c643d0>"
      ]
     },
     "execution_count": 28,
     "metadata": {},
     "output_type": "execute_result"
    },
    {
     "data": {
      "image/png": "[encoded data removed]",
      "text/plain": [
       "<matplotlib.figure.Figure at 0x110869fd0>"
      ]
     },
     "metadata": {},
     "output_type": "display_data"
    }
   ],
   "source": [
    "sns.distplot(transaction[transaction['purchasequantity'] <= 0].purchasequantity)   ## an important graph showing the majority of price distribution"
   ]
  },
  {
   "cell_type": "markdown",
   "metadata": {},
   "source": [
    "### I now extract year and month information from the data."
   ]
  },
  {
   "cell_type": "code",
   "execution_count": 37,
   "metadata": {
    "collapsed": true
   },
   "outputs": [],
   "source": [
    "transaction['year'] = transaction['date'].dt.year\n",
    "transaction['month'] = transaction['date'].dt.month"
   ]
  },
  {
   "cell_type": "markdown",
   "metadata": {},
   "source": [
    "### I want to build date block for each transaction, that is, transactions in the same month will be grouped in the same date block. For example,  transactions in March 2012 belongs to date block 'lag_16',  transactions in April 2012 belongs to date block'lag_15',..., transactions in July 2013 belongs to date block'lag_0'."
   ]
  },
  {
   "cell_type": "code",
   "execution_count": 38,
   "metadata": {
    "collapsed": true
   },
   "outputs": [],
   "source": [
    "transaction['dateblock'] = transaction.apply(lambda x: \"lag_{}\".format(2020-(x.year+x.month)) if x.year == 2013 else \"lag_{}\".format(2031-(x.year + x.month)), axis = 1)"
   ]
  },
  {
   "cell_type": "code",
   "execution_count": 39,
   "metadata": {
    "collapsed": true
   },
   "outputs": [],
   "source": [
    "chain_transaction_counts = pd.DataFrame({'Count': transaction['dateblock'].value_counts().sort_values(ascending = False)})"
   ]
  },
  {
   "cell_type": "code",
   "execution_count": 40,
   "metadata": {
    "collapsed": true
   },
   "outputs": [],
   "source": [
    "chain_transaction_counts= chain_transaction_counts.reindex_axis([u'lag_0', u'lag_1', u'lag_2', u'lag_3', u'lag_4', u'lag_5',\n",
    "       u'lag_6', u'lag_7', u'lag_8', u'lag_9', u'lag_10', u'lag_11', u'lag_12',\n",
    "       u'lag_13', u'lag_14', u'lag_15', u'lag_16'], axis = 0)"
   ]
  },
  {
   "cell_type": "code",
   "execution_count": 41,
   "metadata": {},
   "outputs": [
    {
     "data": {
      "text/plain": [
       "Text(0.5,1,u'Number of transaction in each dateblock/month')"
      ]
     },
     "execution_count": 41,
     "metadata": {},
     "output_type": "execute_result"
    },
    {
     "data": {
      "image/png": "[encoded data removed]",
      "text/plain": [
       "<matplotlib.figure.Figure at 0x111c64790>"
      ]
     },
     "metadata": {},
     "output_type": "display_data"
    }
   ],
   "source": [
    "plt.figure(figsize = (10, 5))\n",
    "plt.bar(np.arange(len(chain_transaction_counts)), chain_transaction_counts.Count, color = 'green')\n",
    "plt.xticks(np.arange(len(chain_transaction_counts)), chain_transaction_counts.index, rotation = 45)\n",
    "plt.ylabel(\"Number of transactions\")\n",
    "plt.title(\"Number of transaction in each dateblock/month\")"
   ]
  },
  {
   "cell_type": "markdown",
   "metadata": {},
   "source": [
    "### It seems since April 2013 (corresponding to dateblock 'lag_3','lag_2','lag_1','lag_0'), the number of transactions decreased significantly and is not in the same pattern as previous months. Is this because transaction data are missing in these four months or just because number of transactions become much fewer than before? "
   ]
  },
  {
   "cell_type": "code",
   "execution_count": 42,
   "metadata": {
    "collapsed": true
   },
   "outputs": [],
   "source": [
    "ave_quantity_block = transaction.groupby(['dateblock']).purchasequantity.mean()\n",
    "ave_amount_block = transaction.groupby(['dateblock']).purchaseamount.mean()"
   ]
  },
  {
   "cell_type": "code",
   "execution_count": 43,
   "metadata": {
    "collapsed": true
   },
   "outputs": [],
   "source": [
    "ave_quantity_block= ave_quantity_block.reindex_axis([u'lag_0', u'lag_1', u'lag_2', u'lag_3', u'lag_4', u'lag_5',\n",
    "       u'lag_6', u'lag_7', u'lag_8', u'lag_9', u'lag_10', u'lag_11', u'lag_12',\n",
    "       u'lag_13', u'lag_14', u'lag_15', u'lag_16'], axis = 0)"
   ]
  },
  {
   "cell_type": "code",
   "execution_count": 44,
   "metadata": {
    "collapsed": true
   },
   "outputs": [],
   "source": [
    "ave_amount_block= ave_amount_block.reindex_axis([u'lag_0', u'lag_1', u'lag_2', u'lag_3', u'lag_4', u'lag_5',\n",
    "       u'lag_6', u'lag_7', u'lag_8', u'lag_9', u'lag_10', u'lag_11', u'lag_12',\n",
    "       u'lag_13', u'lag_14', u'lag_15', u'lag_16'], axis = 0)"
   ]
  },
  {
   "cell_type": "code",
   "execution_count": 45,
   "metadata": {},
   "outputs": [
    {
     "data": {
      "text/plain": [
       "Text(0.5,1,u'Average quantity purchased per transaction')"
      ]
     },
     "execution_count": 45,
     "metadata": {},
     "output_type": "execute_result"
    },
    {
     "data": {
      "image/png": "[encoded data removed]",
      "text/plain": [
       "<matplotlib.figure.Figure at 0x111ca5790>"
      ]
     },
     "metadata": {},
     "output_type": "display_data"
    }
   ],
   "source": [
    "plt.figure(figsize = (10, 5))\n",
    "plt.bar(np.arange(len(ave_quantity_block)),ave_quantity_block.values, color = 'pink')\n",
    "plt.xticks(np.arange(len(ave_quantity_block)),ave_quantity_block.index, rotation = 45)\n",
    "plt.ylabel('Quantities purchased')\n",
    "plt.title('Average quantity purchased per transaction', fontsize = 20)"
   ]
  },
  {
   "cell_type": "code",
   "execution_count": 46,
   "metadata": {},
   "outputs": [
    {
     "data": {
      "text/plain": [
       "Text(0.5,1,u'Average amount purchased per transaction')"
      ]
     },
     "execution_count": 46,
     "metadata": {},
     "output_type": "execute_result"
    },
    {
     "data": {
      "image/png": "[encoded data removed]",
      "text/plain": [
       "<matplotlib.figure.Figure at 0x12300de50>"
      ]
     },
     "metadata": {},
     "output_type": "display_data"
    }
   ],
   "source": [
    "plt.figure(figsize = (10, 5))\n",
    "plt.bar(np.arange(len(ave_amount_block)),ave_amount_block.values, color = 'blue')\n",
    "plt.xticks(np.arange(len(ave_amount_block)),ave_amount_block.index, rotation = 45)\n",
    "plt.ylabel('Amount purchased')\n",
    "plt.title('Average amount purchased per transaction', fontsize = 20)"
   ]
  },
  {
   "cell_type": "code",
   "execution_count": 47,
   "metadata": {
    "collapsed": true
   },
   "outputs": [],
   "source": [
    "total_quantity_block = transaction.groupby(['dateblock']).purchasequantity.sum()\n",
    "total_amount_block = transaction.groupby(['dateblock']).purchaseamount.sum()"
   ]
  },
  {
   "cell_type": "code",
   "execution_count": 48,
   "metadata": {
    "collapsed": true
   },
   "outputs": [],
   "source": [
    "total_quantity_block= total_quantity_block.reindex_axis([u'lag_0', u'lag_1', u'lag_2', u'lag_3', u'lag_4', u'lag_5',\n",
    "       u'lag_6', u'lag_7', u'lag_8', u'lag_9', u'lag_10', u'lag_11', u'lag_12',\n",
    "       u'lag_13', u'lag_14', u'lag_15', u'lag_16'], axis = 0)"
   ]
  },
  {
   "cell_type": "code",
   "execution_count": 49,
   "metadata": {
    "collapsed": true
   },
   "outputs": [],
   "source": [
    "total_amount_block= total_amount_block.reindex_axis([u'lag_0', u'lag_1', u'lag_2', u'lag_3', u'lag_4', u'lag_5',\n",
    "       u'lag_6', u'lag_7', u'lag_8', u'lag_9', u'lag_10', u'lag_11', u'lag_12',\n",
    "       u'lag_13', u'lag_14', u'lag_15', u'lag_16'], axis = 0)"
   ]
  },
  {
   "cell_type": "code",
   "execution_count": 50,
   "metadata": {},
   "outputs": [
    {
     "data": {
      "text/plain": [
       "Text(0.5,1,u'Total quantity purchased each month')"
      ]
     },
     "execution_count": 50,
     "metadata": {},
     "output_type": "execute_result"
    },
    {
     "data": {
      "image/png": "[encoded data removed]",
      "text/plain": [
       "<matplotlib.figure.Figure at 0x123260410>"
      ]
     },
     "metadata": {},
     "output_type": "display_data"
    }
   ],
   "source": [
    "plt.figure(figsize = (10, 5))\n",
    "plt.bar(np.arange(len(total_quantity_block)),total_quantity_block.values, color = 'purple')\n",
    "plt.xticks(np.arange(len(total_quantity_block)),total_quantity_block.index, rotation = 45)\n",
    "plt.ylabel('Quantities purchased')\n",
    "plt.title('Total quantity purchased each month', fontsize = 20)"
   ]
  },
  {
   "cell_type": "code",
   "execution_count": 51,
   "metadata": {},
   "outputs": [
    {
     "data": {
      "text/plain": [
       "Text(0.5,1,u'Total amount purchased each month')"
      ]
     },
     "execution_count": 51,
     "metadata": {},
     "output_type": "execute_result"
    },
    {
     "data": {
      "image/png": "[encoded data removed]",
      "text/plain": [
       "<matplotlib.figure.Figure at 0x123699150>"
      ]
     },
     "metadata": {},
     "output_type": "display_data"
    }
   ],
   "source": [
    "plt.figure(figsize = (10, 5))\n",
    "plt.bar(np.arange(len(total_amount_block)),total_amount_block.values, color = 'green')\n",
    "plt.xticks(np.arange(len(total_amount_block)),total_amount_block.index, rotation = 45)\n",
    "plt.ylabel('Amount purchased')\n",
    "plt.title('Total amount purchased each month', fontsize = 20)"
   ]
  },
  {
   "cell_type": "markdown",
   "metadata": {},
   "source": [
    "### Average purchase per transaction looks simialr across all months, but total purchases per months are different, 'lag_0','lag_1','lag_2','lag_3' are especially small compared with the rest. We examine the transaction numbers in each selected popular store across all months."
   ]
  },
  {
   "cell_type": "code",
   "execution_count": 52,
   "metadata": {
    "collapsed": true
   },
   "outputs": [],
   "source": [
    "popular_chains = [21,96,214,101,31,360,89,191,152,101,46,153,360]"
   ]
  },
  {
   "cell_type": "code",
   "execution_count": 53,
   "metadata": {
    "collapsed": true
   },
   "outputs": [],
   "source": [
    "transaction_pop_chains = transaction[transaction['chain'].isin(popular_chains)]"
   ]
  },
  {
   "cell_type": "code",
   "execution_count": 54,
   "metadata": {},
   "outputs": [
    {
     "data": {
      "text/html": [
       "<div>\n",
       "<style>\n",
       "    .dataframe thead tr:only-child th {\n",
       "        text-align: right;\n",
       "    }\n",
       "\n",
       "    .dataframe thead th {\n",
       "        text-align: left;\n",
       "    }\n",
       "\n",
       "    .dataframe tbody tr th {\n",
       "        vertical-align: top;\n",
       "    }\n",
       "</style>\n",
       "<table border=\"1\" class=\"dataframe\">\n",
       "  <thead>\n",
       "    <tr style=\"text-align: right;\">\n",
       "      <th></th>\n",
       "      <th>id</th>\n",
       "      <th>chain</th>\n",
       "      <th>dept</th>\n",
       "      <th>category</th>\n",
       "      <th>company</th>\n",
       "      <th>brand</th>\n",
       "      <th>date</th>\n",
       "      <th>productsize</th>\n",
       "      <th>productmeasure</th>\n",
       "      <th>purchasequantity</th>\n",
       "      <th>purchaseamount</th>\n",
       "      <th>price</th>\n",
       "      <th>year</th>\n",
       "      <th>month</th>\n",
       "      <th>dateblock</th>\n",
       "    </tr>\n",
       "  </thead>\n",
       "  <tbody>\n",
       "    <tr>\n",
       "      <th>0</th>\n",
       "      <td>308340717</td>\n",
       "      <td>360</td>\n",
       "      <td>35</td>\n",
       "      <td>3504</td>\n",
       "      <td>103500030</td>\n",
       "      <td>13470</td>\n",
       "      <td>2012-06-12</td>\n",
       "      <td>10.00</td>\n",
       "      <td>OZ</td>\n",
       "      <td>1</td>\n",
       "      <td>1.79</td>\n",
       "      <td>1.790000</td>\n",
       "      <td>2012</td>\n",
       "      <td>6</td>\n",
       "      <td>lag_13</td>\n",
       "    </tr>\n",
       "    <tr>\n",
       "      <th>1</th>\n",
       "      <td>4629335121</td>\n",
       "      <td>153</td>\n",
       "      <td>63</td>\n",
       "      <td>6320</td>\n",
       "      <td>1068826767</td>\n",
       "      <td>81691</td>\n",
       "      <td>2012-09-10</td>\n",
       "      <td>12.00</td>\n",
       "      <td>CT</td>\n",
       "      <td>1</td>\n",
       "      <td>2.79</td>\n",
       "      <td>2.790000</td>\n",
       "      <td>2012</td>\n",
       "      <td>9</td>\n",
       "      <td>lag_10</td>\n",
       "    </tr>\n",
       "    <tr>\n",
       "      <th>2</th>\n",
       "      <td>4235139153</td>\n",
       "      <td>214</td>\n",
       "      <td>4</td>\n",
       "      <td>410</td>\n",
       "      <td>101420010</td>\n",
       "      <td>3294</td>\n",
       "      <td>2012-10-02</td>\n",
       "      <td>1.12</td>\n",
       "      <td>OZ</td>\n",
       "      <td>11</td>\n",
       "      <td>3.63</td>\n",
       "      <td>0.330000</td>\n",
       "      <td>2012</td>\n",
       "      <td>10</td>\n",
       "      <td>lag_9</td>\n",
       "    </tr>\n",
       "    <tr>\n",
       "      <th>3</th>\n",
       "      <td>2739666735</td>\n",
       "      <td>46</td>\n",
       "      <td>63</td>\n",
       "      <td>6305</td>\n",
       "      <td>104850040</td>\n",
       "      <td>18799</td>\n",
       "      <td>2012-03-20</td>\n",
       "      <td>59.00</td>\n",
       "      <td>OZ</td>\n",
       "      <td>1</td>\n",
       "      <td>3.19</td>\n",
       "      <td>3.190000</td>\n",
       "      <td>2012</td>\n",
       "      <td>3</td>\n",
       "      <td>lag_16</td>\n",
       "    </tr>\n",
       "    <tr>\n",
       "      <th>4</th>\n",
       "      <td>496271276</td>\n",
       "      <td>21</td>\n",
       "      <td>27</td>\n",
       "      <td>2705</td>\n",
       "      <td>107910070</td>\n",
       "      <td>85</td>\n",
       "      <td>2012-07-25</td>\n",
       "      <td>22.00</td>\n",
       "      <td>OZ</td>\n",
       "      <td>4</td>\n",
       "      <td>7.08</td>\n",
       "      <td>1.770000</td>\n",
       "      <td>2012</td>\n",
       "      <td>7</td>\n",
       "      <td>lag_12</td>\n",
       "    </tr>\n",
       "    <tr>\n",
       "      <th>5</th>\n",
       "      <td>501103393</td>\n",
       "      <td>21</td>\n",
       "      <td>26</td>\n",
       "      <td>2632</td>\n",
       "      <td>1085502282</td>\n",
       "      <td>12632</td>\n",
       "      <td>2012-12-22</td>\n",
       "      <td>80.00</td>\n",
       "      <td>CT</td>\n",
       "      <td>3</td>\n",
       "      <td>2.97</td>\n",
       "      <td>0.990000</td>\n",
       "      <td>2012</td>\n",
       "      <td>12</td>\n",
       "      <td>lag_7</td>\n",
       "    </tr>\n",
       "    <tr>\n",
       "      <th>6</th>\n",
       "      <td>477462045</td>\n",
       "      <td>101</td>\n",
       "      <td>59</td>\n",
       "      <td>5902</td>\n",
       "      <td>1068826767</td>\n",
       "      <td>81691</td>\n",
       "      <td>2013-01-24</td>\n",
       "      <td>16.00</td>\n",
       "      <td>OZ</td>\n",
       "      <td>1</td>\n",
       "      <td>2.79</td>\n",
       "      <td>2.790000</td>\n",
       "      <td>2013</td>\n",
       "      <td>1</td>\n",
       "      <td>lag_6</td>\n",
       "    </tr>\n",
       "    <tr>\n",
       "      <th>7</th>\n",
       "      <td>2406744864</td>\n",
       "      <td>214</td>\n",
       "      <td>41</td>\n",
       "      <td>4121</td>\n",
       "      <td>104122040</td>\n",
       "      <td>23511</td>\n",
       "      <td>2012-06-11</td>\n",
       "      <td>8.00</td>\n",
       "      <td>OZ</td>\n",
       "      <td>3</td>\n",
       "      <td>1.00</td>\n",
       "      <td>0.333333</td>\n",
       "      <td>2012</td>\n",
       "      <td>6</td>\n",
       "      <td>lag_13</td>\n",
       "    </tr>\n",
       "    <tr>\n",
       "      <th>8</th>\n",
       "      <td>3378435506</td>\n",
       "      <td>214</td>\n",
       "      <td>41</td>\n",
       "      <td>4107</td>\n",
       "      <td>103710030</td>\n",
       "      <td>10383</td>\n",
       "      <td>2013-03-17</td>\n",
       "      <td>14.75</td>\n",
       "      <td>OZ</td>\n",
       "      <td>2</td>\n",
       "      <td>1.30</td>\n",
       "      <td>0.650000</td>\n",
       "      <td>2013</td>\n",
       "      <td>3</td>\n",
       "      <td>lag_4</td>\n",
       "    </tr>\n",
       "    <tr>\n",
       "      <th>9</th>\n",
       "      <td>3693848948</td>\n",
       "      <td>214</td>\n",
       "      <td>67</td>\n",
       "      <td>6708</td>\n",
       "      <td>105080353</td>\n",
       "      <td>19537</td>\n",
       "      <td>2012-08-23</td>\n",
       "      <td>1.00</td>\n",
       "      <td>CT</td>\n",
       "      <td>1</td>\n",
       "      <td>14.98</td>\n",
       "      <td>14.980000</td>\n",
       "      <td>2012</td>\n",
       "      <td>8</td>\n",
       "      <td>lag_11</td>\n",
       "    </tr>\n",
       "    <tr>\n",
       "      <th>10</th>\n",
       "      <td>2444350619</td>\n",
       "      <td>46</td>\n",
       "      <td>45</td>\n",
       "      <td>4511</td>\n",
       "      <td>102370020</td>\n",
       "      <td>18969</td>\n",
       "      <td>2012-03-30</td>\n",
       "      <td>22.00</td>\n",
       "      <td>OZ</td>\n",
       "      <td>2</td>\n",
       "      <td>11.98</td>\n",
       "      <td>5.990000</td>\n",
       "      <td>2012</td>\n",
       "      <td>3</td>\n",
       "      <td>lag_16</td>\n",
       "    </tr>\n",
       "    <tr>\n",
       "      <th>11</th>\n",
       "      <td>3401984119</td>\n",
       "      <td>96</td>\n",
       "      <td>36</td>\n",
       "      <td>3618</td>\n",
       "      <td>104900040</td>\n",
       "      <td>23359</td>\n",
       "      <td>2012-04-13</td>\n",
       "      <td>96.00</td>\n",
       "      <td>OZ</td>\n",
       "      <td>1</td>\n",
       "      <td>4.00</td>\n",
       "      <td>4.000000</td>\n",
       "      <td>2012</td>\n",
       "      <td>4</td>\n",
       "      <td>lag_15</td>\n",
       "    </tr>\n",
       "    <tr>\n",
       "      <th>12</th>\n",
       "      <td>3388824436</td>\n",
       "      <td>214</td>\n",
       "      <td>97</td>\n",
       "      <td>9753</td>\n",
       "      <td>1023120727</td>\n",
       "      <td>0</td>\n",
       "      <td>2013-02-17</td>\n",
       "      <td>1.00</td>\n",
       "      <td>CT</td>\n",
       "      <td>7</td>\n",
       "      <td>10.43</td>\n",
       "      <td>1.490000</td>\n",
       "      <td>2013</td>\n",
       "      <td>2</td>\n",
       "      <td>lag_5</td>\n",
       "    </tr>\n",
       "    <tr>\n",
       "      <th>13</th>\n",
       "      <td>2245272808</td>\n",
       "      <td>101</td>\n",
       "      <td>97</td>\n",
       "      <td>9753</td>\n",
       "      <td>1023230424</td>\n",
       "      <td>0</td>\n",
       "      <td>2012-09-03</td>\n",
       "      <td>1.00</td>\n",
       "      <td>CT</td>\n",
       "      <td>5</td>\n",
       "      <td>29.44</td>\n",
       "      <td>5.888000</td>\n",
       "      <td>2012</td>\n",
       "      <td>9</td>\n",
       "      <td>lag_10</td>\n",
       "    </tr>\n",
       "    <tr>\n",
       "      <th>14</th>\n",
       "      <td>564475368</td>\n",
       "      <td>21</td>\n",
       "      <td>14</td>\n",
       "      <td>1414</td>\n",
       "      <td>104119040</td>\n",
       "      <td>16347</td>\n",
       "      <td>2012-10-27</td>\n",
       "      <td>8.25</td>\n",
       "      <td>OZ</td>\n",
       "      <td>1</td>\n",
       "      <td>0.89</td>\n",
       "      <td>0.890000</td>\n",
       "      <td>2012</td>\n",
       "      <td>10</td>\n",
       "      <td>lag_9</td>\n",
       "    </tr>\n",
       "    <tr>\n",
       "      <th>15</th>\n",
       "      <td>602926476</td>\n",
       "      <td>96</td>\n",
       "      <td>0</td>\n",
       "      <td>0</td>\n",
       "      <td>10000</td>\n",
       "      <td>0</td>\n",
       "      <td>2012-05-24</td>\n",
       "      <td>0.00</td>\n",
       "      <td>Unknown</td>\n",
       "      <td>1</td>\n",
       "      <td>0.00</td>\n",
       "      <td>0.000000</td>\n",
       "      <td>2012</td>\n",
       "      <td>5</td>\n",
       "      <td>lag_14</td>\n",
       "    </tr>\n",
       "    <tr>\n",
       "      <th>16</th>\n",
       "      <td>3859854838</td>\n",
       "      <td>46</td>\n",
       "      <td>41</td>\n",
       "      <td>4106</td>\n",
       "      <td>1071373373</td>\n",
       "      <td>11473</td>\n",
       "      <td>2013-07-14</td>\n",
       "      <td>13.25</td>\n",
       "      <td>OZ</td>\n",
       "      <td>1</td>\n",
       "      <td>1.44</td>\n",
       "      <td>1.440000</td>\n",
       "      <td>2013</td>\n",
       "      <td>7</td>\n",
       "      <td>lag_0</td>\n",
       "    </tr>\n",
       "    <tr>\n",
       "      <th>17</th>\n",
       "      <td>495665215</td>\n",
       "      <td>21</td>\n",
       "      <td>33</td>\n",
       "      <td>3314</td>\n",
       "      <td>103000030</td>\n",
       "      <td>14760</td>\n",
       "      <td>2012-06-24</td>\n",
       "      <td>3.52</td>\n",
       "      <td>OZ</td>\n",
       "      <td>1</td>\n",
       "      <td>1.67</td>\n",
       "      <td>1.670000</td>\n",
       "      <td>2012</td>\n",
       "      <td>6</td>\n",
       "      <td>lag_13</td>\n",
       "    </tr>\n",
       "    <tr>\n",
       "      <th>18</th>\n",
       "      <td>683965204</td>\n",
       "      <td>89</td>\n",
       "      <td>0</td>\n",
       "      <td>0</td>\n",
       "      <td>10000</td>\n",
       "      <td>0</td>\n",
       "      <td>2013-01-26</td>\n",
       "      <td>0.00</td>\n",
       "      <td>Unknown</td>\n",
       "      <td>1</td>\n",
       "      <td>0.00</td>\n",
       "      <td>0.000000</td>\n",
       "      <td>2013</td>\n",
       "      <td>1</td>\n",
       "      <td>lag_6</td>\n",
       "    </tr>\n",
       "    <tr>\n",
       "      <th>19</th>\n",
       "      <td>496091766</td>\n",
       "      <td>21</td>\n",
       "      <td>53</td>\n",
       "      <td>5307</td>\n",
       "      <td>101450010</td>\n",
       "      <td>20864</td>\n",
       "      <td>2012-08-17</td>\n",
       "      <td>12.00</td>\n",
       "      <td>OZ</td>\n",
       "      <td>2</td>\n",
       "      <td>4.00</td>\n",
       "      <td>2.000000</td>\n",
       "      <td>2012</td>\n",
       "      <td>8</td>\n",
       "      <td>lag_11</td>\n",
       "    </tr>\n",
       "    <tr>\n",
       "      <th>20</th>\n",
       "      <td>3832341811</td>\n",
       "      <td>214</td>\n",
       "      <td>97</td>\n",
       "      <td>9753</td>\n",
       "      <td>1022401121</td>\n",
       "      <td>0</td>\n",
       "      <td>2012-12-18</td>\n",
       "      <td>1.00</td>\n",
       "      <td>CT</td>\n",
       "      <td>1</td>\n",
       "      <td>8.90</td>\n",
       "      <td>8.900000</td>\n",
       "      <td>2012</td>\n",
       "      <td>12</td>\n",
       "      <td>lag_7</td>\n",
       "    </tr>\n",
       "    <tr>\n",
       "      <th>21</th>\n",
       "      <td>500192527</td>\n",
       "      <td>21</td>\n",
       "      <td>63</td>\n",
       "      <td>6315</td>\n",
       "      <td>104119040</td>\n",
       "      <td>16347</td>\n",
       "      <td>2012-06-10</td>\n",
       "      <td>128.00</td>\n",
       "      <td>OZ</td>\n",
       "      <td>1</td>\n",
       "      <td>3.19</td>\n",
       "      <td>3.190000</td>\n",
       "      <td>2012</td>\n",
       "      <td>6</td>\n",
       "      <td>lag_13</td>\n",
       "    </tr>\n",
       "    <tr>\n",
       "      <th>22</th>\n",
       "      <td>4642317624</td>\n",
       "      <td>153</td>\n",
       "      <td>41</td>\n",
       "      <td>4107</td>\n",
       "      <td>102000020</td>\n",
       "      <td>7655</td>\n",
       "      <td>2013-05-20</td>\n",
       "      <td>14.50</td>\n",
       "      <td>OZ</td>\n",
       "      <td>2</td>\n",
       "      <td>2.50</td>\n",
       "      <td>1.250000</td>\n",
       "      <td>2013</td>\n",
       "      <td>5</td>\n",
       "      <td>lag_2</td>\n",
       "    </tr>\n",
       "    <tr>\n",
       "      <th>23</th>\n",
       "      <td>496728672</td>\n",
       "      <td>21</td>\n",
       "      <td>63</td>\n",
       "      <td>6305</td>\n",
       "      <td>104119040</td>\n",
       "      <td>16347</td>\n",
       "      <td>2013-04-11</td>\n",
       "      <td>16.00</td>\n",
       "      <td>OZ</td>\n",
       "      <td>1</td>\n",
       "      <td>0.79</td>\n",
       "      <td>0.790000</td>\n",
       "      <td>2013</td>\n",
       "      <td>4</td>\n",
       "      <td>lag_3</td>\n",
       "    </tr>\n",
       "    <tr>\n",
       "      <th>24</th>\n",
       "      <td>714426084</td>\n",
       "      <td>89</td>\n",
       "      <td>18</td>\n",
       "      <td>1898</td>\n",
       "      <td>103980030</td>\n",
       "      <td>5782</td>\n",
       "      <td>2012-04-26</td>\n",
       "      <td>8.00</td>\n",
       "      <td>CT</td>\n",
       "      <td>1</td>\n",
       "      <td>6.39</td>\n",
       "      <td>6.390000</td>\n",
       "      <td>2012</td>\n",
       "      <td>4</td>\n",
       "      <td>lag_15</td>\n",
       "    </tr>\n",
       "    <tr>\n",
       "      <th>25</th>\n",
       "      <td>4633443396</td>\n",
       "      <td>153</td>\n",
       "      <td>54</td>\n",
       "      <td>5402</td>\n",
       "      <td>1068826767</td>\n",
       "      <td>81691</td>\n",
       "      <td>2012-08-11</td>\n",
       "      <td>16.00</td>\n",
       "      <td>OZ</td>\n",
       "      <td>1</td>\n",
       "      <td>2.50</td>\n",
       "      <td>2.500000</td>\n",
       "      <td>2012</td>\n",
       "      <td>8</td>\n",
       "      <td>lag_11</td>\n",
       "    </tr>\n",
       "    <tr>\n",
       "      <th>26</th>\n",
       "      <td>4639764670</td>\n",
       "      <td>152</td>\n",
       "      <td>51</td>\n",
       "      <td>5199</td>\n",
       "      <td>1068826767</td>\n",
       "      <td>20616</td>\n",
       "      <td>2012-10-27</td>\n",
       "      <td>20.00</td>\n",
       "      <td>LB</td>\n",
       "      <td>3</td>\n",
       "      <td>11.97</td>\n",
       "      <td>3.990000</td>\n",
       "      <td>2012</td>\n",
       "      <td>10</td>\n",
       "      <td>lag_9</td>\n",
       "    </tr>\n",
       "    <tr>\n",
       "      <th>27</th>\n",
       "      <td>583494964</td>\n",
       "      <td>96</td>\n",
       "      <td>21</td>\n",
       "      <td>2110</td>\n",
       "      <td>103003434</td>\n",
       "      <td>7175</td>\n",
       "      <td>2012-07-25</td>\n",
       "      <td>64.00</td>\n",
       "      <td>OZ</td>\n",
       "      <td>1</td>\n",
       "      <td>2.99</td>\n",
       "      <td>2.990000</td>\n",
       "      <td>2012</td>\n",
       "      <td>7</td>\n",
       "      <td>lag_12</td>\n",
       "    </tr>\n",
       "    <tr>\n",
       "      <th>28</th>\n",
       "      <td>498063517</td>\n",
       "      <td>21</td>\n",
       "      <td>9</td>\n",
       "      <td>902</td>\n",
       "      <td>104950848</td>\n",
       "      <td>16730</td>\n",
       "      <td>2012-06-29</td>\n",
       "      <td>7.20</td>\n",
       "      <td>OZ</td>\n",
       "      <td>1</td>\n",
       "      <td>2.49</td>\n",
       "      <td>2.490000</td>\n",
       "      <td>2012</td>\n",
       "      <td>6</td>\n",
       "      <td>lag_13</td>\n",
       "    </tr>\n",
       "    <tr>\n",
       "      <th>29</th>\n",
       "      <td>3388852867</td>\n",
       "      <td>214</td>\n",
       "      <td>28</td>\n",
       "      <td>2806</td>\n",
       "      <td>105410050</td>\n",
       "      <td>19509</td>\n",
       "      <td>2012-05-26</td>\n",
       "      <td>80.00</td>\n",
       "      <td>OZ</td>\n",
       "      <td>1</td>\n",
       "      <td>3.98</td>\n",
       "      <td>3.980000</td>\n",
       "      <td>2012</td>\n",
       "      <td>5</td>\n",
       "      <td>lag_14</td>\n",
       "    </tr>\n",
       "    <tr>\n",
       "      <th>...</th>\n",
       "      <td>...</td>\n",
       "      <td>...</td>\n",
       "      <td>...</td>\n",
       "      <td>...</td>\n",
       "      <td>...</td>\n",
       "      <td>...</td>\n",
       "      <td>...</td>\n",
       "      <td>...</td>\n",
       "      <td>...</td>\n",
       "      <td>...</td>\n",
       "      <td>...</td>\n",
       "      <td>...</td>\n",
       "      <td>...</td>\n",
       "      <td>...</td>\n",
       "      <td>...</td>\n",
       "    </tr>\n",
       "    <tr>\n",
       "      <th>213728</th>\n",
       "      <td>308568712</td>\n",
       "      <td>360</td>\n",
       "      <td>63</td>\n",
       "      <td>6315</td>\n",
       "      <td>104173545</td>\n",
       "      <td>14456</td>\n",
       "      <td>2013-03-10</td>\n",
       "      <td>64.00</td>\n",
       "      <td>OZ</td>\n",
       "      <td>1</td>\n",
       "      <td>1.89</td>\n",
       "      <td>1.890000</td>\n",
       "      <td>2013</td>\n",
       "      <td>3</td>\n",
       "      <td>lag_4</td>\n",
       "    </tr>\n",
       "    <tr>\n",
       "      <th>213729</th>\n",
       "      <td>2654369888</td>\n",
       "      <td>96</td>\n",
       "      <td>57</td>\n",
       "      <td>5704</td>\n",
       "      <td>104667545</td>\n",
       "      <td>20216</td>\n",
       "      <td>2012-03-28</td>\n",
       "      <td>6.00</td>\n",
       "      <td>OZ</td>\n",
       "      <td>2</td>\n",
       "      <td>1.60</td>\n",
       "      <td>0.800000</td>\n",
       "      <td>2012</td>\n",
       "      <td>3</td>\n",
       "      <td>lag_16</td>\n",
       "    </tr>\n",
       "    <tr>\n",
       "      <th>213730</th>\n",
       "      <td>496608132</td>\n",
       "      <td>21</td>\n",
       "      <td>2</td>\n",
       "      <td>201</td>\n",
       "      <td>107270070</td>\n",
       "      <td>11079</td>\n",
       "      <td>2013-03-29</td>\n",
       "      <td>13.00</td>\n",
       "      <td>OZ</td>\n",
       "      <td>1</td>\n",
       "      <td>1.99</td>\n",
       "      <td>1.990000</td>\n",
       "      <td>2013</td>\n",
       "      <td>3</td>\n",
       "      <td>lag_4</td>\n",
       "    </tr>\n",
       "    <tr>\n",
       "      <th>213731</th>\n",
       "      <td>4620722656</td>\n",
       "      <td>152</td>\n",
       "      <td>29</td>\n",
       "      <td>2903</td>\n",
       "      <td>106414464</td>\n",
       "      <td>3342</td>\n",
       "      <td>2013-03-15</td>\n",
       "      <td>15.00</td>\n",
       "      <td>OZ</td>\n",
       "      <td>2</td>\n",
       "      <td>3.78</td>\n",
       "      <td>1.890000</td>\n",
       "      <td>2013</td>\n",
       "      <td>3</td>\n",
       "      <td>lag_4</td>\n",
       "    </tr>\n",
       "    <tr>\n",
       "      <th>213732</th>\n",
       "      <td>4036537744</td>\n",
       "      <td>101</td>\n",
       "      <td>23</td>\n",
       "      <td>2301</td>\n",
       "      <td>1076738777</td>\n",
       "      <td>5261</td>\n",
       "      <td>2013-04-05</td>\n",
       "      <td>13.25</td>\n",
       "      <td>OZ</td>\n",
       "      <td>1</td>\n",
       "      <td>1.79</td>\n",
       "      <td>1.790000</td>\n",
       "      <td>2013</td>\n",
       "      <td>4</td>\n",
       "      <td>lag_3</td>\n",
       "    </tr>\n",
       "    <tr>\n",
       "      <th>213733</th>\n",
       "      <td>2912282575</td>\n",
       "      <td>96</td>\n",
       "      <td>56</td>\n",
       "      <td>5607</td>\n",
       "      <td>102100020</td>\n",
       "      <td>13967</td>\n",
       "      <td>2013-06-10</td>\n",
       "      <td>10.00</td>\n",
       "      <td>OZ</td>\n",
       "      <td>1</td>\n",
       "      <td>1.99</td>\n",
       "      <td>1.990000</td>\n",
       "      <td>2013</td>\n",
       "      <td>6</td>\n",
       "      <td>lag_1</td>\n",
       "    </tr>\n",
       "    <tr>\n",
       "      <th>213734</th>\n",
       "      <td>4633502531</td>\n",
       "      <td>153</td>\n",
       "      <td>5</td>\n",
       "      <td>501</td>\n",
       "      <td>1068826767</td>\n",
       "      <td>81691</td>\n",
       "      <td>2012-11-29</td>\n",
       "      <td>17.30</td>\n",
       "      <td>OZ</td>\n",
       "      <td>1</td>\n",
       "      <td>2.79</td>\n",
       "      <td>2.790000</td>\n",
       "      <td>2012</td>\n",
       "      <td>11</td>\n",
       "      <td>lag_8</td>\n",
       "    </tr>\n",
       "    <tr>\n",
       "      <th>213735</th>\n",
       "      <td>4638280529</td>\n",
       "      <td>152</td>\n",
       "      <td>19</td>\n",
       "      <td>1908</td>\n",
       "      <td>1068826767</td>\n",
       "      <td>81691</td>\n",
       "      <td>2013-02-10</td>\n",
       "      <td>16.00</td>\n",
       "      <td>OZ</td>\n",
       "      <td>3</td>\n",
       "      <td>8.37</td>\n",
       "      <td>2.790000</td>\n",
       "      <td>2013</td>\n",
       "      <td>2</td>\n",
       "      <td>lag_5</td>\n",
       "    </tr>\n",
       "    <tr>\n",
       "      <th>213736</th>\n",
       "      <td>310454181</td>\n",
       "      <td>360</td>\n",
       "      <td>29</td>\n",
       "      <td>2930</td>\n",
       "      <td>103760030</td>\n",
       "      <td>72948</td>\n",
       "      <td>2012-11-01</td>\n",
       "      <td>10.00</td>\n",
       "      <td>OZ</td>\n",
       "      <td>1</td>\n",
       "      <td>2.99</td>\n",
       "      <td>2.990000</td>\n",
       "      <td>2012</td>\n",
       "      <td>11</td>\n",
       "      <td>lag_8</td>\n",
       "    </tr>\n",
       "    <tr>\n",
       "      <th>213737</th>\n",
       "      <td>498358279</td>\n",
       "      <td>21</td>\n",
       "      <td>22</td>\n",
       "      <td>2210</td>\n",
       "      <td>1088596787</td>\n",
       "      <td>6313</td>\n",
       "      <td>2012-05-06</td>\n",
       "      <td>64.00</td>\n",
       "      <td>OZ</td>\n",
       "      <td>1</td>\n",
       "      <td>1.99</td>\n",
       "      <td>1.990000</td>\n",
       "      <td>2012</td>\n",
       "      <td>5</td>\n",
       "      <td>lag_14</td>\n",
       "    </tr>\n",
       "    <tr>\n",
       "      <th>213738</th>\n",
       "      <td>2689636531</td>\n",
       "      <td>96</td>\n",
       "      <td>60</td>\n",
       "      <td>6011</td>\n",
       "      <td>101800010</td>\n",
       "      <td>14029</td>\n",
       "      <td>2013-02-01</td>\n",
       "      <td>10.20</td>\n",
       "      <td>OZ</td>\n",
       "      <td>3</td>\n",
       "      <td>3.00</td>\n",
       "      <td>1.000000</td>\n",
       "      <td>2013</td>\n",
       "      <td>2</td>\n",
       "      <td>lag_5</td>\n",
       "    </tr>\n",
       "    <tr>\n",
       "      <th>213739</th>\n",
       "      <td>583176675</td>\n",
       "      <td>96</td>\n",
       "      <td>63</td>\n",
       "      <td>6323</td>\n",
       "      <td>1074236575</td>\n",
       "      <td>8499</td>\n",
       "      <td>2012-12-07</td>\n",
       "      <td>64.00</td>\n",
       "      <td>OZ</td>\n",
       "      <td>1</td>\n",
       "      <td>4.79</td>\n",
       "      <td>4.790000</td>\n",
       "      <td>2012</td>\n",
       "      <td>12</td>\n",
       "      <td>lag_7</td>\n",
       "    </tr>\n",
       "    <tr>\n",
       "      <th>213740</th>\n",
       "      <td>464992622</td>\n",
       "      <td>101</td>\n",
       "      <td>26</td>\n",
       "      <td>2630</td>\n",
       "      <td>103600030</td>\n",
       "      <td>9787</td>\n",
       "      <td>2012-04-22</td>\n",
       "      <td>120.00</td>\n",
       "      <td>CT</td>\n",
       "      <td>1</td>\n",
       "      <td>1.89</td>\n",
       "      <td>1.890000</td>\n",
       "      <td>2012</td>\n",
       "      <td>4</td>\n",
       "      <td>lag_15</td>\n",
       "    </tr>\n",
       "    <tr>\n",
       "      <th>213741</th>\n",
       "      <td>2593389099</td>\n",
       "      <td>21</td>\n",
       "      <td>58</td>\n",
       "      <td>5834</td>\n",
       "      <td>102718222</td>\n",
       "      <td>18969</td>\n",
       "      <td>2013-01-10</td>\n",
       "      <td>17.00</td>\n",
       "      <td>OZ</td>\n",
       "      <td>1</td>\n",
       "      <td>3.59</td>\n",
       "      <td>3.590000</td>\n",
       "      <td>2013</td>\n",
       "      <td>1</td>\n",
       "      <td>lag_6</td>\n",
       "    </tr>\n",
       "    <tr>\n",
       "      <th>213742</th>\n",
       "      <td>4615925965</td>\n",
       "      <td>153</td>\n",
       "      <td>21</td>\n",
       "      <td>2105</td>\n",
       "      <td>105200050</td>\n",
       "      <td>7054</td>\n",
       "      <td>2012-07-30</td>\n",
       "      <td>32.00</td>\n",
       "      <td>OZ</td>\n",
       "      <td>4</td>\n",
       "      <td>6.36</td>\n",
       "      <td>1.590000</td>\n",
       "      <td>2012</td>\n",
       "      <td>7</td>\n",
       "      <td>lag_12</td>\n",
       "    </tr>\n",
       "    <tr>\n",
       "      <th>213743</th>\n",
       "      <td>874242685</td>\n",
       "      <td>214</td>\n",
       "      <td>8</td>\n",
       "      <td>803</td>\n",
       "      <td>104122040</td>\n",
       "      <td>20514</td>\n",
       "      <td>2012-10-21</td>\n",
       "      <td>16.00</td>\n",
       "      <td>OZ</td>\n",
       "      <td>1</td>\n",
       "      <td>0.85</td>\n",
       "      <td>0.850000</td>\n",
       "      <td>2012</td>\n",
       "      <td>10</td>\n",
       "      <td>lag_9</td>\n",
       "    </tr>\n",
       "    <tr>\n",
       "      <th>213744</th>\n",
       "      <td>3358197556</td>\n",
       "      <td>96</td>\n",
       "      <td>36</td>\n",
       "      <td>3636</td>\n",
       "      <td>104300040</td>\n",
       "      <td>29501</td>\n",
       "      <td>2012-07-14</td>\n",
       "      <td>192.00</td>\n",
       "      <td>OZ</td>\n",
       "      <td>1</td>\n",
       "      <td>3.99</td>\n",
       "      <td>3.990000</td>\n",
       "      <td>2012</td>\n",
       "      <td>7</td>\n",
       "      <td>lag_12</td>\n",
       "    </tr>\n",
       "    <tr>\n",
       "      <th>213745</th>\n",
       "      <td>684701783</td>\n",
       "      <td>89</td>\n",
       "      <td>35</td>\n",
       "      <td>3506</td>\n",
       "      <td>105170050</td>\n",
       "      <td>6335</td>\n",
       "      <td>2012-11-16</td>\n",
       "      <td>14.10</td>\n",
       "      <td>OZ</td>\n",
       "      <td>1</td>\n",
       "      <td>4.29</td>\n",
       "      <td>4.290000</td>\n",
       "      <td>2012</td>\n",
       "      <td>11</td>\n",
       "      <td>lag_8</td>\n",
       "    </tr>\n",
       "    <tr>\n",
       "      <th>213746</th>\n",
       "      <td>403328011</td>\n",
       "      <td>101</td>\n",
       "      <td>25</td>\n",
       "      <td>2509</td>\n",
       "      <td>103450030</td>\n",
       "      <td>10165</td>\n",
       "      <td>2012-10-27</td>\n",
       "      <td>32.00</td>\n",
       "      <td>OZ</td>\n",
       "      <td>1</td>\n",
       "      <td>2.39</td>\n",
       "      <td>2.390000</td>\n",
       "      <td>2012</td>\n",
       "      <td>10</td>\n",
       "      <td>lag_9</td>\n",
       "    </tr>\n",
       "    <tr>\n",
       "      <th>213747</th>\n",
       "      <td>563914485</td>\n",
       "      <td>21</td>\n",
       "      <td>51</td>\n",
       "      <td>5132</td>\n",
       "      <td>101125111</td>\n",
       "      <td>3526</td>\n",
       "      <td>2012-09-29</td>\n",
       "      <td>10.00</td>\n",
       "      <td>OZ</td>\n",
       "      <td>4</td>\n",
       "      <td>12.00</td>\n",
       "      <td>3.000000</td>\n",
       "      <td>2012</td>\n",
       "      <td>9</td>\n",
       "      <td>lag_10</td>\n",
       "    </tr>\n",
       "    <tr>\n",
       "      <th>213748</th>\n",
       "      <td>2134375163</td>\n",
       "      <td>96</td>\n",
       "      <td>47</td>\n",
       "      <td>4706</td>\n",
       "      <td>107047070</td>\n",
       "      <td>20230</td>\n",
       "      <td>2012-08-30</td>\n",
       "      <td>7.60</td>\n",
       "      <td>OZ</td>\n",
       "      <td>2</td>\n",
       "      <td>7.18</td>\n",
       "      <td>3.590000</td>\n",
       "      <td>2012</td>\n",
       "      <td>8</td>\n",
       "      <td>lag_11</td>\n",
       "    </tr>\n",
       "    <tr>\n",
       "      <th>213749</th>\n",
       "      <td>697655116</td>\n",
       "      <td>89</td>\n",
       "      <td>41</td>\n",
       "      <td>4107</td>\n",
       "      <td>107321474</td>\n",
       "      <td>11575</td>\n",
       "      <td>2012-05-20</td>\n",
       "      <td>16.00</td>\n",
       "      <td>OZ</td>\n",
       "      <td>1</td>\n",
       "      <td>2.79</td>\n",
       "      <td>2.790000</td>\n",
       "      <td>2012</td>\n",
       "      <td>5</td>\n",
       "      <td>lag_14</td>\n",
       "    </tr>\n",
       "    <tr>\n",
       "      <th>213750</th>\n",
       "      <td>309248347</td>\n",
       "      <td>360</td>\n",
       "      <td>33</td>\n",
       "      <td>3310</td>\n",
       "      <td>1072822979</td>\n",
       "      <td>18169</td>\n",
       "      <td>2012-08-03</td>\n",
       "      <td>6.00</td>\n",
       "      <td>OZ</td>\n",
       "      <td>1</td>\n",
       "      <td>3.69</td>\n",
       "      <td>3.690000</td>\n",
       "      <td>2012</td>\n",
       "      <td>8</td>\n",
       "      <td>lag_11</td>\n",
       "    </tr>\n",
       "    <tr>\n",
       "      <th>213751</th>\n",
       "      <td>478999605</td>\n",
       "      <td>101</td>\n",
       "      <td>37</td>\n",
       "      <td>3709</td>\n",
       "      <td>107066272</td>\n",
       "      <td>12673</td>\n",
       "      <td>2012-04-09</td>\n",
       "      <td>2.82</td>\n",
       "      <td>OZ</td>\n",
       "      <td>3</td>\n",
       "      <td>2.25</td>\n",
       "      <td>0.750000</td>\n",
       "      <td>2012</td>\n",
       "      <td>4</td>\n",
       "      <td>lag_15</td>\n",
       "    </tr>\n",
       "    <tr>\n",
       "      <th>213752</th>\n",
       "      <td>495658797</td>\n",
       "      <td>21</td>\n",
       "      <td>9</td>\n",
       "      <td>910</td>\n",
       "      <td>101410010</td>\n",
       "      <td>13791</td>\n",
       "      <td>2013-01-27</td>\n",
       "      <td>6.00</td>\n",
       "      <td>OZ</td>\n",
       "      <td>1</td>\n",
       "      <td>2.00</td>\n",
       "      <td>2.000000</td>\n",
       "      <td>2013</td>\n",
       "      <td>1</td>\n",
       "      <td>lag_6</td>\n",
       "    </tr>\n",
       "    <tr>\n",
       "      <th>213753</th>\n",
       "      <td>746340304</td>\n",
       "      <td>89</td>\n",
       "      <td>51</td>\n",
       "      <td>5127</td>\n",
       "      <td>105100050</td>\n",
       "      <td>8605</td>\n",
       "      <td>2012-05-23</td>\n",
       "      <td>14.50</td>\n",
       "      <td>OZ</td>\n",
       "      <td>1</td>\n",
       "      <td>2.64</td>\n",
       "      <td>2.640000</td>\n",
       "      <td>2012</td>\n",
       "      <td>5</td>\n",
       "      <td>lag_14</td>\n",
       "    </tr>\n",
       "    <tr>\n",
       "      <th>213754</th>\n",
       "      <td>3852447444</td>\n",
       "      <td>214</td>\n",
       "      <td>97</td>\n",
       "      <td>9753</td>\n",
       "      <td>1022033525</td>\n",
       "      <td>0</td>\n",
       "      <td>2012-12-18</td>\n",
       "      <td>1.00</td>\n",
       "      <td>CT</td>\n",
       "      <td>1</td>\n",
       "      <td>1.79</td>\n",
       "      <td>1.790000</td>\n",
       "      <td>2012</td>\n",
       "      <td>12</td>\n",
       "      <td>lag_7</td>\n",
       "    </tr>\n",
       "    <tr>\n",
       "      <th>213755</th>\n",
       "      <td>498182272</td>\n",
       "      <td>21</td>\n",
       "      <td>71</td>\n",
       "      <td>7113</td>\n",
       "      <td>107940070</td>\n",
       "      <td>17521</td>\n",
       "      <td>2012-10-14</td>\n",
       "      <td>12.60</td>\n",
       "      <td>OZ</td>\n",
       "      <td>1</td>\n",
       "      <td>1.99</td>\n",
       "      <td>1.990000</td>\n",
       "      <td>2012</td>\n",
       "      <td>10</td>\n",
       "      <td>lag_9</td>\n",
       "    </tr>\n",
       "    <tr>\n",
       "      <th>213756</th>\n",
       "      <td>2438006709</td>\n",
       "      <td>46</td>\n",
       "      <td>71</td>\n",
       "      <td>7113</td>\n",
       "      <td>108087888</td>\n",
       "      <td>13505</td>\n",
       "      <td>2012-06-05</td>\n",
       "      <td>12.60</td>\n",
       "      <td>OZ</td>\n",
       "      <td>2</td>\n",
       "      <td>6.66</td>\n",
       "      <td>3.330000</td>\n",
       "      <td>2012</td>\n",
       "      <td>6</td>\n",
       "      <td>lag_13</td>\n",
       "    </tr>\n",
       "    <tr>\n",
       "      <th>213757</th>\n",
       "      <td>494982546</td>\n",
       "      <td>21</td>\n",
       "      <td>8</td>\n",
       "      <td>817</td>\n",
       "      <td>107050676</td>\n",
       "      <td>3860</td>\n",
       "      <td>2013-02-12</td>\n",
       "      <td>10.50</td>\n",
       "      <td>OZ</td>\n",
       "      <td>5</td>\n",
       "      <td>5.70</td>\n",
       "      <td>1.140000</td>\n",
       "      <td>2013</td>\n",
       "      <td>2</td>\n",
       "      <td>lag_5</td>\n",
       "    </tr>\n",
       "  </tbody>\n",
       "</table>\n",
       "<p>213758 rows × 15 columns</p>\n",
       "</div>"
      ],
      "text/plain": [
       "                id  chain  dept  category     company  brand       date  \\\n",
       "0        308340717    360    35      3504   103500030  13470 2012-06-12   \n",
       "1       4629335121    153    63      6320  1068826767  81691 2012-09-10   \n",
       "2       4235139153    214     4       410   101420010   3294 2012-10-02   \n",
       "3       2739666735     46    63      6305   104850040  18799 2012-03-20   \n",
       "4        496271276     21    27      2705   107910070     85 2012-07-25   \n",
       "5        501103393     21    26      2632  1085502282  12632 2012-12-22   \n",
       "6        477462045    101    59      5902  1068826767  81691 2013-01-24   \n",
       "7       2406744864    214    41      4121   104122040  23511 2012-06-11   \n",
       "8       3378435506    214    41      4107   103710030  10383 2013-03-17   \n",
       "9       3693848948    214    67      6708   105080353  19537 2012-08-23   \n",
       "10      2444350619     46    45      4511   102370020  18969 2012-03-30   \n",
       "11      3401984119     96    36      3618   104900040  23359 2012-04-13   \n",
       "12      3388824436    214    97      9753  1023120727      0 2013-02-17   \n",
       "13      2245272808    101    97      9753  1023230424      0 2012-09-03   \n",
       "14       564475368     21    14      1414   104119040  16347 2012-10-27   \n",
       "15       602926476     96     0         0       10000      0 2012-05-24   \n",
       "16      3859854838     46    41      4106  1071373373  11473 2013-07-14   \n",
       "17       495665215     21    33      3314   103000030  14760 2012-06-24   \n",
       "18       683965204     89     0         0       10000      0 2013-01-26   \n",
       "19       496091766     21    53      5307   101450010  20864 2012-08-17   \n",
       "20      3832341811    214    97      9753  1022401121      0 2012-12-18   \n",
       "21       500192527     21    63      6315   104119040  16347 2012-06-10   \n",
       "22      4642317624    153    41      4107   102000020   7655 2013-05-20   \n",
       "23       496728672     21    63      6305   104119040  16347 2013-04-11   \n",
       "24       714426084     89    18      1898   103980030   5782 2012-04-26   \n",
       "25      4633443396    153    54      5402  1068826767  81691 2012-08-11   \n",
       "26      4639764670    152    51      5199  1068826767  20616 2012-10-27   \n",
       "27       583494964     96    21      2110   103003434   7175 2012-07-25   \n",
       "28       498063517     21     9       902   104950848  16730 2012-06-29   \n",
       "29      3388852867    214    28      2806   105410050  19509 2012-05-26   \n",
       "...            ...    ...   ...       ...         ...    ...        ...   \n",
       "213728   308568712    360    63      6315   104173545  14456 2013-03-10   \n",
       "213729  2654369888     96    57      5704   104667545  20216 2012-03-28   \n",
       "213730   496608132     21     2       201   107270070  11079 2013-03-29   \n",
       "213731  4620722656    152    29      2903   106414464   3342 2013-03-15   \n",
       "213732  4036537744    101    23      2301  1076738777   5261 2013-04-05   \n",
       "213733  2912282575     96    56      5607   102100020  13967 2013-06-10   \n",
       "213734  4633502531    153     5       501  1068826767  81691 2012-11-29   \n",
       "213735  4638280529    152    19      1908  1068826767  81691 2013-02-10   \n",
       "213736   310454181    360    29      2930   103760030  72948 2012-11-01   \n",
       "213737   498358279     21    22      2210  1088596787   6313 2012-05-06   \n",
       "213738  2689636531     96    60      6011   101800010  14029 2013-02-01   \n",
       "213739   583176675     96    63      6323  1074236575   8499 2012-12-07   \n",
       "213740   464992622    101    26      2630   103600030   9787 2012-04-22   \n",
       "213741  2593389099     21    58      5834   102718222  18969 2013-01-10   \n",
       "213742  4615925965    153    21      2105   105200050   7054 2012-07-30   \n",
       "213743   874242685    214     8       803   104122040  20514 2012-10-21   \n",
       "213744  3358197556     96    36      3636   104300040  29501 2012-07-14   \n",
       "213745   684701783     89    35      3506   105170050   6335 2012-11-16   \n",
       "213746   403328011    101    25      2509   103450030  10165 2012-10-27   \n",
       "213747   563914485     21    51      5132   101125111   3526 2012-09-29   \n",
       "213748  2134375163     96    47      4706   107047070  20230 2012-08-30   \n",
       "213749   697655116     89    41      4107   107321474  11575 2012-05-20   \n",
       "213750   309248347    360    33      3310  1072822979  18169 2012-08-03   \n",
       "213751   478999605    101    37      3709   107066272  12673 2012-04-09   \n",
       "213752   495658797     21     9       910   101410010  13791 2013-01-27   \n",
       "213753   746340304     89    51      5127   105100050   8605 2012-05-23   \n",
       "213754  3852447444    214    97      9753  1022033525      0 2012-12-18   \n",
       "213755   498182272     21    71      7113   107940070  17521 2012-10-14   \n",
       "213756  2438006709     46    71      7113   108087888  13505 2012-06-05   \n",
       "213757   494982546     21     8       817   107050676   3860 2013-02-12   \n",
       "\n",
       "        productsize productmeasure  purchasequantity  purchaseamount  \\\n",
       "0             10.00             OZ                 1            1.79   \n",
       "1             12.00             CT                 1            2.79   \n",
       "2              1.12             OZ                11            3.63   \n",
       "3             59.00             OZ                 1            3.19   \n",
       "4             22.00             OZ                 4            7.08   \n",
       "5             80.00             CT                 3            2.97   \n",
       "6             16.00             OZ                 1            2.79   \n",
       "7              8.00             OZ                 3            1.00   \n",
       "8             14.75             OZ                 2            1.30   \n",
       "9              1.00             CT                 1           14.98   \n",
       "10            22.00             OZ                 2           11.98   \n",
       "11            96.00             OZ                 1            4.00   \n",
       "12             1.00             CT                 7           10.43   \n",
       "13             1.00             CT                 5           29.44   \n",
       "14             8.25             OZ                 1            0.89   \n",
       "15             0.00        Unknown                 1            0.00   \n",
       "16            13.25             OZ                 1            1.44   \n",
       "17             3.52             OZ                 1            1.67   \n",
       "18             0.00        Unknown                 1            0.00   \n",
       "19            12.00             OZ                 2            4.00   \n",
       "20             1.00             CT                 1            8.90   \n",
       "21           128.00             OZ                 1            3.19   \n",
       "22            14.50             OZ                 2            2.50   \n",
       "23            16.00             OZ                 1            0.79   \n",
       "24             8.00             CT                 1            6.39   \n",
       "25            16.00             OZ                 1            2.50   \n",
       "26            20.00             LB                 3           11.97   \n",
       "27            64.00             OZ                 1            2.99   \n",
       "28             7.20             OZ                 1            2.49   \n",
       "29            80.00             OZ                 1            3.98   \n",
       "...             ...            ...               ...             ...   \n",
       "213728        64.00             OZ                 1            1.89   \n",
       "213729         6.00             OZ                 2            1.60   \n",
       "213730        13.00             OZ                 1            1.99   \n",
       "213731        15.00             OZ                 2            3.78   \n",
       "213732        13.25             OZ                 1            1.79   \n",
       "213733        10.00             OZ                 1            1.99   \n",
       "213734        17.30             OZ                 1            2.79   \n",
       "213735        16.00             OZ                 3            8.37   \n",
       "213736        10.00             OZ                 1            2.99   \n",
       "213737        64.00             OZ                 1            1.99   \n",
       "213738        10.20             OZ                 3            3.00   \n",
       "213739        64.00             OZ                 1            4.79   \n",
       "213740       120.00             CT                 1            1.89   \n",
       "213741        17.00             OZ                 1            3.59   \n",
       "213742        32.00             OZ                 4            6.36   \n",
       "213743        16.00             OZ                 1            0.85   \n",
       "213744       192.00             OZ                 1            3.99   \n",
       "213745        14.10             OZ                 1            4.29   \n",
       "213746        32.00             OZ                 1            2.39   \n",
       "213747        10.00             OZ                 4           12.00   \n",
       "213748         7.60             OZ                 2            7.18   \n",
       "213749        16.00             OZ                 1            2.79   \n",
       "213750         6.00             OZ                 1            3.69   \n",
       "213751         2.82             OZ                 3            2.25   \n",
       "213752         6.00             OZ                 1            2.00   \n",
       "213753        14.50             OZ                 1            2.64   \n",
       "213754         1.00             CT                 1            1.79   \n",
       "213755        12.60             OZ                 1            1.99   \n",
       "213756        12.60             OZ                 2            6.66   \n",
       "213757        10.50             OZ                 5            5.70   \n",
       "\n",
       "            price  year  month dateblock  \n",
       "0        1.790000  2012      6    lag_13  \n",
       "1        2.790000  2012      9    lag_10  \n",
       "2        0.330000  2012     10     lag_9  \n",
       "3        3.190000  2012      3    lag_16  \n",
       "4        1.770000  2012      7    lag_12  \n",
       "5        0.990000  2012     12     lag_7  \n",
       "6        2.790000  2013      1     lag_6  \n",
       "7        0.333333  2012      6    lag_13  \n",
       "8        0.650000  2013      3     lag_4  \n",
       "9       14.980000  2012      8    lag_11  \n",
       "10       5.990000  2012      3    lag_16  \n",
       "11       4.000000  2012      4    lag_15  \n",
       "12       1.490000  2013      2     lag_5  \n",
       "13       5.888000  2012      9    lag_10  \n",
       "14       0.890000  2012     10     lag_9  \n",
       "15       0.000000  2012      5    lag_14  \n",
       "16       1.440000  2013      7     lag_0  \n",
       "17       1.670000  2012      6    lag_13  \n",
       "18       0.000000  2013      1     lag_6  \n",
       "19       2.000000  2012      8    lag_11  \n",
       "20       8.900000  2012     12     lag_7  \n",
       "21       3.190000  2012      6    lag_13  \n",
       "22       1.250000  2013      5     lag_2  \n",
       "23       0.790000  2013      4     lag_3  \n",
       "24       6.390000  2012      4    lag_15  \n",
       "25       2.500000  2012      8    lag_11  \n",
       "26       3.990000  2012     10     lag_9  \n",
       "27       2.990000  2012      7    lag_12  \n",
       "28       2.490000  2012      6    lag_13  \n",
       "29       3.980000  2012      5    lag_14  \n",
       "...           ...   ...    ...       ...  \n",
       "213728   1.890000  2013      3     lag_4  \n",
       "213729   0.800000  2012      3    lag_16  \n",
       "213730   1.990000  2013      3     lag_4  \n",
       "213731   1.890000  2013      3     lag_4  \n",
       "213732   1.790000  2013      4     lag_3  \n",
       "213733   1.990000  2013      6     lag_1  \n",
       "213734   2.790000  2012     11     lag_8  \n",
       "213735   2.790000  2013      2     lag_5  \n",
       "213736   2.990000  2012     11     lag_8  \n",
       "213737   1.990000  2012      5    lag_14  \n",
       "213738   1.000000  2013      2     lag_5  \n",
       "213739   4.790000  2012     12     lag_7  \n",
       "213740   1.890000  2012      4    lag_15  \n",
       "213741   3.590000  2013      1     lag_6  \n",
       "213742   1.590000  2012      7    lag_12  \n",
       "213743   0.850000  2012     10     lag_9  \n",
       "213744   3.990000  2012      7    lag_12  \n",
       "213745   4.290000  2012     11     lag_8  \n",
       "213746   2.390000  2012     10     lag_9  \n",
       "213747   3.000000  2012      9    lag_10  \n",
       "213748   3.590000  2012      8    lag_11  \n",
       "213749   2.790000  2012      5    lag_14  \n",
       "213750   3.690000  2012      8    lag_11  \n",
       "213751   0.750000  2012      4    lag_15  \n",
       "213752   2.000000  2013      1     lag_6  \n",
       "213753   2.640000  2012      5    lag_14  \n",
       "213754   1.790000  2012     12     lag_7  \n",
       "213755   1.990000  2012     10     lag_9  \n",
       "213756   3.330000  2012      6    lag_13  \n",
       "213757   1.140000  2013      2     lag_5  \n",
       "\n",
       "[213758 rows x 15 columns]"
      ]
     },
     "execution_count": 54,
     "metadata": {},
     "output_type": "execute_result"
    }
   ],
   "source": [
    "transaction_pop_chains.reset_index(drop = True)"
   ]
  },
  {
   "cell_type": "code",
   "execution_count": 55,
   "metadata": {},
   "outputs": [
    {
     "name": "stderr",
     "output_type": "stream",
     "text": [
      "/Users/apple/anaconda/lib/python2.7/site-packages/ipykernel_launcher.py:1: SettingWithCopyWarning: \n",
      "A value is trying to be set on a copy of a slice from a DataFrame.\n",
      "Try using .loc[row_indexer,col_indexer] = value instead\n",
      "\n",
      "See the caveats in the documentation: http://pandas.pydata.org/pandas-docs/stable/indexing.html#indexing-view-versus-copy\n",
      "  \"\"\"Entry point for launching an IPython kernel.\n"
     ]
    }
   ],
   "source": [
    "transaction_pop_chains['count'] = pd.DataFrame(np.array([1]*len(transaction_pop_chains)))"
   ]
  },
  {
   "cell_type": "code",
   "execution_count": 56,
   "metadata": {
    "collapsed": true
   },
   "outputs": [],
   "source": [
    "transaction_by_chains = transaction_pop_chains.pivot_table('count', aggfunc = 'count',\n",
    "                                                          index = 'dateblock',\n",
    "                                                          columns = 'chain')"
   ]
  },
  {
   "cell_type": "code",
   "execution_count": 57,
   "metadata": {
    "collapsed": true
   },
   "outputs": [],
   "source": [
    "price_by_chains = transaction_pop_chains.pivot_table('price', aggfunc = 'mean',\n",
    "                                                          index = 'dateblock',\n",
    "                                                          columns = 'chain')"
   ]
  },
  {
   "cell_type": "code",
   "execution_count": 58,
   "metadata": {},
   "outputs": [
    {
     "data": {
      "text/html": [
       "<div>\n",
       "<style>\n",
       "    .dataframe thead tr:only-child th {\n",
       "        text-align: right;\n",
       "    }\n",
       "\n",
       "    .dataframe thead th {\n",
       "        text-align: left;\n",
       "    }\n",
       "\n",
       "    .dataframe tbody tr th {\n",
       "        vertical-align: top;\n",
       "    }\n",
       "</style>\n",
       "<table border=\"1\" class=\"dataframe\">\n",
       "  <thead>\n",
       "    <tr style=\"text-align: right;\">\n",
       "      <th>chain</th>\n",
       "      <th>21</th>\n",
       "      <th>31</th>\n",
       "      <th>46</th>\n",
       "      <th>89</th>\n",
       "      <th>96</th>\n",
       "      <th>101</th>\n",
       "      <th>152</th>\n",
       "      <th>153</th>\n",
       "      <th>191</th>\n",
       "      <th>214</th>\n",
       "      <th>360</th>\n",
       "    </tr>\n",
       "    <tr>\n",
       "      <th>dateblock</th>\n",
       "      <th></th>\n",
       "      <th></th>\n",
       "      <th></th>\n",
       "      <th></th>\n",
       "      <th></th>\n",
       "      <th></th>\n",
       "      <th></th>\n",
       "      <th></th>\n",
       "      <th></th>\n",
       "      <th></th>\n",
       "      <th></th>\n",
       "    </tr>\n",
       "  </thead>\n",
       "  <tbody>\n",
       "    <tr>\n",
       "      <th>lag_0</th>\n",
       "      <td>38</td>\n",
       "      <td>150</td>\n",
       "      <td>58</td>\n",
       "      <td>37</td>\n",
       "      <td>27</td>\n",
       "      <td>53</td>\n",
       "      <td>15</td>\n",
       "      <td>35</td>\n",
       "      <td>37</td>\n",
       "      <td>23</td>\n",
       "      <td>22</td>\n",
       "    </tr>\n",
       "    <tr>\n",
       "      <th>lag_1</th>\n",
       "      <td>151</td>\n",
       "      <td>241</td>\n",
       "      <td>257</td>\n",
       "      <td>125</td>\n",
       "      <td>159</td>\n",
       "      <td>270</td>\n",
       "      <td>50</td>\n",
       "      <td>129</td>\n",
       "      <td>144</td>\n",
       "      <td>155</td>\n",
       "      <td>81</td>\n",
       "    </tr>\n",
       "    <tr>\n",
       "      <th>lag_2</th>\n",
       "      <td>233</td>\n",
       "      <td>262</td>\n",
       "      <td>263</td>\n",
       "      <td>170</td>\n",
       "      <td>226</td>\n",
       "      <td>327</td>\n",
       "      <td>68</td>\n",
       "      <td>184</td>\n",
       "      <td>195</td>\n",
       "      <td>211</td>\n",
       "      <td>107</td>\n",
       "    </tr>\n",
       "    <tr>\n",
       "      <th>lag_3</th>\n",
       "      <td>805</td>\n",
       "      <td>297</td>\n",
       "      <td>275</td>\n",
       "      <td>231</td>\n",
       "      <td>366</td>\n",
       "      <td>369</td>\n",
       "      <td>165</td>\n",
       "      <td>260</td>\n",
       "      <td>207</td>\n",
       "      <td>368</td>\n",
       "      <td>197</td>\n",
       "    </tr>\n",
       "    <tr>\n",
       "      <th>lag_4</th>\n",
       "      <td>1623</td>\n",
       "      <td>393</td>\n",
       "      <td>490</td>\n",
       "      <td>394</td>\n",
       "      <td>673</td>\n",
       "      <td>612</td>\n",
       "      <td>640</td>\n",
       "      <td>498</td>\n",
       "      <td>287</td>\n",
       "      <td>551</td>\n",
       "      <td>398</td>\n",
       "    </tr>\n",
       "    <tr>\n",
       "      <th>lag_5</th>\n",
       "      <td>1797</td>\n",
       "      <td>305</td>\n",
       "      <td>510</td>\n",
       "      <td>366</td>\n",
       "      <td>612</td>\n",
       "      <td>552</td>\n",
       "      <td>596</td>\n",
       "      <td>454</td>\n",
       "      <td>243</td>\n",
       "      <td>669</td>\n",
       "      <td>334</td>\n",
       "    </tr>\n",
       "    <tr>\n",
       "      <th>lag_6</th>\n",
       "      <td>1991</td>\n",
       "      <td>344</td>\n",
       "      <td>488</td>\n",
       "      <td>424</td>\n",
       "      <td>741</td>\n",
       "      <td>601</td>\n",
       "      <td>626</td>\n",
       "      <td>512</td>\n",
       "      <td>264</td>\n",
       "      <td>672</td>\n",
       "      <td>377</td>\n",
       "    </tr>\n",
       "    <tr>\n",
       "      <th>lag_7</th>\n",
       "      <td>2099</td>\n",
       "      <td>292</td>\n",
       "      <td>525</td>\n",
       "      <td>456</td>\n",
       "      <td>741</td>\n",
       "      <td>664</td>\n",
       "      <td>620</td>\n",
       "      <td>504</td>\n",
       "      <td>334</td>\n",
       "      <td>599</td>\n",
       "      <td>460</td>\n",
       "    </tr>\n",
       "    <tr>\n",
       "      <th>lag_8</th>\n",
       "      <td>1946</td>\n",
       "      <td>262</td>\n",
       "      <td>539</td>\n",
       "      <td>377</td>\n",
       "      <td>711</td>\n",
       "      <td>574</td>\n",
       "      <td>554</td>\n",
       "      <td>414</td>\n",
       "      <td>276</td>\n",
       "      <td>689</td>\n",
       "      <td>409</td>\n",
       "    </tr>\n",
       "    <tr>\n",
       "      <th>lag_9</th>\n",
       "      <td>1932</td>\n",
       "      <td>277</td>\n",
       "      <td>510</td>\n",
       "      <td>372</td>\n",
       "      <td>750</td>\n",
       "      <td>526</td>\n",
       "      <td>573</td>\n",
       "      <td>470</td>\n",
       "      <td>275</td>\n",
       "      <td>552</td>\n",
       "      <td>406</td>\n",
       "    </tr>\n",
       "    <tr>\n",
       "      <th>lag_10</th>\n",
       "      <td>1806</td>\n",
       "      <td>232</td>\n",
       "      <td>428</td>\n",
       "      <td>361</td>\n",
       "      <td>709</td>\n",
       "      <td>531</td>\n",
       "      <td>552</td>\n",
       "      <td>477</td>\n",
       "      <td>248</td>\n",
       "      <td>619</td>\n",
       "      <td>394</td>\n",
       "    </tr>\n",
       "    <tr>\n",
       "      <th>lag_11</th>\n",
       "      <td>1692</td>\n",
       "      <td>228</td>\n",
       "      <td>510</td>\n",
       "      <td>359</td>\n",
       "      <td>678</td>\n",
       "      <td>543</td>\n",
       "      <td>508</td>\n",
       "      <td>423</td>\n",
       "      <td>263</td>\n",
       "      <td>600</td>\n",
       "      <td>372</td>\n",
       "    </tr>\n",
       "    <tr>\n",
       "      <th>lag_12</th>\n",
       "      <td>1810</td>\n",
       "      <td>230</td>\n",
       "      <td>450</td>\n",
       "      <td>359</td>\n",
       "      <td>705</td>\n",
       "      <td>511</td>\n",
       "      <td>495</td>\n",
       "      <td>453</td>\n",
       "      <td>264</td>\n",
       "      <td>572</td>\n",
       "      <td>374</td>\n",
       "    </tr>\n",
       "    <tr>\n",
       "      <th>lag_13</th>\n",
       "      <td>1719</td>\n",
       "      <td>200</td>\n",
       "      <td>462</td>\n",
       "      <td>336</td>\n",
       "      <td>674</td>\n",
       "      <td>499</td>\n",
       "      <td>472</td>\n",
       "      <td>405</td>\n",
       "      <td>232</td>\n",
       "      <td>532</td>\n",
       "      <td>367</td>\n",
       "    </tr>\n",
       "    <tr>\n",
       "      <th>lag_14</th>\n",
       "      <td>1846</td>\n",
       "      <td>208</td>\n",
       "      <td>448</td>\n",
       "      <td>394</td>\n",
       "      <td>625</td>\n",
       "      <td>527</td>\n",
       "      <td>490</td>\n",
       "      <td>433</td>\n",
       "      <td>256</td>\n",
       "      <td>495</td>\n",
       "      <td>436</td>\n",
       "    </tr>\n",
       "    <tr>\n",
       "      <th>lag_15</th>\n",
       "      <td>1766</td>\n",
       "      <td>235</td>\n",
       "      <td>434</td>\n",
       "      <td>347</td>\n",
       "      <td>650</td>\n",
       "      <td>520</td>\n",
       "      <td>484</td>\n",
       "      <td>432</td>\n",
       "      <td>226</td>\n",
       "      <td>463</td>\n",
       "      <td>382</td>\n",
       "    </tr>\n",
       "    <tr>\n",
       "      <th>lag_16</th>\n",
       "      <td>1816</td>\n",
       "      <td>203</td>\n",
       "      <td>420</td>\n",
       "      <td>312</td>\n",
       "      <td>645</td>\n",
       "      <td>535</td>\n",
       "      <td>491</td>\n",
       "      <td>461</td>\n",
       "      <td>236</td>\n",
       "      <td>403</td>\n",
       "      <td>385</td>\n",
       "    </tr>\n",
       "  </tbody>\n",
       "</table>\n",
       "</div>"
      ],
      "text/plain": [
       "chain       21   31   46   89   96   101  152  153  191  214  360\n",
       "dateblock                                                        \n",
       "lag_0        38  150   58   37   27   53   15   35   37   23   22\n",
       "lag_1       151  241  257  125  159  270   50  129  144  155   81\n",
       "lag_2       233  262  263  170  226  327   68  184  195  211  107\n",
       "lag_3       805  297  275  231  366  369  165  260  207  368  197\n",
       "lag_4      1623  393  490  394  673  612  640  498  287  551  398\n",
       "lag_5      1797  305  510  366  612  552  596  454  243  669  334\n",
       "lag_6      1991  344  488  424  741  601  626  512  264  672  377\n",
       "lag_7      2099  292  525  456  741  664  620  504  334  599  460\n",
       "lag_8      1946  262  539  377  711  574  554  414  276  689  409\n",
       "lag_9      1932  277  510  372  750  526  573  470  275  552  406\n",
       "lag_10     1806  232  428  361  709  531  552  477  248  619  394\n",
       "lag_11     1692  228  510  359  678  543  508  423  263  600  372\n",
       "lag_12     1810  230  450  359  705  511  495  453  264  572  374\n",
       "lag_13     1719  200  462  336  674  499  472  405  232  532  367\n",
       "lag_14     1846  208  448  394  625  527  490  433  256  495  436\n",
       "lag_15     1766  235  434  347  650  520  484  432  226  463  382\n",
       "lag_16     1816  203  420  312  645  535  491  461  236  403  385"
      ]
     },
     "execution_count": 58,
     "metadata": {},
     "output_type": "execute_result"
    }
   ],
   "source": [
    "transaction_by_chains.reindex_axis([u'lag_0', u'lag_1', u'lag_2', u'lag_3', u'lag_4', u'lag_5',\n",
    "       u'lag_6', u'lag_7', u'lag_8', u'lag_9', u'lag_10', u'lag_11', u'lag_12',\n",
    "       u'lag_13', u'lag_14', u'lag_15', u'lag_16'], axis = 0)"
   ]
  },
  {
   "cell_type": "code",
   "execution_count": 59,
   "metadata": {},
   "outputs": [
    {
     "data": {
      "text/html": [
       "<div>\n",
       "<style>\n",
       "    .dataframe thead tr:only-child th {\n",
       "        text-align: right;\n",
       "    }\n",
       "\n",
       "    .dataframe thead th {\n",
       "        text-align: left;\n",
       "    }\n",
       "\n",
       "    .dataframe tbody tr th {\n",
       "        vertical-align: top;\n",
       "    }\n",
       "</style>\n",
       "<table border=\"1\" class=\"dataframe\">\n",
       "  <thead>\n",
       "    <tr style=\"text-align: right;\">\n",
       "      <th>chain</th>\n",
       "      <th>21</th>\n",
       "      <th>31</th>\n",
       "      <th>46</th>\n",
       "      <th>89</th>\n",
       "      <th>96</th>\n",
       "      <th>101</th>\n",
       "      <th>152</th>\n",
       "      <th>153</th>\n",
       "      <th>191</th>\n",
       "      <th>214</th>\n",
       "      <th>360</th>\n",
       "    </tr>\n",
       "    <tr>\n",
       "      <th>dateblock</th>\n",
       "      <th></th>\n",
       "      <th></th>\n",
       "      <th></th>\n",
       "      <th></th>\n",
       "      <th></th>\n",
       "      <th></th>\n",
       "      <th></th>\n",
       "      <th></th>\n",
       "      <th></th>\n",
       "      <th></th>\n",
       "      <th></th>\n",
       "    </tr>\n",
       "  </thead>\n",
       "  <tbody>\n",
       "    <tr>\n",
       "      <th>lag_0</th>\n",
       "      <td>2.493938</td>\n",
       "      <td>3.315193</td>\n",
       "      <td>2.948482</td>\n",
       "      <td>2.547670</td>\n",
       "      <td>2.761686</td>\n",
       "      <td>2.537183</td>\n",
       "      <td>3.988974</td>\n",
       "      <td>3.292233</td>\n",
       "      <td>2.830104</td>\n",
       "      <td>2.523729</td>\n",
       "      <td>3.701232</td>\n",
       "    </tr>\n",
       "    <tr>\n",
       "      <th>lag_1</th>\n",
       "      <td>3.053956</td>\n",
       "      <td>3.583176</td>\n",
       "      <td>3.227065</td>\n",
       "      <td>3.163597</td>\n",
       "      <td>3.023986</td>\n",
       "      <td>2.877906</td>\n",
       "      <td>3.581956</td>\n",
       "      <td>3.512103</td>\n",
       "      <td>3.487630</td>\n",
       "      <td>3.557038</td>\n",
       "      <td>3.850710</td>\n",
       "    </tr>\n",
       "    <tr>\n",
       "      <th>lag_2</th>\n",
       "      <td>3.126012</td>\n",
       "      <td>3.780433</td>\n",
       "      <td>3.198675</td>\n",
       "      <td>2.901500</td>\n",
       "      <td>3.029138</td>\n",
       "      <td>3.036910</td>\n",
       "      <td>3.802561</td>\n",
       "      <td>3.426764</td>\n",
       "      <td>3.444721</td>\n",
       "      <td>3.279545</td>\n",
       "      <td>4.074850</td>\n",
       "    </tr>\n",
       "    <tr>\n",
       "      <th>lag_3</th>\n",
       "      <td>3.056283</td>\n",
       "      <td>4.478373</td>\n",
       "      <td>2.992777</td>\n",
       "      <td>2.856867</td>\n",
       "      <td>3.491399</td>\n",
       "      <td>2.789427</td>\n",
       "      <td>3.578495</td>\n",
       "      <td>3.472194</td>\n",
       "      <td>3.039533</td>\n",
       "      <td>2.799960</td>\n",
       "      <td>3.585917</td>\n",
       "    </tr>\n",
       "    <tr>\n",
       "      <th>lag_4</th>\n",
       "      <td>3.116217</td>\n",
       "      <td>4.069383</td>\n",
       "      <td>3.148497</td>\n",
       "      <td>2.676751</td>\n",
       "      <td>3.620299</td>\n",
       "      <td>2.843694</td>\n",
       "      <td>3.706581</td>\n",
       "      <td>3.571558</td>\n",
       "      <td>3.075059</td>\n",
       "      <td>3.144046</td>\n",
       "      <td>3.666687</td>\n",
       "    </tr>\n",
       "    <tr>\n",
       "      <th>lag_5</th>\n",
       "      <td>3.070746</td>\n",
       "      <td>4.116680</td>\n",
       "      <td>2.999074</td>\n",
       "      <td>2.681915</td>\n",
       "      <td>3.498450</td>\n",
       "      <td>2.885144</td>\n",
       "      <td>3.752374</td>\n",
       "      <td>3.741619</td>\n",
       "      <td>3.361630</td>\n",
       "      <td>3.172890</td>\n",
       "      <td>3.608180</td>\n",
       "    </tr>\n",
       "    <tr>\n",
       "      <th>lag_6</th>\n",
       "      <td>3.010690</td>\n",
       "      <td>3.919461</td>\n",
       "      <td>3.076548</td>\n",
       "      <td>2.734667</td>\n",
       "      <td>3.146185</td>\n",
       "      <td>2.793783</td>\n",
       "      <td>3.749404</td>\n",
       "      <td>3.567613</td>\n",
       "      <td>3.364193</td>\n",
       "      <td>3.087047</td>\n",
       "      <td>3.471743</td>\n",
       "    </tr>\n",
       "    <tr>\n",
       "      <th>lag_7</th>\n",
       "      <td>3.204570</td>\n",
       "      <td>4.235238</td>\n",
       "      <td>3.311579</td>\n",
       "      <td>3.056667</td>\n",
       "      <td>4.173254</td>\n",
       "      <td>3.249746</td>\n",
       "      <td>3.974577</td>\n",
       "      <td>3.618819</td>\n",
       "      <td>3.654693</td>\n",
       "      <td>2.988584</td>\n",
       "      <td>3.671475</td>\n",
       "    </tr>\n",
       "    <tr>\n",
       "      <th>lag_8</th>\n",
       "      <td>3.056687</td>\n",
       "      <td>4.075343</td>\n",
       "      <td>3.553216</td>\n",
       "      <td>2.566056</td>\n",
       "      <td>4.247083</td>\n",
       "      <td>2.830767</td>\n",
       "      <td>3.844803</td>\n",
       "      <td>3.477840</td>\n",
       "      <td>3.922469</td>\n",
       "      <td>2.955003</td>\n",
       "      <td>3.903194</td>\n",
       "    </tr>\n",
       "    <tr>\n",
       "      <th>lag_9</th>\n",
       "      <td>3.047423</td>\n",
       "      <td>3.647375</td>\n",
       "      <td>3.127028</td>\n",
       "      <td>2.874851</td>\n",
       "      <td>3.355300</td>\n",
       "      <td>2.846135</td>\n",
       "      <td>3.773998</td>\n",
       "      <td>3.643626</td>\n",
       "      <td>4.246943</td>\n",
       "      <td>3.108079</td>\n",
       "      <td>3.620439</td>\n",
       "    </tr>\n",
       "    <tr>\n",
       "      <th>lag_10</th>\n",
       "      <td>2.990236</td>\n",
       "      <td>4.008926</td>\n",
       "      <td>3.168733</td>\n",
       "      <td>2.751248</td>\n",
       "      <td>3.317161</td>\n",
       "      <td>2.747391</td>\n",
       "      <td>3.638755</td>\n",
       "      <td>3.407644</td>\n",
       "      <td>3.417878</td>\n",
       "      <td>2.919081</td>\n",
       "      <td>3.572414</td>\n",
       "    </tr>\n",
       "    <tr>\n",
       "      <th>lag_11</th>\n",
       "      <td>3.089380</td>\n",
       "      <td>3.988862</td>\n",
       "      <td>3.192505</td>\n",
       "      <td>2.676333</td>\n",
       "      <td>3.404062</td>\n",
       "      <td>2.869298</td>\n",
       "      <td>3.773749</td>\n",
       "      <td>3.695342</td>\n",
       "      <td>3.314750</td>\n",
       "      <td>3.009641</td>\n",
       "      <td>3.601650</td>\n",
       "    </tr>\n",
       "    <tr>\n",
       "      <th>lag_12</th>\n",
       "      <td>2.997455</td>\n",
       "      <td>4.350971</td>\n",
       "      <td>3.121232</td>\n",
       "      <td>2.717382</td>\n",
       "      <td>3.297385</td>\n",
       "      <td>2.892470</td>\n",
       "      <td>3.896562</td>\n",
       "      <td>3.479247</td>\n",
       "      <td>3.135860</td>\n",
       "      <td>2.950846</td>\n",
       "      <td>3.559095</td>\n",
       "    </tr>\n",
       "    <tr>\n",
       "      <th>lag_13</th>\n",
       "      <td>3.061058</td>\n",
       "      <td>4.469479</td>\n",
       "      <td>3.174833</td>\n",
       "      <td>3.283377</td>\n",
       "      <td>3.510897</td>\n",
       "      <td>2.866465</td>\n",
       "      <td>3.705635</td>\n",
       "      <td>3.639191</td>\n",
       "      <td>3.197563</td>\n",
       "      <td>2.964748</td>\n",
       "      <td>3.802228</td>\n",
       "    </tr>\n",
       "    <tr>\n",
       "      <th>lag_14</th>\n",
       "      <td>3.078709</td>\n",
       "      <td>4.123283</td>\n",
       "      <td>3.066772</td>\n",
       "      <td>2.833352</td>\n",
       "      <td>3.830126</td>\n",
       "      <td>2.769132</td>\n",
       "      <td>3.608995</td>\n",
       "      <td>3.529140</td>\n",
       "      <td>3.494316</td>\n",
       "      <td>3.084977</td>\n",
       "      <td>3.733263</td>\n",
       "    </tr>\n",
       "    <tr>\n",
       "      <th>lag_15</th>\n",
       "      <td>3.146450</td>\n",
       "      <td>3.961161</td>\n",
       "      <td>3.050491</td>\n",
       "      <td>3.331013</td>\n",
       "      <td>3.921944</td>\n",
       "      <td>2.922133</td>\n",
       "      <td>3.466362</td>\n",
       "      <td>3.436205</td>\n",
       "      <td>3.739470</td>\n",
       "      <td>2.805270</td>\n",
       "      <td>3.678796</td>\n",
       "    </tr>\n",
       "    <tr>\n",
       "      <th>lag_16</th>\n",
       "      <td>3.003159</td>\n",
       "      <td>4.612181</td>\n",
       "      <td>3.087308</td>\n",
       "      <td>4.107335</td>\n",
       "      <td>3.987260</td>\n",
       "      <td>2.735481</td>\n",
       "      <td>3.702560</td>\n",
       "      <td>3.374299</td>\n",
       "      <td>3.610649</td>\n",
       "      <td>3.136423</td>\n",
       "      <td>3.629590</td>\n",
       "    </tr>\n",
       "  </tbody>\n",
       "</table>\n",
       "</div>"
      ],
      "text/plain": [
       "chain           21        31        46        89        96        101  \\\n",
       "dateblock                                                               \n",
       "lag_0      2.493938  3.315193  2.948482  2.547670  2.761686  2.537183   \n",
       "lag_1      3.053956  3.583176  3.227065  3.163597  3.023986  2.877906   \n",
       "lag_2      3.126012  3.780433  3.198675  2.901500  3.029138  3.036910   \n",
       "lag_3      3.056283  4.478373  2.992777  2.856867  3.491399  2.789427   \n",
       "lag_4      3.116217  4.069383  3.148497  2.676751  3.620299  2.843694   \n",
       "lag_5      3.070746  4.116680  2.999074  2.681915  3.498450  2.885144   \n",
       "lag_6      3.010690  3.919461  3.076548  2.734667  3.146185  2.793783   \n",
       "lag_7      3.204570  4.235238  3.311579  3.056667  4.173254  3.249746   \n",
       "lag_8      3.056687  4.075343  3.553216  2.566056  4.247083  2.830767   \n",
       "lag_9      3.047423  3.647375  3.127028  2.874851  3.355300  2.846135   \n",
       "lag_10     2.990236  4.008926  3.168733  2.751248  3.317161  2.747391   \n",
       "lag_11     3.089380  3.988862  3.192505  2.676333  3.404062  2.869298   \n",
       "lag_12     2.997455  4.350971  3.121232  2.717382  3.297385  2.892470   \n",
       "lag_13     3.061058  4.469479  3.174833  3.283377  3.510897  2.866465   \n",
       "lag_14     3.078709  4.123283  3.066772  2.833352  3.830126  2.769132   \n",
       "lag_15     3.146450  3.961161  3.050491  3.331013  3.921944  2.922133   \n",
       "lag_16     3.003159  4.612181  3.087308  4.107335  3.987260  2.735481   \n",
       "\n",
       "chain           152       153       191       214       360  \n",
       "dateblock                                                    \n",
       "lag_0      3.988974  3.292233  2.830104  2.523729  3.701232  \n",
       "lag_1      3.581956  3.512103  3.487630  3.557038  3.850710  \n",
       "lag_2      3.802561  3.426764  3.444721  3.279545  4.074850  \n",
       "lag_3      3.578495  3.472194  3.039533  2.799960  3.585917  \n",
       "lag_4      3.706581  3.571558  3.075059  3.144046  3.666687  \n",
       "lag_5      3.752374  3.741619  3.361630  3.172890  3.608180  \n",
       "lag_6      3.749404  3.567613  3.364193  3.087047  3.471743  \n",
       "lag_7      3.974577  3.618819  3.654693  2.988584  3.671475  \n",
       "lag_8      3.844803  3.477840  3.922469  2.955003  3.903194  \n",
       "lag_9      3.773998  3.643626  4.246943  3.108079  3.620439  \n",
       "lag_10     3.638755  3.407644  3.417878  2.919081  3.572414  \n",
       "lag_11     3.773749  3.695342  3.314750  3.009641  3.601650  \n",
       "lag_12     3.896562  3.479247  3.135860  2.950846  3.559095  \n",
       "lag_13     3.705635  3.639191  3.197563  2.964748  3.802228  \n",
       "lag_14     3.608995  3.529140  3.494316  3.084977  3.733263  \n",
       "lag_15     3.466362  3.436205  3.739470  2.805270  3.678796  \n",
       "lag_16     3.702560  3.374299  3.610649  3.136423  3.629590  "
      ]
     },
     "execution_count": 59,
     "metadata": {},
     "output_type": "execute_result"
    }
   ],
   "source": [
    "price_by_chains.reindex_axis([u'lag_0', u'lag_1', u'lag_2', u'lag_3', u'lag_4', u'lag_5',\n",
    "       u'lag_6', u'lag_7', u'lag_8', u'lag_9', u'lag_10', u'lag_11', u'lag_12',\n",
    "       u'lag_13', u'lag_14', u'lag_15', u'lag_16'], axis = 0)"
   ]
  },
  {
   "cell_type": "code",
   "execution_count": 60,
   "metadata": {},
   "outputs": [
    {
     "data": {
      "text/plain": [
       "Text(0.5,1,u'Number of transactions by month for each store')"
      ]
     },
     "execution_count": 60,
     "metadata": {},
     "output_type": "execute_result"
    },
    {
     "data": {
      "image/png": "[encoded data removed]",
      "text/plain": [
       "<matplotlib.figure.Figure at 0x111d774d0>"
      ]
     },
     "metadata": {},
     "output_type": "display_data"
    }
   ],
   "source": [
    "ax = transaction_by_chains.reindex_axis([u'lag_0', u'lag_1', u'lag_2', u'lag_3', u'lag_4', u'lag_5',\n",
    "       u'lag_6', u'lag_7', u'lag_8', u'lag_9', u'lag_10', u'lag_11', u'lag_12',\n",
    "       u'lag_13', u'lag_14', u'lag_15', u'lag_16'], axis = 0).plot(figsize = (10, 8))\n",
    "ax.set_title(\"Number of transactions by month for each store\", fontsize = 24)"
   ]
  },
  {
   "cell_type": "code",
   "execution_count": 61,
   "metadata": {},
   "outputs": [
    {
     "data": {
      "text/plain": [
       "Text(0.5,1,u'Average price by month for each store')"
      ]
     },
     "execution_count": 61,
     "metadata": {},
     "output_type": "execute_result"
    },
    {
     "data": {
      "image/png": "[encoded data removed]",
      "text/plain": [
       "<matplotlib.figure.Figure at 0x124c235d0>"
      ]
     },
     "metadata": {},
     "output_type": "display_data"
    }
   ],
   "source": [
    "ax = price_by_chains.reindex_axis([u'lag_0', u'lag_1', u'lag_2', u'lag_3', u'lag_4', u'lag_5',\n",
    "       u'lag_6', u'lag_7', u'lag_8', u'lag_9', u'lag_10', u'lag_11', u'lag_12',\n",
    "       u'lag_13', u'lag_14', u'lag_15', u'lag_16'], axis = 0).plot(figsize = (10, 5))\n",
    "ax.set_title(\"Average price by month for each store\", fontsize = 24)"
   ]
  },
  {
   "cell_type": "markdown",
   "metadata": {},
   "source": [
    "### I see that the average amount and average quantity purchased per transaction are not significantly different across all months, so the shopping behavior of customers are normal. After checking transactions per store in selected date blocks, I conclude there are large number of missing records on transactions from each store in the latest four months in the dataset.\n",
    "\n",
    "### Hence in building models of demand forecasting, I will just throw away data in datablock 'lag_0','lag_1','lag_2','lag_3', and buidling models on the transaction data from March 2012 to March 2013, supposed i want to predict what happens in April 2013."
   ]
  },
  {
   "cell_type": "markdown",
   "metadata": {},
   "source": [
    "## Demand Forcasting of each item for each store"
   ]
  },
  {
   "cell_type": "code",
   "execution_count": 62,
   "metadata": {
    "collapsed": true
   },
   "outputs": [],
   "source": [
    "date_block_deserted = ['lag_0','lag_1','lag_2','lag_3']"
   ]
  },
  {
   "cell_type": "code",
   "execution_count": 63,
   "metadata": {
    "collapsed": true
   },
   "outputs": [],
   "source": [
    "data = transaction[~transaction['dateblock'].isin(date_block_deserted)]"
   ]
  },
  {
   "cell_type": "code",
   "execution_count": 64,
   "metadata": {},
   "outputs": [
    {
     "data": {
      "text/html": [
       "<div>\n",
       "<style>\n",
       "    .dataframe thead tr:only-child th {\n",
       "        text-align: right;\n",
       "    }\n",
       "\n",
       "    .dataframe thead th {\n",
       "        text-align: left;\n",
       "    }\n",
       "\n",
       "    .dataframe tbody tr th {\n",
       "        vertical-align: top;\n",
       "    }\n",
       "</style>\n",
       "<table border=\"1\" class=\"dataframe\">\n",
       "  <thead>\n",
       "    <tr style=\"text-align: right;\">\n",
       "      <th></th>\n",
       "      <th>id</th>\n",
       "      <th>chain</th>\n",
       "      <th>dept</th>\n",
       "      <th>category</th>\n",
       "      <th>company</th>\n",
       "      <th>brand</th>\n",
       "      <th>date</th>\n",
       "      <th>productsize</th>\n",
       "      <th>productmeasure</th>\n",
       "      <th>purchasequantity</th>\n",
       "      <th>purchaseamount</th>\n",
       "      <th>price</th>\n",
       "      <th>year</th>\n",
       "      <th>month</th>\n",
       "      <th>dateblock</th>\n",
       "    </tr>\n",
       "  </thead>\n",
       "  <tbody>\n",
       "    <tr>\n",
       "      <th>0</th>\n",
       "      <td>696521494</td>\n",
       "      <td>211</td>\n",
       "      <td>55</td>\n",
       "      <td>5558</td>\n",
       "      <td>101111010</td>\n",
       "      <td>9907</td>\n",
       "      <td>2013-01-23</td>\n",
       "      <td>36.0</td>\n",
       "      <td>OZ</td>\n",
       "      <td>1</td>\n",
       "      <td>2.99</td>\n",
       "      <td>2.99</td>\n",
       "      <td>2013</td>\n",
       "      <td>1</td>\n",
       "      <td>lag_6</td>\n",
       "    </tr>\n",
       "    <tr>\n",
       "      <th>1</th>\n",
       "      <td>417112954</td>\n",
       "      <td>100</td>\n",
       "      <td>63</td>\n",
       "      <td>6320</td>\n",
       "      <td>107509070</td>\n",
       "      <td>182</td>\n",
       "      <td>2012-12-09</td>\n",
       "      <td>12.0</td>\n",
       "      <td>CT</td>\n",
       "      <td>1</td>\n",
       "      <td>2.29</td>\n",
       "      <td>2.29</td>\n",
       "      <td>2012</td>\n",
       "      <td>12</td>\n",
       "      <td>lag_7</td>\n",
       "    </tr>\n",
       "    <tr>\n",
       "      <th>2</th>\n",
       "      <td>308340717</td>\n",
       "      <td>360</td>\n",
       "      <td>35</td>\n",
       "      <td>3504</td>\n",
       "      <td>103500030</td>\n",
       "      <td>13470</td>\n",
       "      <td>2012-06-12</td>\n",
       "      <td>10.0</td>\n",
       "      <td>OZ</td>\n",
       "      <td>1</td>\n",
       "      <td>1.79</td>\n",
       "      <td>1.79</td>\n",
       "      <td>2012</td>\n",
       "      <td>6</td>\n",
       "      <td>lag_13</td>\n",
       "    </tr>\n",
       "    <tr>\n",
       "      <th>3</th>\n",
       "      <td>4629335121</td>\n",
       "      <td>153</td>\n",
       "      <td>63</td>\n",
       "      <td>6320</td>\n",
       "      <td>1068826767</td>\n",
       "      <td>81691</td>\n",
       "      <td>2012-09-10</td>\n",
       "      <td>12.0</td>\n",
       "      <td>CT</td>\n",
       "      <td>1</td>\n",
       "      <td>2.79</td>\n",
       "      <td>2.79</td>\n",
       "      <td>2012</td>\n",
       "      <td>9</td>\n",
       "      <td>lag_10</td>\n",
       "    </tr>\n",
       "    <tr>\n",
       "      <th>4</th>\n",
       "      <td>743051948</td>\n",
       "      <td>58</td>\n",
       "      <td>63</td>\n",
       "      <td>6330</td>\n",
       "      <td>101111010</td>\n",
       "      <td>9907</td>\n",
       "      <td>2012-10-07</td>\n",
       "      <td>16.0</td>\n",
       "      <td>OZ</td>\n",
       "      <td>1</td>\n",
       "      <td>2.79</td>\n",
       "      <td>2.79</td>\n",
       "      <td>2012</td>\n",
       "      <td>10</td>\n",
       "      <td>lag_9</td>\n",
       "    </tr>\n",
       "  </tbody>\n",
       "</table>\n",
       "</div>"
      ],
      "text/plain": [
       "           id  chain  dept  category     company  brand       date  \\\n",
       "0   696521494    211    55      5558   101111010   9907 2013-01-23   \n",
       "1   417112954    100    63      6320   107509070    182 2012-12-09   \n",
       "2   308340717    360    35      3504   103500030  13470 2012-06-12   \n",
       "3  4629335121    153    63      6320  1068826767  81691 2012-09-10   \n",
       "4   743051948     58    63      6330   101111010   9907 2012-10-07   \n",
       "\n",
       "   productsize productmeasure  purchasequantity  purchaseamount  price  year  \\\n",
       "0         36.0             OZ                 1            2.99   2.99  2013   \n",
       "1         12.0             CT                 1            2.29   2.29  2012   \n",
       "2         10.0             OZ                 1            1.79   1.79  2012   \n",
       "3         12.0             CT                 1            2.79   2.79  2012   \n",
       "4         16.0             OZ                 1            2.79   2.79  2012   \n",
       "\n",
       "   month dateblock  \n",
       "0      1     lag_6  \n",
       "1     12     lag_7  \n",
       "2      6    lag_13  \n",
       "3      9    lag_10  \n",
       "4     10     lag_9  "
      ]
     },
     "execution_count": 64,
     "metadata": {},
     "output_type": "execute_result"
    }
   ],
   "source": [
    "data.head()"
   ]
  },
  {
   "cell_type": "code",
   "execution_count": 65,
   "metadata": {
    "collapsed": true
   },
   "outputs": [],
   "source": [
    "data_quantity_table = data.pivot_table(index = ['chain','company','brand','category','productsize','productmeasure'],\n",
    "                             columns ='dateblock',\n",
    "                             values = 'purchasequantity',\n",
    "                              aggfunc = 'sum').fillna(0).reset_index()"
   ]
  },
  {
   "cell_type": "code",
   "execution_count": 66,
   "metadata": {
    "collapsed": true
   },
   "outputs": [],
   "source": [
    "features = ['chain',\n",
    " 'company',\n",
    " 'brand',\n",
    " 'category',\n",
    " 'productsize',\n",
    " 'productmeasure',\n",
    " 'lag_16',\n",
    " 'lag_15',\n",
    " 'lag_14',\n",
    " 'lag_13',\n",
    " 'lag_12',\n",
    " 'lag_11',\n",
    " 'lag_10',\n",
    " 'lag_9',\n",
    " 'lag_8',\n",
    " 'lag_7',\n",
    " 'lag_6',\n",
    " 'lag_5',\n",
    " 'lag_4']"
   ]
  },
  {
   "cell_type": "code",
   "execution_count": 67,
   "metadata": {
    "collapsed": true
   },
   "outputs": [],
   "source": [
    "data_quantity_table = data_quantity_table[features]"
   ]
  },
  {
   "cell_type": "code",
   "execution_count": 68,
   "metadata": {
    "collapsed": true
   },
   "outputs": [],
   "source": [
    "data_quantity_table = data_quantity_table.rename(columns = {'lag_4': 'lag_0_q',\n",
    "                                             'lag_5': 'lag_1_q',\n",
    "                                             'lag_6': 'lag_2_q',\n",
    "                                             'lag_7': 'lag_3_q',\n",
    "                                             'lag_8': 'lag_4_q',\n",
    "                                             'lag_9': 'lag_5_q',\n",
    "                                             'lag_10': 'lag_6_q',\n",
    "                                             'lag_11': 'lag_7_q',\n",
    "                                             'lag_12': 'lag_8_q',\n",
    "                                             'lag_13': 'lag_9_q',\n",
    "                                             'lag_14': 'lag_10_q',\n",
    "                                             'lag_15': 'lag_11_q',\n",
    "                                             'lag_16': 'lag_12_q'})"
   ]
  },
  {
   "cell_type": "code",
   "execution_count": 69,
   "metadata": {},
   "outputs": [
    {
     "data": {
      "text/html": [
       "<div>\n",
       "<style>\n",
       "    .dataframe thead tr:only-child th {\n",
       "        text-align: right;\n",
       "    }\n",
       "\n",
       "    .dataframe thead th {\n",
       "        text-align: left;\n",
       "    }\n",
       "\n",
       "    .dataframe tbody tr th {\n",
       "        vertical-align: top;\n",
       "    }\n",
       "</style>\n",
       "<table border=\"1\" class=\"dataframe\">\n",
       "  <thead>\n",
       "    <tr style=\"text-align: right;\">\n",
       "      <th>dateblock</th>\n",
       "      <th>chain</th>\n",
       "      <th>company</th>\n",
       "      <th>brand</th>\n",
       "      <th>category</th>\n",
       "      <th>productsize</th>\n",
       "      <th>productmeasure</th>\n",
       "      <th>lag_12_q</th>\n",
       "      <th>lag_11_q</th>\n",
       "      <th>lag_10_q</th>\n",
       "      <th>lag_9_q</th>\n",
       "      <th>lag_8_q</th>\n",
       "      <th>lag_7_q</th>\n",
       "      <th>lag_6_q</th>\n",
       "      <th>lag_5_q</th>\n",
       "      <th>lag_4_q</th>\n",
       "      <th>lag_3_q</th>\n",
       "      <th>lag_2_q</th>\n",
       "      <th>lag_1_q</th>\n",
       "      <th>lag_0_q</th>\n",
       "    </tr>\n",
       "  </thead>\n",
       "  <tbody>\n",
       "    <tr>\n",
       "      <th>0</th>\n",
       "      <td>2</td>\n",
       "      <td>10000</td>\n",
       "      <td>0</td>\n",
       "      <td>0</td>\n",
       "      <td>0.0</td>\n",
       "      <td>Unknown</td>\n",
       "      <td>1.0</td>\n",
       "      <td>1.0</td>\n",
       "      <td>25.0</td>\n",
       "      <td>15.0</td>\n",
       "      <td>34.0</td>\n",
       "      <td>15.0</td>\n",
       "      <td>25.0</td>\n",
       "      <td>26.0</td>\n",
       "      <td>23.0</td>\n",
       "      <td>39.0</td>\n",
       "      <td>12.0</td>\n",
       "      <td>21.0</td>\n",
       "      <td>32.0</td>\n",
       "    </tr>\n",
       "    <tr>\n",
       "      <th>1</th>\n",
       "      <td>2</td>\n",
       "      <td>10000</td>\n",
       "      <td>0</td>\n",
       "      <td>9753</td>\n",
       "      <td>1.0</td>\n",
       "      <td>CT</td>\n",
       "      <td>0.0</td>\n",
       "      <td>5.0</td>\n",
       "      <td>1.0</td>\n",
       "      <td>1.0</td>\n",
       "      <td>2.0</td>\n",
       "      <td>1.0</td>\n",
       "      <td>1.0</td>\n",
       "      <td>1.0</td>\n",
       "      <td>2.0</td>\n",
       "      <td>2.0</td>\n",
       "      <td>2.0</td>\n",
       "      <td>0.0</td>\n",
       "      <td>2.0</td>\n",
       "    </tr>\n",
       "    <tr>\n",
       "      <th>2</th>\n",
       "      <td>2</td>\n",
       "      <td>10000</td>\n",
       "      <td>20405</td>\n",
       "      <td>0</td>\n",
       "      <td>0.0</td>\n",
       "      <td>Unknown</td>\n",
       "      <td>0.0</td>\n",
       "      <td>0.0</td>\n",
       "      <td>0.0</td>\n",
       "      <td>0.0</td>\n",
       "      <td>1.0</td>\n",
       "      <td>0.0</td>\n",
       "      <td>0.0</td>\n",
       "      <td>1.0</td>\n",
       "      <td>0.0</td>\n",
       "      <td>1.0</td>\n",
       "      <td>0.0</td>\n",
       "      <td>1.0</td>\n",
       "      <td>1.0</td>\n",
       "    </tr>\n",
       "    <tr>\n",
       "      <th>3</th>\n",
       "      <td>2</td>\n",
       "      <td>1013313</td>\n",
       "      <td>52604</td>\n",
       "      <td>1841</td>\n",
       "      <td>1.0</td>\n",
       "      <td>CT</td>\n",
       "      <td>0.0</td>\n",
       "      <td>0.0</td>\n",
       "      <td>0.0</td>\n",
       "      <td>0.0</td>\n",
       "      <td>0.0</td>\n",
       "      <td>0.0</td>\n",
       "      <td>0.0</td>\n",
       "      <td>0.0</td>\n",
       "      <td>0.0</td>\n",
       "      <td>1.0</td>\n",
       "      <td>0.0</td>\n",
       "      <td>0.0</td>\n",
       "      <td>0.0</td>\n",
       "    </tr>\n",
       "    <tr>\n",
       "      <th>4</th>\n",
       "      <td>2</td>\n",
       "      <td>10100010</td>\n",
       "      <td>9907</td>\n",
       "      <td>1006</td>\n",
       "      <td>16.0</td>\n",
       "      <td>OZ</td>\n",
       "      <td>0.0</td>\n",
       "      <td>0.0</td>\n",
       "      <td>0.0</td>\n",
       "      <td>0.0</td>\n",
       "      <td>0.0</td>\n",
       "      <td>0.0</td>\n",
       "      <td>0.0</td>\n",
       "      <td>0.0</td>\n",
       "      <td>0.0</td>\n",
       "      <td>0.0</td>\n",
       "      <td>1.0</td>\n",
       "      <td>0.0</td>\n",
       "      <td>0.0</td>\n",
       "    </tr>\n",
       "  </tbody>\n",
       "</table>\n",
       "</div>"
      ],
      "text/plain": [
       "dateblock  chain   company  brand  category  productsize productmeasure  \\\n",
       "0              2     10000      0         0          0.0        Unknown   \n",
       "1              2     10000      0      9753          1.0             CT   \n",
       "2              2     10000  20405         0          0.0        Unknown   \n",
       "3              2   1013313  52604      1841          1.0             CT   \n",
       "4              2  10100010   9907      1006         16.0             OZ   \n",
       "\n",
       "dateblock  lag_12_q  lag_11_q  lag_10_q  lag_9_q  lag_8_q  lag_7_q  lag_6_q  \\\n",
       "0               1.0       1.0      25.0     15.0     34.0     15.0     25.0   \n",
       "1               0.0       5.0       1.0      1.0      2.0      1.0      1.0   \n",
       "2               0.0       0.0       0.0      0.0      1.0      0.0      0.0   \n",
       "3               0.0       0.0       0.0      0.0      0.0      0.0      0.0   \n",
       "4               0.0       0.0       0.0      0.0      0.0      0.0      0.0   \n",
       "\n",
       "dateblock  lag_5_q  lag_4_q  lag_3_q  lag_2_q  lag_1_q  lag_0_q  \n",
       "0             26.0     23.0     39.0     12.0     21.0     32.0  \n",
       "1              1.0      2.0      2.0      2.0      0.0      2.0  \n",
       "2              1.0      0.0      1.0      0.0      1.0      1.0  \n",
       "3              0.0      0.0      1.0      0.0      0.0      0.0  \n",
       "4              0.0      0.0      0.0      1.0      0.0      0.0  "
      ]
     },
     "execution_count": 69,
     "metadata": {},
     "output_type": "execute_result"
    }
   ],
   "source": [
    "data_quantity_table.head()  #'dateblock' is not a feature."
   ]
  },
  {
   "cell_type": "code",
   "execution_count": 70,
   "metadata": {
    "collapsed": true
   },
   "outputs": [],
   "source": [
    "#encode label to 'productmeasure'\n",
    "from sklearn.preprocessing import LabelEncoder\n",
    "le = LabelEncoder()\n",
    "data_quantity_table['productmeasure'] = le.fit_transform(data_quantity_table['productmeasure'])"
   ]
  },
  {
   "cell_type": "code",
   "execution_count": 71,
   "metadata": {},
   "outputs": [
    {
     "data": {
      "text/plain": [
       "347"
      ]
     },
     "execution_count": 71,
     "metadata": {},
     "output_type": "execute_result"
    }
   ],
   "source": [
    "outlier_num_sum = 0\n",
    "for i in range(12):\n",
    "    outlier_num_sum += len(data_quantity_table[data_quantity_table['lag_{}_q'.format(i+1)]>10])\n",
    "outlier_num_ave = outlier_num_sum / 12\n",
    "outlier_num_ave "
   ]
  },
  {
   "cell_type": "code",
   "execution_count": 72,
   "metadata": {},
   "outputs": [
    {
     "data": {
      "text/plain": [
       "14"
      ]
     },
     "execution_count": 72,
     "metadata": {},
     "output_type": "execute_result"
    }
   ],
   "source": [
    "outlier_num_sum_2 = 0\n",
    "for i in range(12):\n",
    "    outlier_num_sum_2 += len(data_quantity_table[data_quantity_table['lag_{}_q'.format(i+1)]<0])\n",
    "outlier_num_ave_2 = outlier_num_sum_2 / 12\n",
    "outlier_num_ave_2 "
   ]
  },
  {
   "cell_type": "code",
   "execution_count": 73,
   "metadata": {},
   "outputs": [
    {
     "data": {
      "text/plain": [
       "1091"
      ]
     },
     "execution_count": 73,
     "metadata": {},
     "output_type": "execute_result"
    }
   ],
   "source": [
    "outlier_num_sum_3 = 0\n",
    "for i in range(12):\n",
    "    outlier_num_sum_3 += len(data_quantity_table[data_quantity_table['lag_{}_q'.format(i+1)]>5])\n",
    "outlier_num_ave_3 = outlier_num_sum_3 / 12\n",
    "outlier_num_ave_3 "
   ]
  },
  {
   "cell_type": "code",
   "execution_count": 74,
   "metadata": {},
   "outputs": [
    {
     "data": {
      "text/plain": [
       "2433"
      ]
     },
     "execution_count": 74,
     "metadata": {},
     "output_type": "execute_result"
    }
   ],
   "source": [
    "outlier_num_sum_4 = 0\n",
    "for i in range(12):\n",
    "    outlier_num_sum_4 += len(data_quantity_table[data_quantity_table['lag_{}_q'.format(i+1)]>3])\n",
    "outlier_num_ave_4 = outlier_num_sum_4 / 12\n",
    "outlier_num_ave_4 "
   ]
  },
  {
   "cell_type": "code",
   "execution_count": 75,
   "metadata": {},
   "outputs": [
    {
     "data": {
      "text/plain": [
       "0.0016302678877869903"
      ]
     },
     "execution_count": 75,
     "metadata": {},
     "output_type": "execute_result"
    }
   ],
   "source": [
    "float(outlier_num_ave+outlier_num_ave_2)/len(data_quantity_table)"
   ]
  },
  {
   "cell_type": "code",
   "execution_count": 76,
   "metadata": {},
   "outputs": [
    {
     "data": {
      "text/plain": [
       "0.004990155168987879"
      ]
     },
     "execution_count": 76,
     "metadata": {},
     "output_type": "execute_result"
    }
   ],
   "source": [
    "float(outlier_num_ave_3+outlier_num_ave_2)/len(data_quantity_table)"
   ]
  },
  {
   "cell_type": "code",
   "execution_count": 77,
   "metadata": {},
   "outputs": [
    {
     "data": {
      "text/plain": [
       "0.011050597012229267"
      ]
     },
     "execution_count": 77,
     "metadata": {},
     "output_type": "execute_result"
    }
   ],
   "source": [
    "float(outlier_num_ave_4+outlier_num_ave_2)/len(data_quantity_table)"
   ]
  },
  {
   "cell_type": "markdown",
   "metadata": {},
   "source": [
    "### This shows around 0.16%, 0.50%, 1.1% of the total products on average each month have total purchase quantity greater than 10 or fewer than 0,  greater than 5 or fewer than 0, greater than 3 or fewer than 0."
   ]
  },
  {
   "cell_type": "markdown",
   "metadata": {},
   "source": [
    "### To eliminate noise, we only consider products with nonnegative total purchase quantity fewer or equal to 5  in the most recent month ( the month before the month we want to predict)."
   ]
  },
  {
   "cell_type": "code",
   "execution_count": 78,
   "metadata": {
    "collapsed": true
   },
   "outputs": [],
   "source": [
    "data_q_table = data_quantity_table[(data_quantity_table['lag_1_q'] <= 5) &(data_quantity_table['lag_1_q'] >= 0) ]"
   ]
  },
  {
   "cell_type": "markdown",
   "metadata": {},
   "source": [
    "### Building models to forecast demand. Split data into training data and validation data."
   ]
  },
  {
   "cell_type": "code",
   "execution_count": 79,
   "metadata": {
    "collapsed": true
   },
   "outputs": [],
   "source": [
    "X_q = data_q_table.iloc[:,:-1].values\n",
    "y_q = data_q_table.iloc[:,-1].values"
   ]
  },
  {
   "cell_type": "code",
   "execution_count": 80,
   "metadata": {
    "collapsed": true
   },
   "outputs": [],
   "source": [
    "X_q_train, X_q_test, y_q_train,y_q_test = train_test_split(X_q, y_q, test_size = 0.2, random_state = 42)"
   ]
  },
  {
   "cell_type": "code",
   "execution_count": 81,
   "metadata": {},
   "outputs": [
    {
     "name": "stdout",
     "output_type": "stream",
     "text": [
      "('Train-data_quantity RMSE', 2.3446132369561439)\n"
     ]
    }
   ],
   "source": [
    "# Train the data\n",
    "rf_q = RandomForestRegressor(n_estimators=10, \n",
    "                           max_depth= 50, random_state=42)\n",
    "rf_q.fit(X_q_train, y_q_train)\n",
    "y_q_pred_train = rf_q.predict(X_q_train)\n",
    "rf_q_mse_train = mean_squared_error(y_q_pred_train, y_q_train)\n",
    "print(\"Train-data_quantity RMSE\", np.sqrt(rf_q_mse_train))  ##2.3446132369561439"
   ]
  },
  {
   "cell_type": "code",
   "execution_count": 82,
   "metadata": {
    "collapsed": true
   },
   "outputs": [],
   "source": [
    "# Validate the data\n",
    "y_q_pred_validate = rf_q.predict(X_q_test)"
   ]
  },
  {
   "cell_type": "code",
   "execution_count": 83,
   "metadata": {},
   "outputs": [
    {
     "name": "stdout",
     "output_type": "stream",
     "text": [
      "('Validation-data_quantity RMSE', 1.6523771650705217)\n"
     ]
    }
   ],
   "source": [
    "rf_q_mse_validate = mean_squared_error(y_q_pred_validate, y_q_test)\n",
    "print(\"Validation-data_quantity RMSE\", np.sqrt(rf_q_mse_validate))  \n",
    "##1.6523771650705217"
   ]
  },
  {
   "cell_type": "code",
   "execution_count": 85,
   "metadata": {
    "collapsed": true
   },
   "outputs": [],
   "source": [
    "import xgboost as xgb"
   ]
  },
  {
   "cell_type": "code",
   "execution_count": 86,
   "metadata": {
    "collapsed": true
   },
   "outputs": [],
   "source": [
    "xgb_q_1 = xgb.XGBRegressor(objective = 'reg:linear',\n",
    "                        max_depth = 12,\n",
    "                        subsample = 0.9,\n",
    "                        colsample_bytree = 0.9,\n",
    "                        min_child_weight = 0.5,\n",
    "                        learning_rate = 0.1,\n",
    "                        seed = 0,\n",
    "                        silent = 0\n",
    "                        )"
   ]
  },
  {
   "cell_type": "code",
   "execution_count": 87,
   "metadata": {},
   "outputs": [
    {
     "name": "stdout",
     "output_type": "stream",
     "text": [
      "('Train-data_quantity RMSE', 1.1356049609028387)\n"
     ]
    }
   ],
   "source": [
    "# Train the data\n",
    "xgb_q_1.fit(X_q_train, y_q_train)\n",
    "y_q_pred_train_2 = xgb_q_1.predict(X_q_train)\n",
    "xgb_q_mse_train_2 = mean_squared_error(y_q_pred_train_2, y_q_train)\n",
    "print(\"Train-data_quantity RMSE\", np.sqrt(xgb_q_mse_train_2))  \n",
    "#1.1356049609028387"
   ]
  },
  {
   "cell_type": "code",
   "execution_count": 88,
   "metadata": {},
   "outputs": [
    {
     "name": "stdout",
     "output_type": "stream",
     "text": [
      "('Validation-data_quantity RMSE', 1.5709862566678292)\n"
     ]
    }
   ],
   "source": [
    "# Validate the data\n",
    "y_q_pred_validate_2 = xgb_q_1.predict(X_q_test)\n",
    "xgb_q_mse_validate_2 = mean_squared_error(y_q_pred_validate_2, y_q_test)\n",
    "print(\"Validation-data_quantity RMSE\", np.sqrt(xgb_q_mse_validate_2))  \n",
    "# 1.5709862566678292"
   ]
  },
  {
   "cell_type": "code",
   "execution_count": 91,
   "metadata": {
    "collapsed": true
   },
   "outputs": [],
   "source": [
    "#xgb_q = xgb.XGBRegressor(objective = 'reg:linear',\n",
    "   #                     max_depth = 12,\n",
    "     #                   subsample = 1,\n",
    "       #                 min_child_weight = 0.5,\n",
    "        #                learning_rate = 0.3,\n",
    "                     \n",
    "              #          seed = 0,\n",
    "                #        silent = 0\n",
    "                #        )"
   ]
  },
  {
   "cell_type": "code",
   "execution_count": 92,
   "metadata": {
    "collapsed": true
   },
   "outputs": [],
   "source": [
    "# Train the data\n",
    "#xgb_q.fit(X_q_train, y_q_train)\n",
    "#y_q_pred_train_2 = xgb_q.predict(X_q_train)\n",
    "#xgb_q_mse_train_2 = mean_squared_error(y_q_pred_train_2, y_q_train)\n",
    "#print(\"Train-data_quantity RMSE\", np.sqrt(xgb_q_mse_train_2))  \n",
    "#1.9777077582810094, 0.29823162339574755, 0.36379839594639068, ||0.36780988264979808"
   ]
  },
  {
   "cell_type": "code",
   "execution_count": 93,
   "metadata": {
    "collapsed": true
   },
   "outputs": [],
   "source": [
    "# Validate the data\n",
    "#y_q_pred_validate_2 = xgb_q.predict(X_q_test)\n",
    "#xgb_q_mse_validate_2 = mean_squared_error(y_q_pred_validate_2, y_q_test)\n",
    "#print(\"Validation-data_quantity RMSE\", np.sqrt(xgb_q_mse_validate_2))  \n",
    "# 8.5485484180593012, 0.63565184832549237,3.6811122625121593, ||1.8510391535923996"
   ]
  },
  {
   "cell_type": "code",
   "execution_count": null,
   "metadata": {
    "collapsed": true
   },
   "outputs": [],
   "source": [
    "### Grid Search with xgboost "
   ]
  },
  {
   "cell_type": "code",
   "execution_count": null,
   "metadata": {
    "collapsed": true
   },
   "outputs": [],
   "source": [
    "#parameters = {\n",
    " #   'learning_rate': [0.05,0.1, 0.4],\n",
    "  #  'max_depth': [12,20,50]\n",
    "    #'min_child_weight': [0.5, 1],\n",
    "   # 'subsample':[0.9,1],\n",
    "   # 'colsample_bytree': [0.9,1]\n",
    "#    }"
   ]
  },
  {
   "cell_type": "code",
   "execution_count": null,
   "metadata": {
    "collapsed": true
   },
   "outputs": [],
   "source": [
    "#xgb_grid = GridSearchCV(xgb_q_1, parameters, cv = 3)"
   ]
  },
  {
   "cell_type": "code",
   "execution_count": null,
   "metadata": {
    "collapsed": true
   },
   "outputs": [],
   "source": [
    "#xgb_grid.fit(X_q_train, y_q_train) "
   ]
  },
  {
   "cell_type": "code",
   "execution_count": null,
   "metadata": {
    "collapsed": true
   },
   "outputs": [],
   "source": [
    "#print xgb_grid.best_score_"
   ]
  },
  {
   "cell_type": "code",
   "execution_count": null,
   "metadata": {
    "collapsed": true
   },
   "outputs": [],
   "source": [
    "#print xgb_grid.best_params_"
   ]
  },
  {
   "cell_type": "code",
   "execution_count": null,
   "metadata": {
    "collapsed": true
   },
   "outputs": [],
   "source": [
    "#xgb_q_2 = xgb.XGBRegressor(objective = 'reg:linear',\n",
    "     #                   max_depth = 12,\n",
    "      #                  subsample = 1,\n",
    "       #                 min_child_weight = 0.5,\n",
    "         #               learning_rate = 0.1,\n",
    "                     \n",
    "            #            seed = 0,\n",
    "            #            silent = 0\n",
    "             #           )"
   ]
  }
 ],
 "metadata": {
  "kernelspec": {
   "display_name": "Python 2",
   "language": "python",
   "name": "python2"
  },
  "language_info": {
   "codemirror_mode": {
    "name": "ipython",
    "version": 2
   },
   "file_extension": ".py",
   "mimetype": "text/x-python",
   "name": "python",
   "nbconvert_exporter": "python",
   "pygments_lexer": "ipython2",
   "version": "2.7.14"
  }
 },
 "nbformat": 4,
 "nbformat_minor": 2
}
