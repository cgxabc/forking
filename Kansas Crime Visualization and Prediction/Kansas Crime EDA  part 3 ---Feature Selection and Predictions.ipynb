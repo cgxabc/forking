{
 "cells": [
  {
   "cell_type": "code",
   "execution_count": 1,
   "metadata": {},
   "outputs": [
    {
     "name": "stderr",
     "output_type": "stream",
     "text": [
      "/Users/apple/anaconda/lib/python2.7/site-packages/sklearn/cross_validation.py:44: DeprecationWarning: This module was deprecated in version 0.18 in favor of the model_selection module into which all the refactored classes and functions are moved. Also note that the interface of the new CV iterators are different from that of this module. This module will be removed in 0.20.\n",
      "  \"This module will be removed in 0.20.\", DeprecationWarning)\n"
     ]
    }
   ],
   "source": [
    "import pandas as pd\n",
    "import numpy as np\n",
    "import seaborn as sns\n",
    "import matplotlib.pyplot as plt\n",
    "import pylab\n",
    "from matplotlib.mlab import griddata\n",
    "import xgboost as xgb\n",
    "%matplotlib inline"
   ]
  },
  {
   "cell_type": "code",
   "execution_count": 2,
   "metadata": {
    "collapsed": true
   },
   "outputs": [],
   "source": [
    "import graphviz\n",
    "from sklearn import preprocessing\n",
    "#from sklearn.grid_search import GridSearchCV\n",
    "from sklearn.metrics import accuracy_score, f1_score\n",
    "from sklearn.cross_validation import KFold"
   ]
  },
  {
   "cell_type": "code",
   "execution_count": 3,
   "metadata": {
    "collapsed": true
   },
   "outputs": [],
   "source": [
    "from sklearn.ensemble import RandomForestClassifier\n",
    "from sklearn.metrics import make_scorer, accuracy_score\n",
    "#from sklearn.model_selection import GridSearchCV"
   ]
  },
  {
   "cell_type": "code",
   "execution_count": 4,
   "metadata": {},
   "outputs": [
    {
     "name": "stderr",
     "output_type": "stream",
     "text": [
      "/Users/apple/anaconda/lib/python2.7/site-packages/IPython/core/interactiveshell.py:2717: DtypeWarning: Columns (7,17,18,19,20,21) have mixed types. Specify dtype option on import or set low_memory=False.\n",
      "  interactivity=interactivity, compiler=compiler, result=result)\n"
     ]
    }
   ],
   "source": [
    "kansas_data = pd.read_csv('kansas_data_cleaned.csv')"
   ]
  },
  {
   "cell_type": "code",
   "execution_count": 5,
   "metadata": {},
   "outputs": [
    {
     "data": {
      "text/html": [
       "<div>\n",
       "<style>\n",
       "    .dataframe thead tr:only-child th {\n",
       "        text-align: right;\n",
       "    }\n",
       "\n",
       "    .dataframe thead th {\n",
       "        text-align: left;\n",
       "    }\n",
       "\n",
       "    .dataframe tbody tr th {\n",
       "        vertical-align: top;\n",
       "    }\n",
       "</style>\n",
       "<table border=\"1\" class=\"dataframe\">\n",
       "  <thead>\n",
       "    <tr style=\"text-align: right;\">\n",
       "      <th></th>\n",
       "      <th>Unnamed: 0</th>\n",
       "      <th>id</th>\n",
       "      <th>agency</th>\n",
       "      <th>daterept</th>\n",
       "      <th>hourrept</th>\n",
       "      <th>ucrcode</th>\n",
       "      <th>offense</th>\n",
       "      <th>neighborhood</th>\n",
       "      <th>subdivision</th>\n",
       "      <th>spx</th>\n",
       "      <th>...</th>\n",
       "      <th>Minute</th>\n",
       "      <th>Time</th>\n",
       "      <th>Date</th>\n",
       "      <th>Day</th>\n",
       "      <th>DayOfWeek</th>\n",
       "      <th>Week</th>\n",
       "      <th>Month</th>\n",
       "      <th>Year</th>\n",
       "      <th>FullDayOfWeek</th>\n",
       "      <th>FullMonth</th>\n",
       "    </tr>\n",
       "  </thead>\n",
       "  <tbody>\n",
       "    <tr>\n",
       "      <th>0</th>\n",
       "      <td>1</td>\n",
       "      <td>2</td>\n",
       "      <td>JCSO</td>\n",
       "      <td>7/3/15 0:00</td>\n",
       "      <td>15:14:00</td>\n",
       "      <td>35A</td>\n",
       "      <td>POSSESSION OF HALLUCINOGENIC DRUG</td>\n",
       "      <td>NaN</td>\n",
       "      <td>-1.0</td>\n",
       "      <td>2144629.87</td>\n",
       "      <td>...</td>\n",
       "      <td>14</td>\n",
       "      <td>914</td>\n",
       "      <td>2015-07-03</td>\n",
       "      <td>3</td>\n",
       "      <td>4</td>\n",
       "      <td>27</td>\n",
       "      <td>7</td>\n",
       "      <td>2015</td>\n",
       "      <td>Friday</td>\n",
       "      <td>Jul</td>\n",
       "    </tr>\n",
       "    <tr>\n",
       "      <th>1</th>\n",
       "      <td>2</td>\n",
       "      <td>3</td>\n",
       "      <td>JCSO</td>\n",
       "      <td>6/27/05 0:00</td>\n",
       "      <td>13:46:00</td>\n",
       "      <td>90Z</td>\n",
       "      <td>DRIVING WHILE HABITUAL VIOLATOR</td>\n",
       "      <td>NaN</td>\n",
       "      <td>-1.0</td>\n",
       "      <td>2149483.00</td>\n",
       "      <td>...</td>\n",
       "      <td>46</td>\n",
       "      <td>826</td>\n",
       "      <td>2005-06-27</td>\n",
       "      <td>27</td>\n",
       "      <td>0</td>\n",
       "      <td>26</td>\n",
       "      <td>6</td>\n",
       "      <td>2005</td>\n",
       "      <td>Monday</td>\n",
       "      <td>Jun</td>\n",
       "    </tr>\n",
       "    <tr>\n",
       "      <th>2</th>\n",
       "      <td>3</td>\n",
       "      <td>4</td>\n",
       "      <td>JCSO</td>\n",
       "      <td>2/5/05 0:00</td>\n",
       "      <td>01:45:00</td>\n",
       "      <td>90Z</td>\n",
       "      <td>FAILURE TO APPEAR</td>\n",
       "      <td>NaN</td>\n",
       "      <td>-1.0</td>\n",
       "      <td>2149483.00</td>\n",
       "      <td>...</td>\n",
       "      <td>45</td>\n",
       "      <td>105</td>\n",
       "      <td>2005-02-05</td>\n",
       "      <td>5</td>\n",
       "      <td>5</td>\n",
       "      <td>5</td>\n",
       "      <td>2</td>\n",
       "      <td>2005</td>\n",
       "      <td>Saturday</td>\n",
       "      <td>Feb</td>\n",
       "    </tr>\n",
       "    <tr>\n",
       "      <th>3</th>\n",
       "      <td>4</td>\n",
       "      <td>5</td>\n",
       "      <td>JCSO</td>\n",
       "      <td>4/14/10 0:00</td>\n",
       "      <td>19:52:00</td>\n",
       "      <td>90D</td>\n",
       "      <td>DRIVING UNDER INFLUENCE OF ALCOHOL OR DRUGS; U...</td>\n",
       "      <td>JC1</td>\n",
       "      <td>10200.0</td>\n",
       "      <td>2149561.34</td>\n",
       "      <td>...</td>\n",
       "      <td>52</td>\n",
       "      <td>1192</td>\n",
       "      <td>2010-04-14</td>\n",
       "      <td>14</td>\n",
       "      <td>2</td>\n",
       "      <td>15</td>\n",
       "      <td>4</td>\n",
       "      <td>2010</td>\n",
       "      <td>Wednesday</td>\n",
       "      <td>Apr</td>\n",
       "    </tr>\n",
       "    <tr>\n",
       "      <th>4</th>\n",
       "      <td>5</td>\n",
       "      <td>6</td>\n",
       "      <td>JCSO</td>\n",
       "      <td>3/18/11 0:00</td>\n",
       "      <td>21:15:00</td>\n",
       "      <td>90Z</td>\n",
       "      <td>CONTEMPT OF COURT; INDIRECT</td>\n",
       "      <td>JC1</td>\n",
       "      <td>10200.0</td>\n",
       "      <td>2149561.34</td>\n",
       "      <td>...</td>\n",
       "      <td>15</td>\n",
       "      <td>1275</td>\n",
       "      <td>2011-03-18</td>\n",
       "      <td>18</td>\n",
       "      <td>4</td>\n",
       "      <td>11</td>\n",
       "      <td>3</td>\n",
       "      <td>2011</td>\n",
       "      <td>Friday</td>\n",
       "      <td>Mar</td>\n",
       "    </tr>\n",
       "  </tbody>\n",
       "</table>\n",
       "<p>5 rows × 36 columns</p>\n",
       "</div>"
      ],
      "text/plain": [
       "   Unnamed: 0  id agency      daterept  hourrept ucrcode  \\\n",
       "0           1   2   JCSO   7/3/15 0:00  15:14:00     35A   \n",
       "1           2   3   JCSO  6/27/05 0:00  13:46:00     90Z   \n",
       "2           3   4   JCSO   2/5/05 0:00  01:45:00     90Z   \n",
       "3           4   5   JCSO  4/14/10 0:00  19:52:00     90D   \n",
       "4           5   6   JCSO  3/18/11 0:00  21:15:00     90Z   \n",
       "\n",
       "                                             offense neighborhood  \\\n",
       "0                  POSSESSION OF HALLUCINOGENIC DRUG          NaN   \n",
       "1                    DRIVING WHILE HABITUAL VIOLATOR          NaN   \n",
       "2                                  FAILURE TO APPEAR          NaN   \n",
       "3  DRIVING UNDER INFLUENCE OF ALCOHOL OR DRUGS; U...          JC1   \n",
       "4                        CONTEMPT OF COURT; INDIRECT          JC1   \n",
       "\n",
       "   subdivision         spx    ...     Minute  Time        Date Day DayOfWeek  \\\n",
       "0         -1.0  2144629.87    ...         14   914  2015-07-03   3         4   \n",
       "1         -1.0  2149483.00    ...         46   826  2005-06-27  27         0   \n",
       "2         -1.0  2149483.00    ...         45   105  2005-02-05   5         5   \n",
       "3      10200.0  2149561.34    ...         52  1192  2010-04-14  14         2   \n",
       "4      10200.0  2149561.34    ...         15  1275  2011-03-18  18         4   \n",
       "\n",
       "  Week Month  Year FullDayOfWeek FullMonth  \n",
       "0   27     7  2015        Friday       Jul  \n",
       "1   26     6  2005        Monday       Jun  \n",
       "2    5     2  2005      Saturday       Feb  \n",
       "3   15     4  2010     Wednesday       Apr  \n",
       "4   11     3  2011        Friday       Mar  \n",
       "\n",
       "[5 rows x 36 columns]"
      ]
     },
     "execution_count": 5,
     "metadata": {},
     "output_type": "execute_result"
    }
   ],
   "source": [
    "kansas_data.head()"
   ]
  },
  {
   "cell_type": "code",
   "execution_count": 6,
   "metadata": {
    "collapsed": true
   },
   "outputs": [],
   "source": [
    "kansas_data=kansas_data.drop(kansas_data.columns[0],axis=1)"
   ]
  },
  {
   "cell_type": "code",
   "execution_count": 7,
   "metadata": {
    "collapsed": true
   },
   "outputs": [],
   "source": [
    "#kansas_data.head()"
   ]
  },
  {
   "cell_type": "code",
   "execution_count": 8,
   "metadata": {},
   "outputs": [
    {
     "data": {
      "text/plain": [
       "(335484, 35)"
      ]
     },
     "execution_count": 8,
     "metadata": {},
     "output_type": "execute_result"
    }
   ],
   "source": [
    "kansas_data.shape"
   ]
  },
  {
   "cell_type": "code",
   "execution_count": 9,
   "metadata": {},
   "outputs": [
    {
     "data": {
      "text/plain": [
       "2010    27266\n",
       "2006    27026\n",
       "2007    26696\n",
       "2015    26602\n",
       "2012    26458\n",
       "2011    26320\n",
       "2004    26268\n",
       "2009    26100\n",
       "2008    26089\n",
       "2013    25110\n",
       "2014    24818\n",
       "2005    24415\n",
       "2003    19851\n",
       "2002     2165\n",
       "2001       79\n",
       "2000       70\n",
       "1999       56\n",
       "1998       45\n",
       "1997        7\n",
       "1993        5\n",
       "1995        4\n",
       "1991        4\n",
       "1990        3\n",
       "1982        3\n",
       "1989        3\n",
       "1996        3\n",
       "1992        2\n",
       "1986        2\n",
       "1984        2\n",
       "1983        2\n",
       "1980        2\n",
       "1988        1\n",
       "1987        1\n",
       "1994        1\n",
       "1981        1\n",
       "1979        1\n",
       "1978        1\n",
       "1977        1\n",
       "1975        1\n",
       "Name: Year, dtype: int64"
      ]
     },
     "execution_count": 9,
     "metadata": {},
     "output_type": "execute_result"
    }
   ],
   "source": [
    "kansas_data.Year.value_counts()"
   ]
  },
  {
   "cell_type": "markdown",
   "metadata": {},
   "source": [
    "### In the following analysis, we only consider the crime data of recent five years."
   ]
  },
  {
   "cell_type": "code",
   "execution_count": 10,
   "metadata": {
    "collapsed": true
   },
   "outputs": [],
   "source": [
    "data_5 = kansas_data[2010 < kansas_data['Year']]"
   ]
  },
  {
   "cell_type": "code",
   "execution_count": 11,
   "metadata": {},
   "outputs": [
    {
     "data": {
      "text/plain": [
       "2015    26602\n",
       "2012    26458\n",
       "2011    26320\n",
       "2013    25110\n",
       "2014    24818\n",
       "Name: Year, dtype: int64"
      ]
     },
     "execution_count": 11,
     "metadata": {},
     "output_type": "execute_result"
    }
   ],
   "source": [
    "data_5.Year.value_counts()"
   ]
  },
  {
   "cell_type": "code",
   "execution_count": 12,
   "metadata": {},
   "outputs": [
    {
     "data": {
      "text/plain": [
       "23     33287\n",
       "90Z    15831\n",
       "13B    13996\n",
       "290     9756\n",
       "35A     8701\n",
       "90D     8013\n",
       "220     5592\n",
       "13C     4016\n",
       "23H     3698\n",
       "240     3529\n",
       "26C     2863\n",
       "90C     2410\n",
       "250     2120\n",
       "13A     2023\n",
       "26B     1738\n",
       "35B     1685\n",
       "26A     1603\n",
       "90G     1214\n",
       "90J     1159\n",
       "11D      864\n",
       "11A      677\n",
       "280      655\n",
       "100      527\n",
       "120      499\n",
       "90A      444\n",
       "520      432\n",
       "370      411\n",
       "200      269\n",
       "40A      264\n",
       "40B      261\n",
       "90F      191\n",
       "270      167\n",
       "11B      166\n",
       "36B       71\n",
       "90E       60\n",
       "09A       40\n",
       "210       34\n",
       "90I       18\n",
       "39A       10\n",
       "09B        5\n",
       "36A        4\n",
       "510        2\n",
       "09C        1\n",
       "39B        1\n",
       "26D        1\n",
       "Name: ucrcode, dtype: int64"
      ]
     },
     "execution_count": 12,
     "metadata": {},
     "output_type": "execute_result"
    }
   ],
   "source": [
    "data_5.ucrcode.value_counts()"
   ]
  },
  {
   "cell_type": "code",
   "execution_count": 13,
   "metadata": {},
   "outputs": [
    {
     "data": {
      "text/plain": [
       "Index([u'23', u'90Z', u'13B', u'290', u'35A', u'90D', u'220', u'13C', u'23H',\n",
       "       u'240', u'26C', u'90C', u'250', u'13A', u'26B', u'35B', u'26A', u'90G',\n",
       "       u'90J', u'11D', u'11A', u'280', u'100', u'120', u'90A', u'520', u'370',\n",
       "       u'200', u'40A', u'40B', u'90F', u'270', u'11B'],\n",
       "      dtype='object')"
      ]
     },
     "execution_count": 13,
     "metadata": {},
     "output_type": "execute_result"
    }
   ],
   "source": [
    "data_5.ucrcode.value_counts()[:-12].index"
   ]
  },
  {
   "cell_type": "code",
   "execution_count": 14,
   "metadata": {
    "collapsed": true
   },
   "outputs": [],
   "source": [
    "#if '26D' in data_5.ucrcode.value_counts()[:-12].index:\n",
    "   # print 1"
   ]
  },
  {
   "cell_type": "code",
   "execution_count": 15,
   "metadata": {},
   "outputs": [
    {
     "data": {
      "text/plain": [
       "Single Residence (includes attached garage)           26327\n",
       "City Street                                           14390\n",
       "Government / Public Building                          12122\n",
       "Apartment Complex                                     11142\n",
       "Parking Lot/ or Parking Garage                         9261\n",
       "Department / Discount Store                            7429\n",
       "Duplex/ Individual multiple housing units              4209\n",
       "Public / Private Primary or Secondary School           3670\n",
       "Specialty Store                                        3287\n",
       "Highway                                                2966\n",
       "Commercial / Office Building                           2312\n",
       "Grocery / Supermarket                                  2002\n",
       "Restaurant                                             2000\n",
       "Other                                                  1933\n",
       "Hotel / Motel / Inn                                    1803\n",
       "Service / Gas Station                                  1128\n",
       "Jail / Prison                                          1098\n",
       "Park Trails / Open Recreational Areas                   972\n",
       " Single Residence                                       930\n",
       "Bank / Savings & Loan                                   812\n",
       "Nursing Home / Intermediate Care Facility               757\n",
       "Tavern                                                  753\n",
       "Drug Store / Doctors Office including Veterinarian      592\n",
       "Hospital                                                581\n",
       "Convenience Store                                       480\n",
       " Apartment Complex                                      438\n",
       "Mall Commons                                            404\n",
       "Park Building or Shelters                               367\n",
       "Rural Road                                              365\n",
       "Detached Storage Structures / Temporary Structure       358\n",
       "                                                      ...  \n",
       " Restaurant                                              49\n",
       " Service / Gas Station                                   38\n",
       "Doritory / Soroity / Fraterity                           36\n",
       "Vacant City Lot                                          30\n",
       " Nursing Home / Intermediate Care Facility               26\n",
       " Park Trails / Open Recreational Areas                   23\n",
       " Recreation Facility (Gym                                22\n",
       " Convenience Store                                       20\n",
       " Park Buildings / Shelters                               17\n",
       " Government / Public Building                            13\n",
       " Construction Site                                       13\n",
       " Liquor Store                                            11\n",
       "Air / Bus or Train Terminal                               9\n",
       " Recreation Facility (Gym / HealthClub)                   8\n",
       " Fields / Woods                                           5\n",
       " Car Wash                                                 5\n",
       " Automatic Teller Machine (ATM)                           5\n",
       " Rural Road                                               5\n",
       " Highway                                                  5\n",
       " Alley                                                    4\n",
       " Hospital                                                 4\n",
       " Vacant City Lot                                          3\n",
       " Abandoned Structure                                      2\n",
       " Mall Commons                                             2\n",
       " College / University / Proprietary School                1\n",
       "Oil Fields                                                1\n",
       " Air / Bus / Train Terminal                               1\n",
       " Single Residence;41 - Construction Site                  1\n",
       " Recreation Facility (Gym;HealthClub)                     1\n",
       " City Street;08 - Single Residence                        1\n",
       "Name: premisedescription, Length: 76, dtype: int64"
      ]
     },
     "execution_count": 15,
     "metadata": {},
     "output_type": "execute_result"
    }
   ],
   "source": [
    "data_5.premisedescription.value_counts()"
   ]
  },
  {
   "cell_type": "code",
   "execution_count": 16,
   "metadata": {
    "collapsed": true
   },
   "outputs": [],
   "source": [
    "data_5 = data_5.rename(columns = {'premisedescription': 'location_type'})"
   ]
  },
  {
   "cell_type": "code",
   "execution_count": 17,
   "metadata": {
    "collapsed": true
   },
   "outputs": [],
   "source": [
    "#data_5.location_type.value_counts().index"
   ]
  },
  {
   "cell_type": "code",
   "execution_count": 18,
   "metadata": {},
   "outputs": [
    {
     "data": {
      "text/plain": [
       "76"
      ]
     },
     "execution_count": 18,
     "metadata": {},
     "output_type": "execute_result"
    }
   ],
   "source": [
    "len(data_5.location_type.value_counts().index)"
   ]
  },
  {
   "cell_type": "code",
   "execution_count": 19,
   "metadata": {
    "collapsed": true
   },
   "outputs": [],
   "source": [
    "def missing_counts(dataset):\n",
    "    missing ={}\n",
    "    for col in dataset.columns:\n",
    "        missing[col] = len(dataset[dataset[col].isnull()])\n",
    "    return missing"
   ]
  },
  {
   "cell_type": "code",
   "execution_count": 20,
   "metadata": {},
   "outputs": [
    {
     "data": {
      "text/plain": [
       "{'Date': 0,\n",
       " 'Day': 0,\n",
       " 'DayOfWeek': 0,\n",
       " 'FullDayOfWeek': 0,\n",
       " 'FullMonth': 0,\n",
       " 'Hour': 0,\n",
       " 'Minute': 0,\n",
       " 'Month': 0,\n",
       " 'Time': 0,\n",
       " 'Week': 0,\n",
       " 'Year': 0,\n",
       " 'agency': 1,\n",
       " 'apid': 35579,\n",
       " 'city': 0,\n",
       " 'crimetype': 0,\n",
       " 'daterept': 0,\n",
       " 'fulllocation': 0,\n",
       " 'geom': 0,\n",
       " 'hourrept': 0,\n",
       " 'id': 0,\n",
       " 'inactivitydescription': 12706,\n",
       " 'incidentid': 0,\n",
       " 'location': 0,\n",
       " 'location_type': 11528,\n",
       " 'neighborhood': 28820,\n",
       " 'offense': 0,\n",
       " 'spx': 0,\n",
       " 'spy': 0,\n",
       " 'state': 772,\n",
       " 'subdivision': 12520,\n",
       " 'theftdescription': 92262,\n",
       " 'ucrcode': 0,\n",
       " 'x': 0,\n",
       " 'y': 0,\n",
       " 'zip': 1959}"
      ]
     },
     "execution_count": 20,
     "metadata": {},
     "output_type": "execute_result"
    }
   ],
   "source": [
    "missing_counts(data_5)"
   ]
  },
  {
   "cell_type": "code",
   "execution_count": 21,
   "metadata": {},
   "outputs": [
    {
     "data": {
      "text/plain": [
       "100 BLOCK N KANSAS AVE                 2506\n",
       "7700 BLOCK MISSION RD                  2384\n",
       "27700 BLOCK W 159TH ST                 1812\n",
       "4800 BLOCK TOWN CENTER DR              1060\n",
       "11800 BLOCK W 95TH ST                  1038\n",
       "13600 BLOCK S ALDEN ST                  722\n",
       "500 BLOCK E OLD 56 HWY                  718\n",
       "12400 BLOCK FOSTER ST                   713\n",
       "15300 BLOCK W 119TH ST                  594\n",
       "11200 BLOCK W 95TH ST                   558\n",
       "700 BLOCK N 7TH ST TFWY                 536\n",
       "7700 BLOCK FRONTAGE RD                  521\n",
       "300 BLOCK N K7 HWY                      501\n",
       "11500 BLOCK METCALF AVE                 373\n",
       "5800 BLOCK ANTIOCH RD                   372\n",
       "12500 BLOCK W 87TH ST PKWY              354\n",
       "100 BLOCK N CHERRY ST                   330\n",
       "600 BLOCK E PRAIRIE ST                  323\n",
       "11500 BLOCK W 95TH ST                   309\n",
       "15700 BLOCK METCALF AVE                 300\n",
       "12200 BLOCK S STRANG LINE RD            298\n",
       "11100 BLOCK W 95TH ST                   298\n",
       "11700 BLOCK METCALF AVE                 292\n",
       "9000 BLOCK METCALF AVE                  282\n",
       "5100 BLOCK W 119TH ST                   272\n",
       "100 BLOCK MISSION PKWY                  270\n",
       "6100 BLOCK BROADMOOR ST                 269\n",
       "1700 BLOCK E SANTA FE ST                268\n",
       "7500 BLOCK W 106TH ST                   265\n",
       "4200 BLOCK TOWN CENTER DR               256\n",
       "                                       ... \n",
       "14400 BLOCK S BLACKFEATHER ST             1\n",
       "8800 BLOCK W 90TH TER                     1\n",
       "22200 BLOCK WEBSTER ST                    1\n",
       " E CHEROKEE LN / S MUR-LEN RD             1\n",
       " W 80TH ST / LOWELL AVE                   1\n",
       "12200 BLOCK W 79TH ST                     1\n",
       "12200 BLOCK W 93RD ST                     1\n",
       "2800 BLOCK W 160TH TER                    1\n",
       "8400 BLOCK 54TH                           1\n",
       "6300 BLOCK W 74TH ST                      1\n",
       "13900 BLOCK W 155TH ST                    1\n",
       "5600 BLOCK W 137TH ST                     1\n",
       " W 136TH ST / LAMAR AVE                   1\n",
       "7800 BLOCK NALL AVE                       1\n",
       " S I35 HWY / I35 SB TO GARDNER RAMP       1\n",
       " S BLACK BOB RD / W 135TH ST              1\n",
       "6800 BLOCK W 79TH ST                      1\n",
       "10300 BLOCK JOHNSON                       1\n",
       " W 84TH ST / ANTIOCH RD                   1\n",
       "5900 BLOCK ALBERVAN                       1\n",
       "16000 BLOCK W 154TH                       1\n",
       "2500 BLOCK W 141ST ST                     1\n",
       "16200 BLOCK 76                            1\n",
       "6100 BLOCK W 159TH ST                     1\n",
       "6600 BLOCK W 78TH ST                      1\n",
       "6100 BLOCK W 198TH ST                     1\n",
       "10300 BLOCK S OAKCREST LN                 1\n",
       "20700 BLOCK WILDCAT RD                    1\n",
       " W 150TH ST / GRANADA RD                  1\n",
       " E SOUTH ST / S WATER ST                  1\n",
       "Name: location, Length: 22384, dtype: int64"
      ]
     },
     "execution_count": 21,
     "metadata": {},
     "output_type": "execute_result"
    }
   ],
   "source": [
    "data_5.location.value_counts()"
   ]
  },
  {
   "cell_type": "code",
   "execution_count": 22,
   "metadata": {},
   "outputs": [
    {
     "data": {
      "text/plain": [
       "22384"
      ]
     },
     "execution_count": 22,
     "metadata": {},
     "output_type": "execute_result"
    }
   ],
   "source": [
    "len(data_5.location.value_counts().index)"
   ]
  },
  {
   "cell_type": "code",
   "execution_count": 23,
   "metadata": {
    "collapsed": true
   },
   "outputs": [],
   "source": [
    "data_5['ucrcode'] = data_5['ucrcode'].astype('category')"
   ]
  },
  {
   "cell_type": "code",
   "execution_count": 24,
   "metadata": {
    "collapsed": true
   },
   "outputs": [],
   "source": [
    "data_5['Category'] = data_5.ucrcode.apply(lambda x: x if x in data_5.ucrcode.value_counts()[:-12].index else 'others')"
   ]
  },
  {
   "cell_type": "code",
   "execution_count": 25,
   "metadata": {
    "collapsed": true
   },
   "outputs": [],
   "source": [
    "#data_5.Category.value_counts()"
   ]
  },
  {
   "cell_type": "markdown",
   "metadata": {},
   "source": [
    "### Now we have aggregated categories with small number of crimes to a new category called 'others'."
   ]
  },
  {
   "cell_type": "markdown",
   "metadata": {},
   "source": [
    "## Next we want to build features for our model."
   ]
  },
  {
   "cell_type": "code",
   "execution_count": 26,
   "metadata": {
    "collapsed": true
   },
   "outputs": [],
   "source": [
    "data_5 = data_5.reset_index(drop = True)"
   ]
  },
  {
   "cell_type": "code",
   "execution_count": 27,
   "metadata": {
    "collapsed": true
   },
   "outputs": [],
   "source": [
    "data_5['Day'] = data_5['Day'].astype('category')\n",
    "data_5['DayOfWeek'] = data_5['DayOfWeek'].astype('category')\n",
    "data_5['Hour'] = data_5['Hour'].astype('category')\n",
    "data_5['Month'] = data_5['Month'].astype('category')\n",
    "data_5['Week'] = data_5['Week'].astype('category')\n",
    "data_5['Year'] = data_5['Year'].astype('category')"
   ]
  },
  {
   "cell_type": "code",
   "execution_count": 35,
   "metadata": {
    "collapsed": true
   },
   "outputs": [],
   "source": [
    "location_columns = ['city', 'location']"
   ]
  },
  {
   "cell_type": "code",
   "execution_count": 36,
   "metadata": {
    "collapsed": true
   },
   "outputs": [],
   "source": [
    "from sklearn.preprocessing import LabelEncoder"
   ]
  },
  {
   "cell_type": "code",
   "execution_count": 37,
   "metadata": {
    "collapsed": true
   },
   "outputs": [],
   "source": [
    "le = LabelEncoder()\n",
    "for feature in location_columns:\n",
    "    data_5[feature] = le.fit_transform(data_5[feature])"
   ]
  },
  {
   "cell_type": "code",
   "execution_count": 38,
   "metadata": {
    "collapsed": true
   },
   "outputs": [],
   "source": [
    "#len(set(data_5['city']))"
   ]
  },
  {
   "cell_type": "code",
   "execution_count": 39,
   "metadata": {
    "collapsed": true
   },
   "outputs": [],
   "source": [
    "label = data_5['Category'].astype('category')"
   ]
  },
  {
   "cell_type": "code",
   "execution_count": 40,
   "metadata": {
    "collapsed": true
   },
   "outputs": [],
   "source": [
    "data_5['city'] = data_5['city'].astype('category')\n",
    "data_5['location'] = data_5['location'].astype('category')"
   ]
  },
  {
   "cell_type": "code",
   "execution_count": 41,
   "metadata": {
    "collapsed": true
   },
   "outputs": [],
   "source": [
    "#label.to_csv('label_data_5.csv')"
   ]
  },
  {
   "cell_type": "code",
   "execution_count": 42,
   "metadata": {
    "collapsed": true
   },
   "outputs": [],
   "source": [
    "features = ['Day',          # indicates which day in a month\n",
    "            'DayOfWeek',    # indicates which day in a week\n",
    "            'Hour',         # indicates which hour in a day\n",
    "            'Month',        # indicates which month in a year\n",
    "            'Week',         # indicates which week in a year\n",
    "            'Year',         # indicates which year in recent five years\n",
    "            'city',         #indicates which city in Kansas State\n",
    "            #'location',     #indicates which street in the city\n",
    "            'Time',         #indicates the time period in terms of minutes in a day\n",
    "            'x',            # indicates the x coordinates of the location\n",
    "            'y'             # indicates the y coordinates of the location\n",
    "           ]"
   ]
  },
  {
   "cell_type": "code",
   "execution_count": 43,
   "metadata": {
    "collapsed": true
   },
   "outputs": [],
   "source": [
    "new_data = data_5[features]"
   ]
  },
  {
   "cell_type": "code",
   "execution_count": 44,
   "metadata": {
    "collapsed": true
   },
   "outputs": [],
   "source": [
    "def onehot_transform(X):\n",
    "    dummies_X = pd.get_dummies(X)\n",
    "    return dummies_X"
   ]
  },
  {
   "cell_type": "code",
   "execution_count": 45,
   "metadata": {
    "collapsed": true
   },
   "outputs": [],
   "source": [
    "new_data = onehot_transform(new_data)"
   ]
  },
  {
   "cell_type": "code",
   "execution_count": 46,
   "metadata": {},
   "outputs": [
    {
     "data": {
      "text/html": [
       "<div>\n",
       "<style>\n",
       "    .dataframe thead tr:only-child th {\n",
       "        text-align: right;\n",
       "    }\n",
       "\n",
       "    .dataframe thead th {\n",
       "        text-align: left;\n",
       "    }\n",
       "\n",
       "    .dataframe tbody tr th {\n",
       "        vertical-align: top;\n",
       "    }\n",
       "</style>\n",
       "<table border=\"1\" class=\"dataframe\">\n",
       "  <thead>\n",
       "    <tr style=\"text-align: right;\">\n",
       "      <th></th>\n",
       "      <th>Time</th>\n",
       "      <th>x</th>\n",
       "      <th>y</th>\n",
       "      <th>Day_1</th>\n",
       "      <th>Day_2</th>\n",
       "      <th>Day_3</th>\n",
       "      <th>Day_4</th>\n",
       "      <th>Day_5</th>\n",
       "      <th>Day_6</th>\n",
       "      <th>Day_7</th>\n",
       "      <th>...</th>\n",
       "      <th>city_34</th>\n",
       "      <th>city_35</th>\n",
       "      <th>city_36</th>\n",
       "      <th>city_37</th>\n",
       "      <th>city_38</th>\n",
       "      <th>city_39</th>\n",
       "      <th>city_40</th>\n",
       "      <th>city_41</th>\n",
       "      <th>city_42</th>\n",
       "      <th>city_43</th>\n",
       "    </tr>\n",
       "  </thead>\n",
       "  <tbody>\n",
       "    <tr>\n",
       "      <th>0</th>\n",
       "      <td>914</td>\n",
       "      <td>-95.073315</td>\n",
       "      <td>38.941743</td>\n",
       "      <td>0</td>\n",
       "      <td>0</td>\n",
       "      <td>1</td>\n",
       "      <td>0</td>\n",
       "      <td>0</td>\n",
       "      <td>0</td>\n",
       "      <td>0</td>\n",
       "      <td>...</td>\n",
       "      <td>0</td>\n",
       "      <td>0</td>\n",
       "      <td>0</td>\n",
       "      <td>0</td>\n",
       "      <td>0</td>\n",
       "      <td>0</td>\n",
       "      <td>0</td>\n",
       "      <td>0</td>\n",
       "      <td>0</td>\n",
       "      <td>0</td>\n",
       "    </tr>\n",
       "    <tr>\n",
       "      <th>1</th>\n",
       "      <td>1275</td>\n",
       "      <td>-95.055912</td>\n",
       "      <td>38.943095</td>\n",
       "      <td>0</td>\n",
       "      <td>0</td>\n",
       "      <td>0</td>\n",
       "      <td>0</td>\n",
       "      <td>0</td>\n",
       "      <td>0</td>\n",
       "      <td>0</td>\n",
       "      <td>...</td>\n",
       "      <td>0</td>\n",
       "      <td>0</td>\n",
       "      <td>0</td>\n",
       "      <td>0</td>\n",
       "      <td>0</td>\n",
       "      <td>0</td>\n",
       "      <td>0</td>\n",
       "      <td>0</td>\n",
       "      <td>0</td>\n",
       "      <td>0</td>\n",
       "    </tr>\n",
       "    <tr>\n",
       "      <th>2</th>\n",
       "      <td>1398</td>\n",
       "      <td>-95.055912</td>\n",
       "      <td>38.943095</td>\n",
       "      <td>0</td>\n",
       "      <td>0</td>\n",
       "      <td>0</td>\n",
       "      <td>0</td>\n",
       "      <td>0</td>\n",
       "      <td>1</td>\n",
       "      <td>0</td>\n",
       "      <td>...</td>\n",
       "      <td>0</td>\n",
       "      <td>0</td>\n",
       "      <td>0</td>\n",
       "      <td>0</td>\n",
       "      <td>0</td>\n",
       "      <td>0</td>\n",
       "      <td>0</td>\n",
       "      <td>0</td>\n",
       "      <td>0</td>\n",
       "      <td>0</td>\n",
       "    </tr>\n",
       "    <tr>\n",
       "      <th>3</th>\n",
       "      <td>219</td>\n",
       "      <td>-95.055912</td>\n",
       "      <td>38.943095</td>\n",
       "      <td>0</td>\n",
       "      <td>1</td>\n",
       "      <td>0</td>\n",
       "      <td>0</td>\n",
       "      <td>0</td>\n",
       "      <td>0</td>\n",
       "      <td>0</td>\n",
       "      <td>...</td>\n",
       "      <td>0</td>\n",
       "      <td>0</td>\n",
       "      <td>0</td>\n",
       "      <td>0</td>\n",
       "      <td>0</td>\n",
       "      <td>0</td>\n",
       "      <td>0</td>\n",
       "      <td>0</td>\n",
       "      <td>0</td>\n",
       "      <td>0</td>\n",
       "    </tr>\n",
       "    <tr>\n",
       "      <th>4</th>\n",
       "      <td>165</td>\n",
       "      <td>-95.055912</td>\n",
       "      <td>38.943095</td>\n",
       "      <td>0</td>\n",
       "      <td>0</td>\n",
       "      <td>0</td>\n",
       "      <td>0</td>\n",
       "      <td>1</td>\n",
       "      <td>0</td>\n",
       "      <td>0</td>\n",
       "      <td>...</td>\n",
       "      <td>0</td>\n",
       "      <td>0</td>\n",
       "      <td>0</td>\n",
       "      <td>0</td>\n",
       "      <td>0</td>\n",
       "      <td>0</td>\n",
       "      <td>0</td>\n",
       "      <td>0</td>\n",
       "      <td>0</td>\n",
       "      <td>0</td>\n",
       "    </tr>\n",
       "  </tbody>\n",
       "</table>\n",
       "<p>5 rows × 178 columns</p>\n",
       "</div>"
      ],
      "text/plain": [
       "   Time          x          y  Day_1  Day_2  Day_3  Day_4  Day_5  Day_6  \\\n",
       "0   914 -95.073315  38.941743      0      0      1      0      0      0   \n",
       "1  1275 -95.055912  38.943095      0      0      0      0      0      0   \n",
       "2  1398 -95.055912  38.943095      0      0      0      0      0      1   \n",
       "3   219 -95.055912  38.943095      0      1      0      0      0      0   \n",
       "4   165 -95.055912  38.943095      0      0      0      0      1      0   \n",
       "\n",
       "   Day_7   ...     city_34  city_35  city_36  city_37  city_38  city_39  \\\n",
       "0      0   ...           0        0        0        0        0        0   \n",
       "1      0   ...           0        0        0        0        0        0   \n",
       "2      0   ...           0        0        0        0        0        0   \n",
       "3      0   ...           0        0        0        0        0        0   \n",
       "4      0   ...           0        0        0        0        0        0   \n",
       "\n",
       "   city_40  city_41  city_42  city_43  \n",
       "0        0        0        0        0  \n",
       "1        0        0        0        0  \n",
       "2        0        0        0        0  \n",
       "3        0        0        0        0  \n",
       "4        0        0        0        0  \n",
       "\n",
       "[5 rows x 178 columns]"
      ]
     },
     "execution_count": 46,
     "metadata": {},
     "output_type": "execute_result"
    }
   ],
   "source": [
    "new_data.head()"
   ]
  },
  {
   "cell_type": "code",
   "execution_count": 47,
   "metadata": {},
   "outputs": [
    {
     "data": {
      "text/plain": [
       "(129308, 178)"
      ]
     },
     "execution_count": 47,
     "metadata": {},
     "output_type": "execute_result"
    }
   ],
   "source": [
    "new_data.shape"
   ]
  },
  {
   "cell_type": "code",
   "execution_count": 51,
   "metadata": {
    "collapsed": true
   },
   "outputs": [],
   "source": [
    "#new_data.to_csv('feature_data_5.csv')"
   ]
  },
  {
   "cell_type": "markdown",
   "metadata": {},
   "source": [
    "## Now we've finished building up features."
   ]
  },
  {
   "cell_type": "code",
   "execution_count": 52,
   "metadata": {
    "collapsed": true
   },
   "outputs": [],
   "source": [
    "feature_list = new_data.columns"
   ]
  },
  {
   "cell_type": "code",
   "execution_count": 53,
   "metadata": {},
   "outputs": [
    {
     "data": {
      "text/plain": [
       "Index([u'Time', u'x', u'y', u'Day_1', u'Day_2', u'Day_3', u'Day_4', u'Day_5',\n",
       "       u'Day_6', u'Day_7',\n",
       "       ...\n",
       "       u'city_34', u'city_35', u'city_36', u'city_37', u'city_38', u'city_39',\n",
       "       u'city_40', u'city_41', u'city_42', u'city_43'],\n",
       "      dtype='object', length=178)"
      ]
     },
     "execution_count": 53,
     "metadata": {},
     "output_type": "execute_result"
    }
   ],
   "source": [
    "feature_list"
   ]
  },
  {
   "cell_type": "markdown",
   "metadata": {},
   "source": [
    "## Fitting and Tuning an algorithm. We start with a simple example."
   ]
  },
  {
   "cell_type": "markdown",
   "metadata": {},
   "source": [
    "### We split the data into training set (80%) and test set (20%) using stratified splits (preserving the percentage of samples for each class)"
   ]
  },
  {
   "cell_type": "code",
   "execution_count": 54,
   "metadata": {
    "collapsed": true
   },
   "outputs": [],
   "source": [
    "from sklearn.cross_validation import StratifiedShuffleSplit"
   ]
  },
  {
   "cell_type": "code",
   "execution_count": 55,
   "metadata": {
    "collapsed": true
   },
   "outputs": [],
   "source": [
    "strat_shuffle = StratifiedShuffleSplit(label, n_iter = 1, test_size = 0.2, random_state = 42)"
   ]
  },
  {
   "cell_type": "code",
   "execution_count": 56,
   "metadata": {},
   "outputs": [
    {
     "data": {
      "text/plain": [
       "StratifiedShuffleSplit(labels=['35A' '90Z' '90D' ..., '26B' '290' '26C'], n_iter=1, test_size=0.2, random_state=42)"
      ]
     },
     "execution_count": 56,
     "metadata": {},
     "output_type": "execute_result"
    }
   ],
   "source": [
    "strat_shuffle"
   ]
  },
  {
   "cell_type": "code",
   "execution_count": 57,
   "metadata": {
    "collapsed": true
   },
   "outputs": [],
   "source": [
    "for train_index, test_index in strat_shuffle:\n",
    "    X_train, X_test = new_data.iloc[train_index], new_data.iloc[test_index]\n",
    "    y_train, y_test = label.iloc[train_index], label.iloc[test_index]"
   ]
  },
  {
   "cell_type": "markdown",
   "metadata": {},
   "source": [
    "## Next we want to fit an XGBoost classifier to our model."
   ]
  },
  {
   "cell_type": "markdown",
   "metadata": {},
   "source": [
    "### First we do the normalization of X_train and X_test."
   ]
  },
  {
   "cell_type": "code",
   "execution_count": 58,
   "metadata": {
    "collapsed": true
   },
   "outputs": [],
   "source": [
    "from sklearn.preprocessing import StandardScaler"
   ]
  },
  {
   "cell_type": "code",
   "execution_count": 60,
   "metadata": {
    "collapsed": true
   },
   "outputs": [],
   "source": [
    "sc_X = StandardScaler()\n",
    "X_train = sc_X.fit_transform(X_train)\n",
    "X_test = sc_X.transform(X_test)"
   ]
  },
  {
   "cell_type": "code",
   "execution_count": 61,
   "metadata": {
    "collapsed": true
   },
   "outputs": [],
   "source": [
    "from xgboost import XGBClassifier"
   ]
  },
  {
   "cell_type": "code",
   "execution_count": 62,
   "metadata": {
    "collapsed": true
   },
   "outputs": [],
   "source": [
    "num_class = len(set(label))"
   ]
  },
  {
   "cell_type": "markdown",
   "metadata": {},
   "source": [
    "### We start with one particular parameter set."
   ]
  },
  {
   "cell_type": "code",
   "execution_count": 63,
   "metadata": {
    "collapsed": true
   },
   "outputs": [],
   "source": [
    "param_dist ={'objective': 'multi:softmax',\n",
    "             'learning_rate': 0.4,\n",
    "             'silent': 0,\n",
    "             'nthread': 4,\n",
    "             'max_depth': 8,\n",
    "             'min_child_weight': 1,\n",
    "             'gamma': 0,\n",
    "             'reg_alpha': 0.05,\n",
    "             'subsample': 0.8,\n",
    "             'colsample_bytree': 0.8,\n",
    "             'max_delta_step': 1,\n",
    "             'scale_pos_weight':1    \n",
    "}"
   ]
  },
  {
   "cell_type": "code",
   "execution_count": 64,
   "metadata": {
    "collapsed": true
   },
   "outputs": [],
   "source": [
    "clf = xgb.XGBClassifier(**param_dist)"
   ]
  },
  {
   "cell_type": "code",
   "execution_count": 65,
   "metadata": {},
   "outputs": [
    {
     "data": {
      "text/plain": [
       "XGBClassifier(base_score=0.5, colsample_bylevel=1, colsample_bytree=0.8,\n",
       "       gamma=0, learning_rate=0.4, max_delta_step=1, max_depth=8,\n",
       "       min_child_weight=1, missing=None, n_estimators=100, nthread=4,\n",
       "       objective='multi:softprob', reg_alpha=0.05, reg_lambda=1,\n",
       "       scale_pos_weight=1, seed=0, silent=0, subsample=0.8)"
      ]
     },
     "execution_count": 65,
     "metadata": {},
     "output_type": "execute_result"
    }
   ],
   "source": [
    "clf.fit(X_train, y_train, eval_metric = 'merror')"
   ]
  },
  {
   "cell_type": "code",
   "execution_count": 66,
   "metadata": {
    "collapsed": true
   },
   "outputs": [],
   "source": [
    "predictions = clf.predict(X_test)"
   ]
  },
  {
   "cell_type": "code",
   "execution_count": 67,
   "metadata": {},
   "outputs": [
    {
     "data": {
      "text/plain": [
       "array(['290', '23', '90Z', ..., '90Z', '290', '240'], dtype=object)"
      ]
     },
     "execution_count": 67,
     "metadata": {},
     "output_type": "execute_result"
    }
   ],
   "source": [
    "predictions"
   ]
  },
  {
   "cell_type": "code",
   "execution_count": 69,
   "metadata": {
    "collapsed": true
   },
   "outputs": [],
   "source": [
    "from sklearn import metrics"
   ]
  },
  {
   "cell_type": "code",
   "execution_count": 70,
   "metadata": {
    "collapsed": true
   },
   "outputs": [],
   "source": [
    "from sklearn.metrics import confusion_matrix"
   ]
  },
  {
   "cell_type": "code",
   "execution_count": 71,
   "metadata": {
    "collapsed": true
   },
   "outputs": [],
   "source": [
    "from sklearn.metrics import classification_report"
   ]
  },
  {
   "cell_type": "code",
   "execution_count": 72,
   "metadata": {},
   "outputs": [
    {
     "data": {
      "text/plain": [
       "array([[   0,    0,    0, ...,    0,    1,    0],\n",
       "       [   0,    0,    0, ...,    0,    4,    0],\n",
       "       [   0,    0,    0, ...,    0,    3,    0],\n",
       "       ..., \n",
       "       [   0,    0,    0, ...,    2,    5,    0],\n",
       "       [   1,    0,    0, ...,    0, 2142,    1],\n",
       "       [   0,    0,    0, ...,    0,    1,    0]])"
      ]
     },
     "execution_count": 72,
     "metadata": {},
     "output_type": "execute_result"
    }
   ],
   "source": [
    "confusion_matrix(y_test, predictions)"
   ]
  },
  {
   "cell_type": "code",
   "execution_count": 95,
   "metadata": {
    "collapsed": true
   },
   "outputs": [],
   "source": [
    "#confusion_matrix(y_test, predictions).shape"
   ]
  },
  {
   "cell_type": "code",
   "execution_count": 73,
   "metadata": {
    "collapsed": true
   },
   "outputs": [],
   "source": [
    "#len(set(label))"
   ]
  },
  {
   "cell_type": "code",
   "execution_count": 74,
   "metadata": {},
   "outputs": [
    {
     "data": {
      "text/plain": [
       "['35B',\n",
       " '35A',\n",
       " '90Z',\n",
       " '270',\n",
       " '90C',\n",
       " '90A',\n",
       " '90F',\n",
       " '90G',\n",
       " '90D',\n",
       " '90J',\n",
       " '250',\n",
       " '26C',\n",
       " '26B',\n",
       " '26A',\n",
       " '23',\n",
       " '520',\n",
       " '280',\n",
       " '200',\n",
       " '40B',\n",
       " '40A',\n",
       " '11D',\n",
       " '120',\n",
       " '240',\n",
       " 'others',\n",
       " '23H',\n",
       " '100',\n",
       " '220',\n",
       " '13C',\n",
       " '13B',\n",
       " '13A',\n",
       " '11A',\n",
       " '11B',\n",
       " '370',\n",
       " '290']"
      ]
     },
     "execution_count": 74,
     "metadata": {},
     "output_type": "execute_result"
    }
   ],
   "source": [
    "list(set(label))"
   ]
  },
  {
   "cell_type": "code",
   "execution_count": 75,
   "metadata": {
    "collapsed": true
   },
   "outputs": [],
   "source": [
    "target_names = list(set(label))"
   ]
  },
  {
   "cell_type": "code",
   "execution_count": 76,
   "metadata": {},
   "outputs": [
    {
     "name": "stderr",
     "output_type": "stream",
     "text": [
      "/Users/apple/anaconda/lib/python2.7/site-packages/sklearn/metrics/classification.py:1113: UndefinedMetricWarning: Precision and F-score are ill-defined and being set to 0.0 in labels with no predicted samples.\n",
      "  'precision', 'predicted', average, warn_for)\n"
     ]
    },
    {
     "data": {
      "text/plain": [
       "'             precision    recall  f1-score   support\\n\\n        35B       0.00      0.00      0.00       105\\n        35A       0.00      0.00      0.00       135\\n        90Z       0.00      0.00      0.00        33\\n        270       0.22      0.01      0.02       173\\n        90C       0.00      0.00      0.00       100\\n        90A       0.15      0.01      0.02       405\\n        90F       0.27      0.30      0.28      2799\\n        90G       0.12      0.01      0.03       803\\n        90D       0.33      0.02      0.04        54\\n        90J       0.25      0.05      0.08      1118\\n        250       0.42      0.85      0.56      6658\\n        26C       0.50      0.81      0.61       740\\n        26B       0.18      0.04      0.07       706\\n        26A       0.46      0.08      0.14       424\\n         23       0.14      0.01      0.02       321\\n        520       0.47      0.04      0.08       348\\n        280       0.34      0.14      0.20       573\\n        200       1.00      0.06      0.11        33\\n        40B       0.00      0.00      0.00       131\\n        40A       0.22      0.08      0.12      1951\\n        11D       0.31      0.23      0.27      1740\\n        120       0.12      0.01      0.03       337\\n        240       0.54      0.26      0.35        82\\n     others       0.43      0.28      0.34        53\\n        23H       0.56      0.62      0.59        52\\n        100       0.00      0.00      0.00        86\\n        220       0.20      0.01      0.02        89\\n        13C       0.14      0.02      0.04       482\\n        13B       0.52      0.68      0.59      1603\\n        13A       0.00      0.00      0.00        38\\n        11A       0.22      0.06      0.09       243\\n        11B       0.17      0.01      0.02       232\\n        370       0.76      0.68      0.72      3166\\n        290       0.00      0.00      0.00        49\\n\\navg / total       0.38      0.43      0.36     25862\\n'"
      ]
     },
     "execution_count": 76,
     "metadata": {},
     "output_type": "execute_result"
    }
   ],
   "source": [
    "classification_report(y_test, predictions, target_names = target_names)"
   ]
  },
  {
   "cell_type": "code",
   "execution_count": 77,
   "metadata": {},
   "outputs": [
    {
     "data": {
      "text/plain": [
       "array(['100', '11A', '11B', '11D', '120', '13A', '13B', '13C', '200',\n",
       "       '220', '23', '23H', '240', '250', '26A', '26B', '26C', '270', '290',\n",
       "       '35A', '35B', '370', '40A', '40B', '520', '90A', '90C', '90D',\n",
       "       '90F', '90G', '90J', '90Z', 'others'], dtype=object)"
      ]
     },
     "execution_count": 77,
     "metadata": {},
     "output_type": "execute_result"
    }
   ],
   "source": [
    "u, index = np.unique(predictions, return_index=True)\n",
    "u"
   ]
  },
  {
   "cell_type": "code",
   "execution_count": 78,
   "metadata": {},
   "outputs": [
    {
     "data": {
      "text/plain": [
       "33"
      ]
     },
     "execution_count": 78,
     "metadata": {},
     "output_type": "execute_result"
    }
   ],
   "source": [
    "len(u)"
   ]
  },
  {
   "cell_type": "code",
   "execution_count": 79,
   "metadata": {
    "collapsed": true
   },
   "outputs": [],
   "source": [
    "from sklearn.metrics import f1_score"
   ]
  },
  {
   "cell_type": "code",
   "execution_count": 80,
   "metadata": {},
   "outputs": [
    {
     "name": "stderr",
     "output_type": "stream",
     "text": [
      "/Users/apple/anaconda/lib/python2.7/site-packages/sklearn/metrics/classification.py:1113: UndefinedMetricWarning: F-score is ill-defined and being set to 0.0 in labels with no predicted samples.\n",
      "  'precision', 'predicted', average, warn_for)\n"
     ]
    },
    {
     "data": {
      "text/plain": [
       "0.36448996311442061"
      ]
     },
     "execution_count": 80,
     "metadata": {},
     "output_type": "execute_result"
    }
   ],
   "source": [
    "f1_score(y_test, predictions, average = 'weighted')"
   ]
  },
  {
   "cell_type": "code",
   "execution_count": 81,
   "metadata": {},
   "outputs": [
    {
     "data": {
      "text/plain": [
       "0.15977871770831117"
      ]
     },
     "execution_count": 81,
     "metadata": {},
     "output_type": "execute_result"
    }
   ],
   "source": [
    "f1_score(y_test, predictions, average = 'macro')"
   ]
  },
  {
   "cell_type": "code",
   "execution_count": 82,
   "metadata": {},
   "outputs": [
    {
     "data": {
      "text/plain": [
       "0.43357048952130539"
      ]
     },
     "execution_count": 82,
     "metadata": {},
     "output_type": "execute_result"
    }
   ],
   "source": [
    "f1_score(y_test, predictions, average = 'micro')"
   ]
  },
  {
   "cell_type": "code",
   "execution_count": 83,
   "metadata": {
    "collapsed": true
   },
   "outputs": [],
   "source": [
    "from sklearn.metrics import accuracy_score"
   ]
  },
  {
   "cell_type": "code",
   "execution_count": 84,
   "metadata": {},
   "outputs": [
    {
     "data": {
      "text/plain": [
       "0.43357048952130539"
      ]
     },
     "execution_count": 84,
     "metadata": {},
     "output_type": "execute_result"
    }
   ],
   "source": [
    "accuracy_score(y_test, predictions)"
   ]
  },
  {
   "cell_type": "code",
   "execution_count": 96,
   "metadata": {},
   "outputs": [
    {
     "data": {
      "text/plain": [
       "0.36448996311442061"
      ]
     },
     "execution_count": 96,
     "metadata": {},
     "output_type": "execute_result"
    }
   ],
   "source": [
    "f1_score(y_test, predictions, average = 'weighted')"
   ]
  },
  {
   "cell_type": "markdown",
   "metadata": {},
   "source": [
    "### The above shows the result of prediction using a single parameter set of a XGboost classifier."
   ]
  },
  {
   "cell_type": "code",
   "execution_count": 86,
   "metadata": {
    "collapsed": true
   },
   "outputs": [],
   "source": [
    "### Let's try to use the same parameter set but using multi: softprob and eval_metric = 'mlogloss' to see what happens."
   ]
  },
  {
   "cell_type": "code",
   "execution_count": 87,
   "metadata": {
    "collapsed": true
   },
   "outputs": [],
   "source": [
    "#param_dist_2 ={'objective': 'multi:softprob',\n",
    "    #         'learning_rate': 0.4,\n",
    "    #         'silent': 0,\n",
    "     #        'nthread': 4,\n",
    "      #       'max_depth': 8,\n",
    "       #      'min_child_weight': 1,\n",
    "       #      'gamma': 0,\n",
    "       #      'reg_alpha': 0.05,\n",
    "        #     'subsample': 0.8,\n",
    "        #     'colsample_bytree': 0.8,\n",
    "        #     'max_delta_step': 1,\n",
    "        #     'scale_pos_weight':1    \n",
    "#}"
   ]
  },
  {
   "cell_type": "code",
   "execution_count": 88,
   "metadata": {
    "collapsed": true
   },
   "outputs": [],
   "source": [
    "#clf = xgb.XGBClassifier(**param_dist_2)"
   ]
  },
  {
   "cell_type": "code",
   "execution_count": 89,
   "metadata": {
    "collapsed": true
   },
   "outputs": [],
   "source": [
    "#clf.fit(X_train, y_train, eval_metric = 'mlogloss')"
   ]
  },
  {
   "cell_type": "code",
   "execution_count": 90,
   "metadata": {
    "collapsed": true
   },
   "outputs": [],
   "source": [
    "#label.shape[0]"
   ]
  },
  {
   "cell_type": "code",
   "execution_count": 91,
   "metadata": {
    "collapsed": true
   },
   "outputs": [],
   "source": [
    "#predictions_prob = clf.predict(X_test)"
   ]
  },
  {
   "cell_type": "code",
   "execution_count": 92,
   "metadata": {
    "collapsed": true
   },
   "outputs": [],
   "source": [
    "#predictions_prob "
   ]
  },
  {
   "cell_type": "code",
   "execution_count": 93,
   "metadata": {
    "collapsed": true
   },
   "outputs": [],
   "source": [
    "#sum(predictions != predictions_prob)"
   ]
  },
  {
   "cell_type": "code",
   "execution_count": 94,
   "metadata": {
    "collapsed": true
   },
   "outputs": [],
   "source": [
    "### It's the same, using multi:softmax or multi: softprob"
   ]
  }
 ],
 "metadata": {
  "kernelspec": {
   "display_name": "Python 2",
   "language": "python",
   "name": "python2"
  },
  "language_info": {
   "codemirror_mode": {
    "name": "ipython",
    "version": 2
   },
   "file_extension": ".py",
   "mimetype": "text/x-python",
   "name": "python",
   "nbconvert_exporter": "python",
   "pygments_lexer": "ipython2",
   "version": "2.7.14"
  }
 },
 "nbformat": 4,
 "nbformat_minor": 2
}
