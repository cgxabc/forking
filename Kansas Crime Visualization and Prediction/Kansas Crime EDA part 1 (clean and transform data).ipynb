{
 "cells": [
  {
   "cell_type": "markdown",
   "metadata": {},
   "source": [
    "# In this part, I will clean the data in Kansas Crime dataset."
   ]
  },
  {
   "cell_type": "code",
   "execution_count": 1,
   "metadata": {
    "collapsed": true
   },
   "outputs": [],
   "source": [
    "import pandas as pd\n",
    "import matplotlib.pyplot as plt\n",
    "import seaborn as sns\n",
    "import pylab\n",
    "import numpy as np\n",
    "from matplotlib.mlab import griddata\n",
    "import datetime\n",
    "%matplotlib inline"
   ]
  },
  {
   "cell_type": "code",
   "execution_count": 2,
   "metadata": {},
   "outputs": [
    {
     "name": "stderr",
     "output_type": "stream",
     "text": [
      "/Users/apple/anaconda/lib/python2.7/site-packages/IPython/core/interactiveshell.py:2717: DtypeWarning: Columns (7,17,19) have mixed types. Specify dtype option on import or set low_memory=False.\n",
      "  interactivity=interactivity, compiler=compiler, result=result)\n"
     ]
    }
   ],
   "source": [
    "kansas_data=pd.read_csv('crime.csv')"
   ]
  },
  {
   "cell_type": "code",
   "execution_count": 3,
   "metadata": {},
   "outputs": [
    {
     "data": {
      "text/html": [
       "<div>\n",
       "<style>\n",
       "    .dataframe thead tr:only-child th {\n",
       "        text-align: right;\n",
       "    }\n",
       "\n",
       "    .dataframe thead th {\n",
       "        text-align: left;\n",
       "    }\n",
       "\n",
       "    .dataframe tbody tr th {\n",
       "        vertical-align: top;\n",
       "    }\n",
       "</style>\n",
       "<table border=\"1\" class=\"dataframe\">\n",
       "  <thead>\n",
       "    <tr style=\"text-align: right;\">\n",
       "      <th></th>\n",
       "      <th>Unnamed: 0</th>\n",
       "      <th>id</th>\n",
       "      <th>agency</th>\n",
       "      <th>daterept</th>\n",
       "      <th>hourrept</th>\n",
       "      <th>ucrcode</th>\n",
       "      <th>offense</th>\n",
       "      <th>neighborhood</th>\n",
       "      <th>subdivision</th>\n",
       "      <th>spx</th>\n",
       "      <th>...</th>\n",
       "      <th>city</th>\n",
       "      <th>state</th>\n",
       "      <th>zip</th>\n",
       "      <th>theftdescription</th>\n",
       "      <th>inactivitydescription</th>\n",
       "      <th>premisedescription</th>\n",
       "      <th>incidentid</th>\n",
       "      <th>apid</th>\n",
       "      <th>crimetype</th>\n",
       "      <th>geom</th>\n",
       "    </tr>\n",
       "  </thead>\n",
       "  <tbody>\n",
       "    <tr>\n",
       "      <th>0</th>\n",
       "      <td>1</td>\n",
       "      <td>1</td>\n",
       "      <td>JCSO</td>\n",
       "      <td>9/11/09 0:00</td>\n",
       "      <td>1120.0</td>\n",
       "      <td>90Z</td>\n",
       "      <td>FAILURE TO APPEAR</td>\n",
       "      <td>NaN</td>\n",
       "      <td>0.0</td>\n",
       "      <td>1423436.57</td>\n",
       "      <td>...</td>\n",
       "      <td>SALINA</td>\n",
       "      <td>KS</td>\n",
       "      <td>67401</td>\n",
       "      <td>NaN</td>\n",
       "      <td>Not Applicable</td>\n",
       "      <td>Government / Public Building</td>\n",
       "      <td>D09004321</td>\n",
       "      <td>NaN</td>\n",
       "      <td>Part 2</td>\n",
       "      <td>01010000205B0D00001F85EB914CB835413D0AD7A3461C...</td>\n",
       "    </tr>\n",
       "    <tr>\n",
       "      <th>1</th>\n",
       "      <td>2</td>\n",
       "      <td>2</td>\n",
       "      <td>JCSO</td>\n",
       "      <td>7/3/15 0:00</td>\n",
       "      <td>1514.0</td>\n",
       "      <td>35A</td>\n",
       "      <td>POSSESSION OF HALLUCINOGENIC DRUG</td>\n",
       "      <td>NaN</td>\n",
       "      <td>-1.0</td>\n",
       "      <td>2144629.87</td>\n",
       "      <td>...</td>\n",
       "      <td>EUDORA</td>\n",
       "      <td>KS</td>\n",
       "      <td>66025</td>\n",
       "      <td>NaN</td>\n",
       "      <td>Not Applicable</td>\n",
       "      <td>Highway</td>\n",
       "      <td>D15002447</td>\n",
       "      <td>NaN</td>\n",
       "      <td>Part 2</td>\n",
       "      <td>01010000205B0D0000F6285CEFBA5C4041CDCCCCCCF0B0...</td>\n",
       "    </tr>\n",
       "    <tr>\n",
       "      <th>2</th>\n",
       "      <td>3</td>\n",
       "      <td>3</td>\n",
       "      <td>JCSO</td>\n",
       "      <td>6/27/05 0:00</td>\n",
       "      <td>1346.0</td>\n",
       "      <td>90Z</td>\n",
       "      <td>DRIVING WHILE HABITUAL VIOLATOR</td>\n",
       "      <td>NaN</td>\n",
       "      <td>-1.0</td>\n",
       "      <td>2149483.00</td>\n",
       "      <td>...</td>\n",
       "      <td>COUNTY</td>\n",
       "      <td>KS</td>\n",
       "      <td>NaN</td>\n",
       "      <td>NaN</td>\n",
       "      <td>Not Applicable</td>\n",
       "      <td>Highway</td>\n",
       "      <td>D05002424</td>\n",
       "      <td>NaN</td>\n",
       "      <td>Part 2</td>\n",
       "      <td>01010000205B0D00000000008035664041EC51B81E61C5...</td>\n",
       "    </tr>\n",
       "    <tr>\n",
       "      <th>3</th>\n",
       "      <td>4</td>\n",
       "      <td>4</td>\n",
       "      <td>JCSO</td>\n",
       "      <td>2/5/05 0:00</td>\n",
       "      <td>145.0</td>\n",
       "      <td>90Z</td>\n",
       "      <td>FAILURE TO APPEAR</td>\n",
       "      <td>NaN</td>\n",
       "      <td>-1.0</td>\n",
       "      <td>2149483.00</td>\n",
       "      <td>...</td>\n",
       "      <td>COUNTY</td>\n",
       "      <td>KS</td>\n",
       "      <td>66018</td>\n",
       "      <td>NaN</td>\n",
       "      <td>Not Applicable</td>\n",
       "      <td>Highway</td>\n",
       "      <td>D05000725</td>\n",
       "      <td>NaN</td>\n",
       "      <td>Part 2</td>\n",
       "      <td>01010000205B0D00000000008035664041EC51B81E61C5...</td>\n",
       "    </tr>\n",
       "    <tr>\n",
       "      <th>4</th>\n",
       "      <td>5</td>\n",
       "      <td>5</td>\n",
       "      <td>JCSO</td>\n",
       "      <td>4/14/10 0:00</td>\n",
       "      <td>1952.0</td>\n",
       "      <td>90D</td>\n",
       "      <td>DRIVING UNDER INFLUENCE OF ALCOHOL OR DRUGS; U...</td>\n",
       "      <td>JC1</td>\n",
       "      <td>10200.0</td>\n",
       "      <td>2149561.34</td>\n",
       "      <td>...</td>\n",
       "      <td>EUDORA</td>\n",
       "      <td>KS</td>\n",
       "      <td>66025</td>\n",
       "      <td>NaN</td>\n",
       "      <td>Not Applicable</td>\n",
       "      <td>Highway</td>\n",
       "      <td>D10001671</td>\n",
       "      <td>NaN</td>\n",
       "      <td>Part 2</td>\n",
       "      <td>01010000205B0D0000B81E85AB5C6640410AD7A37055C5...</td>\n",
       "    </tr>\n",
       "  </tbody>\n",
       "</table>\n",
       "<p>5 rows × 25 columns</p>\n",
       "</div>"
      ],
      "text/plain": [
       "   Unnamed: 0  id agency      daterept  hourrept ucrcode  \\\n",
       "0           1   1   JCSO  9/11/09 0:00    1120.0     90Z   \n",
       "1           2   2   JCSO   7/3/15 0:00    1514.0     35A   \n",
       "2           3   3   JCSO  6/27/05 0:00    1346.0     90Z   \n",
       "3           4   4   JCSO   2/5/05 0:00     145.0     90Z   \n",
       "4           5   5   JCSO  4/14/10 0:00    1952.0     90D   \n",
       "\n",
       "                                             offense neighborhood  \\\n",
       "0                                  FAILURE TO APPEAR          NaN   \n",
       "1                  POSSESSION OF HALLUCINOGENIC DRUG          NaN   \n",
       "2                    DRIVING WHILE HABITUAL VIOLATOR          NaN   \n",
       "3                                  FAILURE TO APPEAR          NaN   \n",
       "4  DRIVING UNDER INFLUENCE OF ALCOHOL OR DRUGS; U...          JC1   \n",
       "\n",
       "   subdivision         spx                        ...                          \\\n",
       "0          0.0  1423436.57                        ...                           \n",
       "1         -1.0  2144629.87                        ...                           \n",
       "2         -1.0  2149483.00                        ...                           \n",
       "3         -1.0  2149483.00                        ...                           \n",
       "4      10200.0  2149561.34                        ...                           \n",
       "\n",
       "     city  state    zip theftdescription inactivitydescription  \\\n",
       "0  SALINA     KS  67401              NaN        Not Applicable   \n",
       "1  EUDORA     KS  66025              NaN        Not Applicable   \n",
       "2  COUNTY     KS    NaN              NaN        Not Applicable   \n",
       "3  COUNTY     KS  66018              NaN        Not Applicable   \n",
       "4  EUDORA     KS  66025              NaN        Not Applicable   \n",
       "\n",
       "             premisedescription incidentid apid crimetype  \\\n",
       "0  Government / Public Building  D09004321  NaN    Part 2   \n",
       "1                       Highway  D15002447  NaN    Part 2   \n",
       "2                       Highway  D05002424  NaN    Part 2   \n",
       "3                       Highway  D05000725  NaN    Part 2   \n",
       "4                       Highway  D10001671  NaN    Part 2   \n",
       "\n",
       "                                                geom  \n",
       "0  01010000205B0D00001F85EB914CB835413D0AD7A3461C...  \n",
       "1  01010000205B0D0000F6285CEFBA5C4041CDCCCCCCF0B0...  \n",
       "2  01010000205B0D00000000008035664041EC51B81E61C5...  \n",
       "3  01010000205B0D00000000008035664041EC51B81E61C5...  \n",
       "4  01010000205B0D0000B81E85AB5C6640410AD7A37055C5...  \n",
       "\n",
       "[5 rows x 25 columns]"
      ]
     },
     "execution_count": 3,
     "metadata": {},
     "output_type": "execute_result"
    }
   ],
   "source": [
    "kansas_data.head()"
   ]
  },
  {
   "cell_type": "code",
   "execution_count": 4,
   "metadata": {
    "collapsed": true
   },
   "outputs": [],
   "source": [
    "kansas_data=kansas_data.drop(kansas_data.columns[0],axis=1)"
   ]
  },
  {
   "cell_type": "code",
   "execution_count": 5,
   "metadata": {},
   "outputs": [
    {
     "data": {
      "text/plain": [
       "KS    332773\n",
       "MO        26\n",
       "K          8\n",
       "Q          1\n",
       "62         1\n",
       "WI         1\n",
       "Name: state, dtype: int64"
      ]
     },
     "execution_count": 5,
     "metadata": {},
     "output_type": "execute_result"
    }
   ],
   "source": [
    "kansas_data['state'].value_counts()"
   ]
  },
  {
   "cell_type": "code",
   "execution_count": 6,
   "metadata": {},
   "outputs": [
    {
     "data": {
      "text/plain": [
       "(335614, 24)"
      ]
     },
     "execution_count": 6,
     "metadata": {},
     "output_type": "execute_result"
    }
   ],
   "source": [
    "kansas_data.shape"
   ]
  },
  {
   "cell_type": "markdown",
   "metadata": {},
   "source": [
    "## I want to find out how many null values are in each feature in our dataset."
   ]
  },
  {
   "cell_type": "code",
   "execution_count": 7,
   "metadata": {
    "collapsed": true
   },
   "outputs": [],
   "source": [
    "def missing_count(dataset):\n",
    "    missing={}\n",
    "    for col in dataset.columns:\n",
    "        missing[col]=len(dataset[dataset[col].isnull()])\n",
    "    return missing"
   ]
  },
  {
   "cell_type": "code",
   "execution_count": 8,
   "metadata": {},
   "outputs": [
    {
     "data": {
      "text/plain": [
       "{'agency': 1,\n",
       " 'apid': 97698,\n",
       " 'city': 203,\n",
       " 'crimetype': 0,\n",
       " 'daterept': 0,\n",
       " 'fulllocation': 0,\n",
       " 'geom': 0,\n",
       " 'hourrept': 1,\n",
       " 'id': 0,\n",
       " 'inactivitydescription': 34429,\n",
       " 'incidentid': 0,\n",
       " 'location': 0,\n",
       " 'neighborhood': 70225,\n",
       " 'offense': 1,\n",
       " 'premisedescription': 30360,\n",
       " 'spx': 0,\n",
       " 'spy': 0,\n",
       " 'state': 2804,\n",
       " 'subdivision': 30870,\n",
       " 'theftdescription': 235054,\n",
       " 'ucrcode': 2709,\n",
       " 'x': 0,\n",
       " 'y': 0,\n",
       " 'zip': 24798}"
      ]
     },
     "execution_count": 8,
     "metadata": {},
     "output_type": "execute_result"
    }
   ],
   "source": [
    "missing_count(kansas_data)"
   ]
  },
  {
   "cell_type": "code",
   "execution_count": 9,
   "metadata": {},
   "outputs": [
    {
     "data": {
      "text/html": [
       "<div>\n",
       "<style>\n",
       "    .dataframe thead tr:only-child th {\n",
       "        text-align: right;\n",
       "    }\n",
       "\n",
       "    .dataframe thead th {\n",
       "        text-align: left;\n",
       "    }\n",
       "\n",
       "    .dataframe tbody tr th {\n",
       "        vertical-align: top;\n",
       "    }\n",
       "</style>\n",
       "<table border=\"1\" class=\"dataframe\">\n",
       "  <thead>\n",
       "    <tr style=\"text-align: right;\">\n",
       "      <th></th>\n",
       "      <th>id</th>\n",
       "      <th>agency</th>\n",
       "      <th>daterept</th>\n",
       "      <th>hourrept</th>\n",
       "      <th>ucrcode</th>\n",
       "      <th>offense</th>\n",
       "      <th>neighborhood</th>\n",
       "      <th>subdivision</th>\n",
       "      <th>spx</th>\n",
       "      <th>spy</th>\n",
       "      <th>...</th>\n",
       "      <th>city</th>\n",
       "      <th>state</th>\n",
       "      <th>zip</th>\n",
       "      <th>theftdescription</th>\n",
       "      <th>inactivitydescription</th>\n",
       "      <th>premisedescription</th>\n",
       "      <th>incidentid</th>\n",
       "      <th>apid</th>\n",
       "      <th>crimetype</th>\n",
       "      <th>geom</th>\n",
       "    </tr>\n",
       "  </thead>\n",
       "  <tbody>\n",
       "    <tr>\n",
       "      <th>23073</th>\n",
       "      <td>23003</td>\n",
       "      <td>OPD</td>\n",
       "      <td>10/28/04 0:00</td>\n",
       "      <td>NaN</td>\n",
       "      <td>90C</td>\n",
       "      <td>DISORDERLY CONDUCT</td>\n",
       "      <td>NaN</td>\n",
       "      <td>-1.0</td>\n",
       "      <td>2212392.0</td>\n",
       "      <td>215334.0</td>\n",
       "      <td>...</td>\n",
       "      <td>OLATHE</td>\n",
       "      <td>KS</td>\n",
       "      <td>NaN</td>\n",
       "      <td>NaN</td>\n",
       "      <td>Not Applicable</td>\n",
       "      <td>Parking Lot/ or Parking Garage</td>\n",
       "      <td>20040018460</td>\n",
       "      <td>2.000000e+17</td>\n",
       "      <td>Part 2</td>\n",
       "      <td>01010000205B0D00000000000014E14041000000003049...</td>\n",
       "    </tr>\n",
       "  </tbody>\n",
       "</table>\n",
       "<p>1 rows × 24 columns</p>\n",
       "</div>"
      ],
      "text/plain": [
       "          id agency       daterept  hourrept ucrcode             offense  \\\n",
       "23073  23003    OPD  10/28/04 0:00       NaN     90C  DISORDERLY CONDUCT   \n",
       "\n",
       "      neighborhood  subdivision        spx       spy  \\\n",
       "23073          NaN         -1.0  2212392.0  215334.0   \n",
       "\n",
       "                             ...                            city  state  zip  \\\n",
       "23073                        ...                          OLATHE     KS  NaN   \n",
       "\n",
       "      theftdescription inactivitydescription              premisedescription  \\\n",
       "23073              NaN        Not Applicable  Parking Lot/ or Parking Garage   \n",
       "\n",
       "        incidentid          apid crimetype  \\\n",
       "23073  20040018460  2.000000e+17    Part 2   \n",
       "\n",
       "                                                    geom  \n",
       "23073  01010000205B0D00000000000014E14041000000003049...  \n",
       "\n",
       "[1 rows x 24 columns]"
      ]
     },
     "execution_count": 9,
     "metadata": {},
     "output_type": "execute_result"
    }
   ],
   "source": [
    "kansas_data[kansas_data.hourrept.isnull() == True]"
   ]
  },
  {
   "cell_type": "markdown",
   "metadata": {},
   "source": [
    "## One way to fix the missing value problem of ucrcode is to find it from the offense names."
   ]
  },
  {
   "cell_type": "code",
   "execution_count": 10,
   "metadata": {},
   "outputs": [
    {
     "data": {
      "text/html": [
       "<div>\n",
       "<style>\n",
       "    .dataframe thead tr:only-child th {\n",
       "        text-align: right;\n",
       "    }\n",
       "\n",
       "    .dataframe thead th {\n",
       "        text-align: left;\n",
       "    }\n",
       "\n",
       "    .dataframe tbody tr th {\n",
       "        vertical-align: top;\n",
       "    }\n",
       "</style>\n",
       "<table border=\"1\" class=\"dataframe\">\n",
       "  <thead>\n",
       "    <tr style=\"text-align: right;\">\n",
       "      <th></th>\n",
       "      <th>id</th>\n",
       "      <th>agency</th>\n",
       "      <th>daterept</th>\n",
       "      <th>hourrept</th>\n",
       "      <th>ucrcode</th>\n",
       "      <th>offense</th>\n",
       "      <th>neighborhood</th>\n",
       "      <th>subdivision</th>\n",
       "      <th>spx</th>\n",
       "      <th>spy</th>\n",
       "      <th>...</th>\n",
       "      <th>city</th>\n",
       "      <th>state</th>\n",
       "      <th>zip</th>\n",
       "      <th>theftdescription</th>\n",
       "      <th>inactivitydescription</th>\n",
       "      <th>premisedescription</th>\n",
       "      <th>incidentid</th>\n",
       "      <th>apid</th>\n",
       "      <th>crimetype</th>\n",
       "      <th>geom</th>\n",
       "    </tr>\n",
       "  </thead>\n",
       "  <tbody>\n",
       "    <tr>\n",
       "      <th>171465</th>\n",
       "      <td>171445</td>\n",
       "      <td>OPPD</td>\n",
       "      <td>2/26/07 0:00</td>\n",
       "      <td>906.0</td>\n",
       "      <td>NaN</td>\n",
       "      <td>INFO - ANIMAL CALL</td>\n",
       "      <td>21</td>\n",
       "      <td>3600.0</td>\n",
       "      <td>2252844.67</td>\n",
       "      <td>247308.99</td>\n",
       "      <td>...</td>\n",
       "      <td>OVERLAND_PARK</td>\n",
       "      <td>KS</td>\n",
       "      <td>66212</td>\n",
       "      <td>NaN</td>\n",
       "      <td>Not Applicable</td>\n",
       "      <td>NaN</td>\n",
       "      <td>2007004219</td>\n",
       "      <td>1.990000e+17</td>\n",
       "      <td>Part 2</td>\n",
       "      <td>01010000205B0D00005C8FC25516304141B81E85EB6730...</td>\n",
       "    </tr>\n",
       "    <tr>\n",
       "      <th>235261</th>\n",
       "      <td>235086</td>\n",
       "      <td>OPPD</td>\n",
       "      <td>1/3/14 0:00</td>\n",
       "      <td>1946.0</td>\n",
       "      <td>NaN</td>\n",
       "      <td>INFORMATION - TRUCK INSPECTION</td>\n",
       "      <td>2</td>\n",
       "      <td>705400.0</td>\n",
       "      <td>2259113.00</td>\n",
       "      <td>243467.00</td>\n",
       "      <td>...</td>\n",
       "      <td>OVERLAND_PARK</td>\n",
       "      <td>KS</td>\n",
       "      <td>66212</td>\n",
       "      <td>NaN</td>\n",
       "      <td>Not Applicable</td>\n",
       "      <td>NaN</td>\n",
       "      <td>2014000138</td>\n",
       "      <td>1.990000e+17</td>\n",
       "      <td>Part 2</td>\n",
       "      <td>01010000205B0D000000000080543C41410000000058B8...</td>\n",
       "    </tr>\n",
       "    <tr>\n",
       "      <th>332907</th>\n",
       "      <td>3000001</td>\n",
       "      <td>SPD</td>\n",
       "      <td>5/30/15 0:00</td>\n",
       "      <td>2138.0</td>\n",
       "      <td>NaN</td>\n",
       "      <td>BATTERY, DOMESTIC; RUDE CONTACT</td>\n",
       "      <td>NaN</td>\n",
       "      <td>NaN</td>\n",
       "      <td>2245167.00</td>\n",
       "      <td>265618.00</td>\n",
       "      <td>...</td>\n",
       "      <td>SHAWNEE</td>\n",
       "      <td>KS</td>\n",
       "      <td>66203</td>\n",
       "      <td>NaN</td>\n",
       "      <td>NaN</td>\n",
       "      <td>Single Residence</td>\n",
       "      <td>CN1502414</td>\n",
       "      <td>2.010000e+17</td>\n",
       "      <td>Part 2</td>\n",
       "      <td>01010000205B0D00000000008017214141000000004836...</td>\n",
       "    </tr>\n",
       "    <tr>\n",
       "      <th>332908</th>\n",
       "      <td>3000002</td>\n",
       "      <td>SPD</td>\n",
       "      <td>8/11/15 0:00</td>\n",
       "      <td>1551.0</td>\n",
       "      <td>NaN</td>\n",
       "      <td>BATTERY, DOMESTIC; BODILY HARM</td>\n",
       "      <td>NaN</td>\n",
       "      <td>NaN</td>\n",
       "      <td>2247918.00</td>\n",
       "      <td>256666.00</td>\n",
       "      <td>...</td>\n",
       "      <td>SHAWNEE</td>\n",
       "      <td>KS</td>\n",
       "      <td>66214</td>\n",
       "      <td>NaN</td>\n",
       "      <td>NaN</td>\n",
       "      <td>Apartment Complex</td>\n",
       "      <td>CN1503667</td>\n",
       "      <td>2.000000e+17</td>\n",
       "      <td>Part 2</td>\n",
       "      <td>01010000205B0D0000000000007726414100000000D054...</td>\n",
       "    </tr>\n",
       "    <tr>\n",
       "      <th>332909</th>\n",
       "      <td>3000003</td>\n",
       "      <td>SPD</td>\n",
       "      <td>7/16/15 0:00</td>\n",
       "      <td>1527.0</td>\n",
       "      <td>NaN</td>\n",
       "      <td>THEFT OF PROPERTY OR SERVICES; MISDEMEANOR</td>\n",
       "      <td>NaN</td>\n",
       "      <td>NaN</td>\n",
       "      <td>2233065.00</td>\n",
       "      <td>264462.00</td>\n",
       "      <td>...</td>\n",
       "      <td>SHAWNEE</td>\n",
       "      <td>KS</td>\n",
       "      <td>66216</td>\n",
       "      <td>All Other</td>\n",
       "      <td>NaN</td>\n",
       "      <td>Duplex / Individual Multiple Housing</td>\n",
       "      <td>CN1503247</td>\n",
       "      <td>2.010000e+17</td>\n",
       "      <td>Part 1</td>\n",
       "      <td>01010000205B0D00000000008074094141000000003824...</td>\n",
       "    </tr>\n",
       "    <tr>\n",
       "      <th>332910</th>\n",
       "      <td>3000004</td>\n",
       "      <td>SPD</td>\n",
       "      <td>10/24/15 0:00</td>\n",
       "      <td>1529.0</td>\n",
       "      <td>NaN</td>\n",
       "      <td>CRIMINAL THREAT; CAUSE TERROR, EVACUTION OR DI...</td>\n",
       "      <td>NaN</td>\n",
       "      <td>NaN</td>\n",
       "      <td>2244977.00</td>\n",
       "      <td>258625.00</td>\n",
       "      <td>...</td>\n",
       "      <td>SHAWNEE</td>\n",
       "      <td>KS</td>\n",
       "      <td>66203</td>\n",
       "      <td>NaN</td>\n",
       "      <td>NaN</td>\n",
       "      <td>Single Residence</td>\n",
       "      <td>CN1504845</td>\n",
       "      <td>2.000000e+17</td>\n",
       "      <td>Part 2</td>\n",
       "      <td>01010000205B0D000000000080B8204141000000000892...</td>\n",
       "    </tr>\n",
       "    <tr>\n",
       "      <th>332911</th>\n",
       "      <td>3000005</td>\n",
       "      <td>SPD</td>\n",
       "      <td>6/24/14 0:00</td>\n",
       "      <td>1556.0</td>\n",
       "      <td>NaN</td>\n",
       "      <td>THEFT OF PROPERTY OR SERVICES; FELONY</td>\n",
       "      <td>NaN</td>\n",
       "      <td>NaN</td>\n",
       "      <td>2231941.00</td>\n",
       "      <td>259516.00</td>\n",
       "      <td>...</td>\n",
       "      <td>SHAWNEE</td>\n",
       "      <td>KS</td>\n",
       "      <td>66217</td>\n",
       "      <td>Theft from a Motor Vehicle</td>\n",
       "      <td>NaN</td>\n",
       "      <td>Apartment Complex</td>\n",
       "      <td>OR1400118</td>\n",
       "      <td>2.000000e+17</td>\n",
       "      <td>Part 1</td>\n",
       "      <td>01010000205B0D0000000000804207414100000000E0AD...</td>\n",
       "    </tr>\n",
       "    <tr>\n",
       "      <th>332912</th>\n",
       "      <td>3000006</td>\n",
       "      <td>SPD</td>\n",
       "      <td>6/1/15 0:00</td>\n",
       "      <td>834.0</td>\n",
       "      <td>NaN</td>\n",
       "      <td>CRIMINAL DAMAGE TO PROPERTY; MISDEMEANOR</td>\n",
       "      <td>NaN</td>\n",
       "      <td>NaN</td>\n",
       "      <td>2224779.00</td>\n",
       "      <td>261970.00</td>\n",
       "      <td>...</td>\n",
       "      <td>SHAWNEE</td>\n",
       "      <td>KS</td>\n",
       "      <td>66217</td>\n",
       "      <td>NaN</td>\n",
       "      <td>NaN</td>\n",
       "      <td>City Street</td>\n",
       "      <td>OR1500149</td>\n",
       "      <td>2.000000e+17</td>\n",
       "      <td>Part 2</td>\n",
       "      <td>01010000205B0D00000000008045F940410000000090FA...</td>\n",
       "    </tr>\n",
       "    <tr>\n",
       "      <th>332913</th>\n",
       "      <td>3000007</td>\n",
       "      <td>SPD</td>\n",
       "      <td>5/13/15 0:00</td>\n",
       "      <td>424.0</td>\n",
       "      <td>NaN</td>\n",
       "      <td>POSSESS CERTAIN HALLUCINOGENIC DRUGS (MARIJUANA)</td>\n",
       "      <td>NaN</td>\n",
       "      <td>NaN</td>\n",
       "      <td>2244310.00</td>\n",
       "      <td>263657.00</td>\n",
       "      <td>...</td>\n",
       "      <td>SHAWNEE</td>\n",
       "      <td>KS</td>\n",
       "      <td>66203</td>\n",
       "      <td>NaN</td>\n",
       "      <td>NaN</td>\n",
       "      <td>Park Trails / Open Recreational Areas</td>\n",
       "      <td>CN1502126</td>\n",
       "      <td>2.010000e+17</td>\n",
       "      <td>Part 2</td>\n",
       "      <td>01010000205B0D0000000000006B1F414100000000A417...</td>\n",
       "    </tr>\n",
       "    <tr>\n",
       "      <th>332914</th>\n",
       "      <td>3000008</td>\n",
       "      <td>SPD</td>\n",
       "      <td>2/12/15 0:00</td>\n",
       "      <td>1116.0</td>\n",
       "      <td>NaN</td>\n",
       "      <td>PARAPHERNALIA - USE/POSSESS W/INTENT TO USE DR...</td>\n",
       "      <td>NaN</td>\n",
       "      <td>NaN</td>\n",
       "      <td>2226302.00</td>\n",
       "      <td>267735.00</td>\n",
       "      <td>...</td>\n",
       "      <td>SHAWNEE</td>\n",
       "      <td>KS</td>\n",
       "      <td>66217</td>\n",
       "      <td>NaN</td>\n",
       "      <td>NaN</td>\n",
       "      <td>Duplex / Individual Multiple Housing</td>\n",
       "      <td>CN1500670</td>\n",
       "      <td>2.010000e+17</td>\n",
       "      <td>Part 2</td>\n",
       "      <td>01010000205B0D0000000000003FFC4041000000005C57...</td>\n",
       "    </tr>\n",
       "    <tr>\n",
       "      <th>332915</th>\n",
       "      <td>3000009</td>\n",
       "      <td>SPD</td>\n",
       "      <td>11/2/15 0:00</td>\n",
       "      <td>206.0</td>\n",
       "      <td>NaN</td>\n",
       "      <td>THEFT OF PROPERTY OR SERVICES; MISDEMEANOR</td>\n",
       "      <td>NaN</td>\n",
       "      <td>NaN</td>\n",
       "      <td>2209205.00</td>\n",
       "      <td>271387.00</td>\n",
       "      <td>...</td>\n",
       "      <td>SHAWNEE</td>\n",
       "      <td>KS</td>\n",
       "      <td>66226</td>\n",
       "      <td>Theft from a Motor Vehicle</td>\n",
       "      <td>NaN</td>\n",
       "      <td>City Street</td>\n",
       "      <td>CN1505004</td>\n",
       "      <td>2.000000e+17</td>\n",
       "      <td>Part 1</td>\n",
       "      <td>01010000205B0D000000000080DADA4041000000006C90...</td>\n",
       "    </tr>\n",
       "    <tr>\n",
       "      <th>332916</th>\n",
       "      <td>3000010</td>\n",
       "      <td>SPD</td>\n",
       "      <td>5/19/15 0:00</td>\n",
       "      <td>1901.0</td>\n",
       "      <td>NaN</td>\n",
       "      <td>VIOLATION OF PROTECTION ORDER; PROTECTIVE ORDER</td>\n",
       "      <td>NaN</td>\n",
       "      <td>NaN</td>\n",
       "      <td>2248191.00</td>\n",
       "      <td>265708.00</td>\n",
       "      <td>...</td>\n",
       "      <td>SHAWNEE</td>\n",
       "      <td>KS</td>\n",
       "      <td>66203</td>\n",
       "      <td>NaN</td>\n",
       "      <td>NaN</td>\n",
       "      <td>Apartment Complex</td>\n",
       "      <td>CN1502236</td>\n",
       "      <td>2.010000e+17</td>\n",
       "      <td>Part 2</td>\n",
       "      <td>01010000205B0D000000000080FF26414100000000B037...</td>\n",
       "    </tr>\n",
       "    <tr>\n",
       "      <th>332917</th>\n",
       "      <td>3000011</td>\n",
       "      <td>SPD</td>\n",
       "      <td>11/12/13 0:00</td>\n",
       "      <td>1634.0</td>\n",
       "      <td>NaN</td>\n",
       "      <td>THEFT OF PROPERTY OR SERVICES; MISDEMEANOR</td>\n",
       "      <td>NaN</td>\n",
       "      <td>NaN</td>\n",
       "      <td>2204607.00</td>\n",
       "      <td>252238.00</td>\n",
       "      <td>...</td>\n",
       "      <td>SHAWNEE</td>\n",
       "      <td>KS</td>\n",
       "      <td>66227</td>\n",
       "      <td>All Other</td>\n",
       "      <td>NaN</td>\n",
       "      <td>Commercial / Office Building</td>\n",
       "      <td>OR1300064</td>\n",
       "      <td>2.000000e+17</td>\n",
       "      <td>Part 1</td>\n",
       "      <td>01010000205B0D000000000080DFD140410000000070CA...</td>\n",
       "    </tr>\n",
       "    <tr>\n",
       "      <th>332918</th>\n",
       "      <td>3000012</td>\n",
       "      <td>SPD</td>\n",
       "      <td>6/2/15 0:00</td>\n",
       "      <td>1421.0</td>\n",
       "      <td>NaN</td>\n",
       "      <td>IDENTITY THEFT; RECEIVE BENEFITS &lt;$100K</td>\n",
       "      <td>NaN</td>\n",
       "      <td>NaN</td>\n",
       "      <td>2242579.00</td>\n",
       "      <td>263448.00</td>\n",
       "      <td>...</td>\n",
       "      <td>SHAWNEE</td>\n",
       "      <td>KS</td>\n",
       "      <td>66216</td>\n",
       "      <td>NaN</td>\n",
       "      <td>NaN</td>\n",
       "      <td>Government / Public Building</td>\n",
       "      <td>OR1500162</td>\n",
       "      <td>2.000000e+17</td>\n",
       "      <td>Part 1</td>\n",
       "      <td>01010000205B0D000000000080091C4141000000006014...</td>\n",
       "    </tr>\n",
       "    <tr>\n",
       "      <th>332919</th>\n",
       "      <td>3000013</td>\n",
       "      <td>SPD</td>\n",
       "      <td>10/5/15 0:00</td>\n",
       "      <td>249.0</td>\n",
       "      <td>NaN</td>\n",
       "      <td>BATTERY, SIMPLE</td>\n",
       "      <td>NaN</td>\n",
       "      <td>NaN</td>\n",
       "      <td>2236057.00</td>\n",
       "      <td>267943.00</td>\n",
       "      <td>...</td>\n",
       "      <td>SHAWNEE</td>\n",
       "      <td>KS</td>\n",
       "      <td>66216</td>\n",
       "      <td>NaN</td>\n",
       "      <td>NaN</td>\n",
       "      <td>Single Residence</td>\n",
       "      <td>CN1504547</td>\n",
       "      <td>2.000000e+17</td>\n",
       "      <td>Part 2</td>\n",
       "      <td>01010000205B0D0000000000804C0F4141000000009C5A...</td>\n",
       "    </tr>\n",
       "    <tr>\n",
       "      <th>332920</th>\n",
       "      <td>3000014</td>\n",
       "      <td>SPD</td>\n",
       "      <td>9/26/15 0:00</td>\n",
       "      <td>1745.0</td>\n",
       "      <td>NaN</td>\n",
       "      <td>THEFT OF PROPERTY OR SERVICES; MISDEMEANOR</td>\n",
       "      <td>NaN</td>\n",
       "      <td>NaN</td>\n",
       "      <td>2208558.00</td>\n",
       "      <td>251966.00</td>\n",
       "      <td>...</td>\n",
       "      <td>SHAWNEE</td>\n",
       "      <td>KS</td>\n",
       "      <td>66227</td>\n",
       "      <td>Theft from a Motor Vehicle</td>\n",
       "      <td>NaN</td>\n",
       "      <td>Other</td>\n",
       "      <td>CN1504426</td>\n",
       "      <td>2.000000e+17</td>\n",
       "      <td>Part 1</td>\n",
       "      <td>01010000205B0D00000000000097D9404100000000F0C1...</td>\n",
       "    </tr>\n",
       "    <tr>\n",
       "      <th>332921</th>\n",
       "      <td>3000015</td>\n",
       "      <td>SPD</td>\n",
       "      <td>9/10/15 0:00</td>\n",
       "      <td>538.0</td>\n",
       "      <td>NaN</td>\n",
       "      <td>POSSESS OPIATES/OPIUM/NARC DRUG AND CERTAIN ST...</td>\n",
       "      <td>NaN</td>\n",
       "      <td>NaN</td>\n",
       "      <td>2242641.00</td>\n",
       "      <td>267776.00</td>\n",
       "      <td>...</td>\n",
       "      <td>SHAWNEE</td>\n",
       "      <td>KS</td>\n",
       "      <td>66216</td>\n",
       "      <td>NaN</td>\n",
       "      <td>NaN</td>\n",
       "      <td>Service / Gas Station</td>\n",
       "      <td>CN1504148</td>\n",
       "      <td>2.000000e+17</td>\n",
       "      <td>Part 2</td>\n",
       "      <td>01010000205B0D000000000080281C4141000000000058...</td>\n",
       "    </tr>\n",
       "    <tr>\n",
       "      <th>332922</th>\n",
       "      <td>3000016</td>\n",
       "      <td>SPD</td>\n",
       "      <td>6/7/15 0:00</td>\n",
       "      <td>1510.0</td>\n",
       "      <td>NaN</td>\n",
       "      <td>KANSAS CODE; CARE OF CHILDREN - DEFINITIONS</td>\n",
       "      <td>NaN</td>\n",
       "      <td>NaN</td>\n",
       "      <td>2226302.00</td>\n",
       "      <td>267735.00</td>\n",
       "      <td>...</td>\n",
       "      <td>SHAWNEE</td>\n",
       "      <td>KS</td>\n",
       "      <td>66217</td>\n",
       "      <td>NaN</td>\n",
       "      <td>NaN</td>\n",
       "      <td>Government / Public Building</td>\n",
       "      <td>CN1502556</td>\n",
       "      <td>2.010000e+17</td>\n",
       "      <td>Part 2</td>\n",
       "      <td>01010000205B0D0000000000003FFC4041000000005C57...</td>\n",
       "    </tr>\n",
       "    <tr>\n",
       "      <th>332923</th>\n",
       "      <td>3000017</td>\n",
       "      <td>SPD</td>\n",
       "      <td>5/1/15 0:00</td>\n",
       "      <td>323.0</td>\n",
       "      <td>NaN</td>\n",
       "      <td>VIOLATION OF PROTECTION ORDER; PROTECTIVE ORDER</td>\n",
       "      <td>NaN</td>\n",
       "      <td>NaN</td>\n",
       "      <td>2244779.00</td>\n",
       "      <td>267160.00</td>\n",
       "      <td>...</td>\n",
       "      <td>SHAWNEE</td>\n",
       "      <td>KS</td>\n",
       "      <td>66203</td>\n",
       "      <td>NaN</td>\n",
       "      <td>NaN</td>\n",
       "      <td>Single Residence</td>\n",
       "      <td>CN1501924</td>\n",
       "      <td>2.000000e+17</td>\n",
       "      <td>Part 2</td>\n",
       "      <td>01010000205B0D0000000000805520414100000000604E...</td>\n",
       "    </tr>\n",
       "    <tr>\n",
       "      <th>332924</th>\n",
       "      <td>3000018</td>\n",
       "      <td>SPD</td>\n",
       "      <td>4/30/14 0:00</td>\n",
       "      <td>1442.0</td>\n",
       "      <td>NaN</td>\n",
       "      <td>IDENTITY THEFT; RECEIVE BENEFITS &lt;$100K</td>\n",
       "      <td>NaN</td>\n",
       "      <td>NaN</td>\n",
       "      <td>2213193.00</td>\n",
       "      <td>272681.00</td>\n",
       "      <td>...</td>\n",
       "      <td>SHAWNEE</td>\n",
       "      <td>KS</td>\n",
       "      <td>66218</td>\n",
       "      <td>NaN</td>\n",
       "      <td>NaN</td>\n",
       "      <td>Other</td>\n",
       "      <td>OR1400088</td>\n",
       "      <td>2.000000e+17</td>\n",
       "      <td>Part 1</td>\n",
       "      <td>01010000205B0D000000000080A4E2404100000000A4A4...</td>\n",
       "    </tr>\n",
       "    <tr>\n",
       "      <th>332925</th>\n",
       "      <td>3000019</td>\n",
       "      <td>SPD</td>\n",
       "      <td>9/15/15 0:00</td>\n",
       "      <td>803.0</td>\n",
       "      <td>NaN</td>\n",
       "      <td>THEFT OF PROPERTY OR SERVICES; MISDEMEANOR</td>\n",
       "      <td>NaN</td>\n",
       "      <td>NaN</td>\n",
       "      <td>2241756.00</td>\n",
       "      <td>265185.00</td>\n",
       "      <td>...</td>\n",
       "      <td>SHAWNEE</td>\n",
       "      <td>KS</td>\n",
       "      <td>66216</td>\n",
       "      <td>All Other</td>\n",
       "      <td>NaN</td>\n",
       "      <td>Alley</td>\n",
       "      <td>OR1500291</td>\n",
       "      <td>2.000000e+17</td>\n",
       "      <td>Part 1</td>\n",
       "      <td>01010000205B0D0000000000006E1A414100000000842F...</td>\n",
       "    </tr>\n",
       "    <tr>\n",
       "      <th>332926</th>\n",
       "      <td>3000020</td>\n",
       "      <td>SPD</td>\n",
       "      <td>9/20/15 0:00</td>\n",
       "      <td>1623.0</td>\n",
       "      <td>NaN</td>\n",
       "      <td>CRIMINAL USE OF A FINANCIAL CARD; MISDEMEANOR</td>\n",
       "      <td>NaN</td>\n",
       "      <td>NaN</td>\n",
       "      <td>2229137.00</td>\n",
       "      <td>263501.00</td>\n",
       "      <td>...</td>\n",
       "      <td>SHAWNEE</td>\n",
       "      <td>KS</td>\n",
       "      <td>66217</td>\n",
       "      <td>NaN</td>\n",
       "      <td>NaN</td>\n",
       "      <td>Department / Discount Store</td>\n",
       "      <td>CN1504325</td>\n",
       "      <td>2.000000e+17</td>\n",
       "      <td>Part 2</td>\n",
       "      <td>01010000205B0D000000000080C8014141000000003415...</td>\n",
       "    </tr>\n",
       "    <tr>\n",
       "      <th>332927</th>\n",
       "      <td>3000021</td>\n",
       "      <td>SPD</td>\n",
       "      <td>9/23/15 0:00</td>\n",
       "      <td>2325.0</td>\n",
       "      <td>NaN</td>\n",
       "      <td>IDENTITY THEFT; ECONOMIC/BODILY HARM &lt;$100K</td>\n",
       "      <td>NaN</td>\n",
       "      <td>NaN</td>\n",
       "      <td>2230531.00</td>\n",
       "      <td>263057.00</td>\n",
       "      <td>...</td>\n",
       "      <td>SHAWNEE</td>\n",
       "      <td>KS</td>\n",
       "      <td>66217</td>\n",
       "      <td>NaN</td>\n",
       "      <td>NaN</td>\n",
       "      <td>Department / Discount Store</td>\n",
       "      <td>CN1504388</td>\n",
       "      <td>2.000000e+17</td>\n",
       "      <td>Part 1</td>\n",
       "      <td>01010000205B0D0000000000808104414100000000440E...</td>\n",
       "    </tr>\n",
       "    <tr>\n",
       "      <th>332928</th>\n",
       "      <td>3000022</td>\n",
       "      <td>SPD</td>\n",
       "      <td>5/4/15 0:00</td>\n",
       "      <td>1110.0</td>\n",
       "      <td>NaN</td>\n",
       "      <td>IDENTITY FRAUD; REPLICATE PERSONAL ID DOCUMENT...</td>\n",
       "      <td>NaN</td>\n",
       "      <td>NaN</td>\n",
       "      <td>2245825.00</td>\n",
       "      <td>274356.00</td>\n",
       "      <td>...</td>\n",
       "      <td>SHAWNEE</td>\n",
       "      <td>KS</td>\n",
       "      <td>66203</td>\n",
       "      <td>NaN</td>\n",
       "      <td>NaN</td>\n",
       "      <td>Department / Discount Store</td>\n",
       "      <td>CN1501968</td>\n",
       "      <td>2.000000e+17</td>\n",
       "      <td>Part 2</td>\n",
       "      <td>01010000205B0D0000000000806022414100000000D0BE...</td>\n",
       "    </tr>\n",
       "    <tr>\n",
       "      <th>332929</th>\n",
       "      <td>3000023</td>\n",
       "      <td>SPD</td>\n",
       "      <td>2/26/15 0:00</td>\n",
       "      <td>1026.0</td>\n",
       "      <td>NaN</td>\n",
       "      <td>IDENTITY THEFT; ECONOMIC/BODILY HARM &lt;$100K</td>\n",
       "      <td>NaN</td>\n",
       "      <td>NaN</td>\n",
       "      <td>2242975.00</td>\n",
       "      <td>268386.00</td>\n",
       "      <td>...</td>\n",
       "      <td>SHAWNEE</td>\n",
       "      <td>KS</td>\n",
       "      <td>66216</td>\n",
       "      <td>NaN</td>\n",
       "      <td>NaN</td>\n",
       "      <td>Single Residence</td>\n",
       "      <td>CN1500872</td>\n",
       "      <td>2.000000e+17</td>\n",
       "      <td>Part 1</td>\n",
       "      <td>01010000205B0D000000000080CF1C4141000000008861...</td>\n",
       "    </tr>\n",
       "    <tr>\n",
       "      <th>332930</th>\n",
       "      <td>3000024</td>\n",
       "      <td>SPD</td>\n",
       "      <td>6/9/15 0:00</td>\n",
       "      <td>1358.0</td>\n",
       "      <td>NaN</td>\n",
       "      <td>IDENTITY THEFT; RECEIVE BENEFITS &lt;$100K</td>\n",
       "      <td>NaN</td>\n",
       "      <td>NaN</td>\n",
       "      <td>2197223.00</td>\n",
       "      <td>262276.00</td>\n",
       "      <td>...</td>\n",
       "      <td>SHAWNEE</td>\n",
       "      <td>KS</td>\n",
       "      <td>66226</td>\n",
       "      <td>NaN</td>\n",
       "      <td>NaN</td>\n",
       "      <td>Other</td>\n",
       "      <td>OR1500171</td>\n",
       "      <td>2.000000e+17</td>\n",
       "      <td>Part 1</td>\n",
       "      <td>01010000205B0D00000000008073C34041000000001002...</td>\n",
       "    </tr>\n",
       "    <tr>\n",
       "      <th>332931</th>\n",
       "      <td>3000025</td>\n",
       "      <td>SPD</td>\n",
       "      <td>5/19/15 0:00</td>\n",
       "      <td>1246.0</td>\n",
       "      <td>NaN</td>\n",
       "      <td>THEFT OF PROPERTY OR SERVICES; MISDEMEANOR</td>\n",
       "      <td>NaN</td>\n",
       "      <td>NaN</td>\n",
       "      <td>2246856.00</td>\n",
       "      <td>265329.00</td>\n",
       "      <td>...</td>\n",
       "      <td>SHAWNEE</td>\n",
       "      <td>KS</td>\n",
       "      <td>66203</td>\n",
       "      <td>Theft from a Motor Vehicle</td>\n",
       "      <td>NaN</td>\n",
       "      <td>Commercial / Office Building</td>\n",
       "      <td>CN1502229</td>\n",
       "      <td>2.000000e+17</td>\n",
       "      <td>Part 1</td>\n",
       "      <td>01010000205B0D0000000000006424414100000000C431...</td>\n",
       "    </tr>\n",
       "    <tr>\n",
       "      <th>332932</th>\n",
       "      <td>3000026</td>\n",
       "      <td>SPD</td>\n",
       "      <td>3/26/15 0:00</td>\n",
       "      <td>926.0</td>\n",
       "      <td>NaN</td>\n",
       "      <td>THEFT OF PROPERTY OR SERVICES; MISDEMEANOR</td>\n",
       "      <td>NaN</td>\n",
       "      <td>NaN</td>\n",
       "      <td>2227123.00</td>\n",
       "      <td>259242.00</td>\n",
       "      <td>...</td>\n",
       "      <td>SHAWNEE</td>\n",
       "      <td>KS</td>\n",
       "      <td>66217</td>\n",
       "      <td>All Other</td>\n",
       "      <td>NaN</td>\n",
       "      <td>Commercial / Office Building</td>\n",
       "      <td>CN1501339</td>\n",
       "      <td>2.000000e+17</td>\n",
       "      <td>Part 1</td>\n",
       "      <td>01010000205B0D000000000080D9FD40410000000050A5...</td>\n",
       "    </tr>\n",
       "    <tr>\n",
       "      <th>332933</th>\n",
       "      <td>3000027</td>\n",
       "      <td>SPD</td>\n",
       "      <td>4/24/15 0:00</td>\n",
       "      <td>1936.0</td>\n",
       "      <td>NaN</td>\n",
       "      <td>THEFT OF PROPERTY OR SERVICES; FELONY</td>\n",
       "      <td>NaN</td>\n",
       "      <td>NaN</td>\n",
       "      <td>2243811.00</td>\n",
       "      <td>271784.00</td>\n",
       "      <td>...</td>\n",
       "      <td>SHAWNEE</td>\n",
       "      <td>KS</td>\n",
       "      <td>66203</td>\n",
       "      <td>Theft from a Motor Vehicle</td>\n",
       "      <td>NaN</td>\n",
       "      <td>Single Residence</td>\n",
       "      <td>CN1501828</td>\n",
       "      <td>2.000000e+17</td>\n",
       "      <td>Part 1</td>\n",
       "      <td>01010000205B0D000000000080711E414100000000A096...</td>\n",
       "    </tr>\n",
       "    <tr>\n",
       "      <th>332934</th>\n",
       "      <td>3000028</td>\n",
       "      <td>SPD</td>\n",
       "      <td>8/14/15 0:00</td>\n",
       "      <td>1317.0</td>\n",
       "      <td>NaN</td>\n",
       "      <td>CRIMINAL DAMAGE TO PROPERTY; MISDEMEANOR</td>\n",
       "      <td>NaN</td>\n",
       "      <td>NaN</td>\n",
       "      <td>2246909.00</td>\n",
       "      <td>264721.00</td>\n",
       "      <td>...</td>\n",
       "      <td>SHAWNEE</td>\n",
       "      <td>KS</td>\n",
       "      <td>66203</td>\n",
       "      <td>NaN</td>\n",
       "      <td>NaN</td>\n",
       "      <td>Single Residence</td>\n",
       "      <td>OR1500250</td>\n",
       "      <td>2.000000e+17</td>\n",
       "      <td>Part 2</td>\n",
       "      <td>01010000205B0D0000000000807E244141000000004428...</td>\n",
       "    </tr>\n",
       "    <tr>\n",
       "      <th>...</th>\n",
       "      <td>...</td>\n",
       "      <td>...</td>\n",
       "      <td>...</td>\n",
       "      <td>...</td>\n",
       "      <td>...</td>\n",
       "      <td>...</td>\n",
       "      <td>...</td>\n",
       "      <td>...</td>\n",
       "      <td>...</td>\n",
       "      <td>...</td>\n",
       "      <td>...</td>\n",
       "      <td>...</td>\n",
       "      <td>...</td>\n",
       "      <td>...</td>\n",
       "      <td>...</td>\n",
       "      <td>...</td>\n",
       "      <td>...</td>\n",
       "      <td>...</td>\n",
       "      <td>...</td>\n",
       "      <td>...</td>\n",
       "      <td>...</td>\n",
       "    </tr>\n",
       "    <tr>\n",
       "      <th>335584</th>\n",
       "      <td>3002678</td>\n",
       "      <td>SPD</td>\n",
       "      <td>4/14/15 0:00</td>\n",
       "      <td>1918.0</td>\n",
       "      <td>NaN</td>\n",
       "      <td>FORGERY; MAKING OR ALTERING A WRITTEN INSTRUMENT</td>\n",
       "      <td>NaN</td>\n",
       "      <td>NaN</td>\n",
       "      <td>2237514.00</td>\n",
       "      <td>264653.00</td>\n",
       "      <td>...</td>\n",
       "      <td>SHAWNEE</td>\n",
       "      <td>KS</td>\n",
       "      <td>66216</td>\n",
       "      <td>NaN</td>\n",
       "      <td>NaN</td>\n",
       "      <td>Service / Gas Station</td>\n",
       "      <td>CN1501637</td>\n",
       "      <td>2.000000e+17</td>\n",
       "      <td>Part 2</td>\n",
       "      <td>01010000205B0D00000000000025124141000000003427...</td>\n",
       "    </tr>\n",
       "    <tr>\n",
       "      <th>335585</th>\n",
       "      <td>3002679</td>\n",
       "      <td>SPD</td>\n",
       "      <td>2/11/15 0:00</td>\n",
       "      <td>1233.0</td>\n",
       "      <td>NaN</td>\n",
       "      <td>MAKING FALSE INFORMATION</td>\n",
       "      <td>NaN</td>\n",
       "      <td>NaN</td>\n",
       "      <td>2242528.00</td>\n",
       "      <td>265557.00</td>\n",
       "      <td>...</td>\n",
       "      <td>SHAWNEE</td>\n",
       "      <td>KS</td>\n",
       "      <td>66216</td>\n",
       "      <td>NaN</td>\n",
       "      <td>NaN</td>\n",
       "      <td>Grocery / Supermarket</td>\n",
       "      <td>CN1500648</td>\n",
       "      <td>2.000000e+17</td>\n",
       "      <td>Part 2</td>\n",
       "      <td>01010000205B0D000000000000F01B4141000000005435...</td>\n",
       "    </tr>\n",
       "    <tr>\n",
       "      <th>335586</th>\n",
       "      <td>3002680</td>\n",
       "      <td>SPD</td>\n",
       "      <td>10/25/15 0:00</td>\n",
       "      <td>256.0</td>\n",
       "      <td>NaN</td>\n",
       "      <td>AGGRAVATED BATTERY; INTENTIONAL BODILY HARM WI...</td>\n",
       "      <td>NaN</td>\n",
       "      <td>NaN</td>\n",
       "      <td>2200977.00</td>\n",
       "      <td>256920.00</td>\n",
       "      <td>...</td>\n",
       "      <td>SHAWNEE</td>\n",
       "      <td>KS</td>\n",
       "      <td>66227</td>\n",
       "      <td>NaN</td>\n",
       "      <td>NaN</td>\n",
       "      <td>Single Residence</td>\n",
       "      <td>CN1504854</td>\n",
       "      <td>2.000000e+17</td>\n",
       "      <td>Part 2</td>\n",
       "      <td>01010000205B0D000000000080C8CA404100000000C05C...</td>\n",
       "    </tr>\n",
       "    <tr>\n",
       "      <th>335587</th>\n",
       "      <td>3002681</td>\n",
       "      <td>SPD</td>\n",
       "      <td>4/19/15 0:00</td>\n",
       "      <td>1317.0</td>\n",
       "      <td>NaN</td>\n",
       "      <td>BATTERY, DOMESTIC; BODILY HARM</td>\n",
       "      <td>NaN</td>\n",
       "      <td>NaN</td>\n",
       "      <td>2233078.00</td>\n",
       "      <td>261514.00</td>\n",
       "      <td>...</td>\n",
       "      <td>SHAWNEE</td>\n",
       "      <td>KS</td>\n",
       "      <td>66217</td>\n",
       "      <td>NaN</td>\n",
       "      <td>NaN</td>\n",
       "      <td>Apartment Complex</td>\n",
       "      <td>CN1501748</td>\n",
       "      <td>2.010000e+17</td>\n",
       "      <td>Part 2</td>\n",
       "      <td>01010000205B0D0000000000007B0941410000000050EC...</td>\n",
       "    </tr>\n",
       "    <tr>\n",
       "      <th>335588</th>\n",
       "      <td>3002682</td>\n",
       "      <td>SPD</td>\n",
       "      <td>1/16/15 0:00</td>\n",
       "      <td>1514.0</td>\n",
       "      <td>NaN</td>\n",
       "      <td>BATTERY, DOMESTIC; RUDE CONTACT</td>\n",
       "      <td>NaN</td>\n",
       "      <td>NaN</td>\n",
       "      <td>2210760.00</td>\n",
       "      <td>263032.00</td>\n",
       "      <td>...</td>\n",
       "      <td>SHAWNEE</td>\n",
       "      <td>KS</td>\n",
       "      <td>66218</td>\n",
       "      <td>NaN</td>\n",
       "      <td>NaN</td>\n",
       "      <td>City Street</td>\n",
       "      <td>CN1500203</td>\n",
       "      <td>2.010000e+17</td>\n",
       "      <td>Part 2</td>\n",
       "      <td>01010000205B0D000000000000E4DD404100000000E00D...</td>\n",
       "    </tr>\n",
       "    <tr>\n",
       "      <th>335589</th>\n",
       "      <td>3002683</td>\n",
       "      <td>SPD</td>\n",
       "      <td>7/29/14 0:00</td>\n",
       "      <td>824.0</td>\n",
       "      <td>NaN</td>\n",
       "      <td>THEFT OF PROPERTY OR SERVICES; MISDEMEANOR</td>\n",
       "      <td>NaN</td>\n",
       "      <td>NaN</td>\n",
       "      <td>2241780.00</td>\n",
       "      <td>267686.00</td>\n",
       "      <td>...</td>\n",
       "      <td>SHAWNEE</td>\n",
       "      <td>KS</td>\n",
       "      <td>66216</td>\n",
       "      <td>Theft from a Building</td>\n",
       "      <td>NaN</td>\n",
       "      <td>Commercial / Office Building</td>\n",
       "      <td>OR1400149</td>\n",
       "      <td>2.000000e+17</td>\n",
       "      <td>Part 1</td>\n",
       "      <td>01010000205B0D0000000000007A1A4141000000009856...</td>\n",
       "    </tr>\n",
       "    <tr>\n",
       "      <th>335590</th>\n",
       "      <td>3002684</td>\n",
       "      <td>SPD</td>\n",
       "      <td>5/18/15 0:00</td>\n",
       "      <td>1652.0</td>\n",
       "      <td>NaN</td>\n",
       "      <td>THEFT OF PROPERTY OR SERVICES; MISDEMEANOR</td>\n",
       "      <td>NaN</td>\n",
       "      <td>NaN</td>\n",
       "      <td>2234482.00</td>\n",
       "      <td>260631.00</td>\n",
       "      <td>...</td>\n",
       "      <td>SHAWNEE</td>\n",
       "      <td>KS</td>\n",
       "      <td>66216</td>\n",
       "      <td>Theft from a Motor Vehicle</td>\n",
       "      <td>NaN</td>\n",
       "      <td>Single Residence</td>\n",
       "      <td>CN1502218</td>\n",
       "      <td>2.000000e+17</td>\n",
       "      <td>Part 1</td>\n",
       "      <td>01010000205B0D000000000000390C414100000000B8D0...</td>\n",
       "    </tr>\n",
       "    <tr>\n",
       "      <th>335591</th>\n",
       "      <td>3002685</td>\n",
       "      <td>SPD</td>\n",
       "      <td>11/23/15 0:00</td>\n",
       "      <td>1527.0</td>\n",
       "      <td>NaN</td>\n",
       "      <td>AGGRAVATED BATTERY; INTENTIONAL GREAT BODILY H...</td>\n",
       "      <td>NaN</td>\n",
       "      <td>NaN</td>\n",
       "      <td>2230089.00</td>\n",
       "      <td>263797.00</td>\n",
       "      <td>...</td>\n",
       "      <td>SHAWNEE</td>\n",
       "      <td>KS</td>\n",
       "      <td>66217</td>\n",
       "      <td>NaN</td>\n",
       "      <td>NaN</td>\n",
       "      <td>Apartment Complex</td>\n",
       "      <td>CN1505345</td>\n",
       "      <td>2.000000e+17</td>\n",
       "      <td>Part 2</td>\n",
       "      <td>01010000205B0D000000000080A403414100000000D419...</td>\n",
       "    </tr>\n",
       "    <tr>\n",
       "      <th>335592</th>\n",
       "      <td>3002686</td>\n",
       "      <td>SPD</td>\n",
       "      <td>2/8/15 0:00</td>\n",
       "      <td>1707.0</td>\n",
       "      <td>NaN</td>\n",
       "      <td>THEFT OF PROPERTY OR SERVICES; MISDEMEANOR</td>\n",
       "      <td>NaN</td>\n",
       "      <td>NaN</td>\n",
       "      <td>2246209.00</td>\n",
       "      <td>257722.00</td>\n",
       "      <td>...</td>\n",
       "      <td>SHAWNEE</td>\n",
       "      <td>KS</td>\n",
       "      <td>66203</td>\n",
       "      <td>Shoplifting</td>\n",
       "      <td>NaN</td>\n",
       "      <td>Grocery / Supermarket</td>\n",
       "      <td>CN1500604</td>\n",
       "      <td>2.000000e+17</td>\n",
       "      <td>Part 1</td>\n",
       "      <td>01010000205B0D0000000000802023414100000000D075...</td>\n",
       "    </tr>\n",
       "    <tr>\n",
       "      <th>335593</th>\n",
       "      <td>3002687</td>\n",
       "      <td>SPD</td>\n",
       "      <td>11/18/15 0:00</td>\n",
       "      <td>751.0</td>\n",
       "      <td>NaN</td>\n",
       "      <td>BURGLARY; ENTER DWELLING TO COMMIT FELONY, THE...</td>\n",
       "      <td>NaN</td>\n",
       "      <td>NaN</td>\n",
       "      <td>2213307.00</td>\n",
       "      <td>269648.00</td>\n",
       "      <td>...</td>\n",
       "      <td>SHAWNEE</td>\n",
       "      <td>KS</td>\n",
       "      <td>66218</td>\n",
       "      <td>NaN</td>\n",
       "      <td>NaN</td>\n",
       "      <td>Duplex / Individual Multiple Housing</td>\n",
       "      <td>CN1505252</td>\n",
       "      <td>2.010000e+17</td>\n",
       "      <td>Part 1</td>\n",
       "      <td>01010000205B0D000000000080DDE24041000000004075...</td>\n",
       "    </tr>\n",
       "    <tr>\n",
       "      <th>335594</th>\n",
       "      <td>3002688</td>\n",
       "      <td>SPD</td>\n",
       "      <td>1/2/15 0:00</td>\n",
       "      <td>1338.0</td>\n",
       "      <td>NaN</td>\n",
       "      <td>HARRASS BY TELECOM DEVICE; THREATENING PHONE C...</td>\n",
       "      <td>NaN</td>\n",
       "      <td>NaN</td>\n",
       "      <td>2211891.00</td>\n",
       "      <td>270587.00</td>\n",
       "      <td>...</td>\n",
       "      <td>SHAWNEE</td>\n",
       "      <td>KS</td>\n",
       "      <td>66218</td>\n",
       "      <td>NaN</td>\n",
       "      <td>NaN</td>\n",
       "      <td>Single Residence</td>\n",
       "      <td>CN1500016</td>\n",
       "      <td>2.000000e+17</td>\n",
       "      <td>Part 2</td>\n",
       "      <td>01010000205B0D00000000008019E0404100000000EC83...</td>\n",
       "    </tr>\n",
       "    <tr>\n",
       "      <th>335595</th>\n",
       "      <td>3002689</td>\n",
       "      <td>SPD</td>\n",
       "      <td>2/25/15 0:00</td>\n",
       "      <td>1523.0</td>\n",
       "      <td>NaN</td>\n",
       "      <td>THEFT OF PROPERTY OR SERVICES; FELONY</td>\n",
       "      <td>NaN</td>\n",
       "      <td>NaN</td>\n",
       "      <td>2247614.00</td>\n",
       "      <td>274769.00</td>\n",
       "      <td>...</td>\n",
       "      <td>SHAWNEE</td>\n",
       "      <td>KS</td>\n",
       "      <td>66203</td>\n",
       "      <td>Theft from a Motor Vehicle</td>\n",
       "      <td>NaN</td>\n",
       "      <td>Single Residence</td>\n",
       "      <td>OR1500045</td>\n",
       "      <td>2.000000e+17</td>\n",
       "      <td>Part 1</td>\n",
       "      <td>01010000205B0D000000000000DF2541410000000044C5...</td>\n",
       "    </tr>\n",
       "    <tr>\n",
       "      <th>335596</th>\n",
       "      <td>3002690</td>\n",
       "      <td>SPD</td>\n",
       "      <td>9/10/15 0:00</td>\n",
       "      <td>1037.0</td>\n",
       "      <td>NaN</td>\n",
       "      <td>AGGRAVATED INDECENT LIBERTIES WITH A CHILD; UN...</td>\n",
       "      <td>NaN</td>\n",
       "      <td>NaN</td>\n",
       "      <td>2236282.00</td>\n",
       "      <td>264385.00</td>\n",
       "      <td>...</td>\n",
       "      <td>SHAWNEE</td>\n",
       "      <td>KS</td>\n",
       "      <td>66216</td>\n",
       "      <td>NaN</td>\n",
       "      <td>NaN</td>\n",
       "      <td>Apartment Complex</td>\n",
       "      <td>CN1504153</td>\n",
       "      <td>2.010000e+17</td>\n",
       "      <td>Part 2</td>\n",
       "      <td>01010000205B0D000000000000BD0F4141000000000423...</td>\n",
       "    </tr>\n",
       "    <tr>\n",
       "      <th>335597</th>\n",
       "      <td>3002691</td>\n",
       "      <td>SPD</td>\n",
       "      <td>1/13/15 0:00</td>\n",
       "      <td>327.0</td>\n",
       "      <td>NaN</td>\n",
       "      <td>POSSESS CERTAIN HALLUCINOGENIC DRUGS (MARIJUANA)</td>\n",
       "      <td>NaN</td>\n",
       "      <td>NaN</td>\n",
       "      <td>2239653.00</td>\n",
       "      <td>272648.00</td>\n",
       "      <td>...</td>\n",
       "      <td>SHAWNEE</td>\n",
       "      <td>KS</td>\n",
       "      <td>66216</td>\n",
       "      <td>NaN</td>\n",
       "      <td>NaN</td>\n",
       "      <td>City Street</td>\n",
       "      <td>CN1500158</td>\n",
       "      <td>2.000000e+17</td>\n",
       "      <td>Part 2</td>\n",
       "      <td>01010000205B0D000000000080521641410000000020A4...</td>\n",
       "    </tr>\n",
       "    <tr>\n",
       "      <th>335598</th>\n",
       "      <td>3002692</td>\n",
       "      <td>SPD</td>\n",
       "      <td>2/18/14 0:00</td>\n",
       "      <td>1243.0</td>\n",
       "      <td>NaN</td>\n",
       "      <td>CRIMINAL DAMAGE TO PROPERTY; MISDEMEANOR</td>\n",
       "      <td>NaN</td>\n",
       "      <td>NaN</td>\n",
       "      <td>2208205.00</td>\n",
       "      <td>275354.00</td>\n",
       "      <td>...</td>\n",
       "      <td>SHAWNEE</td>\n",
       "      <td>KS</td>\n",
       "      <td>66226</td>\n",
       "      <td>NaN</td>\n",
       "      <td>NaN</td>\n",
       "      <td>Single Residence</td>\n",
       "      <td>OR1400038</td>\n",
       "      <td>2.000000e+17</td>\n",
       "      <td>Part 2</td>\n",
       "      <td>01010000205B0D000000000080E6D840410000000068CE...</td>\n",
       "    </tr>\n",
       "    <tr>\n",
       "      <th>335599</th>\n",
       "      <td>3002693</td>\n",
       "      <td>SPD</td>\n",
       "      <td>7/3/15 0:00</td>\n",
       "      <td>742.0</td>\n",
       "      <td>NaN</td>\n",
       "      <td>THEFT OF PROPERTY OR SERVICES; MISDEMEANOR</td>\n",
       "      <td>NaN</td>\n",
       "      <td>NaN</td>\n",
       "      <td>2242306.00</td>\n",
       "      <td>274315.00</td>\n",
       "      <td>...</td>\n",
       "      <td>SHAWNEE</td>\n",
       "      <td>KS</td>\n",
       "      <td>66216</td>\n",
       "      <td>Theft from a Motor Vehicle</td>\n",
       "      <td>NaN</td>\n",
       "      <td>Single Residence</td>\n",
       "      <td>CN1503022</td>\n",
       "      <td>2.000000e+17</td>\n",
       "      <td>Part 1</td>\n",
       "      <td>01010000205B0D000000000000811B4141000000002CBE...</td>\n",
       "    </tr>\n",
       "    <tr>\n",
       "      <th>335600</th>\n",
       "      <td>3002694</td>\n",
       "      <td>SPD</td>\n",
       "      <td>6/26/15 0:00</td>\n",
       "      <td>1726.0</td>\n",
       "      <td>NaN</td>\n",
       "      <td>THEFT OF PROPERTY OR SERVICES; MISDEMEANOR</td>\n",
       "      <td>NaN</td>\n",
       "      <td>NaN</td>\n",
       "      <td>2246780.00</td>\n",
       "      <td>263231.00</td>\n",
       "      <td>...</td>\n",
       "      <td>SHAWNEE</td>\n",
       "      <td>KS</td>\n",
       "      <td>66203</td>\n",
       "      <td>All Other</td>\n",
       "      <td>NaN</td>\n",
       "      <td>Duplex / Individual Multiple Housing</td>\n",
       "      <td>OR1500196</td>\n",
       "      <td>2.000000e+17</td>\n",
       "      <td>Part 1</td>\n",
       "      <td>01010000205B0D0000000000003E24414100000000FC10...</td>\n",
       "    </tr>\n",
       "    <tr>\n",
       "      <th>335601</th>\n",
       "      <td>3002695</td>\n",
       "      <td>SPD</td>\n",
       "      <td>7/29/15 0:00</td>\n",
       "      <td>1101.0</td>\n",
       "      <td>NaN</td>\n",
       "      <td>THEFT OF LOST OR MISLAID PROPERTY; MISDEMEANOR</td>\n",
       "      <td>NaN</td>\n",
       "      <td>NaN</td>\n",
       "      <td>2201802.00</td>\n",
       "      <td>270465.00</td>\n",
       "      <td>...</td>\n",
       "      <td>SHAWNEE</td>\n",
       "      <td>KS</td>\n",
       "      <td>66226</td>\n",
       "      <td>All Other</td>\n",
       "      <td>NaN</td>\n",
       "      <td>City Street</td>\n",
       "      <td>OR1500235</td>\n",
       "      <td>2.010000e+17</td>\n",
       "      <td>Part 1</td>\n",
       "      <td>01010000205B0D00000000000065CC4041000000000482...</td>\n",
       "    </tr>\n",
       "    <tr>\n",
       "      <th>335602</th>\n",
       "      <td>3002696</td>\n",
       "      <td>SPD</td>\n",
       "      <td>1/21/15 0:00</td>\n",
       "      <td>1404.0</td>\n",
       "      <td>NaN</td>\n",
       "      <td>CRIMINAL DAMAGE TO PROPERTY; MISDEMEANOR</td>\n",
       "      <td>NaN</td>\n",
       "      <td>NaN</td>\n",
       "      <td>2229086.00</td>\n",
       "      <td>255591.00</td>\n",
       "      <td>...</td>\n",
       "      <td>SHAWNEE</td>\n",
       "      <td>KS</td>\n",
       "      <td>66217</td>\n",
       "      <td>NaN</td>\n",
       "      <td>NaN</td>\n",
       "      <td>Single Residence</td>\n",
       "      <td>CN1500308</td>\n",
       "      <td>2.000000e+17</td>\n",
       "      <td>Part 2</td>\n",
       "      <td>01010000205B0D000000000000AF014141000000003833...</td>\n",
       "    </tr>\n",
       "    <tr>\n",
       "      <th>335603</th>\n",
       "      <td>3002697</td>\n",
       "      <td>SPD</td>\n",
       "      <td>3/5/15 0:00</td>\n",
       "      <td>1245.0</td>\n",
       "      <td>NaN</td>\n",
       "      <td>THEFT OF PROPERTY OR SERVICES; VALUE $1,000 TO...</td>\n",
       "      <td>NaN</td>\n",
       "      <td>NaN</td>\n",
       "      <td>2205571.00</td>\n",
       "      <td>258790.00</td>\n",
       "      <td>...</td>\n",
       "      <td>SHAWNEE</td>\n",
       "      <td>KS</td>\n",
       "      <td>66226</td>\n",
       "      <td>Theft from a Building</td>\n",
       "      <td>NaN</td>\n",
       "      <td>Single Residence</td>\n",
       "      <td>OR1500056</td>\n",
       "      <td>2.000000e+17</td>\n",
       "      <td>Part 1</td>\n",
       "      <td>01010000205B0D000000000080C1D34041000000003097...</td>\n",
       "    </tr>\n",
       "    <tr>\n",
       "      <th>335604</th>\n",
       "      <td>3002698</td>\n",
       "      <td>SPD</td>\n",
       "      <td>7/21/14 0:00</td>\n",
       "      <td>1335.0</td>\n",
       "      <td>NaN</td>\n",
       "      <td>CRIMINAL DAMAGE TO PROPERTY; MISDEMEANOR</td>\n",
       "      <td>NaN</td>\n",
       "      <td>NaN</td>\n",
       "      <td>2210813.00</td>\n",
       "      <td>262843.00</td>\n",
       "      <td>...</td>\n",
       "      <td>SHAWNEE</td>\n",
       "      <td>KS</td>\n",
       "      <td>66218</td>\n",
       "      <td>NaN</td>\n",
       "      <td>NaN</td>\n",
       "      <td>Single Residence</td>\n",
       "      <td>OR1400137</td>\n",
       "      <td>2.010000e+17</td>\n",
       "      <td>Part 2</td>\n",
       "      <td>01010000205B0D000000000080FEDD404100000000EC0A...</td>\n",
       "    </tr>\n",
       "    <tr>\n",
       "      <th>335605</th>\n",
       "      <td>3002699</td>\n",
       "      <td>SPD</td>\n",
       "      <td>7/8/15 0:00</td>\n",
       "      <td>1039.0</td>\n",
       "      <td>NaN</td>\n",
       "      <td>AGGRAVATED BURGLARY</td>\n",
       "      <td>NaN</td>\n",
       "      <td>NaN</td>\n",
       "      <td>2239457.00</td>\n",
       "      <td>265643.00</td>\n",
       "      <td>...</td>\n",
       "      <td>SHAWNEE</td>\n",
       "      <td>KS</td>\n",
       "      <td>66216</td>\n",
       "      <td>NaN</td>\n",
       "      <td>NaN</td>\n",
       "      <td>Duplex / Individual Multiple Housing</td>\n",
       "      <td>CN1503101</td>\n",
       "      <td>2.000000e+17</td>\n",
       "      <td>Part 1</td>\n",
       "      <td>01010000205B0D000000000080F015414100000000AC36...</td>\n",
       "    </tr>\n",
       "    <tr>\n",
       "      <th>335606</th>\n",
       "      <td>3002700</td>\n",
       "      <td>SPD</td>\n",
       "      <td>3/21/15 0:00</td>\n",
       "      <td>1046.0</td>\n",
       "      <td>NaN</td>\n",
       "      <td>IDENTITY THEFT; ECONOMIC/BODILY HARM &lt;$100K</td>\n",
       "      <td>NaN</td>\n",
       "      <td>NaN</td>\n",
       "      <td>2212774.00</td>\n",
       "      <td>268196.00</td>\n",
       "      <td>...</td>\n",
       "      <td>SHAWNEE</td>\n",
       "      <td>KS</td>\n",
       "      <td>66218</td>\n",
       "      <td>NaN</td>\n",
       "      <td>NaN</td>\n",
       "      <td>Single Residence</td>\n",
       "      <td>CN1501251</td>\n",
       "      <td>2.000000e+17</td>\n",
       "      <td>Part 1</td>\n",
       "      <td>01010000205B0D000000000000D3E1404100000000905E...</td>\n",
       "    </tr>\n",
       "    <tr>\n",
       "      <th>335607</th>\n",
       "      <td>3002701</td>\n",
       "      <td>SPD</td>\n",
       "      <td>2/9/15 0:00</td>\n",
       "      <td>1049.0</td>\n",
       "      <td>NaN</td>\n",
       "      <td>IDENTITY THEFT; ECONOMIC/BODILY HARM &lt;$100K</td>\n",
       "      <td>NaN</td>\n",
       "      <td>NaN</td>\n",
       "      <td>2240576.00</td>\n",
       "      <td>255316.00</td>\n",
       "      <td>...</td>\n",
       "      <td>LENEXA</td>\n",
       "      <td>KS</td>\n",
       "      <td>66216</td>\n",
       "      <td>NaN</td>\n",
       "      <td>NaN</td>\n",
       "      <td>Single Residence</td>\n",
       "      <td>CN1500615</td>\n",
       "      <td>2.000000e+17</td>\n",
       "      <td>Part 1</td>\n",
       "      <td>01010000205B0D0000000000002018414100000000A02A...</td>\n",
       "    </tr>\n",
       "    <tr>\n",
       "      <th>335608</th>\n",
       "      <td>3002702</td>\n",
       "      <td>SPD</td>\n",
       "      <td>10/20/14 0:00</td>\n",
       "      <td>1257.0</td>\n",
       "      <td>NaN</td>\n",
       "      <td>CRIMINAL DAMAGE TO PROPERTY; WITHOUT CONSENT V...</td>\n",
       "      <td>NaN</td>\n",
       "      <td>NaN</td>\n",
       "      <td>2210470.00</td>\n",
       "      <td>267288.00</td>\n",
       "      <td>...</td>\n",
       "      <td>SHAWNEE</td>\n",
       "      <td>KS</td>\n",
       "      <td>66218</td>\n",
       "      <td>NaN</td>\n",
       "      <td>NaN</td>\n",
       "      <td>Single Residence</td>\n",
       "      <td>OR1400191</td>\n",
       "      <td>2.000000e+17</td>\n",
       "      <td>Part 2</td>\n",
       "      <td>01010000205B0D00000000000053DD4041000000006050...</td>\n",
       "    </tr>\n",
       "    <tr>\n",
       "      <th>335609</th>\n",
       "      <td>3002703</td>\n",
       "      <td>SPD</td>\n",
       "      <td>4/10/15 0:00</td>\n",
       "      <td>1711.0</td>\n",
       "      <td>NaN</td>\n",
       "      <td>VIOLATION OF PROTECTION ORDER; PROTECTIVE ORDER</td>\n",
       "      <td>NaN</td>\n",
       "      <td>NaN</td>\n",
       "      <td>2234676.00</td>\n",
       "      <td>265029.00</td>\n",
       "      <td>...</td>\n",
       "      <td>SHAWNEE</td>\n",
       "      <td>KS</td>\n",
       "      <td>66216</td>\n",
       "      <td>NaN</td>\n",
       "      <td>NaN</td>\n",
       "      <td>Single Residence</td>\n",
       "      <td>CN1501576</td>\n",
       "      <td>2.000000e+17</td>\n",
       "      <td>Part 2</td>\n",
       "      <td>01010000205B0D0000000000009A0C414100000000142D...</td>\n",
       "    </tr>\n",
       "    <tr>\n",
       "      <th>335610</th>\n",
       "      <td>3002704</td>\n",
       "      <td>SPD</td>\n",
       "      <td>4/30/14 0:00</td>\n",
       "      <td>1442.0</td>\n",
       "      <td>NaN</td>\n",
       "      <td>HARRASS BY TELECOM DEVICE; THREATENING PHONE C...</td>\n",
       "      <td>NaN</td>\n",
       "      <td>NaN</td>\n",
       "      <td>2242366.00</td>\n",
       "      <td>259572.00</td>\n",
       "      <td>...</td>\n",
       "      <td>SHAWNEE</td>\n",
       "      <td>KS</td>\n",
       "      <td>66216</td>\n",
       "      <td>NaN</td>\n",
       "      <td>NaN</td>\n",
       "      <td>Single Residence</td>\n",
       "      <td>OR1400087</td>\n",
       "      <td>2.000000e+17</td>\n",
       "      <td>Part 2</td>\n",
       "      <td>01010000205B0D0000000000009F1B414100000000A0AF...</td>\n",
       "    </tr>\n",
       "    <tr>\n",
       "      <th>335611</th>\n",
       "      <td>3002705</td>\n",
       "      <td>SPD</td>\n",
       "      <td>5/19/15 0:00</td>\n",
       "      <td>1520.0</td>\n",
       "      <td>NaN</td>\n",
       "      <td>CRIMINAL USE OF A FINANCIAL CARD; W/O CONSENT ...</td>\n",
       "      <td>NaN</td>\n",
       "      <td>NaN</td>\n",
       "      <td>2207064.00</td>\n",
       "      <td>267617.00</td>\n",
       "      <td>...</td>\n",
       "      <td>SHAWNEE</td>\n",
       "      <td>KS</td>\n",
       "      <td>66226</td>\n",
       "      <td>NaN</td>\n",
       "      <td>NaN</td>\n",
       "      <td>Department / Discount Store</td>\n",
       "      <td>OR1500142</td>\n",
       "      <td>2.010000e+17</td>\n",
       "      <td>Part 2</td>\n",
       "      <td>01010000205B0D000000000000ACD64041000000008455...</td>\n",
       "    </tr>\n",
       "    <tr>\n",
       "      <th>335612</th>\n",
       "      <td>3002706</td>\n",
       "      <td>SPD</td>\n",
       "      <td>4/5/15 0:00</td>\n",
       "      <td>31.0</td>\n",
       "      <td>NaN</td>\n",
       "      <td>CRIMINAL DAMAGE TO PROPERTY; MISDEMEANOR</td>\n",
       "      <td>NaN</td>\n",
       "      <td>NaN</td>\n",
       "      <td>2240865.00</td>\n",
       "      <td>270333.00</td>\n",
       "      <td>...</td>\n",
       "      <td>SHAWNEE</td>\n",
       "      <td>KS</td>\n",
       "      <td>66216</td>\n",
       "      <td>NaN</td>\n",
       "      <td>NaN</td>\n",
       "      <td>Single Residence</td>\n",
       "      <td>CN1501489</td>\n",
       "      <td>2.000000e+17</td>\n",
       "      <td>Part 2</td>\n",
       "      <td>01010000205B0D000000000080B018414100000000F47F...</td>\n",
       "    </tr>\n",
       "    <tr>\n",
       "      <th>335613</th>\n",
       "      <td>3002707</td>\n",
       "      <td>SPD</td>\n",
       "      <td>3/6/15 0:00</td>\n",
       "      <td>1404.0</td>\n",
       "      <td>NaN</td>\n",
       "      <td>IDENTITY THEFT; RECEIVE BENEFITS &lt;$100K</td>\n",
       "      <td>NaN</td>\n",
       "      <td>NaN</td>\n",
       "      <td>2245812.00</td>\n",
       "      <td>257606.00</td>\n",
       "      <td>...</td>\n",
       "      <td>SHAWNEE</td>\n",
       "      <td>KS</td>\n",
       "      <td>66203</td>\n",
       "      <td>NaN</td>\n",
       "      <td>NaN</td>\n",
       "      <td>Restaurant</td>\n",
       "      <td>CN1501013</td>\n",
       "      <td>2.000000e+17</td>\n",
       "      <td>Part 1</td>\n",
       "      <td>01010000205B0D0000000000005A224141000000003072...</td>\n",
       "    </tr>\n",
       "  </tbody>\n",
       "</table>\n",
       "<p>2709 rows × 24 columns</p>\n",
       "</div>"
      ],
      "text/plain": [
       "             id agency       daterept  hourrept ucrcode  \\\n",
       "171465   171445   OPPD   2/26/07 0:00     906.0     NaN   \n",
       "235261   235086   OPPD    1/3/14 0:00    1946.0     NaN   \n",
       "332907  3000001    SPD   5/30/15 0:00    2138.0     NaN   \n",
       "332908  3000002    SPD   8/11/15 0:00    1551.0     NaN   \n",
       "332909  3000003    SPD   7/16/15 0:00    1527.0     NaN   \n",
       "332910  3000004    SPD  10/24/15 0:00    1529.0     NaN   \n",
       "332911  3000005    SPD   6/24/14 0:00    1556.0     NaN   \n",
       "332912  3000006    SPD    6/1/15 0:00     834.0     NaN   \n",
       "332913  3000007    SPD   5/13/15 0:00     424.0     NaN   \n",
       "332914  3000008    SPD   2/12/15 0:00    1116.0     NaN   \n",
       "332915  3000009    SPD   11/2/15 0:00     206.0     NaN   \n",
       "332916  3000010    SPD   5/19/15 0:00    1901.0     NaN   \n",
       "332917  3000011    SPD  11/12/13 0:00    1634.0     NaN   \n",
       "332918  3000012    SPD    6/2/15 0:00    1421.0     NaN   \n",
       "332919  3000013    SPD   10/5/15 0:00     249.0     NaN   \n",
       "332920  3000014    SPD   9/26/15 0:00    1745.0     NaN   \n",
       "332921  3000015    SPD   9/10/15 0:00     538.0     NaN   \n",
       "332922  3000016    SPD    6/7/15 0:00    1510.0     NaN   \n",
       "332923  3000017    SPD    5/1/15 0:00     323.0     NaN   \n",
       "332924  3000018    SPD   4/30/14 0:00    1442.0     NaN   \n",
       "332925  3000019    SPD   9/15/15 0:00     803.0     NaN   \n",
       "332926  3000020    SPD   9/20/15 0:00    1623.0     NaN   \n",
       "332927  3000021    SPD   9/23/15 0:00    2325.0     NaN   \n",
       "332928  3000022    SPD    5/4/15 0:00    1110.0     NaN   \n",
       "332929  3000023    SPD   2/26/15 0:00    1026.0     NaN   \n",
       "332930  3000024    SPD    6/9/15 0:00    1358.0     NaN   \n",
       "332931  3000025    SPD   5/19/15 0:00    1246.0     NaN   \n",
       "332932  3000026    SPD   3/26/15 0:00     926.0     NaN   \n",
       "332933  3000027    SPD   4/24/15 0:00    1936.0     NaN   \n",
       "332934  3000028    SPD   8/14/15 0:00    1317.0     NaN   \n",
       "...         ...    ...            ...       ...     ...   \n",
       "335584  3002678    SPD   4/14/15 0:00    1918.0     NaN   \n",
       "335585  3002679    SPD   2/11/15 0:00    1233.0     NaN   \n",
       "335586  3002680    SPD  10/25/15 0:00     256.0     NaN   \n",
       "335587  3002681    SPD   4/19/15 0:00    1317.0     NaN   \n",
       "335588  3002682    SPD   1/16/15 0:00    1514.0     NaN   \n",
       "335589  3002683    SPD   7/29/14 0:00     824.0     NaN   \n",
       "335590  3002684    SPD   5/18/15 0:00    1652.0     NaN   \n",
       "335591  3002685    SPD  11/23/15 0:00    1527.0     NaN   \n",
       "335592  3002686    SPD    2/8/15 0:00    1707.0     NaN   \n",
       "335593  3002687    SPD  11/18/15 0:00     751.0     NaN   \n",
       "335594  3002688    SPD    1/2/15 0:00    1338.0     NaN   \n",
       "335595  3002689    SPD   2/25/15 0:00    1523.0     NaN   \n",
       "335596  3002690    SPD   9/10/15 0:00    1037.0     NaN   \n",
       "335597  3002691    SPD   1/13/15 0:00     327.0     NaN   \n",
       "335598  3002692    SPD   2/18/14 0:00    1243.0     NaN   \n",
       "335599  3002693    SPD    7/3/15 0:00     742.0     NaN   \n",
       "335600  3002694    SPD   6/26/15 0:00    1726.0     NaN   \n",
       "335601  3002695    SPD   7/29/15 0:00    1101.0     NaN   \n",
       "335602  3002696    SPD   1/21/15 0:00    1404.0     NaN   \n",
       "335603  3002697    SPD    3/5/15 0:00    1245.0     NaN   \n",
       "335604  3002698    SPD   7/21/14 0:00    1335.0     NaN   \n",
       "335605  3002699    SPD    7/8/15 0:00    1039.0     NaN   \n",
       "335606  3002700    SPD   3/21/15 0:00    1046.0     NaN   \n",
       "335607  3002701    SPD    2/9/15 0:00    1049.0     NaN   \n",
       "335608  3002702    SPD  10/20/14 0:00    1257.0     NaN   \n",
       "335609  3002703    SPD   4/10/15 0:00    1711.0     NaN   \n",
       "335610  3002704    SPD   4/30/14 0:00    1442.0     NaN   \n",
       "335611  3002705    SPD   5/19/15 0:00    1520.0     NaN   \n",
       "335612  3002706    SPD    4/5/15 0:00      31.0     NaN   \n",
       "335613  3002707    SPD    3/6/15 0:00    1404.0     NaN   \n",
       "\n",
       "                                                  offense neighborhood  \\\n",
       "171465                                 INFO - ANIMAL CALL           21   \n",
       "235261                     INFORMATION - TRUCK INSPECTION            2   \n",
       "332907                    BATTERY, DOMESTIC; RUDE CONTACT          NaN   \n",
       "332908                     BATTERY, DOMESTIC; BODILY HARM          NaN   \n",
       "332909         THEFT OF PROPERTY OR SERVICES; MISDEMEANOR          NaN   \n",
       "332910  CRIMINAL THREAT; CAUSE TERROR, EVACUTION OR DI...          NaN   \n",
       "332911              THEFT OF PROPERTY OR SERVICES; FELONY          NaN   \n",
       "332912           CRIMINAL DAMAGE TO PROPERTY; MISDEMEANOR          NaN   \n",
       "332913   POSSESS CERTAIN HALLUCINOGENIC DRUGS (MARIJUANA)          NaN   \n",
       "332914  PARAPHERNALIA - USE/POSSESS W/INTENT TO USE DR...          NaN   \n",
       "332915         THEFT OF PROPERTY OR SERVICES; MISDEMEANOR          NaN   \n",
       "332916    VIOLATION OF PROTECTION ORDER; PROTECTIVE ORDER          NaN   \n",
       "332917         THEFT OF PROPERTY OR SERVICES; MISDEMEANOR          NaN   \n",
       "332918            IDENTITY THEFT; RECEIVE BENEFITS <$100K          NaN   \n",
       "332919                                    BATTERY, SIMPLE          NaN   \n",
       "332920         THEFT OF PROPERTY OR SERVICES; MISDEMEANOR          NaN   \n",
       "332921  POSSESS OPIATES/OPIUM/NARC DRUG AND CERTAIN ST...          NaN   \n",
       "332922        KANSAS CODE; CARE OF CHILDREN - DEFINITIONS          NaN   \n",
       "332923    VIOLATION OF PROTECTION ORDER; PROTECTIVE ORDER          NaN   \n",
       "332924            IDENTITY THEFT; RECEIVE BENEFITS <$100K          NaN   \n",
       "332925         THEFT OF PROPERTY OR SERVICES; MISDEMEANOR          NaN   \n",
       "332926      CRIMINAL USE OF A FINANCIAL CARD; MISDEMEANOR          NaN   \n",
       "332927        IDENTITY THEFT; ECONOMIC/BODILY HARM <$100K          NaN   \n",
       "332928  IDENTITY FRAUD; REPLICATE PERSONAL ID DOCUMENT...          NaN   \n",
       "332929        IDENTITY THEFT; ECONOMIC/BODILY HARM <$100K          NaN   \n",
       "332930            IDENTITY THEFT; RECEIVE BENEFITS <$100K          NaN   \n",
       "332931         THEFT OF PROPERTY OR SERVICES; MISDEMEANOR          NaN   \n",
       "332932         THEFT OF PROPERTY OR SERVICES; MISDEMEANOR          NaN   \n",
       "332933              THEFT OF PROPERTY OR SERVICES; FELONY          NaN   \n",
       "332934           CRIMINAL DAMAGE TO PROPERTY; MISDEMEANOR          NaN   \n",
       "...                                                   ...          ...   \n",
       "335584   FORGERY; MAKING OR ALTERING A WRITTEN INSTRUMENT          NaN   \n",
       "335585                           MAKING FALSE INFORMATION          NaN   \n",
       "335586  AGGRAVATED BATTERY; INTENTIONAL BODILY HARM WI...          NaN   \n",
       "335587                     BATTERY, DOMESTIC; BODILY HARM          NaN   \n",
       "335588                    BATTERY, DOMESTIC; RUDE CONTACT          NaN   \n",
       "335589         THEFT OF PROPERTY OR SERVICES; MISDEMEANOR          NaN   \n",
       "335590         THEFT OF PROPERTY OR SERVICES; MISDEMEANOR          NaN   \n",
       "335591  AGGRAVATED BATTERY; INTENTIONAL GREAT BODILY H...          NaN   \n",
       "335592         THEFT OF PROPERTY OR SERVICES; MISDEMEANOR          NaN   \n",
       "335593  BURGLARY; ENTER DWELLING TO COMMIT FELONY, THE...          NaN   \n",
       "335594  HARRASS BY TELECOM DEVICE; THREATENING PHONE C...          NaN   \n",
       "335595              THEFT OF PROPERTY OR SERVICES; FELONY          NaN   \n",
       "335596  AGGRAVATED INDECENT LIBERTIES WITH A CHILD; UN...          NaN   \n",
       "335597   POSSESS CERTAIN HALLUCINOGENIC DRUGS (MARIJUANA)          NaN   \n",
       "335598           CRIMINAL DAMAGE TO PROPERTY; MISDEMEANOR          NaN   \n",
       "335599         THEFT OF PROPERTY OR SERVICES; MISDEMEANOR          NaN   \n",
       "335600         THEFT OF PROPERTY OR SERVICES; MISDEMEANOR          NaN   \n",
       "335601     THEFT OF LOST OR MISLAID PROPERTY; MISDEMEANOR          NaN   \n",
       "335602           CRIMINAL DAMAGE TO PROPERTY; MISDEMEANOR          NaN   \n",
       "335603  THEFT OF PROPERTY OR SERVICES; VALUE $1,000 TO...          NaN   \n",
       "335604           CRIMINAL DAMAGE TO PROPERTY; MISDEMEANOR          NaN   \n",
       "335605                                AGGRAVATED BURGLARY          NaN   \n",
       "335606        IDENTITY THEFT; ECONOMIC/BODILY HARM <$100K          NaN   \n",
       "335607        IDENTITY THEFT; ECONOMIC/BODILY HARM <$100K          NaN   \n",
       "335608  CRIMINAL DAMAGE TO PROPERTY; WITHOUT CONSENT V...          NaN   \n",
       "335609    VIOLATION OF PROTECTION ORDER; PROTECTIVE ORDER          NaN   \n",
       "335610  HARRASS BY TELECOM DEVICE; THREATENING PHONE C...          NaN   \n",
       "335611  CRIMINAL USE OF A FINANCIAL CARD; W/O CONSENT ...          NaN   \n",
       "335612           CRIMINAL DAMAGE TO PROPERTY; MISDEMEANOR          NaN   \n",
       "335613            IDENTITY THEFT; RECEIVE BENEFITS <$100K          NaN   \n",
       "\n",
       "        subdivision         spx        spy  \\\n",
       "171465       3600.0  2252844.67  247308.99   \n",
       "235261     705400.0  2259113.00  243467.00   \n",
       "332907          NaN  2245167.00  265618.00   \n",
       "332908          NaN  2247918.00  256666.00   \n",
       "332909          NaN  2233065.00  264462.00   \n",
       "332910          NaN  2244977.00  258625.00   \n",
       "332911          NaN  2231941.00  259516.00   \n",
       "332912          NaN  2224779.00  261970.00   \n",
       "332913          NaN  2244310.00  263657.00   \n",
       "332914          NaN  2226302.00  267735.00   \n",
       "332915          NaN  2209205.00  271387.00   \n",
       "332916          NaN  2248191.00  265708.00   \n",
       "332917          NaN  2204607.00  252238.00   \n",
       "332918          NaN  2242579.00  263448.00   \n",
       "332919          NaN  2236057.00  267943.00   \n",
       "332920          NaN  2208558.00  251966.00   \n",
       "332921          NaN  2242641.00  267776.00   \n",
       "332922          NaN  2226302.00  267735.00   \n",
       "332923          NaN  2244779.00  267160.00   \n",
       "332924          NaN  2213193.00  272681.00   \n",
       "332925          NaN  2241756.00  265185.00   \n",
       "332926          NaN  2229137.00  263501.00   \n",
       "332927          NaN  2230531.00  263057.00   \n",
       "332928          NaN  2245825.00  274356.00   \n",
       "332929          NaN  2242975.00  268386.00   \n",
       "332930          NaN  2197223.00  262276.00   \n",
       "332931          NaN  2246856.00  265329.00   \n",
       "332932          NaN  2227123.00  259242.00   \n",
       "332933          NaN  2243811.00  271784.00   \n",
       "332934          NaN  2246909.00  264721.00   \n",
       "...             ...         ...        ...   \n",
       "335584          NaN  2237514.00  264653.00   \n",
       "335585          NaN  2242528.00  265557.00   \n",
       "335586          NaN  2200977.00  256920.00   \n",
       "335587          NaN  2233078.00  261514.00   \n",
       "335588          NaN  2210760.00  263032.00   \n",
       "335589          NaN  2241780.00  267686.00   \n",
       "335590          NaN  2234482.00  260631.00   \n",
       "335591          NaN  2230089.00  263797.00   \n",
       "335592          NaN  2246209.00  257722.00   \n",
       "335593          NaN  2213307.00  269648.00   \n",
       "335594          NaN  2211891.00  270587.00   \n",
       "335595          NaN  2247614.00  274769.00   \n",
       "335596          NaN  2236282.00  264385.00   \n",
       "335597          NaN  2239653.00  272648.00   \n",
       "335598          NaN  2208205.00  275354.00   \n",
       "335599          NaN  2242306.00  274315.00   \n",
       "335600          NaN  2246780.00  263231.00   \n",
       "335601          NaN  2201802.00  270465.00   \n",
       "335602          NaN  2229086.00  255591.00   \n",
       "335603          NaN  2205571.00  258790.00   \n",
       "335604          NaN  2210813.00  262843.00   \n",
       "335605          NaN  2239457.00  265643.00   \n",
       "335606          NaN  2212774.00  268196.00   \n",
       "335607          NaN  2240576.00  255316.00   \n",
       "335608          NaN  2210470.00  267288.00   \n",
       "335609          NaN  2234676.00  265029.00   \n",
       "335610          NaN  2242366.00  259572.00   \n",
       "335611          NaN  2207064.00  267617.00   \n",
       "335612          NaN  2240865.00  270333.00   \n",
       "335613          NaN  2245812.00  257606.00   \n",
       "\n",
       "                              ...                                   city  \\\n",
       "171465                        ...                          OVERLAND_PARK   \n",
       "235261                        ...                          OVERLAND_PARK   \n",
       "332907                        ...                                SHAWNEE   \n",
       "332908                        ...                                SHAWNEE   \n",
       "332909                        ...                                SHAWNEE   \n",
       "332910                        ...                                SHAWNEE   \n",
       "332911                        ...                                SHAWNEE   \n",
       "332912                        ...                                SHAWNEE   \n",
       "332913                        ...                                SHAWNEE   \n",
       "332914                        ...                                SHAWNEE   \n",
       "332915                        ...                                SHAWNEE   \n",
       "332916                        ...                                SHAWNEE   \n",
       "332917                        ...                                SHAWNEE   \n",
       "332918                        ...                                SHAWNEE   \n",
       "332919                        ...                                SHAWNEE   \n",
       "332920                        ...                                SHAWNEE   \n",
       "332921                        ...                                SHAWNEE   \n",
       "332922                        ...                                SHAWNEE   \n",
       "332923                        ...                                SHAWNEE   \n",
       "332924                        ...                                SHAWNEE   \n",
       "332925                        ...                                SHAWNEE   \n",
       "332926                        ...                                SHAWNEE   \n",
       "332927                        ...                                SHAWNEE   \n",
       "332928                        ...                                SHAWNEE   \n",
       "332929                        ...                                SHAWNEE   \n",
       "332930                        ...                                SHAWNEE   \n",
       "332931                        ...                                SHAWNEE   \n",
       "332932                        ...                                SHAWNEE   \n",
       "332933                        ...                                SHAWNEE   \n",
       "332934                        ...                                SHAWNEE   \n",
       "...                           ...                                    ...   \n",
       "335584                        ...                                SHAWNEE   \n",
       "335585                        ...                                SHAWNEE   \n",
       "335586                        ...                                SHAWNEE   \n",
       "335587                        ...                                SHAWNEE   \n",
       "335588                        ...                                SHAWNEE   \n",
       "335589                        ...                                SHAWNEE   \n",
       "335590                        ...                                SHAWNEE   \n",
       "335591                        ...                                SHAWNEE   \n",
       "335592                        ...                                SHAWNEE   \n",
       "335593                        ...                                SHAWNEE   \n",
       "335594                        ...                                SHAWNEE   \n",
       "335595                        ...                                SHAWNEE   \n",
       "335596                        ...                                SHAWNEE   \n",
       "335597                        ...                                SHAWNEE   \n",
       "335598                        ...                                SHAWNEE   \n",
       "335599                        ...                                SHAWNEE   \n",
       "335600                        ...                                SHAWNEE   \n",
       "335601                        ...                                SHAWNEE   \n",
       "335602                        ...                                SHAWNEE   \n",
       "335603                        ...                                SHAWNEE   \n",
       "335604                        ...                                SHAWNEE   \n",
       "335605                        ...                                SHAWNEE   \n",
       "335606                        ...                                SHAWNEE   \n",
       "335607                        ...                                 LENEXA   \n",
       "335608                        ...                                SHAWNEE   \n",
       "335609                        ...                                SHAWNEE   \n",
       "335610                        ...                                SHAWNEE   \n",
       "335611                        ...                                SHAWNEE   \n",
       "335612                        ...                                SHAWNEE   \n",
       "335613                        ...                                SHAWNEE   \n",
       "\n",
       "        state    zip            theftdescription inactivitydescription  \\\n",
       "171465     KS  66212                         NaN        Not Applicable   \n",
       "235261     KS  66212                         NaN        Not Applicable   \n",
       "332907     KS  66203                         NaN                   NaN   \n",
       "332908     KS  66214                         NaN                   NaN   \n",
       "332909     KS  66216                   All Other                   NaN   \n",
       "332910     KS  66203                         NaN                   NaN   \n",
       "332911     KS  66217  Theft from a Motor Vehicle                   NaN   \n",
       "332912     KS  66217                         NaN                   NaN   \n",
       "332913     KS  66203                         NaN                   NaN   \n",
       "332914     KS  66217                         NaN                   NaN   \n",
       "332915     KS  66226  Theft from a Motor Vehicle                   NaN   \n",
       "332916     KS  66203                         NaN                   NaN   \n",
       "332917     KS  66227                   All Other                   NaN   \n",
       "332918     KS  66216                         NaN                   NaN   \n",
       "332919     KS  66216                         NaN                   NaN   \n",
       "332920     KS  66227  Theft from a Motor Vehicle                   NaN   \n",
       "332921     KS  66216                         NaN                   NaN   \n",
       "332922     KS  66217                         NaN                   NaN   \n",
       "332923     KS  66203                         NaN                   NaN   \n",
       "332924     KS  66218                         NaN                   NaN   \n",
       "332925     KS  66216                   All Other                   NaN   \n",
       "332926     KS  66217                         NaN                   NaN   \n",
       "332927     KS  66217                         NaN                   NaN   \n",
       "332928     KS  66203                         NaN                   NaN   \n",
       "332929     KS  66216                         NaN                   NaN   \n",
       "332930     KS  66226                         NaN                   NaN   \n",
       "332931     KS  66203  Theft from a Motor Vehicle                   NaN   \n",
       "332932     KS  66217                   All Other                   NaN   \n",
       "332933     KS  66203  Theft from a Motor Vehicle                   NaN   \n",
       "332934     KS  66203                         NaN                   NaN   \n",
       "...       ...    ...                         ...                   ...   \n",
       "335584     KS  66216                         NaN                   NaN   \n",
       "335585     KS  66216                         NaN                   NaN   \n",
       "335586     KS  66227                         NaN                   NaN   \n",
       "335587     KS  66217                         NaN                   NaN   \n",
       "335588     KS  66218                         NaN                   NaN   \n",
       "335589     KS  66216       Theft from a Building                   NaN   \n",
       "335590     KS  66216  Theft from a Motor Vehicle                   NaN   \n",
       "335591     KS  66217                         NaN                   NaN   \n",
       "335592     KS  66203                 Shoplifting                   NaN   \n",
       "335593     KS  66218                         NaN                   NaN   \n",
       "335594     KS  66218                         NaN                   NaN   \n",
       "335595     KS  66203  Theft from a Motor Vehicle                   NaN   \n",
       "335596     KS  66216                         NaN                   NaN   \n",
       "335597     KS  66216                         NaN                   NaN   \n",
       "335598     KS  66226                         NaN                   NaN   \n",
       "335599     KS  66216  Theft from a Motor Vehicle                   NaN   \n",
       "335600     KS  66203                   All Other                   NaN   \n",
       "335601     KS  66226                   All Other                   NaN   \n",
       "335602     KS  66217                         NaN                   NaN   \n",
       "335603     KS  66226       Theft from a Building                   NaN   \n",
       "335604     KS  66218                         NaN                   NaN   \n",
       "335605     KS  66216                         NaN                   NaN   \n",
       "335606     KS  66218                         NaN                   NaN   \n",
       "335607     KS  66216                         NaN                   NaN   \n",
       "335608     KS  66218                         NaN                   NaN   \n",
       "335609     KS  66216                         NaN                   NaN   \n",
       "335610     KS  66216                         NaN                   NaN   \n",
       "335611     KS  66226                         NaN                   NaN   \n",
       "335612     KS  66216                         NaN                   NaN   \n",
       "335613     KS  66203                         NaN                   NaN   \n",
       "\n",
       "                            premisedescription  incidentid          apid  \\\n",
       "171465                                     NaN  2007004219  1.990000e+17   \n",
       "235261                                     NaN  2014000138  1.990000e+17   \n",
       "332907                        Single Residence   CN1502414  2.010000e+17   \n",
       "332908                       Apartment Complex   CN1503667  2.000000e+17   \n",
       "332909    Duplex / Individual Multiple Housing   CN1503247  2.010000e+17   \n",
       "332910                        Single Residence   CN1504845  2.000000e+17   \n",
       "332911                       Apartment Complex   OR1400118  2.000000e+17   \n",
       "332912                             City Street   OR1500149  2.000000e+17   \n",
       "332913   Park Trails / Open Recreational Areas   CN1502126  2.010000e+17   \n",
       "332914    Duplex / Individual Multiple Housing   CN1500670  2.010000e+17   \n",
       "332915                             City Street   CN1505004  2.000000e+17   \n",
       "332916                       Apartment Complex   CN1502236  2.010000e+17   \n",
       "332917            Commercial / Office Building   OR1300064  2.000000e+17   \n",
       "332918            Government / Public Building   OR1500162  2.000000e+17   \n",
       "332919                        Single Residence   CN1504547  2.000000e+17   \n",
       "332920                                   Other   CN1504426  2.000000e+17   \n",
       "332921                   Service / Gas Station   CN1504148  2.000000e+17   \n",
       "332922            Government / Public Building   CN1502556  2.010000e+17   \n",
       "332923                        Single Residence   CN1501924  2.000000e+17   \n",
       "332924                                   Other   OR1400088  2.000000e+17   \n",
       "332925                                   Alley   OR1500291  2.000000e+17   \n",
       "332926             Department / Discount Store   CN1504325  2.000000e+17   \n",
       "332927             Department / Discount Store   CN1504388  2.000000e+17   \n",
       "332928             Department / Discount Store   CN1501968  2.000000e+17   \n",
       "332929                        Single Residence   CN1500872  2.000000e+17   \n",
       "332930                                   Other   OR1500171  2.000000e+17   \n",
       "332931            Commercial / Office Building   CN1502229  2.000000e+17   \n",
       "332932            Commercial / Office Building   CN1501339  2.000000e+17   \n",
       "332933                        Single Residence   CN1501828  2.000000e+17   \n",
       "332934                        Single Residence   OR1500250  2.000000e+17   \n",
       "...                                        ...         ...           ...   \n",
       "335584                   Service / Gas Station   CN1501637  2.000000e+17   \n",
       "335585                   Grocery / Supermarket   CN1500648  2.000000e+17   \n",
       "335586                        Single Residence   CN1504854  2.000000e+17   \n",
       "335587                       Apartment Complex   CN1501748  2.010000e+17   \n",
       "335588                             City Street   CN1500203  2.010000e+17   \n",
       "335589            Commercial / Office Building   OR1400149  2.000000e+17   \n",
       "335590                        Single Residence   CN1502218  2.000000e+17   \n",
       "335591                       Apartment Complex   CN1505345  2.000000e+17   \n",
       "335592                   Grocery / Supermarket   CN1500604  2.000000e+17   \n",
       "335593    Duplex / Individual Multiple Housing   CN1505252  2.010000e+17   \n",
       "335594                        Single Residence   CN1500016  2.000000e+17   \n",
       "335595                        Single Residence   OR1500045  2.000000e+17   \n",
       "335596                       Apartment Complex   CN1504153  2.010000e+17   \n",
       "335597                             City Street   CN1500158  2.000000e+17   \n",
       "335598                        Single Residence   OR1400038  2.000000e+17   \n",
       "335599                        Single Residence   CN1503022  2.000000e+17   \n",
       "335600    Duplex / Individual Multiple Housing   OR1500196  2.000000e+17   \n",
       "335601                             City Street   OR1500235  2.010000e+17   \n",
       "335602                        Single Residence   CN1500308  2.000000e+17   \n",
       "335603                        Single Residence   OR1500056  2.000000e+17   \n",
       "335604                        Single Residence   OR1400137  2.010000e+17   \n",
       "335605    Duplex / Individual Multiple Housing   CN1503101  2.000000e+17   \n",
       "335606                        Single Residence   CN1501251  2.000000e+17   \n",
       "335607                        Single Residence   CN1500615  2.000000e+17   \n",
       "335608                        Single Residence   OR1400191  2.000000e+17   \n",
       "335609                        Single Residence   CN1501576  2.000000e+17   \n",
       "335610                        Single Residence   OR1400087  2.000000e+17   \n",
       "335611             Department / Discount Store   OR1500142  2.010000e+17   \n",
       "335612                        Single Residence   CN1501489  2.000000e+17   \n",
       "335613                              Restaurant   CN1501013  2.000000e+17   \n",
       "\n",
       "       crimetype                                               geom  \n",
       "171465    Part 2  01010000205B0D00005C8FC25516304141B81E85EB6730...  \n",
       "235261    Part 2  01010000205B0D000000000080543C41410000000058B8...  \n",
       "332907    Part 2  01010000205B0D00000000008017214141000000004836...  \n",
       "332908    Part 2  01010000205B0D0000000000007726414100000000D054...  \n",
       "332909    Part 1  01010000205B0D00000000008074094141000000003824...  \n",
       "332910    Part 2  01010000205B0D000000000080B8204141000000000892...  \n",
       "332911    Part 1  01010000205B0D0000000000804207414100000000E0AD...  \n",
       "332912    Part 2  01010000205B0D00000000008045F940410000000090FA...  \n",
       "332913    Part 2  01010000205B0D0000000000006B1F414100000000A417...  \n",
       "332914    Part 2  01010000205B0D0000000000003FFC4041000000005C57...  \n",
       "332915    Part 1  01010000205B0D000000000080DADA4041000000006C90...  \n",
       "332916    Part 2  01010000205B0D000000000080FF26414100000000B037...  \n",
       "332917    Part 1  01010000205B0D000000000080DFD140410000000070CA...  \n",
       "332918    Part 1  01010000205B0D000000000080091C4141000000006014...  \n",
       "332919    Part 2  01010000205B0D0000000000804C0F4141000000009C5A...  \n",
       "332920    Part 1  01010000205B0D00000000000097D9404100000000F0C1...  \n",
       "332921    Part 2  01010000205B0D000000000080281C4141000000000058...  \n",
       "332922    Part 2  01010000205B0D0000000000003FFC4041000000005C57...  \n",
       "332923    Part 2  01010000205B0D0000000000805520414100000000604E...  \n",
       "332924    Part 1  01010000205B0D000000000080A4E2404100000000A4A4...  \n",
       "332925    Part 1  01010000205B0D0000000000006E1A414100000000842F...  \n",
       "332926    Part 2  01010000205B0D000000000080C8014141000000003415...  \n",
       "332927    Part 1  01010000205B0D0000000000808104414100000000440E...  \n",
       "332928    Part 2  01010000205B0D0000000000806022414100000000D0BE...  \n",
       "332929    Part 1  01010000205B0D000000000080CF1C4141000000008861...  \n",
       "332930    Part 1  01010000205B0D00000000008073C34041000000001002...  \n",
       "332931    Part 1  01010000205B0D0000000000006424414100000000C431...  \n",
       "332932    Part 1  01010000205B0D000000000080D9FD40410000000050A5...  \n",
       "332933    Part 1  01010000205B0D000000000080711E414100000000A096...  \n",
       "332934    Part 2  01010000205B0D0000000000807E244141000000004428...  \n",
       "...          ...                                                ...  \n",
       "335584    Part 2  01010000205B0D00000000000025124141000000003427...  \n",
       "335585    Part 2  01010000205B0D000000000000F01B4141000000005435...  \n",
       "335586    Part 2  01010000205B0D000000000080C8CA404100000000C05C...  \n",
       "335587    Part 2  01010000205B0D0000000000007B0941410000000050EC...  \n",
       "335588    Part 2  01010000205B0D000000000000E4DD404100000000E00D...  \n",
       "335589    Part 1  01010000205B0D0000000000007A1A4141000000009856...  \n",
       "335590    Part 1  01010000205B0D000000000000390C414100000000B8D0...  \n",
       "335591    Part 2  01010000205B0D000000000080A403414100000000D419...  \n",
       "335592    Part 1  01010000205B0D0000000000802023414100000000D075...  \n",
       "335593    Part 1  01010000205B0D000000000080DDE24041000000004075...  \n",
       "335594    Part 2  01010000205B0D00000000008019E0404100000000EC83...  \n",
       "335595    Part 1  01010000205B0D000000000000DF2541410000000044C5...  \n",
       "335596    Part 2  01010000205B0D000000000000BD0F4141000000000423...  \n",
       "335597    Part 2  01010000205B0D000000000080521641410000000020A4...  \n",
       "335598    Part 2  01010000205B0D000000000080E6D840410000000068CE...  \n",
       "335599    Part 1  01010000205B0D000000000000811B4141000000002CBE...  \n",
       "335600    Part 1  01010000205B0D0000000000003E24414100000000FC10...  \n",
       "335601    Part 1  01010000205B0D00000000000065CC4041000000000482...  \n",
       "335602    Part 2  01010000205B0D000000000000AF014141000000003833...  \n",
       "335603    Part 1  01010000205B0D000000000080C1D34041000000003097...  \n",
       "335604    Part 2  01010000205B0D000000000080FEDD404100000000EC0A...  \n",
       "335605    Part 1  01010000205B0D000000000080F015414100000000AC36...  \n",
       "335606    Part 1  01010000205B0D000000000000D3E1404100000000905E...  \n",
       "335607    Part 1  01010000205B0D0000000000002018414100000000A02A...  \n",
       "335608    Part 2  01010000205B0D00000000000053DD4041000000006050...  \n",
       "335609    Part 2  01010000205B0D0000000000009A0C414100000000142D...  \n",
       "335610    Part 2  01010000205B0D0000000000009F1B414100000000A0AF...  \n",
       "335611    Part 2  01010000205B0D000000000000ACD64041000000008455...  \n",
       "335612    Part 2  01010000205B0D000000000080B018414100000000F47F...  \n",
       "335613    Part 1  01010000205B0D0000000000005A224141000000003072...  \n",
       "\n",
       "[2709 rows x 24 columns]"
      ]
     },
     "execution_count": 10,
     "metadata": {},
     "output_type": "execute_result"
    }
   ],
   "source": [
    "kansas_data[kansas_data.ucrcode.isnull() == True]"
   ]
  },
  {
   "cell_type": "code",
   "execution_count": 11,
   "metadata": {},
   "outputs": [
    {
     "data": {
      "text/plain": [
       "THEFT OF PROPERTY OR SERVICES; MISDEMEANOR                                          580\n",
       "THEFT OF PROPERTY OR SERVICES; FELONY                                               376\n",
       "CRIMINAL DAMAGE TO PROPERTY; MISDEMEANOR                                            194\n",
       "IDENTITY THEFT; RECEIVE BENEFITS <$100K                                             131\n",
       "POSSESS CERTAIN HALLUCINOGENIC DRUGS (MARIJUANA)                                    101\n",
       "BURGLARY; ENTER DWELLING TO COMMIT FELONY, THEFT OR SEXUAL BATTERY                   89\n",
       "BATTERY, DOMESTIC; BODILY HARM                                                       86\n",
       "IDENTITY THEFT; ECONOMIC/BODILY HARM <$100K                                          82\n",
       "BATTERY, SIMPLE                                                                      71\n",
       "BATTERY, DOMESTIC; RUDE CONTACT                                                      70\n",
       "THEFT OF PROPERTY OR SERVICES; VALUE $1,000 TO $25,000                               61\n",
       "AGGRAVATED BURGLARY                                                                  55\n",
       "CRIMINAL USE OF A FINANCIAL CARD; W/O CONSENT OF OWNER LESS THAN $1,000              51\n",
       "HARRASS BY TELCOM DEVICE; REPEAT PHONE CALLS OR FAX                                  41\n",
       "PARAPHERNALIA - USE/POSSESS W/INTENT TO USE DRUG PARAPHERNALIA INTO HUMAN BODY       33\n",
       "THEFT OF LOST OR MISLAID PROPERTY; MISDEMEANOR                                       33\n",
       "HARRASS BY TELECOM DEVICE; THREATENING PHONE CALL OR FAX                             33\n",
       "VIOLATION OF PROTECTION ORDER; PROTECTIVE ORDER                                      30\n",
       "CRIMINAL USE OF A FINANCIAL CARD; MISDEMEANOR                                        28\n",
       "CRIMINAL DAMAGE TO PROPERTY; WITHOUT CONSENT VALUE $1000 TO $25,000                  28\n",
       "FORGERY; MAKING OR ALTERING A WRITTEN INSTRUMENT                                     24\n",
       "THEFT BY DECEPTION; VALUE $1,000 TO $25,000                                          24\n",
       "CRIMINAL THREAT; CAUSE TERROR, EVACUTION OR DISRUPTION                               23\n",
       "AGGRAVATED ASSAULT                                                                   20\n",
       "CRIMINAL TRESPASS; UNKNOWN CIRCUMSTANCE                                              19\n",
       "POSSESS OPIATES/OPIUM/NARC DRUG AND CERTAIN STIMULANTS                               18\n",
       "THEFT BY DECEPTION; VALUE LESS THAN $1,000                                           18\n",
       "IDENTITY FRAUD; REPLICATE PERSONAL ID DOCUMENTS W INTENT TO DECEIVE                  17\n",
       "CRIMINAL USE OF A FINANCIAL CARD; W/O CONSENT > $1,000 AND < $25,000                 16\n",
       "AGGRAVATED ROBBERY                                                                   14\n",
       "                                                                                   ... \n",
       "IDENTITY THEFT - OFFENSE STARTED BEFORE JULY 2005                                     1\n",
       "INFO - ANIMAL CALL                                                                    1\n",
       "UNLAWFUL TAMPERING WITH ELECTRONIC MONITORING EQUIPMENT                               1\n",
       "BURGLARY; UNKNOWN CIRCUMSTANCE                                                        1\n",
       "SEXUAL EXPOITATION OF A CHILD; UNKNOWN CIRCUMSTANCE                                   1\n",
       "INTIMIDATION OF A WITNESS OR VICTIM; PREVENT TESTIMONY                                1\n",
       "UNLAWFUL VOLUNTARY SEXUAL RELATIONS; OFFENDER < 19 YOA                                1\n",
       "ARSON; NON-DWELLING WITH INTENT TO INJURE OR DEFRAUD                                  1\n",
       "MISTREATMENT OF A DEPENDANT ADULT; PHYSICAL INJURY OR CRUEL PUNISHMENT                1\n",
       "CRIMINAL POSS OF FIREARM, CARRYING CONCEALED                                          1\n",
       "CRIMINAL DEPREVATION OF PROPERTY; OTHER THAN MOTOR VEHICLE                            1\n",
       "CRUELTY TO ANIMALS; KNOWINGLY KILL OR INJURE ANIMAL                                   1\n",
       "PARAPHERNALIA - POSSESS W/INTENT TO MANF/PLANT/CULTIVATE CONTROLLED SUBST             1\n",
       "AGGRAVATED ASSAULT OF LEO                                                             1\n",
       "HIT & RUN - FAIL TO STOP AT INJURY ACCIDENT OR PROP DAMAGE > $1000                    1\n",
       "THEFT OF LOST OR MISLAID PROPERTY; VALUE $1,000 TO $25,000                            1\n",
       "ELECTRONIC SOLICITATION; OFFENDER BELIEVES CHILD >14<16                               1\n",
       "THEFT (POSS. OF STOLEN PROP); FIREARM < $25,000                                       1\n",
       "AGGRAVATED INDECENT SOLIC OF A CHILD; PERSUADE <14 TO A SECLUDED PLACE                1\n",
       "BLACKMAIL                                                                             1\n",
       "PROSTITUTION; UNKNOWN CIRCUMSTANCE                                                    1\n",
       "PROMOTE OBSCENITY TO MINORS                                                           1\n",
       "INFORMATION - TRUCK INSPECTION                                                        1\n",
       "UNLAWFUL USE OF WEAPON OTHER THAN FIREARM; (CITY ORDINANCE)                           1\n",
       "CDP (MISD) CRIMINAL DAMAGE TO PROPERTY <$1,000                                        1\n",
       "MURDER IN THE 2ND DEGREE; UNKNOWN CIRCUMSTANCE                                        1\n",
       "INTIMIDATION OF A WITNESS OR VICTIM; PREVENT REPORTING                                1\n",
       "CRIMINAL POSS OF FIREARM BY FELON; NON-PERSON FEL CONV, FIREARM NOT USED IN CRIM      1\n",
       "COMPUTER UNLAWFUL ACTS; FALSE REPRESENT < $100K                                       1\n",
       "MISTREAT DEPENDANT ADULT; LOSS > $1,000 BUT < $25,000                                 1\n",
       "Name: offense, Length: 147, dtype: int64"
      ]
     },
     "execution_count": 11,
     "metadata": {},
     "output_type": "execute_result"
    }
   ],
   "source": [
    "kansas_data[kansas_data.ucrcode.isnull() == True].offense.value_counts()"
   ]
  },
  {
   "cell_type": "code",
   "execution_count": 12,
   "metadata": {},
   "outputs": [
    {
     "data": {
      "text/plain": [
       "2709"
      ]
     },
     "execution_count": 12,
     "metadata": {},
     "output_type": "execute_result"
    }
   ],
   "source": [
    "sum(kansas_data[kansas_data.ucrcode.isnull() == True].offense.value_counts())"
   ]
  },
  {
   "cell_type": "markdown",
   "metadata": {},
   "source": [
    "### We construct the offense list containing all the offense names corresponding to the cases where ucrcode is missing."
   ]
  },
  {
   "cell_type": "code",
   "execution_count": 13,
   "metadata": {
    "collapsed": true
   },
   "outputs": [],
   "source": [
    "missing_offense_list = [item for item in set(kansas_data[kansas_data.ucrcode.isnull() == True].offense)]"
   ]
  },
  {
   "cell_type": "code",
   "execution_count": 14,
   "metadata": {},
   "outputs": [
    {
     "data": {
      "text/plain": [
       "['MISTREAT DEPENDANT ADULT; LOSS > $1,000 BUT < $25,000',\n",
       " 'UNLAWFUL ABUSE OF TOXIC VAPORS',\n",
       " 'DISTRIBUTE OPIATE/NARC/CERTAIN STIM/HEROIN; DOSE  < 10',\n",
       " 'FORGERY; MAKING OR ALTERING A WRITTEN INSTRUMENT',\n",
       " 'ELECTRONIC SOLICITATION; OFFENDER BELIEVES CHILD <14',\n",
       " 'LITTERING - CITY ORDINANCE VIOLATION',\n",
       " 'MIP',\n",
       " 'AGGRAVATED ARSON; SUBSTANTIAL RISK TO GREAT BODILY HARM',\n",
       " 'CRIMINAL DISCHARGE OF A FIREARM; OCCUPIED DWELLING NO BODILY HARM',\n",
       " 'CRIMINAL DAMAGE TO PROPERTY <$1,000',\n",
       " 'RAPE; SEXUAL INTERCOURSE WITHOUT CONSENT AND USE OF FORCE',\n",
       " 'VIOLATION OF PROTECTION ORDER; ABUSE ORDER',\n",
       " 'AGGRAVATED ROBBERY',\n",
       " 'DISTRIBUTE MARIJUANA;  < 25 G',\n",
       " 'VIOLATION OF PROTECTION ORDER; STALKING ORDER',\n",
       " 'THEFT OF PROPERTY OR SERVICES; FELONY',\n",
       " 'CRIMINAL USE OF A FINANCIAL CARD; FELONY',\n",
       " 'HARRASS BY TELCOM DEVICE; REPEAT PHONE CALLS OR FAX',\n",
       " 'INTERFERENCE WITH A LAW ENFORCEMENT OFFICER; FALSELY REPORTING A CRIME',\n",
       " 'WINDOW PEEPING PROHIBITED',\n",
       " 'CRIMINAL POSS OF FIREARM BY FELON; FELONY CONV < 5YRS, FIREARM NOT USED IN CRIME',\n",
       " 'SEXUAL EXPLOITATION OF A CHILD; PROMOTE PERFORMANCE OF A CHILD <18',\n",
       " 'CRIMINAL USE OF A FINANCIAL CARD; MISDEMEANOR',\n",
       " 'RAPE; KNOWING MISREPRESENTATION OF INTERCOURSE AS LEGAL REQUIREMENT',\n",
       " 'DOMESTIC BATTERY; INTENTIONAL RUDE PHYSICAL CONTACT W/ FAMILY MEMBER',\n",
       " 'VIOLATION OF PROTECTION ORDER; PROTECTIVE ORDER',\n",
       " 'AGGRAVATED INDECENT SOLIC OF A CHILD; SEX ACT WITH A CHILD <14',\n",
       " 'ASSAULT',\n",
       " 'PROMOTE OBSCENITY; DISTRIBUITE OBSCENE MATERIAL OR DEVICE',\n",
       " 'POSSESSION OF CERTAIN DEPRESSANTS',\n",
       " 'CRIMINAL RESTRAINT',\n",
       " 'DISORDERLY CONDUCT; UNKNOWN CIRCUMSTANCE',\n",
       " 'CRIMINAL DEPRIVATION OF PROPERTY; CIRCUMSTANCE UNKNOWN',\n",
       " 'BURGLARY; ENTER NON-DWELLING TO COMMIT FELONY, THEFT OR SEXUAL BATTERY',\n",
       " 'THEFT BY DECEPTION; VALUE LESS THAN $1,000',\n",
       " 'CRIMINAL POSS OF FIREARM BY FELON; NON-PERSON FEL CONV, FIREARM NOT USED IN CRIM',\n",
       " 'INTIMIDATION OF A WITNESS OR VICTIM; PREVENT REPORTING',\n",
       " 'OBSTRUCTION OR IMPEDING OF LAWFUL ACTIVITIES',\n",
       " 'CDP (MISD) CRIMINAL DAMAGE TO PROPERTY <$1,000',\n",
       " 'IDENTITY THEFT; RECEIVE BENEFITS >$100K',\n",
       " 'UNLAWFUL USE OF WEAPON OTHER THAN FIREARM; (CITY ORDINANCE)',\n",
       " 'ENDANGERING A CHILD',\n",
       " 'INFORMATION - TRUCK INSPECTION',\n",
       " 'CRIMINAL USE OF A FINANCIAL CARD; W/O CONSENT OF OWNER LESS THAN $1,000',\n",
       " 'PROSTITUTION; UNKNOWN CIRCUMSTANCE',\n",
       " 'BLACKMAIL',\n",
       " 'CRUELTY TO ANIMALS; KNOWINGLY KILL OR INJURE ANIMAL',\n",
       " 'BURGLARY; VEHICLE/OTHER MEANS OF CONVEYANCE TO COMMIT FEL, THEFT OR SEX BATTERY',\n",
       " 'DELETE - ENTERED IN ERROR',\n",
       " 'ARSON; INTENTIONAL TO NON-DWELLING OF ANOTHER WITHOUT CONSENT',\n",
       " 'BREACH OF PRIVACY; INSTALL/USE CONCEALED CAMCORDER WITHOUT CONSENT',\n",
       " 'HIT & RUN - FAIL TO STOP AT INJURY ACCIDENT OR PROP DAMAGE > $1000',\n",
       " 'COMPUTER UNLAWFUL ACTS; ACCESS W/O AUTHORIZATION',\n",
       " 'BATTERY, SIMPLE',\n",
       " 'IDENTITY THEFT; ECONOMIC/BODILY HARM >$100K',\n",
       " 'IDENTITY THEFT',\n",
       " 'UNLAWFUL VOLUNTARY SEXUAL RELATIONS; CHILD AND OFFENDER OPPOSITE SEX',\n",
       " 'AGGRAVATED INDECENT LIBERTIES WITH A CHILD; UNKNOWN CIRCUMSTANCE',\n",
       " 'PARAPHERNALIA - POSSESS W/INTENT TO MANF/PLANT/CULTIVATE CONTROLLED SUBST',\n",
       " 'CRIMINAL DAMAGE TO PROPERTY; WITHOUT CONSENT VALUE $1000 TO $25,000',\n",
       " 'BATTERY, DOMESTIC; BODILY HARM',\n",
       " 'AGGRAVATED BATTERY; RECKLESS GREAT BODILY HARM OR DISFIRGUREMENT',\n",
       " 'CRIMINAL POSS OF FIREARM, CARRYING CONCEALED',\n",
       " 'MISTREATMENT OF A DEPENDANT ADULT; PHYSICAL INJURY OR CRUEL PUNISHMENT',\n",
       " 'LEWD AND LACIVIOUS; EXPOSING SEX ORGANS TO ANOTHER <16',\n",
       " 'ARSON; NON-DWELLING WITH INTENT TO INJURE OR DEFRAUD',\n",
       " 'UNLAWFUL INTERFERENCE WITH A LAW ENFORCEMENT OFFICER',\n",
       " 'UNLAWFUL VOLUNTARY SEXUAL RELATIONS; OFFENDER < 19 YOA',\n",
       " 'CRIMINAL TRESPASS; UNKNOWN CIRCUMSTANCE',\n",
       " 'RAPE; OFFENDER IS 18 OR OLDER AND VICTIM IS < 14 YOA',\n",
       " 'THEFT OF PROPERTY OR SERVICES; MISDEMEANOR',\n",
       " 'AGGRAVATED BATTERY; INTENTIONAL BODILY HARM WITH A DEADLY WEAPON',\n",
       " 'KANSAS CODE; CARE OF CHILDREN - DEFINITIONS',\n",
       " 'THEFT OR PROP/SERVICES; FIREARM < $25000',\n",
       " 'MURDER IN THE 2ND DEGREE; UNKNOWN CIRCUMSTANCE',\n",
       " 'TRANSPORTING AN OPEN CONTAINER',\n",
       " 'CRIMINAL POSS OF FIREARM BY FELON; FELONY/DRUG CONV, FIREARM USED IN CRIME',\n",
       " 'INFO - ANIMAL CALL',\n",
       " 'UNLAWFUL TAMPERING WITH ELECTRONIC MONITORING EQUIPMENT',\n",
       " 'SEXUAL BATTERY',\n",
       " 'CRIMINAL USE OF A FINANCIAL CARD; W/O CONSENT > $1,000 AND < $25,000',\n",
       " 'SEXUAL EXPOITATION OF A CHILD; UNKNOWN CIRCUMSTANCE',\n",
       " 'AGGRAVATED ASSAULT',\n",
       " 'ROBBERY',\n",
       " 'POSSESS OPIATES/OPIUM/NARC DRUG AND CERTAIN STIMULANTS',\n",
       " 'INTIMIDATION OF A WITNESS OR VICTIM; PREVENT TESTIMONY',\n",
       " 'THEFT OF LOST OR MISLAID PROPERTY; MISDEMEANOR',\n",
       " 'LEWD AND LACIVIOUS; EXPOSING SEX ORGANS TO ANOTHER =>16',\n",
       " 'DISORDERLY CONDUCT; FIGHTING WORDS OR NOISY CONDUCT TO CAUSE RESENTMENT',\n",
       " 'STALKING; MISD UNKNOWN CIRCUMSTANCE',\n",
       " 'AGGRAVATED BATTERY; RECKLESS BODILY HARM WITH A DEADLY WEAPON',\n",
       " 'PARAPHERNALIA - USE/POSSESS W/INTENT TO USE DRUG PARAPHERNALIA INTO HUMAN BODY',\n",
       " 'BURGLARY; UNKNOWN CIRCUMSTANCE',\n",
       " 'AGGRAVATED ASSAULT OF LEO',\n",
       " 'THEFT (POSS OF STOLEN PROPERTY); VALUE LESS THAN $1,000',\n",
       " 'IDENTITY THEFT - OFFENSE STARTED BEFORE JULY 2005',\n",
       " 'BATTERY, DOMESTIC; RUDE CONTACT',\n",
       " 'METH - POSSESS OPIATES/OPIUM/NARC DRUG AND CERTAIN STIMULANTS',\n",
       " 'VIOLATION OF PROTECTION ORDER; RESTRAINING ORDER',\n",
       " 'THEFT OF PROPERTY OR SERVICES; VALUE $25,000 TO $100,000',\n",
       " 'THEFT (POSS. OF STOLEN PROP); FIREARM < $25,000',\n",
       " 'IDENTITY FRAUD; USE TO OBTAIN DOCUMENT',\n",
       " 'AGGRAVATED INDECENT SOLIC OF A CHILD; PERSUADE <14 TO A SECLUDED PLACE',\n",
       " 'PROMOTE OBSCENITY TO MINORS',\n",
       " 'THEFT OF MOTOR FUEL; MISDEMEANOR',\n",
       " 'COMPUTER UNLAWFUL ACTS; FALSE REPRESENT < $100K',\n",
       " 'THEFT OF PROPERTY OR SERVICES; VALUE $1,000 TO $25,000',\n",
       " 'CRIMINAL DAMAGE TO PROPERTY; MISDEMEANOR',\n",
       " 'CRIMINAL DEPRIVATION OF PROPERTY; MOTOR VEHICLE',\n",
       " 'DUI - ALCOHOL OR DRUGS; UNK SEVERITY',\n",
       " 'CRIMINAL DEPREVATION OF PROPERTY; OTHER THAN MOTOR VEHICLE',\n",
       " 'THEFT OF LOST OR MISLAID PROPERTY; VALUE $1,000 TO $25,000',\n",
       " 'CRIMINAL DAMAGE TO PROPERTY; VALUE UNKNOWN',\n",
       " 'KIDNAPPING; IN FLIGHT OR THE COMMISSION OF ANY CRIME',\n",
       " 'MAKING FALSE INFORMATION',\n",
       " 'AGGRAVATED BURGLARY',\n",
       " 'AGGRAVATED BATTERY OF LEO: INTENTIONAL HARM W/ MOTOR VEHICLE',\n",
       " 'FLEE OR ATTEMPT TO ELUDE LEO BY ENGAGING IN RECKLESS DRIVING',\n",
       " 'CRUELTY TO ANIMALS; POISON DOMESTIC ANIMAL',\n",
       " 'CRIMINAL DAMAGE TO PROPERTY; TO INJURE OR DEFRAUD VALUE $1000 TO $25,000',\n",
       " 'DISTRIBUTE MARIJUANA; 25 - 450 G',\n",
       " 'HARRASS BY TELECOM DEVICE; THREATENING PHONE CALL OR FAX',\n",
       " 'ELECTRONIC SOLICITATION; OFFENDER BELIEVES CHILD >14<16',\n",
       " 'IDENTITY THEFT; ECONOMIC/BODILY HARM <$100K',\n",
       " 'CRIMINAL THREAT; CAUSE TERROR, EVACUTION OR DISRUPTION',\n",
       " 'CRIMINAL THREAT; UNKNOWN CIRCUMSTANCE',\n",
       " 'AGGRAVATED CRIMINAL SODOMY; OFFENDER 18 OR > AND CHILD <14',\n",
       " 'CRIMINAL USE OF EXPLOSIVES; POSS COMMERICAL EXPLOSIVES TO COMMIT CRIME',\n",
       " 'AGGRAVATED BATTERY; INTENTIONAL GREAT BODILY HARM OR DISFIGUREMENT',\n",
       " 'POSSESS CERTAIN STIMULANT INCLUDING \"BATH SALTS\"',\n",
       " 'IDENTITY THEFT; RECEIVE BENEFITS <$100K',\n",
       " 'CRIMINAL USE OF A FINANCIAL CARD; VALUE UNKNOWN',\n",
       " 'BATTERY, LEO; RECKLESS W/ BODILY HARM',\n",
       " 'THEFT BY DECEPTION; VALUE $1,000 TO $25,000',\n",
       " 'POSSESS SYNTHETIC CANNABINOIDS (K2)',\n",
       " 'BATTERY, LEO; RUDE CONTACT',\n",
       " 'CRIMINAL DAMAGE TO PROPERTY; TO INJURE OR DEFRAUD VALUE < $1,000',\n",
       " 'RAPE; CIRCUMSTANCES UNKNOWN',\n",
       " 'INDECENT LIBERTIES WITH A CHILD; UNKNOWN CIRCUMSTANCE',\n",
       " 'BURGLARY; ENTER DWELLING TO COMMIT FELONY, THEFT OR SEXUAL BATTERY',\n",
       " 'UNLAWFUL OBTAIN PRESCRIP DRUG; GIVE FALSE INFO TO OBTAIN',\n",
       " 'AGGRAVATED BATTERY; INTENTIONAL PHYSICAL CONTACT WITH A DEADLY WEAPON',\n",
       " 'ASSAULT OF A LAW ENFORCEMENT OFFICER',\n",
       " 'IDENTITY FRAUD; REPLICATE PERSONAL ID DOCUMENTS W INTENT TO DECEIVE',\n",
       " 'POSSESS CERTAIN HALLUCINOGENIC DRUGS (MARIJUANA)',\n",
       " 'THEFT; MISDEMEANOR',\n",
       " 'FLEEING OR ATTEMPTING TO ELUDE A LEO; UNKNOWN SEVERITY']"
      ]
     },
     "execution_count": 14,
     "metadata": {},
     "output_type": "execute_result"
    }
   ],
   "source": [
    "missing_offense_list"
   ]
  },
  {
   "cell_type": "markdown",
   "metadata": {},
   "source": [
    "## Take a look at the 7th offense in the missing_offense_list"
   ]
  },
  {
   "cell_type": "code",
   "execution_count": 15,
   "metadata": {},
   "outputs": [
    {
     "data": {
      "text/plain": [
       "2473      200\n",
       "46460     200\n",
       "172692    200\n",
       "173934    200\n",
       "214924    200\n",
       "272685    200\n",
       "334210    NaN\n",
       "Name: ucrcode, dtype: object"
      ]
     },
     "execution_count": 15,
     "metadata": {},
     "output_type": "execute_result"
    }
   ],
   "source": [
    "kansas_data[kansas_data['offense'] == missing_offense_list[7]]['ucrcode']"
   ]
  },
  {
   "cell_type": "code",
   "execution_count": 16,
   "metadata": {},
   "outputs": [
    {
     "data": {
      "text/plain": [
       "200    6\n",
       "Name: ucrcode, dtype: int64"
      ]
     },
     "execution_count": 16,
     "metadata": {},
     "output_type": "execute_result"
    }
   ],
   "source": [
    "kansas_data[kansas_data['offense'] == missing_offense_list[7]]['ucrcode'].value_counts()"
   ]
  },
  {
   "cell_type": "code",
   "execution_count": 17,
   "metadata": {},
   "outputs": [
    {
     "data": {
      "text/plain": [
       "'200'"
      ]
     },
     "execution_count": 17,
     "metadata": {},
     "output_type": "execute_result"
    }
   ],
   "source": [
    "kansas_data[kansas_data['offense'] == missing_offense_list[7]]['ucrcode'].value_counts()[:1].index[0]"
   ]
  },
  {
   "cell_type": "code",
   "execution_count": 18,
   "metadata": {},
   "outputs": [
    {
     "data": {
      "text/plain": [
       "2473      False\n",
       "46460     False\n",
       "172692    False\n",
       "173934    False\n",
       "214924    False\n",
       "272685    False\n",
       "334210     True\n",
       "Name: ucrcode, dtype: bool"
      ]
     },
     "execution_count": 18,
     "metadata": {},
     "output_type": "execute_result"
    }
   ],
   "source": [
    "kansas_data[kansas_data['offense'] == missing_offense_list[7]]['ucrcode'].isnull()"
   ]
  },
  {
   "cell_type": "code",
   "execution_count": 19,
   "metadata": {},
   "outputs": [
    {
     "data": {
      "text/plain": [
       "6"
      ]
     },
     "execution_count": 19,
     "metadata": {},
     "output_type": "execute_result"
    }
   ],
   "source": [
    "len(kansas_data[kansas_data['offense'] == missing_offense_list[7]]['ucrcode'][kansas_data[kansas_data['offense'] == missing_offense_list[7]]['ucrcode'].isnull() == False])"
   ]
  },
  {
   "cell_type": "code",
   "execution_count": 20,
   "metadata": {
    "collapsed": true
   },
   "outputs": [],
   "source": [
    "#kansas_data[kansas_data.ucrcode.isnull() == True][kansas_data['offense'] == missing_offense_list[7]]['ucrcode']= kansas_data[kansas_data['offense'] == missing_offense_list[7]]['ucrcode'].value_counts()[:1].index[0]     "
   ]
  },
  {
   "cell_type": "code",
   "execution_count": 21,
   "metadata": {
    "collapsed": true
   },
   "outputs": [],
   "source": [
    "#kansas_data[kansas_data.ucrcode.isnull() == True][kansas_data['offense'] == missing_offense_list[7]]"
   ]
  },
  {
   "cell_type": "code",
   "execution_count": 22,
   "metadata": {},
   "outputs": [
    {
     "name": "stderr",
     "output_type": "stream",
     "text": [
      "/Users/apple/anaconda/lib/python2.7/site-packages/ipykernel_launcher.py:1: UserWarning: Boolean Series key will be reindexed to match DataFrame index.\n",
      "  \"\"\"Entry point for launching an IPython kernel.\n"
     ]
    }
   ],
   "source": [
    "index_7 = kansas_data[kansas_data.ucrcode.isnull() == True][kansas_data['offense'] == missing_offense_list[7]].index"
   ]
  },
  {
   "cell_type": "code",
   "execution_count": 23,
   "metadata": {},
   "outputs": [
    {
     "data": {
      "text/plain": [
       "Int64Index([334210], dtype='int64')"
      ]
     },
     "execution_count": 23,
     "metadata": {},
     "output_type": "execute_result"
    }
   ],
   "source": [
    "index_7"
   ]
  },
  {
   "cell_type": "code",
   "execution_count": 24,
   "metadata": {},
   "outputs": [
    {
     "data": {
      "text/plain": [
       "'200'"
      ]
     },
     "execution_count": 24,
     "metadata": {},
     "output_type": "execute_result"
    }
   ],
   "source": [
    "majority_category_7 =kansas_data[kansas_data['offense'] == missing_offense_list[7]]['ucrcode'].value_counts()[:1].index[0]  \n",
    "majority_category_7"
   ]
  },
  {
   "cell_type": "code",
   "execution_count": 25,
   "metadata": {
    "collapsed": true
   },
   "outputs": [],
   "source": [
    "#kansas_data.iloc[index_7]['ucrcode'] = kansas_data[kansas_data['offense'] == missing_offense_list[7]]['ucrcode'].value_counts()[:1].index[0]     "
   ]
  },
  {
   "cell_type": "code",
   "execution_count": 26,
   "metadata": {
    "collapsed": true
   },
   "outputs": [],
   "source": [
    "#kansas_data.loc[index_7]['ucrcode']  = majority_category_7"
   ]
  },
  {
   "cell_type": "code",
   "execution_count": 27,
   "metadata": {
    "collapsed": true
   },
   "outputs": [],
   "source": [
    "#kansas_data.replace(kansas_data.loc[index_7]['ucrcode'], majority_category_7, inplace = True)"
   ]
  },
  {
   "cell_type": "code",
   "execution_count": 28,
   "metadata": {},
   "outputs": [
    {
     "data": {
      "text/plain": [
       "334210    NaN\n",
       "Name: ucrcode, dtype: object"
      ]
     },
     "execution_count": 28,
     "metadata": {},
     "output_type": "execute_result"
    }
   ],
   "source": [
    "kansas_data.loc[index_7]['ucrcode']"
   ]
  },
  {
   "cell_type": "code",
   "execution_count": 29,
   "metadata": {
    "collapsed": true
   },
   "outputs": [],
   "source": [
    "#kansas_data.iloc[index_7] = kansas_data[kansas_data['offense'] == missing_offense_list[7]]['ucrcode'].value_counts()[:1].index[0]     "
   ]
  },
  {
   "cell_type": "code",
   "execution_count": 30,
   "metadata": {
    "collapsed": true
   },
   "outputs": [],
   "source": [
    "#kansas_data.loc[index_7]['ucrcode']"
   ]
  },
  {
   "cell_type": "code",
   "execution_count": 31,
   "metadata": {},
   "outputs": [
    {
     "data": {
      "text/plain": [
       "'200'"
      ]
     },
     "execution_count": 31,
     "metadata": {},
     "output_type": "execute_result"
    }
   ],
   "source": [
    "kansas_data[kansas_data['offense'] == missing_offense_list[7]]['ucrcode'].value_counts()[:1].index[0]     "
   ]
  },
  {
   "cell_type": "code",
   "execution_count": 32,
   "metadata": {
    "collapsed": true
   },
   "outputs": [],
   "source": [
    "kansas_data.loc[index_7,'ucrcode'] = majority_category_7"
   ]
  },
  {
   "cell_type": "code",
   "execution_count": 33,
   "metadata": {},
   "outputs": [
    {
     "data": {
      "text/html": [
       "<div>\n",
       "<style>\n",
       "    .dataframe thead tr:only-child th {\n",
       "        text-align: right;\n",
       "    }\n",
       "\n",
       "    .dataframe thead th {\n",
       "        text-align: left;\n",
       "    }\n",
       "\n",
       "    .dataframe tbody tr th {\n",
       "        vertical-align: top;\n",
       "    }\n",
       "</style>\n",
       "<table border=\"1\" class=\"dataframe\">\n",
       "  <thead>\n",
       "    <tr style=\"text-align: right;\">\n",
       "      <th></th>\n",
       "      <th>id</th>\n",
       "      <th>agency</th>\n",
       "      <th>daterept</th>\n",
       "      <th>hourrept</th>\n",
       "      <th>ucrcode</th>\n",
       "      <th>offense</th>\n",
       "      <th>neighborhood</th>\n",
       "      <th>subdivision</th>\n",
       "      <th>spx</th>\n",
       "      <th>spy</th>\n",
       "      <th>...</th>\n",
       "      <th>city</th>\n",
       "      <th>state</th>\n",
       "      <th>zip</th>\n",
       "      <th>theftdescription</th>\n",
       "      <th>inactivitydescription</th>\n",
       "      <th>premisedescription</th>\n",
       "      <th>incidentid</th>\n",
       "      <th>apid</th>\n",
       "      <th>crimetype</th>\n",
       "      <th>geom</th>\n",
       "    </tr>\n",
       "  </thead>\n",
       "  <tbody>\n",
       "    <tr>\n",
       "      <th>334210</th>\n",
       "      <td>3001302</td>\n",
       "      <td>SPD</td>\n",
       "      <td>10/12/15 0:00</td>\n",
       "      <td>1316.0</td>\n",
       "      <td>200</td>\n",
       "      <td>AGGRAVATED ARSON; SUBSTANTIAL RISK TO GREAT BO...</td>\n",
       "      <td>NaN</td>\n",
       "      <td>NaN</td>\n",
       "      <td>2247631.0</td>\n",
       "      <td>256179.0</td>\n",
       "      <td>...</td>\n",
       "      <td>SHAWNEE</td>\n",
       "      <td>KS</td>\n",
       "      <td>66214</td>\n",
       "      <td>NaN</td>\n",
       "      <td>NaN</td>\n",
       "      <td>Apartment Complex</td>\n",
       "      <td>CN1504060</td>\n",
       "      <td>2.000000e+17</td>\n",
       "      <td>Part 1</td>\n",
       "      <td>01010000205B0D000000000080E7254141000000009845...</td>\n",
       "    </tr>\n",
       "  </tbody>\n",
       "</table>\n",
       "<p>1 rows × 24 columns</p>\n",
       "</div>"
      ],
      "text/plain": [
       "             id agency       daterept  hourrept ucrcode  \\\n",
       "334210  3001302    SPD  10/12/15 0:00    1316.0     200   \n",
       "\n",
       "                                                  offense neighborhood  \\\n",
       "334210  AGGRAVATED ARSON; SUBSTANTIAL RISK TO GREAT BO...          NaN   \n",
       "\n",
       "        subdivision        spx       spy  \\\n",
       "334210          NaN  2247631.0  256179.0   \n",
       "\n",
       "                              ...                             city  state  \\\n",
       "334210                        ...                          SHAWNEE     KS   \n",
       "\n",
       "          zip theftdescription inactivitydescription  premisedescription  \\\n",
       "334210  66214              NaN                   NaN   Apartment Complex   \n",
       "\n",
       "       incidentid          apid crimetype  \\\n",
       "334210  CN1504060  2.000000e+17    Part 1   \n",
       "\n",
       "                                                     geom  \n",
       "334210  01010000205B0D000000000080E7254141000000009845...  \n",
       "\n",
       "[1 rows x 24 columns]"
      ]
     },
     "execution_count": 33,
     "metadata": {},
     "output_type": "execute_result"
    }
   ],
   "source": [
    "kansas_data.iloc[index_7]"
   ]
  },
  {
   "cell_type": "code",
   "execution_count": 34,
   "metadata": {},
   "outputs": [
    {
     "data": {
      "text/plain": [
       "334210    200\n",
       "Name: ucrcode, dtype: object"
      ]
     },
     "execution_count": 34,
     "metadata": {},
     "output_type": "execute_result"
    }
   ],
   "source": [
    "kansas_data.iloc[index_7]['ucrcode']"
   ]
  },
  {
   "cell_type": "markdown",
   "metadata": {},
   "source": [
    "### This is the first key function to fill nans of ucrcode!"
   ]
  },
  {
   "cell_type": "code",
   "execution_count": 35,
   "metadata": {},
   "outputs": [
    {
     "name": "stderr",
     "output_type": "stream",
     "text": [
      "/Users/apple/anaconda/lib/python2.7/site-packages/ipykernel_launcher.py:4: UserWarning: Boolean Series key will be reindexed to match DataFrame index.\n",
      "  after removing the cwd from sys.path.\n"
     ]
    }
   ],
   "source": [
    "missing_offense_list_2 = []\n",
    "for i in range(len(missing_offense_list)):\n",
    "    if len(kansas_data[kansas_data['offense'] == missing_offense_list[i]]['ucrcode'][kansas_data[kansas_data['offense'] == missing_offense_list[i]]['ucrcode'].isnull() == False]) >= 1:\n",
    "        index_i = kansas_data[kansas_data.ucrcode.isnull() == True][kansas_data['offense'] == missing_offense_list[i]].index\n",
    "        kansas_data.loc[index_i,'ucrcode'] = kansas_data[kansas_data['offense'] == missing_offense_list[i]]['ucrcode'].value_counts()[:1].index[0]     \n",
    "    else:\n",
    "        missing_offense_list_2.append(missing_offense_list[i])   "
   ]
  },
  {
   "cell_type": "code",
   "execution_count": 36,
   "metadata": {},
   "outputs": [
    {
     "data": {
      "text/plain": [
       "1027"
      ]
     },
     "execution_count": 36,
     "metadata": {},
     "output_type": "execute_result"
    }
   ],
   "source": [
    "sum(kansas_data[kansas_data.ucrcode.isnull() == True].offense.value_counts())"
   ]
  },
  {
   "cell_type": "markdown",
   "metadata": {},
   "source": [
    "### In this case, we can assign an ucrcode to this type of offense without changing the name of the offense."
   ]
  },
  {
   "cell_type": "markdown",
   "metadata": {},
   "source": [
    "## Now let's take a look at the 0th offense in the missing_offense_list"
   ]
  },
  {
   "cell_type": "code",
   "execution_count": 37,
   "metadata": {},
   "outputs": [
    {
     "data": {
      "text/plain": [
       "333847    NaN\n",
       "Name: ucrcode, dtype: object"
      ]
     },
     "execution_count": 37,
     "metadata": {},
     "output_type": "execute_result"
    }
   ],
   "source": [
    "kansas_data[kansas_data['offense'] == missing_offense_list[0]]['ucrcode']"
   ]
  },
  {
   "cell_type": "code",
   "execution_count": 38,
   "metadata": {},
   "outputs": [
    {
     "data": {
      "text/plain": [
       "333847    True\n",
       "Name: ucrcode, dtype: bool"
      ]
     },
     "execution_count": 38,
     "metadata": {},
     "output_type": "execute_result"
    }
   ],
   "source": [
    "kansas_data[kansas_data['offense'] == missing_offense_list[0]]['ucrcode'].isnull()"
   ]
  },
  {
   "cell_type": "code",
   "execution_count": 39,
   "metadata": {},
   "outputs": [
    {
     "data": {
      "text/plain": [
       "'MISTREAT DEPENDANT ADULT'"
      ]
     },
     "execution_count": 39,
     "metadata": {},
     "output_type": "execute_result"
    }
   ],
   "source": [
    "missing_offense_list[0].split(';')[0]"
   ]
  },
  {
   "cell_type": "code",
   "execution_count": 40,
   "metadata": {
    "collapsed": true
   },
   "outputs": [],
   "source": [
    "index_0 = kansas_data.offense[kansas_data['offense'].str.contains(missing_offense_list[0].split(';')[0]) == True].index"
   ]
  },
  {
   "cell_type": "code",
   "execution_count": 41,
   "metadata": {},
   "outputs": [
    {
     "data": {
      "text/plain": [
       "3152      26A\n",
       "8196      13B\n",
       "17055     26A\n",
       "50978     26A\n",
       "50979     26A\n",
       "67977     26A\n",
       "69926     13B\n",
       "81745     26A\n",
       "81746     26A\n",
       "84068     26A\n",
       "86498     26A\n",
       "86518     26A\n",
       "86602     13B\n",
       "86717     26A\n",
       "87318     26A\n",
       "87695     26A\n",
       "91654     26A\n",
       "100965    26A\n",
       "101039    26A\n",
       "104599    26A\n",
       "127514    26A\n",
       "134889    26A\n",
       "161628    26A\n",
       "162977    26A\n",
       "167631    26A\n",
       "167632    26A\n",
       "167642    26A\n",
       "167644    26A\n",
       "179403    26A\n",
       "191197    26A\n",
       "191689    26A\n",
       "192176    13B\n",
       "194606    26A\n",
       "198489    26A\n",
       "206514    26A\n",
       "209190    90J\n",
       "209263    26A\n",
       "211493    13B\n",
       "224468    26A\n",
       "228741    26A\n",
       "247766    26A\n",
       "249599    26A\n",
       "251035    26A\n",
       "254452    26A\n",
       "265291    26A\n",
       "265420    26A\n",
       "273446    26A\n",
       "273449    26A\n",
       "275121    26A\n",
       "278235    26A\n",
       "282346    26A\n",
       "295712    26A\n",
       "297533    26A\n",
       "299714    13B\n",
       "301302    26A\n",
       "301719    13B\n",
       "333847    NaN\n",
       "Name: ucrcode, dtype: object"
      ]
     },
     "execution_count": 41,
     "metadata": {},
     "output_type": "execute_result"
    }
   ],
   "source": [
    "kansas_data.iloc[index_0]['ucrcode']   #333847"
   ]
  },
  {
   "cell_type": "code",
   "execution_count": 42,
   "metadata": {},
   "outputs": [
    {
     "name": "stderr",
     "output_type": "stream",
     "text": [
      "/Users/apple/anaconda/lib/python2.7/site-packages/ipykernel_launcher.py:1: UserWarning: Boolean Series key will be reindexed to match DataFrame index.\n",
      "  \"\"\"Entry point for launching an IPython kernel.\n"
     ]
    },
    {
     "data": {
      "text/plain": [
       "Int64Index([333847], dtype='int64')"
      ]
     },
     "execution_count": 42,
     "metadata": {},
     "output_type": "execute_result"
    }
   ],
   "source": [
    "kansas_data.iloc[index_0][kansas_data.ucrcode.isnull() == True].index"
   ]
  },
  {
   "cell_type": "code",
   "execution_count": 43,
   "metadata": {
    "collapsed": true
   },
   "outputs": [],
   "source": [
    "index_missing_list_0 = kansas_data.offense[kansas_data['offense'].str.contains(missing_offense_list[0].split(';')[0]) == True].index"
   ]
  },
  {
   "cell_type": "code",
   "execution_count": 44,
   "metadata": {},
   "outputs": [
    {
     "data": {
      "text/plain": [
       "57"
      ]
     },
     "execution_count": 44,
     "metadata": {},
     "output_type": "execute_result"
    }
   ],
   "source": [
    "len(kansas_data.offense[kansas_data['offense'].str.contains(missing_offense_list[0].split(';')[0]) == True][kansas_data.offense[kansas_data['offense'].str.contains(missing_offense_list[0].split(';')[0]) == True].isnull() == False]) "
   ]
  },
  {
   "cell_type": "code",
   "execution_count": 45,
   "metadata": {},
   "outputs": [
    {
     "data": {
      "text/plain": [
       "26A    48\n",
       "13B     7\n",
       "90J     1\n",
       "Name: ucrcode, dtype: int64"
      ]
     },
     "execution_count": 45,
     "metadata": {},
     "output_type": "execute_result"
    }
   ],
   "source": [
    "kansas_data.iloc[index_missing_list_0]['ucrcode'].value_counts()"
   ]
  },
  {
   "cell_type": "code",
   "execution_count": 46,
   "metadata": {},
   "outputs": [
    {
     "data": {
      "text/plain": [
       "26A    48\n",
       "Name: ucrcode, dtype: int64"
      ]
     },
     "execution_count": 46,
     "metadata": {},
     "output_type": "execute_result"
    }
   ],
   "source": [
    "kansas_data.iloc[index_missing_list_0]['ucrcode'].value_counts()[:1]"
   ]
  },
  {
   "cell_type": "code",
   "execution_count": 47,
   "metadata": {},
   "outputs": [
    {
     "data": {
      "text/plain": [
       "'26A'"
      ]
     },
     "execution_count": 47,
     "metadata": {},
     "output_type": "execute_result"
    }
   ],
   "source": [
    "kansas_data.iloc[index_missing_list_0]['ucrcode'].value_counts()[:1].index[0]"
   ]
  },
  {
   "cell_type": "markdown",
   "metadata": {},
   "source": [
    "### In this case, we can split the offense name, and take the importance piece , find the ucrcode that corresponds to the most number of important piece "
   ]
  },
  {
   "cell_type": "markdown",
   "metadata": {},
   "source": [
    "## Take a look at the 2nd offense in the missing_offense_list"
   ]
  },
  {
   "cell_type": "code",
   "execution_count": 48,
   "metadata": {},
   "outputs": [
    {
     "data": {
      "text/plain": [
       "333943    NaN\n",
       "335526    NaN\n",
       "Name: ucrcode, dtype: object"
      ]
     },
     "execution_count": 48,
     "metadata": {},
     "output_type": "execute_result"
    }
   ],
   "source": [
    "kansas_data[kansas_data['offense'] == missing_offense_list[2]]['ucrcode']"
   ]
  },
  {
   "cell_type": "code",
   "execution_count": 49,
   "metadata": {},
   "outputs": [
    {
     "data": {
      "text/plain": [
       "'DISTRIBUTE OPIATE/NARC/CERTAIN STIM/HEROIN'"
      ]
     },
     "execution_count": 49,
     "metadata": {},
     "output_type": "execute_result"
    }
   ],
   "source": [
    "missing_offense_list[2].split(';')[0]"
   ]
  },
  {
   "cell_type": "code",
   "execution_count": 50,
   "metadata": {},
   "outputs": [
    {
     "data": {
      "text/plain": [
       "272107    DISTRIBUTE OPIATE/NARC/CERTAIN STIM/HEROIN; DO...\n",
       "273107    DISTRIBUTE OPIATE/NARC/CERTAIN STIM/HEROIN; DO...\n",
       "333943    DISTRIBUTE OPIATE/NARC/CERTAIN STIM/HEROIN; DO...\n",
       "335526    DISTRIBUTE OPIATE/NARC/CERTAIN STIM/HEROIN; DO...\n",
       "Name: offense, dtype: object"
      ]
     },
     "execution_count": 50,
     "metadata": {},
     "output_type": "execute_result"
    }
   ],
   "source": [
    "kansas_data.offense[kansas_data['offense'].str.contains(missing_offense_list[2].split(';')[0]) == True]"
   ]
  },
  {
   "cell_type": "code",
   "execution_count": 51,
   "metadata": {
    "collapsed": true
   },
   "outputs": [],
   "source": [
    "index_missing_list_2 = kansas_data.offense[kansas_data['offense'].str.contains(missing_offense_list[2].split(';')[0]) == True].index"
   ]
  },
  {
   "cell_type": "code",
   "execution_count": 52,
   "metadata": {},
   "outputs": [
    {
     "data": {
      "text/plain": [
       "2"
      ]
     },
     "execution_count": 52,
     "metadata": {},
     "output_type": "execute_result"
    }
   ],
   "source": [
    "len(kansas_data.iloc[index_missing_list_2]['ucrcode'][kansas_data.iloc[index_missing_list_2]['ucrcode'].isnull() == False])"
   ]
  },
  {
   "cell_type": "code",
   "execution_count": 53,
   "metadata": {},
   "outputs": [
    {
     "data": {
      "text/plain": [
       "35A    2\n",
       "Name: ucrcode, dtype: int64"
      ]
     },
     "execution_count": 53,
     "metadata": {},
     "output_type": "execute_result"
    }
   ],
   "source": [
    "kansas_data.iloc[index_missing_list_2]['ucrcode'].value_counts()"
   ]
  },
  {
   "cell_type": "code",
   "execution_count": 54,
   "metadata": {},
   "outputs": [
    {
     "data": {
      "text/plain": [
       "'35A'"
      ]
     },
     "execution_count": 54,
     "metadata": {},
     "output_type": "execute_result"
    }
   ],
   "source": [
    "kansas_data.iloc[index_missing_list_2]['ucrcode'].value_counts()[:1].index[0]"
   ]
  },
  {
   "cell_type": "markdown",
   "metadata": {},
   "source": [
    "### The case for 2nd offense is similar to the case for 7th offense, we can pick the important piece from the offense name and find its ucrcode."
   ]
  },
  {
   "cell_type": "markdown",
   "metadata": {},
   "source": [
    "## Take a look at the fifth offense in the missing_offense_list"
   ]
  },
  {
   "cell_type": "code",
   "execution_count": 55,
   "metadata": {},
   "outputs": [
    {
     "data": {
      "text/plain": [
       "333644    NaN\n",
       "335015    NaN\n",
       "335477    NaN\n",
       "Name: ucrcode, dtype: object"
      ]
     },
     "execution_count": 55,
     "metadata": {},
     "output_type": "execute_result"
    }
   ],
   "source": [
    "kansas_data[kansas_data['offense'] == missing_offense_list[5]]['ucrcode']"
   ]
  },
  {
   "cell_type": "code",
   "execution_count": 56,
   "metadata": {},
   "outputs": [
    {
     "data": {
      "text/plain": [
       "'LITTERING - CITY ORDINANCE VIOLATION'"
      ]
     },
     "execution_count": 56,
     "metadata": {},
     "output_type": "execute_result"
    }
   ],
   "source": [
    "missing_offense_list[5]"
   ]
  },
  {
   "cell_type": "code",
   "execution_count": 57,
   "metadata": {},
   "outputs": [
    {
     "data": {
      "text/plain": [
       "'LITTERING - CITY ORDINANCE VIOLATION'"
      ]
     },
     "execution_count": 57,
     "metadata": {},
     "output_type": "execute_result"
    }
   ],
   "source": [
    "missing_offense_list[5].split(';')[0]"
   ]
  },
  {
   "cell_type": "code",
   "execution_count": 58,
   "metadata": {},
   "outputs": [
    {
     "data": {
      "text/plain": [
       "333644    LITTERING - CITY ORDINANCE VIOLATION\n",
       "335015    LITTERING - CITY ORDINANCE VIOLATION\n",
       "335477    LITTERING - CITY ORDINANCE VIOLATION\n",
       "Name: offense, dtype: object"
      ]
     },
     "execution_count": 58,
     "metadata": {},
     "output_type": "execute_result"
    }
   ],
   "source": [
    "kansas_data.offense[kansas_data['offense'].str.contains(missing_offense_list[5].split(';')[0]) == True]"
   ]
  },
  {
   "cell_type": "code",
   "execution_count": 59,
   "metadata": {
    "collapsed": true
   },
   "outputs": [],
   "source": [
    "index_missing_list_5 = kansas_data.offense[kansas_data['offense'].str.contains(missing_offense_list[5].split(';')[0]) == True].index"
   ]
  },
  {
   "cell_type": "code",
   "execution_count": 60,
   "metadata": {},
   "outputs": [
    {
     "data": {
      "text/plain": [
       "0"
      ]
     },
     "execution_count": 60,
     "metadata": {},
     "output_type": "execute_result"
    }
   ],
   "source": [
    "len(kansas_data.iloc[index_missing_list_5]['ucrcode'][kansas_data.iloc[index_missing_list_5]['ucrcode'].isnull() == False])"
   ]
  },
  {
   "cell_type": "code",
   "execution_count": 61,
   "metadata": {},
   "outputs": [
    {
     "data": {
      "text/plain": [
       "3"
      ]
     },
     "execution_count": 61,
     "metadata": {},
     "output_type": "execute_result"
    }
   ],
   "source": [
    "len(kansas_data.iloc[index_missing_list_5]['ucrcode'][kansas_data.iloc[index_missing_list_5]['ucrcode'].isnull() == True])"
   ]
  },
  {
   "cell_type": "code",
   "execution_count": 62,
   "metadata": {},
   "outputs": [
    {
     "data": {
      "text/plain": [
       "333644    True\n",
       "335015    True\n",
       "335477    True\n",
       "Name: ucrcode, dtype: bool"
      ]
     },
     "execution_count": 62,
     "metadata": {},
     "output_type": "execute_result"
    }
   ],
   "source": [
    "kansas_data.iloc[index_missing_list_5]['ucrcode'].isnull()"
   ]
  },
  {
   "cell_type": "code",
   "execution_count": 63,
   "metadata": {},
   "outputs": [
    {
     "data": {
      "text/plain": [
       "Series([], Name: ucrcode, dtype: int64)"
      ]
     },
     "execution_count": 63,
     "metadata": {},
     "output_type": "execute_result"
    }
   ],
   "source": [
    "kansas_data.iloc[index_missing_list_5]['ucrcode'].value_counts()"
   ]
  },
  {
   "cell_type": "markdown",
   "metadata": {},
   "source": [
    "### In this case, we just cannot find a ucrcode for this type of offense."
   ]
  },
  {
   "cell_type": "markdown",
   "metadata": {},
   "source": [
    "## Great! Now we have found a way to asign missing ucrcode to ambiguous offense code!"
   ]
  },
  {
   "cell_type": "markdown",
   "metadata": {},
   "source": [
    "## This is a key function to assign ucrcode to missing items using offense description!"
   ]
  },
  {
   "cell_type": "code",
   "execution_count": 64,
   "metadata": {},
   "outputs": [
    {
     "data": {
      "text/plain": [
       "0"
      ]
     },
     "execution_count": 64,
     "metadata": {},
     "output_type": "execute_result"
    }
   ],
   "source": [
    "len(kansas_data.iloc[index_missing_list_5]['ucrcode'][kansas_data.iloc[index_missing_list_5]['ucrcode'].isnull() == False])"
   ]
  },
  {
   "cell_type": "code",
   "execution_count": 65,
   "metadata": {},
   "outputs": [
    {
     "name": "stderr",
     "output_type": "stream",
     "text": [
      "/Users/apple/anaconda/lib/python2.7/site-packages/ipykernel_launcher.py:4: UserWarning: Boolean Series key will be reindexed to match DataFrame index.\n",
      "  after removing the cwd from sys.path.\n"
     ]
    }
   ],
   "source": [
    "missing_offense_list_2 = []\n",
    "for i in range(len(missing_offense_list)):\n",
    "    if len(kansas_data[kansas_data['offense'] == missing_offense_list[i]]['ucrcode'][kansas_data[kansas_data['offense'] == missing_offense_list[i]]['ucrcode'].isnull() == False]) >= 1:\n",
    "        index_i = kansas_data[kansas_data.ucrcode.isnull() == True][kansas_data['offense'] == missing_offense_list[i]].index\n",
    "        kansas_data.loc[index_i,'ucrcode'] = kansas_data[kansas_data['offense'] == missing_offense_list[i]]['ucrcode'].value_counts()[:1].index[0]     \n",
    "    else:\n",
    "        missing_offense_list_2.append(missing_offense_list[i])   "
   ]
  },
  {
   "cell_type": "code",
   "execution_count": 66,
   "metadata": {},
   "outputs": [
    {
     "name": "stderr",
     "output_type": "stream",
     "text": [
      "/Users/apple/anaconda/lib/python2.7/site-packages/ipykernel_launcher.py:1: UserWarning: Boolean Series key will be reindexed to match DataFrame index.\n",
      "  \"\"\"Entry point for launching an IPython kernel.\n"
     ]
    }
   ],
   "source": [
    "index_0_missing = kansas_data.iloc[index_0][kansas_data.ucrcode.isnull() == True].index"
   ]
  },
  {
   "cell_type": "code",
   "execution_count": 67,
   "metadata": {},
   "outputs": [
    {
     "data": {
      "text/plain": [
       "333847    NaN\n",
       "Name: ucrcode, dtype: object"
      ]
     },
     "execution_count": 67,
     "metadata": {},
     "output_type": "execute_result"
    }
   ],
   "source": [
    "kansas_data.loc[index_0_missing, 'ucrcode']"
   ]
  },
  {
   "cell_type": "code",
   "execution_count": 68,
   "metadata": {},
   "outputs": [
    {
     "name": "stderr",
     "output_type": "stream",
     "text": [
      "/Users/apple/anaconda/lib/python2.7/site-packages/ipykernel_launcher.py:5: UserWarning: Boolean Series key will be reindexed to match DataFrame index.\n",
      "  \"\"\"\n",
      "/Users/apple/anaconda/lib/python2.7/site-packages/ipykernel_launcher.py:3: UserWarning: This pattern has match groups. To actually get the groups, use str.extract.\n",
      "  This is separate from the ipykernel package so we can avoid doing imports until\n",
      "/Users/apple/anaconda/lib/python2.7/site-packages/ipykernel_launcher.py:8: UserWarning: This pattern has match groups. To actually get the groups, use str.extract.\n",
      "  \n",
      "/Users/apple/anaconda/lib/python2.7/site-packages/ipykernel_launcher.py:10: UserWarning: Boolean Series key will be reindexed to match DataFrame index.\n",
      "  # Remove the CWD from sys.path while we load stuff.\n"
     ]
    }
   ],
   "source": [
    "final_offense_list = []\n",
    "for i in range(len(missing_offense_list_2)):\n",
    "       index_i = kansas_data.offense[kansas_data['offense'].str.contains(missing_offense_list_2[i].split(';')[0]) == True].index\n",
    "       if len(kansas_data.iloc[index_i]['ucrcode'][kansas_data.iloc[index_i]['ucrcode'].isnull() == False]) > 0:\n",
    "             index_i_missing = kansas_data.iloc[index_i][kansas_data.ucrcode.isnull() == True].index\n",
    "             kansas_data.loc[index_i_missing,'ucrcode'] = kansas_data.iloc[index_i]['ucrcode'].value_counts()[:1].index[0]  \n",
    "       else:\n",
    "            index_ii = kansas_data.offense[kansas_data['offense'].str.contains(missing_offense_list_2[i].split(',')[0]) == True].index\n",
    "            if len(kansas_data.iloc[index_ii]['ucrcode'][kansas_data.iloc[index_ii]['ucrcode'].isnull() == False]) > 0:\n",
    "                index_ii_missing = kansas_data.iloc[index_ii][kansas_data.ucrcode.isnull() == True].index\n",
    "                kansas_data.loc[index_ii_missing, 'ucrcode'] = kansas_data.iloc[index_ii]['ucrcode'].value_counts()[:1].index[0]"
   ]
  },
  {
   "cell_type": "code",
   "execution_count": 69,
   "metadata": {},
   "outputs": [
    {
     "data": {
      "text/plain": [
       "259"
      ]
     },
     "execution_count": 69,
     "metadata": {},
     "output_type": "execute_result"
    }
   ],
   "source": [
    "sum(kansas_data[kansas_data.ucrcode.isnull() == True].offense.value_counts())"
   ]
  },
  {
   "cell_type": "code",
   "execution_count": 70,
   "metadata": {},
   "outputs": [
    {
     "data": {
      "text/plain": [
       "POSSESS CERTAIN HALLUCINOGENIC DRUGS (MARIJUANA)                                  101\n",
       "HARRASS BY TELCOM DEVICE; REPEAT PHONE CALLS OR FAX                                41\n",
       "HARRASS BY TELECOM DEVICE; THREATENING PHONE CALL OR FAX                           33\n",
       "PARAPHERNALIA - USE/POSSESS W/INTENT TO USE DRUG PARAPHERNALIA INTO HUMAN BODY     33\n",
       "DUI - ALCOHOL OR DRUGS; UNK SEVERITY                                                8\n",
       "DELETE - ENTERED IN ERROR                                                           7\n",
       "METH - POSSESS OPIATES/OPIUM/NARC DRUG AND CERTAIN STIMULANTS                       7\n",
       "THEFT (POSS OF STOLEN PROPERTY); VALUE LESS THAN $1,000                             4\n",
       "THEFT OR PROP/SERVICES; FIREARM < $25000                                            3\n",
       "KANSAS CODE; CARE OF CHILDREN - DEFINITIONS                                         3\n",
       "LITTERING - CITY ORDINANCE VIOLATION                                                3\n",
       "FLEEING OR ATTEMPTING TO ELUDE A LEO; UNKNOWN SEVERITY                              2\n",
       "POSSESS SYNTHETIC CANNABINOIDS (K2)                                                 2\n",
       "MIP                                                                                 2\n",
       "POSSESS CERTAIN STIMULANT INCLUDING \"BATH SALTS\"                                    2\n",
       "INFORMATION - TRUCK INSPECTION                                                      1\n",
       "SEXUAL EXPOITATION OF A CHILD; UNKNOWN CIRCUMSTANCE                                 1\n",
       "WINDOW PEEPING PROHIBITED                                                           1\n",
       "UNLAWFUL USE OF WEAPON OTHER THAN FIREARM; (CITY ORDINANCE)                         1\n",
       "PARAPHERNALIA - POSSESS W/INTENT TO MANF/PLANT/CULTIVATE CONTROLLED SUBST           1\n",
       "HIT & RUN - FAIL TO STOP AT INJURY ACCIDENT OR PROP DAMAGE > $1000                  1\n",
       "INFO - ANIMAL CALL                                                                  1\n",
       "THEFT (POSS. OF STOLEN PROP); FIREARM < $25,000                                     1\n",
       "Name: offense, dtype: int64"
      ]
     },
     "execution_count": 70,
     "metadata": {},
     "output_type": "execute_result"
    }
   ],
   "source": [
    "kansas_data[kansas_data.ucrcode.isnull() == True].offense.value_counts()"
   ]
  },
  {
   "cell_type": "code",
   "execution_count": 71,
   "metadata": {},
   "outputs": [
    {
     "data": {
      "text/plain": [
       "Int64Index([171465], dtype='int64')"
      ]
     },
     "execution_count": 71,
     "metadata": {},
     "output_type": "execute_result"
    }
   ],
   "source": [
    "index_info_missing = kansas_data[kansas_data.offense == 'INFO - ANIMAL CALL'].index\n",
    "index_info_missing"
   ]
  },
  {
   "cell_type": "code",
   "execution_count": 72,
   "metadata": {},
   "outputs": [
    {
     "data": {
      "text/plain": [
       "171465    NaN\n",
       "Name: ucrcode, dtype: object"
      ]
     },
     "execution_count": 72,
     "metadata": {},
     "output_type": "execute_result"
    }
   ],
   "source": [
    "kansas_data.loc[index_info_missing, 'ucrcode']"
   ]
  },
  {
   "cell_type": "markdown",
   "metadata": {},
   "source": [
    "### I just consider the first four categories."
   ]
  },
  {
   "cell_type": "code",
   "execution_count": 73,
   "metadata": {
    "collapsed": true
   },
   "outputs": [],
   "source": [
    "index_drug = kansas_data.offense[kansas_data['offense'].str.contains('POSSESS','HALLUCINOGENIC') == True].index"
   ]
  },
  {
   "cell_type": "code",
   "execution_count": 74,
   "metadata": {},
   "outputs": [
    {
     "data": {
      "text/plain": [
       "35A    8007\n",
       "35B    1628\n",
       "280    1229\n",
       "370     113\n",
       "90Z     105\n",
       "250     104\n",
       "520      74\n",
       "90G      24\n",
       "23        4\n",
       "90D       2\n",
       "26D       1\n",
       "26A       1\n",
       "240       1\n",
       "Name: ucrcode, dtype: int64"
      ]
     },
     "execution_count": 74,
     "metadata": {},
     "output_type": "execute_result"
    }
   ],
   "source": [
    "kansas_data.iloc[index_drug]['ucrcode'].value_counts()"
   ]
  },
  {
   "cell_type": "code",
   "execution_count": 75,
   "metadata": {},
   "outputs": [
    {
     "data": {
      "text/plain": [
       "'35A'"
      ]
     },
     "execution_count": 75,
     "metadata": {},
     "output_type": "execute_result"
    }
   ],
   "source": [
    "kansas_data.iloc[index_drug]['ucrcode'].value_counts()[:1].index[0]"
   ]
  },
  {
   "cell_type": "code",
   "execution_count": 76,
   "metadata": {},
   "outputs": [
    {
     "data": {
      "text/plain": [
       "Int64Index([332913, 332959, 332986, 333005, 333007, 333014, 333043, 333149,\n",
       "            333258, 333273,\n",
       "            ...\n",
       "            335372, 335379, 335384, 335389, 335435, 335511, 335517, 335528,\n",
       "            335537, 335597],\n",
       "           dtype='int64', length=101)"
      ]
     },
     "execution_count": 76,
     "metadata": {},
     "output_type": "execute_result"
    }
   ],
   "source": [
    "index_drug_missing = kansas_data[kansas_data.offense == 'POSSESS CERTAIN HALLUCINOGENIC DRUGS (MARIJUANA)'].index\n",
    "index_drug_missing"
   ]
  },
  {
   "cell_type": "code",
   "execution_count": 77,
   "metadata": {
    "collapsed": true
   },
   "outputs": [],
   "source": [
    "kansas_data.loc[index_drug_missing, 'ucrcode'] = kansas_data.iloc[index_drug]['ucrcode'].value_counts()[:1].index[0]"
   ]
  },
  {
   "cell_type": "code",
   "execution_count": 78,
   "metadata": {},
   "outputs": [
    {
     "data": {
      "text/plain": [
       "332913    35A\n",
       "332959    35A\n",
       "332986    35A\n",
       "333005    35A\n",
       "333007    35A\n",
       "Name: ucrcode, dtype: object"
      ]
     },
     "execution_count": 78,
     "metadata": {},
     "output_type": "execute_result"
    }
   ],
   "source": [
    "kansas_data.loc[index_drug_missing, 'ucrcode'].head()"
   ]
  },
  {
   "cell_type": "markdown",
   "metadata": {},
   "source": [
    "### Next we find that there's no ucrcode for tele harrassment."
   ]
  },
  {
   "cell_type": "code",
   "execution_count": 79,
   "metadata": {
    "collapsed": true
   },
   "outputs": [],
   "source": [
    "index_tele_harrass = kansas_data.offense[kansas_data['offense'].str.contains('HARRASS','DEVICE') == True].index"
   ]
  },
  {
   "cell_type": "code",
   "execution_count": 80,
   "metadata": {},
   "outputs": [
    {
     "data": {
      "text/plain": [
       "Series([], Name: ucrcode, dtype: int64)"
      ]
     },
     "execution_count": 80,
     "metadata": {},
     "output_type": "execute_result"
    }
   ],
   "source": [
    "kansas_data.iloc[index_tele_harrass]['ucrcode'].value_counts()"
   ]
  },
  {
   "cell_type": "code",
   "execution_count": 81,
   "metadata": {
    "collapsed": true
   },
   "outputs": [],
   "source": [
    "index_para = kansas_data.offense[kansas_data['offense'].str.contains('PARAPHERNALIA') == True].index"
   ]
  },
  {
   "cell_type": "code",
   "execution_count": 82,
   "metadata": {},
   "outputs": [
    {
     "data": {
      "text/plain": [
       "'35B'"
      ]
     },
     "execution_count": 82,
     "metadata": {},
     "output_type": "execute_result"
    }
   ],
   "source": [
    "kansas_data.iloc[index_para]['ucrcode'].value_counts()[:1].index[0]"
   ]
  },
  {
   "cell_type": "code",
   "execution_count": 83,
   "metadata": {},
   "outputs": [
    {
     "data": {
      "text/plain": [
       "Int64Index([332914, 332943, 332973, 333247, 333304, 333348, 333399, 333494,\n",
       "            333521, 333741, 333776, 333958, 334033, 334042, 334067, 334116,\n",
       "            334175, 334195, 334236, 334273, 334396, 334506, 334529, 334531,\n",
       "            334614, 335040, 335061, 335093, 335312, 335317, 335326, 335392,\n",
       "            335490],\n",
       "           dtype='int64')"
      ]
     },
     "execution_count": 83,
     "metadata": {},
     "output_type": "execute_result"
    }
   ],
   "source": [
    "index_para_missing = kansas_data[kansas_data.offense == 'PARAPHERNALIA - USE/POSSESS W/INTENT TO USE DRUG PARAPHERNALIA INTO HUMAN BODY'].index\n",
    "index_para_missing"
   ]
  },
  {
   "cell_type": "code",
   "execution_count": 84,
   "metadata": {
    "collapsed": true
   },
   "outputs": [],
   "source": [
    "kansas_data.loc[index_para_missing, 'ucrcode'] = kansas_data.iloc[index_para]['ucrcode'].value_counts()[:1].index[0]"
   ]
  },
  {
   "cell_type": "code",
   "execution_count": 85,
   "metadata": {},
   "outputs": [
    {
     "data": {
      "text/plain": [
       "332914    35B\n",
       "332943    35B\n",
       "332973    35B\n",
       "333247    35B\n",
       "333304    35B\n",
       "Name: ucrcode, dtype: object"
      ]
     },
     "execution_count": 85,
     "metadata": {},
     "output_type": "execute_result"
    }
   ],
   "source": [
    "kansas_data.loc[index_para_missing, 'ucrcode'].head()"
   ]
  },
  {
   "cell_type": "code",
   "execution_count": 86,
   "metadata": {},
   "outputs": [
    {
     "data": {
      "text/plain": [
       "125"
      ]
     },
     "execution_count": 86,
     "metadata": {},
     "output_type": "execute_result"
    }
   ],
   "source": [
    "sum(kansas_data[kansas_data.ucrcode.isnull() == True].offense.value_counts())"
   ]
  },
  {
   "cell_type": "code",
   "execution_count": 87,
   "metadata": {
    "scrolled": true
   },
   "outputs": [
    {
     "data": {
      "text/plain": [
       "23     90228\n",
       "13B    35898\n",
       "90Z    35552\n",
       "290    29843\n",
       "35A    19112\n",
       "90D    19098\n",
       "220    15310\n",
       "13C    12794\n",
       "23H    10335\n",
       "240     9776\n",
       "90C     6769\n",
       "13A     5894\n",
       "250     5279\n",
       "90G     4491\n",
       "26A     4366\n",
       "26B     4090\n",
       "35B     3278\n",
       "26C     3031\n",
       "90J     2859\n",
       "11D     2348\n",
       "90I     2127\n",
       "11A     1633\n",
       "280     1544\n",
       "120     1522\n",
       "100     1439\n",
       "90A     1269\n",
       "520     1114\n",
       "200      925\n",
       "370      697\n",
       "90F      623\n",
       "40B      513\n",
       "40A      467\n",
       "270      420\n",
       "11B      418\n",
       "36B      128\n",
       "90E      114\n",
       "09A       85\n",
       "210       53\n",
       "36A       13\n",
       "09B       12\n",
       "39A       10\n",
       "510        5\n",
       "26D        3\n",
       "39C        2\n",
       "09C        1\n",
       "39B        1\n",
       "Name: ucrcode, dtype: int64"
      ]
     },
     "execution_count": 87,
     "metadata": {},
     "output_type": "execute_result"
    }
   ],
   "source": [
    "kansas_data.ucrcode.value_counts()"
   ]
  },
  {
   "cell_type": "code",
   "execution_count": 88,
   "metadata": {
    "collapsed": true
   },
   "outputs": [],
   "source": [
    "#kansas_data[kansas_data.ucrcode == '39B']['offense']"
   ]
  },
  {
   "cell_type": "code",
   "execution_count": 89,
   "metadata": {
    "collapsed": true
   },
   "outputs": [],
   "source": [
    "#kansas_data[kansas_data.ucrcode == '39C']['offense']"
   ]
  },
  {
   "cell_type": "markdown",
   "metadata": {},
   "source": [
    "### I want to find out the offense type that has very few incidents."
   ]
  },
  {
   "cell_type": "code",
   "execution_count": 90,
   "metadata": {},
   "outputs": [
    {
     "data": {
      "text/plain": [
       "3820                MURDER IN THE SECOND DEGREE; RECKLESS\n",
       "5396       MURDER IN THE 1ST DEGREE; UNKNOWN CIRCUMSTANCE\n",
       "6286                           MURDER IN THE FIRST DEGREE\n",
       "6568       MURDER IN THE 1ST DEGREE; UNKNOWN CIRCUMSTANCE\n",
       "8416    MURDER IN THE 1ST DEGREE; INTENTIONAL AND PREM...\n",
       "Name: offense, dtype: object"
      ]
     },
     "execution_count": 90,
     "metadata": {},
     "output_type": "execute_result"
    }
   ],
   "source": [
    "kansas_data[kansas_data.ucrcode == '09A']['offense'].head()"
   ]
  },
  {
   "cell_type": "code",
   "execution_count": 91,
   "metadata": {
    "collapsed": true
   },
   "outputs": [],
   "source": [
    "index_murder = kansas_data.offense[kansas_data['offense'].str.contains('MURDER') == True].index"
   ]
  },
  {
   "cell_type": "code",
   "execution_count": 92,
   "metadata": {},
   "outputs": [
    {
     "data": {
      "text/plain": [
       "Int64Index([  3820,   5396,   6286,   6568,   8416,  10180,  10918,  15102,\n",
       "             18445,  20285,\n",
       "            ...\n",
       "            319819, 321227, 322146, 322768, 323372, 323397, 326260, 330794,\n",
       "            332082, 332979],\n",
       "           dtype='int64', length=125)"
      ]
     },
     "execution_count": 92,
     "metadata": {},
     "output_type": "execute_result"
    }
   ],
   "source": [
    "index_murder"
   ]
  },
  {
   "cell_type": "code",
   "execution_count": 93,
   "metadata": {},
   "outputs": [
    {
     "data": {
      "text/plain": [
       "3820                MURDER IN THE SECOND DEGREE; RECKLESS\n",
       "5396       MURDER IN THE 1ST DEGREE; UNKNOWN CIRCUMSTANCE\n",
       "6286                           MURDER IN THE FIRST DEGREE\n",
       "6568       MURDER IN THE 1ST DEGREE; UNKNOWN CIRCUMSTANCE\n",
       "8416    MURDER IN THE 1ST DEGREE; INTENTIONAL AND PREM...\n",
       "Name: offense, dtype: object"
      ]
     },
     "execution_count": 93,
     "metadata": {},
     "output_type": "execute_result"
    }
   ],
   "source": [
    "kansas_data.iloc[index_murder].offense.head()"
   ]
  },
  {
   "cell_type": "code",
   "execution_count": 94,
   "metadata": {},
   "outputs": [
    {
     "data": {
      "text/plain": [
       "09A    82\n",
       "13A    39\n",
       "90Z     4\n",
       "Name: ucrcode, dtype: int64"
      ]
     },
     "execution_count": 94,
     "metadata": {},
     "output_type": "execute_result"
    }
   ],
   "source": [
    "kansas_data.iloc[index_murder].ucrcode.value_counts()"
   ]
  },
  {
   "cell_type": "code",
   "execution_count": 95,
   "metadata": {},
   "outputs": [
    {
     "data": {
      "text/html": [
       "<div>\n",
       "<style>\n",
       "    .dataframe thead tr:only-child th {\n",
       "        text-align: right;\n",
       "    }\n",
       "\n",
       "    .dataframe thead th {\n",
       "        text-align: left;\n",
       "    }\n",
       "\n",
       "    .dataframe tbody tr th {\n",
       "        vertical-align: top;\n",
       "    }\n",
       "</style>\n",
       "<table border=\"1\" class=\"dataframe\">\n",
       "  <thead>\n",
       "    <tr style=\"text-align: right;\">\n",
       "      <th></th>\n",
       "      <th>id</th>\n",
       "      <th>agency</th>\n",
       "      <th>daterept</th>\n",
       "      <th>hourrept</th>\n",
       "      <th>ucrcode</th>\n",
       "      <th>offense</th>\n",
       "      <th>neighborhood</th>\n",
       "      <th>subdivision</th>\n",
       "      <th>spx</th>\n",
       "      <th>spy</th>\n",
       "      <th>...</th>\n",
       "      <th>city</th>\n",
       "      <th>state</th>\n",
       "      <th>zip</th>\n",
       "      <th>theftdescription</th>\n",
       "      <th>inactivitydescription</th>\n",
       "      <th>premisedescription</th>\n",
       "      <th>incidentid</th>\n",
       "      <th>apid</th>\n",
       "      <th>crimetype</th>\n",
       "      <th>geom</th>\n",
       "    </tr>\n",
       "  </thead>\n",
       "  <tbody>\n",
       "    <tr>\n",
       "      <th>67</th>\n",
       "      <td>68</td>\n",
       "      <td>JCSO</td>\n",
       "      <td>12/25/12 0:00</td>\n",
       "      <td>1124.0</td>\n",
       "      <td>13A</td>\n",
       "      <td>AGGRAVATED ASSAULT</td>\n",
       "      <td>JC1</td>\n",
       "      <td>521200.0</td>\n",
       "      <td>2152110.00</td>\n",
       "      <td>229272.00</td>\n",
       "      <td>...</td>\n",
       "      <td>EUDORA</td>\n",
       "      <td>KS</td>\n",
       "      <td>66025</td>\n",
       "      <td>NaN</td>\n",
       "      <td>Domestic Violence</td>\n",
       "      <td>Single Residence (includes attached garage)</td>\n",
       "      <td>D12005562</td>\n",
       "      <td>2.000000e+17</td>\n",
       "      <td>Part 1</td>\n",
       "      <td>01010000205B0D000000000000576B404100000000C0FC...</td>\n",
       "    </tr>\n",
       "    <tr>\n",
       "      <th>126</th>\n",
       "      <td>127</td>\n",
       "      <td>JCSO</td>\n",
       "      <td>4/26/13 0:00</td>\n",
       "      <td>2320.0</td>\n",
       "      <td>13A</td>\n",
       "      <td>AGGRAVATED ASSAULT OF LEO</td>\n",
       "      <td>JCSO</td>\n",
       "      <td>-1.0</td>\n",
       "      <td>2148528.68</td>\n",
       "      <td>235565.64</td>\n",
       "      <td>...</td>\n",
       "      <td>EUDORA</td>\n",
       "      <td>KS</td>\n",
       "      <td>66025</td>\n",
       "      <td>NaN</td>\n",
       "      <td>Not Applicable</td>\n",
       "      <td>City Street</td>\n",
       "      <td>D13001774</td>\n",
       "      <td>NaN</td>\n",
       "      <td>Part 1</td>\n",
       "      <td>01010000205B0D0000713D0A5758644041EC51B81E6DC1...</td>\n",
       "    </tr>\n",
       "    <tr>\n",
       "      <th>182</th>\n",
       "      <td>183</td>\n",
       "      <td>JCSO</td>\n",
       "      <td>11/8/15 0:00</td>\n",
       "      <td>844.0</td>\n",
       "      <td>13A</td>\n",
       "      <td>AGGRAVATED ASSAULT</td>\n",
       "      <td>JC2</td>\n",
       "      <td>526000.0</td>\n",
       "      <td>2154923.00</td>\n",
       "      <td>204294.00</td>\n",
       "      <td>...</td>\n",
       "      <td>EUDORA</td>\n",
       "      <td>KS</td>\n",
       "      <td>66025</td>\n",
       "      <td>NaN</td>\n",
       "      <td>Domestic Violence</td>\n",
       "      <td>Single Residence (includes attached garage)</td>\n",
       "      <td>D15004171</td>\n",
       "      <td>2.000000e+17</td>\n",
       "      <td>Part 1</td>\n",
       "      <td>01010000205B0D000000000080D57040410000000030F0...</td>\n",
       "    </tr>\n",
       "    <tr>\n",
       "      <th>199</th>\n",
       "      <td>200</td>\n",
       "      <td>JCSO</td>\n",
       "      <td>9/27/15 0:00</td>\n",
       "      <td>1327.0</td>\n",
       "      <td>13A</td>\n",
       "      <td>AGGRAVATED ASSAULT; WITH INTENT TO COMMIT ANY ...</td>\n",
       "      <td>JC2</td>\n",
       "      <td>526400.0</td>\n",
       "      <td>2159051.00</td>\n",
       "      <td>201396.00</td>\n",
       "      <td>...</td>\n",
       "      <td>EUDORA</td>\n",
       "      <td>KS</td>\n",
       "      <td>66025</td>\n",
       "      <td>NaN</td>\n",
       "      <td>Domestic Violence</td>\n",
       "      <td>Single Residence (includes attached garage)</td>\n",
       "      <td>D15003626</td>\n",
       "      <td>2.000000e+17</td>\n",
       "      <td>Part 1</td>\n",
       "      <td>01010000205B0D000000000080E578404100000000A095...</td>\n",
       "    </tr>\n",
       "    <tr>\n",
       "      <th>275</th>\n",
       "      <td>276</td>\n",
       "      <td>JCSO</td>\n",
       "      <td>11/25/08 0:00</td>\n",
       "      <td>815.0</td>\n",
       "      <td>13A</td>\n",
       "      <td>AGGRAVATED ASSAULT</td>\n",
       "      <td>JC1</td>\n",
       "      <td>10400.0</td>\n",
       "      <td>2159222.00</td>\n",
       "      <td>247127.00</td>\n",
       "      <td>...</td>\n",
       "      <td>DESOTO</td>\n",
       "      <td>KS</td>\n",
       "      <td>66018</td>\n",
       "      <td>NaN</td>\n",
       "      <td>Not Applicable</td>\n",
       "      <td>Single Residence (includes attached garage)</td>\n",
       "      <td>D08005203</td>\n",
       "      <td>2.000000e+17</td>\n",
       "      <td>Part 1</td>\n",
       "      <td>01010000205B0D0000000000003B79404100000000B82A...</td>\n",
       "    </tr>\n",
       "  </tbody>\n",
       "</table>\n",
       "<p>5 rows × 24 columns</p>\n",
       "</div>"
      ],
      "text/plain": [
       "      id agency       daterept  hourrept ucrcode  \\\n",
       "67    68   JCSO  12/25/12 0:00    1124.0     13A   \n",
       "126  127   JCSO   4/26/13 0:00    2320.0     13A   \n",
       "182  183   JCSO   11/8/15 0:00     844.0     13A   \n",
       "199  200   JCSO   9/27/15 0:00    1327.0     13A   \n",
       "275  276   JCSO  11/25/08 0:00     815.0     13A   \n",
       "\n",
       "                                               offense neighborhood  \\\n",
       "67                                  AGGRAVATED ASSAULT          JC1   \n",
       "126                          AGGRAVATED ASSAULT OF LEO         JCSO   \n",
       "182                                 AGGRAVATED ASSAULT          JC2   \n",
       "199  AGGRAVATED ASSAULT; WITH INTENT TO COMMIT ANY ...          JC2   \n",
       "275                                 AGGRAVATED ASSAULT          JC1   \n",
       "\n",
       "     subdivision         spx        spy  \\\n",
       "67      521200.0  2152110.00  229272.00   \n",
       "126         -1.0  2148528.68  235565.64   \n",
       "182     526000.0  2154923.00  204294.00   \n",
       "199     526400.0  2159051.00  201396.00   \n",
       "275      10400.0  2159222.00  247127.00   \n",
       "\n",
       "                           ...                            city  state    zip  \\\n",
       "67                         ...                          EUDORA     KS  66025   \n",
       "126                        ...                          EUDORA     KS  66025   \n",
       "182                        ...                          EUDORA     KS  66025   \n",
       "199                        ...                          EUDORA     KS  66025   \n",
       "275                        ...                          DESOTO     KS  66018   \n",
       "\n",
       "    theftdescription inactivitydescription  \\\n",
       "67               NaN     Domestic Violence   \n",
       "126              NaN        Not Applicable   \n",
       "182              NaN     Domestic Violence   \n",
       "199              NaN     Domestic Violence   \n",
       "275              NaN        Not Applicable   \n",
       "\n",
       "                              premisedescription incidentid          apid  \\\n",
       "67   Single Residence (includes attached garage)  D12005562  2.000000e+17   \n",
       "126                                  City Street  D13001774           NaN   \n",
       "182  Single Residence (includes attached garage)  D15004171  2.000000e+17   \n",
       "199  Single Residence (includes attached garage)  D15003626  2.000000e+17   \n",
       "275  Single Residence (includes attached garage)  D08005203  2.000000e+17   \n",
       "\n",
       "    crimetype                                               geom  \n",
       "67     Part 1  01010000205B0D000000000000576B404100000000C0FC...  \n",
       "126    Part 1  01010000205B0D0000713D0A5758644041EC51B81E6DC1...  \n",
       "182    Part 1  01010000205B0D000000000080D57040410000000030F0...  \n",
       "199    Part 1  01010000205B0D000000000080E578404100000000A095...  \n",
       "275    Part 1  01010000205B0D0000000000003B79404100000000B82A...  \n",
       "\n",
       "[5 rows x 24 columns]"
      ]
     },
     "execution_count": 95,
     "metadata": {},
     "output_type": "execute_result"
    }
   ],
   "source": [
    "kansas_data[kansas_data['ucrcode'] == '13A'].head()"
   ]
  },
  {
   "cell_type": "code",
   "execution_count": 96,
   "metadata": {
    "collapsed": true
   },
   "outputs": [],
   "source": [
    "index_blackmail = kansas_data.offense[kansas_data['offense'].str.contains('BLACKMAIL') == True].index"
   ]
  },
  {
   "cell_type": "code",
   "execution_count": 97,
   "metadata": {},
   "outputs": [
    {
     "data": {
      "text/plain": [
       "Int64Index([  2842,   8596,   9365,  14182,  17155,  23254,  26347,  31838,\n",
       "             48977,  53450,  61484,  63972,  76649,  90235,  96777,  98081,\n",
       "             99617, 107360, 134332, 143101, 143681, 146127, 158579, 163665,\n",
       "            165349, 166904, 169913, 186720, 192303, 192596, 199709, 201830,\n",
       "            205913, 206901, 210308, 211199, 214194, 215411, 225197, 252828,\n",
       "            256352, 259428, 275437, 280569, 282170, 298471, 299183, 305933,\n",
       "            331849, 332469, 333612],\n",
       "           dtype='int64')"
      ]
     },
     "execution_count": 97,
     "metadata": {},
     "output_type": "execute_result"
    }
   ],
   "source": [
    "index_blackmail"
   ]
  },
  {
   "cell_type": "code",
   "execution_count": 98,
   "metadata": {
    "collapsed": true
   },
   "outputs": [],
   "source": [
    "#kansas_data[kansas_data.ucrcode == '26D']['offense']"
   ]
  },
  {
   "cell_type": "code",
   "execution_count": 99,
   "metadata": {
    "collapsed": true
   },
   "outputs": [],
   "source": [
    "#kansas_data[kansas_data.ucrcode == '510']['offense']"
   ]
  },
  {
   "cell_type": "code",
   "execution_count": 100,
   "metadata": {},
   "outputs": [
    {
     "data": {
      "text/plain": [
       "14107     KNOWINGLY MAKE FALSE WRITING OR ENTRY AT TRACK\n",
       "43238     KNOWINGLY MAKE FALSE WRITING OR ENTRY AT TRACK\n",
       "64827     KNOWINGLY MAKE FALSE WRITING OR ENTRY AT TRACK\n",
       "64894     KNOWINGLY MAKE FALSE WRITING OR ENTRY AT TRACK\n",
       "64973     KNOWINGLY MAKE FALSE WRITING OR ENTRY AT TRACK\n",
       "65893     KNOWINGLY MAKE FALSE WRITING OR ENTRY AT TRACK\n",
       "65932     KNOWINGLY MAKE FALSE WRITING OR ENTRY AT TRACK\n",
       "78124     KNOWINGLY MAKE FALSE WRITING OR ENTRY AT TRACK\n",
       "83241     KNOWINGLY MAKE FALSE WRITING OR ENTRY AT TRACK\n",
       "140545    KNOWINGLY MAKE FALSE WRITING OR ENTRY AT TRACK\n",
       "Name: offense, dtype: object"
      ]
     },
     "execution_count": 100,
     "metadata": {},
     "output_type": "execute_result"
    }
   ],
   "source": [
    "kansas_data[kansas_data.ucrcode == '39A']['offense']"
   ]
  },
  {
   "cell_type": "code",
   "execution_count": 101,
   "metadata": {},
   "outputs": [
    {
     "data": {
      "text/plain": [
       "9095               INVOLUNTARY MANSLAUGHTER; RECKLESSLY\n",
       "9260                           INVOLUNTARY MANSLAUGHTER\n",
       "33850                          INVOLUNTARY MANSLAUGHTER\n",
       "51363    INVOLUNTARY MANSLAUGHTER; UNKNOWN CIRCUMSTANCE\n",
       "92592                          INVOLUNTARY MANSLAUGHTER\n",
       "Name: offense, dtype: object"
      ]
     },
     "execution_count": 101,
     "metadata": {},
     "output_type": "execute_result"
    }
   ],
   "source": [
    "kansas_data[kansas_data.ucrcode == '09B']['offense'].head()"
   ]
  },
  {
   "cell_type": "code",
   "execution_count": 102,
   "metadata": {},
   "outputs": [
    {
     "data": {
      "text/plain": [
       "11464     AGGRAVATED INCEST; INTERCOURSE/SODOMY W/RELATI...\n",
       "64014     AGGRAVATED INCEST; INTERCOURSE/SODOMY W/RELATI...\n",
       "88813                                                INCEST\n",
       "107392      UNLAWFUL SEXUAL RELATIONS; UNKNOWN RELATIONSHIP\n",
       "108415               AGGRAVATED INCEST; SUB-SECTION UNKNOWN\n",
       "Name: offense, dtype: object"
      ]
     },
     "execution_count": 102,
     "metadata": {},
     "output_type": "execute_result"
    }
   ],
   "source": [
    "kansas_data[kansas_data.ucrcode == '36A']['offense'].head()"
   ]
  },
  {
   "cell_type": "code",
   "execution_count": 103,
   "metadata": {
    "collapsed": true
   },
   "outputs": [],
   "source": [
    "#kansas_data[kansas_data.ucrcode == '39A']['offense']"
   ]
  },
  {
   "cell_type": "code",
   "execution_count": 104,
   "metadata": {},
   "outputs": [
    {
     "data": {
      "text/plain": [
       "2842     BLACKMAIL; DISSEMINATE IMAGE/PHOTO/VIDEO PER K...\n",
       "8596                                             BLACKMAIL\n",
       "9365         BLACKMAIL; STATEMENT TO CAUSE PUBLIC RIDECULE\n",
       "14182                                            BLACKMAIL\n",
       "17155                                            BLACKMAIL\n",
       "Name: offense, dtype: object"
      ]
     },
     "execution_count": 104,
     "metadata": {},
     "output_type": "execute_result"
    }
   ],
   "source": [
    "kansas_data[kansas_data.ucrcode == '210']['offense'].head()"
   ]
  },
  {
   "cell_type": "code",
   "execution_count": 105,
   "metadata": {
    "collapsed": true
   },
   "outputs": [],
   "source": [
    "#kansas_data[kansas_data.ucrcode == '90E']['offense'].head()"
   ]
  },
  {
   "cell_type": "code",
   "execution_count": 106,
   "metadata": {
    "collapsed": true
   },
   "outputs": [],
   "source": [
    "#kansas_data.to_csv('kansas_data_cleaned_ucrcode.csv', index = False)"
   ]
  },
  {
   "cell_type": "markdown",
   "metadata": {
    "collapsed": true
   },
   "source": [
    "### Data Manipulation of the time and date "
   ]
  },
  {
   "cell_type": "code",
   "execution_count": 107,
   "metadata": {
    "collapsed": true
   },
   "outputs": [],
   "source": [
    "kansas_data['hourrept'] = kansas_data.hourrept.apply(lambda x: str(x).zfill(6))"
   ]
  },
  {
   "cell_type": "code",
   "execution_count": 108,
   "metadata": {},
   "outputs": [
    {
     "data": {
      "text/plain": [
       "0    1120.0\n",
       "1    1514.0\n",
       "2    1346.0\n",
       "3    0145.0\n",
       "4    1952.0\n",
       "Name: hourrept, dtype: object"
      ]
     },
     "execution_count": 108,
     "metadata": {},
     "output_type": "execute_result"
    }
   ],
   "source": [
    "kansas_data['hourrept'].head()"
   ]
  },
  {
   "cell_type": "code",
   "execution_count": 109,
   "metadata": {
    "collapsed": true
   },
   "outputs": [],
   "source": [
    "kansas_data['hourrept'] = kansas_data.hourrept.apply(lambda x: x[:2]+':'+x[2:4]+':00')"
   ]
  },
  {
   "cell_type": "code",
   "execution_count": 110,
   "metadata": {},
   "outputs": [
    {
     "data": {
      "text/plain": [
       "0    11:20:00\n",
       "1    15:14:00\n",
       "2    13:46:00\n",
       "3    01:45:00\n",
       "4    19:52:00\n",
       "Name: hourrept, dtype: object"
      ]
     },
     "execution_count": 110,
     "metadata": {},
     "output_type": "execute_result"
    }
   ],
   "source": [
    "kansas_data['hourrept'].head()"
   ]
  },
  {
   "cell_type": "code",
   "execution_count": 111,
   "metadata": {},
   "outputs": [
    {
     "data": {
      "text/plain": [
       "0"
      ]
     },
     "execution_count": 111,
     "metadata": {},
     "output_type": "execute_result"
    }
   ],
   "source": [
    "missing_count(kansas_data)['hourrept']"
   ]
  },
  {
   "cell_type": "code",
   "execution_count": 112,
   "metadata": {},
   "outputs": [
    {
     "data": {
      "text/plain": [
       "['11', '20', '00']"
      ]
     },
     "execution_count": 112,
     "metadata": {},
     "output_type": "execute_result"
    }
   ],
   "source": [
    "kansas_data['hourrept'][0].split(':')"
   ]
  },
  {
   "cell_type": "code",
   "execution_count": 113,
   "metadata": {
    "collapsed": true
   },
   "outputs": [],
   "source": [
    "kansas_data['Hour'] = kansas_data.hourrept.apply(lambda x: int(x.split(':')[0]))"
   ]
  },
  {
   "cell_type": "code",
   "execution_count": 114,
   "metadata": {
    "collapsed": true
   },
   "outputs": [],
   "source": [
    "kansas_data['Minute'] = kansas_data.hourrept.apply(lambda x: x.split(':')[1])"
   ]
  },
  {
   "cell_type": "code",
   "execution_count": 115,
   "metadata": {},
   "outputs": [
    {
     "data": {
      "text/plain": [
       "00    23998\n",
       "30    14601\n",
       "45     8515\n",
       "15     8087\n",
       "20     6883\n",
       "50     6795\n",
       "40     6609\n",
       "10     6548\n",
       "05     5958\n",
       "35     5875\n",
       "55     5785\n",
       "25     5691\n",
       "01     5275\n",
       "46     4911\n",
       "06     4894\n",
       "47     4894\n",
       "58     4889\n",
       "33     4889\n",
       "38     4888\n",
       "18     4883\n",
       "21     4879\n",
       "07     4871\n",
       "14     4866\n",
       "22     4854\n",
       "27     4851\n",
       "08     4850\n",
       "24     4844\n",
       "13     4841\n",
       "31     4838\n",
       "43     4838\n",
       "      ...  \n",
       "48     4829\n",
       "44     4829\n",
       "42     4818\n",
       "12     4812\n",
       "03     4806\n",
       "23     4805\n",
       "56     4805\n",
       "34     4773\n",
       "59     4762\n",
       "49     4754\n",
       "51     4752\n",
       "37     4751\n",
       "54     4742\n",
       "36     4727\n",
       "41     4726\n",
       "02     4725\n",
       "26     4723\n",
       "16     4719\n",
       "11     4717\n",
       "29     4715\n",
       "09     4706\n",
       "28     4699\n",
       "52     4695\n",
       "19     4690\n",
       "04     4678\n",
       "17     4662\n",
       "53     4658\n",
       "39     4656\n",
       "57     4650\n",
       "0n        1\n",
       "Name: Minute, Length: 61, dtype: int64"
      ]
     },
     "execution_count": 115,
     "metadata": {},
     "output_type": "execute_result"
    }
   ],
   "source": [
    "kansas_data['Minute'].value_counts()"
   ]
  },
  {
   "cell_type": "markdown",
   "metadata": {},
   "source": [
    "### We see there are a value '0n' in 'Minute' feature which is not what we want, so we need to remove this value."
   ]
  },
  {
   "cell_type": "code",
   "execution_count": 116,
   "metadata": {
    "collapsed": true
   },
   "outputs": [],
   "source": [
    "kansas_data = kansas_data[kansas_data['Minute'] != '0n']"
   ]
  },
  {
   "cell_type": "code",
   "execution_count": 117,
   "metadata": {
    "collapsed": true
   },
   "outputs": [],
   "source": [
    "kansas_data['Minute'] = kansas_data.Minute.apply(lambda x: int(x))"
   ]
  },
  {
   "cell_type": "code",
   "execution_count": 118,
   "metadata": {
    "collapsed": true
   },
   "outputs": [],
   "source": [
    "kansas_data['Time'] = 60*kansas_data['Hour'] + kansas_data['Minute']"
   ]
  },
  {
   "cell_type": "code",
   "execution_count": 119,
   "metadata": {},
   "outputs": [
    {
     "data": {
      "text/plain": [
       "0     680\n",
       "1     914\n",
       "2     826\n",
       "3     105\n",
       "4    1192\n",
       "Name: Time, dtype: int64"
      ]
     },
     "execution_count": 119,
     "metadata": {},
     "output_type": "execute_result"
    }
   ],
   "source": [
    "kansas_data['Time'].head()"
   ]
  },
  {
   "cell_type": "code",
   "execution_count": 120,
   "metadata": {
    "collapsed": true
   },
   "outputs": [],
   "source": [
    "kansas_data['Date'] = kansas_data.daterept.apply(lambda x: pd.to_datetime(x.split(' ')[0]))"
   ]
  },
  {
   "cell_type": "code",
   "execution_count": 121,
   "metadata": {},
   "outputs": [
    {
     "data": {
      "text/plain": [
       "0   2009-09-11\n",
       "1   2015-07-03\n",
       "2   2005-06-27\n",
       "3   2005-02-05\n",
       "4   2010-04-14\n",
       "Name: Date, dtype: datetime64[ns]"
      ]
     },
     "execution_count": 121,
     "metadata": {},
     "output_type": "execute_result"
    }
   ],
   "source": [
    "kansas_data['Date'].head()"
   ]
  },
  {
   "cell_type": "code",
   "execution_count": 122,
   "metadata": {
    "collapsed": true
   },
   "outputs": [],
   "source": [
    "kansas_data['Day']=kansas_data['Date'].dt.day\n",
    "kansas_data['DayOfWeek']=kansas_data['Date'].dt.dayofweek\n",
    "kansas_data['Week']=kansas_data['Date'].dt.weekofyear\n",
    "kansas_data['Month']=kansas_data['Date'].dt.month\n",
    "kansas_data['Year']=kansas_data['Date'].dt.year"
   ]
  },
  {
   "cell_type": "code",
   "execution_count": 123,
   "metadata": {},
   "outputs": [
    {
     "data": {
      "text/plain": [
       "0    11\n",
       "1     3\n",
       "2    27\n",
       "3     5\n",
       "4    14\n",
       "Name: Day, dtype: int64"
      ]
     },
     "execution_count": 123,
     "metadata": {},
     "output_type": "execute_result"
    }
   ],
   "source": [
    "kansas_data['Day'].head()"
   ]
  },
  {
   "cell_type": "code",
   "execution_count": 124,
   "metadata": {},
   "outputs": [
    {
     "data": {
      "text/plain": [
       "0    4\n",
       "1    4\n",
       "2    0\n",
       "3    5\n",
       "4    2\n",
       "Name: DayOfWeek, dtype: int64"
      ]
     },
     "execution_count": 124,
     "metadata": {},
     "output_type": "execute_result"
    }
   ],
   "source": [
    "kansas_data['DayOfWeek'].head()"
   ]
  },
  {
   "cell_type": "code",
   "execution_count": 125,
   "metadata": {},
   "outputs": [
    {
     "data": {
      "text/plain": [
       "0    37\n",
       "1    27\n",
       "2    26\n",
       "3     5\n",
       "4    15\n",
       "Name: Week, dtype: int64"
      ]
     },
     "execution_count": 125,
     "metadata": {},
     "output_type": "execute_result"
    }
   ],
   "source": [
    "kansas_data['Week'].head()"
   ]
  },
  {
   "cell_type": "code",
   "execution_count": 126,
   "metadata": {},
   "outputs": [
    {
     "data": {
      "text/plain": [
       "0    9\n",
       "1    7\n",
       "2    6\n",
       "3    2\n",
       "4    4\n",
       "Name: Month, dtype: int64"
      ]
     },
     "execution_count": 126,
     "metadata": {},
     "output_type": "execute_result"
    }
   ],
   "source": [
    "kansas_data['Month'].head()"
   ]
  },
  {
   "cell_type": "code",
   "execution_count": 127,
   "metadata": {},
   "outputs": [
    {
     "data": {
      "text/plain": [
       "0    2009\n",
       "1    2015\n",
       "2    2005\n",
       "3    2005\n",
       "4    2010\n",
       "Name: Year, dtype: int64"
      ]
     },
     "execution_count": 127,
     "metadata": {},
     "output_type": "execute_result"
    }
   ],
   "source": [
    "kansas_data['Year'].head()"
   ]
  },
  {
   "cell_type": "code",
   "execution_count": 128,
   "metadata": {
    "collapsed": true
   },
   "outputs": [],
   "source": [
    "month_names={1:\"Jan\",2:\"Feb\",3:\"Mar\",4:\"Apr\",5:\"May\",6:\"Jun\",7:\"Jul\",8:\"Aug\",9:\"Sep\",10:\"Oct\",11:\"Nov\",12:\"Dec\"}"
   ]
  },
  {
   "cell_type": "code",
   "execution_count": 129,
   "metadata": {
    "collapsed": true
   },
   "outputs": [],
   "source": [
    "day_names = {0: 'Monday', 1:'Tuesday', 2:'Wednesday', 3:'Thursday',\n",
    "             4:'Friday', 5:'Saturday', 6:'Sunday'}"
   ]
  },
  {
   "cell_type": "code",
   "execution_count": 130,
   "metadata": {
    "collapsed": true
   },
   "outputs": [],
   "source": [
    "kansas_data['FullDayOfWeek'] = kansas_data['DayOfWeek'].apply(lambda x: day_names[x])\n",
    "kansas_data['FullMonth'] = kansas_data['Month'].apply(lambda x: month_names[x])"
   ]
  },
  {
   "cell_type": "code",
   "execution_count": 131,
   "metadata": {},
   "outputs": [
    {
     "data": {
      "text/plain": [
       "0    Sep\n",
       "1    Jul\n",
       "2    Jun\n",
       "3    Feb\n",
       "4    Apr\n",
       "Name: FullMonth, dtype: object"
      ]
     },
     "execution_count": 131,
     "metadata": {},
     "output_type": "execute_result"
    }
   ],
   "source": [
    "kansas_data['FullMonth'].head()"
   ]
  },
  {
   "cell_type": "code",
   "execution_count": 132,
   "metadata": {},
   "outputs": [
    {
     "data": {
      "text/plain": [
       "{'Date': 0,\n",
       " 'Day': 0,\n",
       " 'DayOfWeek': 0,\n",
       " 'FullDayOfWeek': 0,\n",
       " 'FullMonth': 0,\n",
       " 'Hour': 0,\n",
       " 'Minute': 0,\n",
       " 'Month': 0,\n",
       " 'Time': 0,\n",
       " 'Week': 0,\n",
       " 'Year': 0,\n",
       " 'agency': 1,\n",
       " 'apid': 97698,\n",
       " 'city': 203,\n",
       " 'crimetype': 0,\n",
       " 'daterept': 0,\n",
       " 'fulllocation': 0,\n",
       " 'geom': 0,\n",
       " 'hourrept': 0,\n",
       " 'id': 0,\n",
       " 'inactivitydescription': 34429,\n",
       " 'incidentid': 0,\n",
       " 'location': 0,\n",
       " 'neighborhood': 70224,\n",
       " 'offense': 1,\n",
       " 'premisedescription': 30360,\n",
       " 'spx': 0,\n",
       " 'spy': 0,\n",
       " 'state': 2804,\n",
       " 'subdivision': 30870,\n",
       " 'theftdescription': 235053,\n",
       " 'ucrcode': 125,\n",
       " 'x': 0,\n",
       " 'y': 0,\n",
       " 'zip': 24797}"
      ]
     },
     "execution_count": 132,
     "metadata": {},
     "output_type": "execute_result"
    }
   ],
   "source": [
    "missing_count(kansas_data)"
   ]
  },
  {
   "cell_type": "code",
   "execution_count": 133,
   "metadata": {
    "collapsed": true
   },
   "outputs": [],
   "source": [
    "#kansas_data.to_csv('kansas_data_timeAnducrcode_cleaned.csv')"
   ]
  },
  {
   "cell_type": "markdown",
   "metadata": {},
   "source": [
    "## Next we clean the city names."
   ]
  },
  {
   "cell_type": "code",
   "execution_count": 134,
   "metadata": {},
   "outputs": [
    {
     "data": {
      "text/plain": [
       "(335613, 35)"
      ]
     },
     "execution_count": 134,
     "metadata": {},
     "output_type": "execute_result"
    }
   ],
   "source": [
    "kansas_data.shape"
   ]
  },
  {
   "cell_type": "code",
   "execution_count": 135,
   "metadata": {
    "collapsed": true
   },
   "outputs": [],
   "source": [
    "kansas_data['city'].fillna('Unknown',inplace = True)"
   ]
  },
  {
   "cell_type": "code",
   "execution_count": 136,
   "metadata": {},
   "outputs": [
    {
     "data": {
      "text/plain": [
       "0"
      ]
     },
     "execution_count": 136,
     "metadata": {},
     "output_type": "execute_result"
    }
   ],
   "source": [
    "missing_count(kansas_data)['city']"
   ]
  },
  {
   "cell_type": "code",
   "execution_count": 137,
   "metadata": {
    "collapsed": true
   },
   "outputs": [],
   "source": [
    "kansas_data.loc[kansas_data['city'].str.contains('OVER'),'city'] = 'OVERLAND PARK'\n",
    "kansas_data.loc[kansas_data['city'].str.contains('OVPKS'),'city'] = 'OVERLAND PARK'\n",
    "\n",
    "kansas_data.loc[kansas_data['city'].str.contains('OLA'),'city'] = 'OLATHE'\n",
    "kansas_data.loc[kansas_data['city'].str.contains('WEST WOOD'),'city'] = 'WESTWOOD'\n",
    "kansas_data.loc[kansas_data['city'].str.contains('MSSION'),'city'] = 'MISSION'\n",
    "kansas_data.loc[kansas_data['city'].str.contains('LAKE_QUIVIRA'),'city'] = 'LAKE QUIVIRA'\n",
    "kansas_data.loc[kansas_data['city'].str.contains('OLA'),'city'] = 'OLATHE'\n",
    "kansas_data.loc[kansas_data['city'].str.contains('OALTHE'),'city'] = 'OLATHE'\n",
    "kansas_data.loc[kansas_data['city'].str.contains('OVER'),'city'] = 'OVERLAND PARK'\n",
    "kansas_data.loc[kansas_data['city'].str.contains('OLA'),'city'] = 'OLATHE'\n",
    "kansas_data.loc[kansas_data['city'].str.contains('SPRING_HILL'),'city'] = 'SPRING HILL'\n",
    "kansas_data.loc[kansas_data['city'].str.contains('BONNER_SPRINGS'),'city'] = 'BONNER SPRING'\n",
    "kansas_data.loc[kansas_data['city'].str.contains('OVELRAND'),'city'] = 'OVERLAND PARK'\n",
    "kansas_data.loc[kansas_data['city'].str.contains('MISSION_WOODS'),'city'] = 'MISSION WOODS'\n",
    "kansas_data.loc[kansas_data['city'].str.contains('SPRINGHILL'),'city'] = 'SPRING HILL'\n",
    "kansas_data.loc[kansas_data['city'].str.contains('OATHE'),'city'] = 'OLATHE'\n",
    "kansas_data.loc[kansas_data['city'].str.contains('OLTH'),'city'] = 'OLATHE'\n",
    "kansas_data.loc[kansas_data['city'].str.contains('MISSIION'),'city'] = 'MISSION'\n",
    "kansas_data.loc[kansas_data['city'].str.contains('MISSSION'),'city'] = 'MISSION'\n",
    "kansas_data.loc[kansas_data['city'].str.contains('PRAIRE VILLAGE'),'city'] = 'PRAIRIE VILLAGE'\n",
    "kansas_data.loc[kansas_data['city'].str.contains('WESTWOOD_HILLS'),'city'] = 'WESTWOOD'\n",
    "kansas_data.loc[kansas_data['city'].str.contains('NEW CENTRY'),'city'] = 'NEW CENTURY'\n",
    "kansas_data.loc[kansas_data['city'].str.contains('BONNER SPRING'),'city'] = 'BONNER SPRINGS'\n",
    "kansas_data.loc[kansas_data['city'].str.contains('MERIAM'),'city'] = 'MERRIAM'\n",
    "kansas_data.loc[kansas_data['city'].str.contains('OLA'),'city'] = 'OLATHE'\n",
    "kansas_data.loc[kansas_data['city'].str.contains('OVELAND PARK'),'city'] = 'OVERLAND PARK'\n",
    "kansas_data.loc[kansas_data['city'].str.contains('STILLWELL'),'city'] = 'STILWELL'\n",
    "kansas_data.loc[kansas_data['city'].str.contains('ROELAND'),'city'] = 'OVERLAND PARK'\n",
    "kansas_data.loc[kansas_data['city'].str.contains('PRAIRIE'),'city'] = 'PRAIRIE VILLAGE'\n",
    "kansas_data.loc[kansas_data['city'].str.contains('PRARIE VILLAGE'),'city']='PRAIRIE VILLAGE'\n",
    "kansas_data.loc[kansas_data['city'].str.contains('NEW_CENTURY'),'city'] = 'NEW CENTURY'\n",
    "kansas_data.loc[kansas_data['city'].str.contains('MISSION_HILLS'),'city'] = 'MISSION HILLS'\n",
    "kansas_data.loc[kansas_data['city'].str.contains('SPRING_HILLS'),'city'] = 'SPRING HILLS'\n",
    "kansas_data.loc[kansas_data['city'].str.contains(' OVPK'),'city'] = 'OVERLAND PARK'\n",
    "kansas_data.loc[kansas_data['city'].str.contains('MISISON'),'city'] = 'MISSION'\n",
    "kansas_data.loc[kansas_data['city'].str.contains('DESOTO'),'city'] = 'DE SOTO'\n",
    "kansas_data.loc[kansas_data['city'].str.contains('DE SOTO'),'city'] = 'DE SOTO'\n",
    "kansas_data.loc[kansas_data['city'].str.contains('DSTO'),'city'] = 'DE SOTO'\n",
    "kansas_data.loc[kansas_data['city'].str.contains('MERRIAM KS'),'city'] = 'MERRIAM'\n",
    "kansas_data.loc[kansas_data['city'].str.contains('SPRING_HILLS'),'city'] = 'SPRING HILLS'\n",
    "kansas_data.loc[kansas_data['city'].str.contains('SHWN'),'city'] = 'SHAWNEE'\n",
    "kansas_data.loc[kansas_data['city'].str.contains('MISSON_WOODS'),'city'] = 'MISSION WOODS'\n"
   ]
  },
  {
   "cell_type": "code",
   "execution_count": 138,
   "metadata": {
    "collapsed": true
   },
   "outputs": [],
   "source": [
    "kansas_data=kansas_data[kansas_data.city!='20705 W. 151ST STREE']\n",
    "kansas_data=kansas_data[kansas_data.city!='WAUKESHA']"
   ]
  },
  {
   "cell_type": "code",
   "execution_count": 139,
   "metadata": {
    "collapsed": true
   },
   "outputs": [],
   "source": [
    "#kansas_data.city.value_counts()"
   ]
  },
  {
   "cell_type": "markdown",
   "metadata": {},
   "source": [
    "## Finally try to see whether there's anything to be done on the x, y coordinates."
   ]
  },
  {
   "cell_type": "code",
   "execution_count": 140,
   "metadata": {},
   "outputs": [
    {
     "data": {
      "text/plain": [
       "count    335611.000000\n",
       "mean        -93.656092\n",
       "std          11.963704\n",
       "min         -97.610003\n",
       "25%         -94.791173\n",
       "50%         -94.719215\n",
       "75%         -94.670748\n",
       "max          39.051429\n",
       "Name: x, dtype: float64"
      ]
     },
     "execution_count": 140,
     "metadata": {},
     "output_type": "execute_result"
    }
   ],
   "source": [
    "kansas_data['x'].describe()"
   ]
  },
  {
   "cell_type": "code",
   "execution_count": 141,
   "metadata": {
    "collapsed": true
   },
   "outputs": [],
   "source": [
    "x_cord = kansas_data['x']"
   ]
  },
  {
   "cell_type": "code",
   "execution_count": 142,
   "metadata": {},
   "outputs": [
    {
     "data": {
      "text/plain": [
       "2"
      ]
     },
     "execution_count": 142,
     "metadata": {},
     "output_type": "execute_result"
    }
   ],
   "source": [
    "x_cord.loc[x_cord < -97].count()"
   ]
  },
  {
   "cell_type": "code",
   "execution_count": 143,
   "metadata": {},
   "outputs": [
    {
     "data": {
      "text/plain": [
       "2"
      ]
     },
     "execution_count": 143,
     "metadata": {},
     "output_type": "execute_result"
    }
   ],
   "source": [
    "x_cord.loc[x_cord < -96].count()"
   ]
  },
  {
   "cell_type": "code",
   "execution_count": 144,
   "metadata": {},
   "outputs": [
    {
     "data": {
      "text/plain": [
       "2435"
      ]
     },
     "execution_count": 144,
     "metadata": {},
     "output_type": "execute_result"
    }
   ],
   "source": [
    "x_cord.loc[x_cord < -95].count()"
   ]
  },
  {
   "cell_type": "code",
   "execution_count": 145,
   "metadata": {},
   "outputs": [
    {
     "data": {
      "text/plain": [
       "87"
      ]
     },
     "execution_count": 145,
     "metadata": {},
     "output_type": "execute_result"
    }
   ],
   "source": [
    "x_cord.loc[x_cord < -95.05].count()"
   ]
  },
  {
   "cell_type": "code",
   "execution_count": 146,
   "metadata": {},
   "outputs": [
    {
     "data": {
      "text/plain": [
       "2"
      ]
     },
     "execution_count": 146,
     "metadata": {},
     "output_type": "execute_result"
    }
   ],
   "source": [
    "x_cord.loc[x_cord < -95.1].count()"
   ]
  },
  {
   "cell_type": "code",
   "execution_count": 147,
   "metadata": {
    "collapsed": true
   },
   "outputs": [],
   "source": [
    "kansas_data = kansas_data[kansas_data['x'] >= -95.1]"
   ]
  },
  {
   "cell_type": "code",
   "execution_count": 148,
   "metadata": {},
   "outputs": [
    {
     "data": {
      "text/plain": [
       "2707"
      ]
     },
     "execution_count": 148,
     "metadata": {},
     "output_type": "execute_result"
    }
   ],
   "source": [
    "x_cord.loc[x_cord > -94].count()    ## 2707 wrong x cordinates"
   ]
  },
  {
   "cell_type": "code",
   "execution_count": 149,
   "metadata": {},
   "outputs": [
    {
     "data": {
      "text/plain": [
       "39.011965    143\n",
       "39.023860     78\n",
       "39.025393     49\n",
       "39.010610     27\n",
       "38.994423     21\n",
       "39.013538     21\n",
       "39.010517     16\n",
       "39.015943     16\n",
       "39.022364     13\n",
       "38.992380     12\n",
       "39.006356     12\n",
       "39.016287     10\n",
       "39.016030      9\n",
       "39.011932      8\n",
       "39.023055      8\n",
       "39.029518      7\n",
       "39.040382      7\n",
       "39.011817      7\n",
       "39.021475      7\n",
       "39.008255      7\n",
       "39.012736      7\n",
       "39.024287      7\n",
       "39.013670      7\n",
       "39.016917      6\n",
       "39.012458      6\n",
       "39.013915      6\n",
       "38.988318      5\n",
       "39.012841      5\n",
       "39.014303      5\n",
       "39.010101      5\n",
       "            ... \n",
       "39.008788      1\n",
       "39.010403      1\n",
       "39.001943      1\n",
       "38.995649      1\n",
       "38.988601      1\n",
       "39.012684      1\n",
       "39.008045      1\n",
       "39.042724      1\n",
       "39.004149      1\n",
       "39.022248      1\n",
       "38.994575      1\n",
       "39.002782      1\n",
       "38.997239      1\n",
       "39.013031      1\n",
       "39.026846      1\n",
       "39.005318      1\n",
       "39.035070      1\n",
       "39.022355      1\n",
       "39.032762      1\n",
       "39.036740      1\n",
       "39.019798      1\n",
       "39.051171      1\n",
       "39.040316      1\n",
       "38.999947      1\n",
       "38.991890      1\n",
       "38.997174      1\n",
       "39.001962      1\n",
       "39.012106      1\n",
       "38.999754      1\n",
       "39.010012      1\n",
       "Name: x, Length: 1816, dtype: int64"
      ]
     },
     "execution_count": 149,
     "metadata": {},
     "output_type": "execute_result"
    }
   ],
   "source": [
    "x_cord.loc[x_cord > -94].value_counts()"
   ]
  },
  {
   "cell_type": "code",
   "execution_count": 150,
   "metadata": {},
   "outputs": [
    {
     "data": {
      "text/html": [
       "<div>\n",
       "<style>\n",
       "    .dataframe thead tr:only-child th {\n",
       "        text-align: right;\n",
       "    }\n",
       "\n",
       "    .dataframe thead th {\n",
       "        text-align: left;\n",
       "    }\n",
       "\n",
       "    .dataframe tbody tr th {\n",
       "        vertical-align: top;\n",
       "    }\n",
       "</style>\n",
       "<table border=\"1\" class=\"dataframe\">\n",
       "  <thead>\n",
       "    <tr style=\"text-align: right;\">\n",
       "      <th></th>\n",
       "      <th>id</th>\n",
       "      <th>agency</th>\n",
       "      <th>daterept</th>\n",
       "      <th>hourrept</th>\n",
       "      <th>ucrcode</th>\n",
       "      <th>offense</th>\n",
       "      <th>neighborhood</th>\n",
       "      <th>subdivision</th>\n",
       "      <th>spx</th>\n",
       "      <th>spy</th>\n",
       "      <th>...</th>\n",
       "      <th>Minute</th>\n",
       "      <th>Time</th>\n",
       "      <th>Date</th>\n",
       "      <th>Day</th>\n",
       "      <th>DayOfWeek</th>\n",
       "      <th>Week</th>\n",
       "      <th>Month</th>\n",
       "      <th>Year</th>\n",
       "      <th>FullDayOfWeek</th>\n",
       "      <th>FullMonth</th>\n",
       "    </tr>\n",
       "  </thead>\n",
       "  <tbody>\n",
       "    <tr>\n",
       "      <th>334976</th>\n",
       "      <td>3002069</td>\n",
       "      <td>SPD</td>\n",
       "      <td>8/24/15 0:00</td>\n",
       "      <td>15:46:00</td>\n",
       "      <td>23</td>\n",
       "      <td>THEFT OF PROPERTY OR SERVICES; VALUE $1,000 TO...</td>\n",
       "      <td>NaN</td>\n",
       "      <td>NaN</td>\n",
       "      <td>2205067.0</td>\n",
       "      <td>277036.0</td>\n",
       "      <td>...</td>\n",
       "      <td>46</td>\n",
       "      <td>946</td>\n",
       "      <td>2015-08-24</td>\n",
       "      <td>24</td>\n",
       "      <td>0</td>\n",
       "      <td>35</td>\n",
       "      <td>8</td>\n",
       "      <td>2015</td>\n",
       "      <td>Monday</td>\n",
       "      <td>Aug</td>\n",
       "    </tr>\n",
       "  </tbody>\n",
       "</table>\n",
       "<p>1 rows × 35 columns</p>\n",
       "</div>"
      ],
      "text/plain": [
       "             id agency      daterept  hourrept ucrcode  \\\n",
       "334976  3002069    SPD  8/24/15 0:00  15:46:00      23   \n",
       "\n",
       "                                                  offense neighborhood  \\\n",
       "334976  THEFT OF PROPERTY OR SERVICES; VALUE $1,000 TO...          NaN   \n",
       "\n",
       "        subdivision        spx       spy    ...     Minute  Time       Date  \\\n",
       "334976          NaN  2205067.0  277036.0    ...         46   946 2015-08-24   \n",
       "\n",
       "       Day DayOfWeek Week Month  Year FullDayOfWeek FullMonth  \n",
       "334976  24         0   35     8  2015        Monday       Aug  \n",
       "\n",
       "[1 rows x 35 columns]"
      ]
     },
     "execution_count": 150,
     "metadata": {},
     "output_type": "execute_result"
    }
   ],
   "source": [
    "kansas_data.loc[kansas_data['x'] == 39.051429]"
   ]
  },
  {
   "cell_type": "code",
   "execution_count": 151,
   "metadata": {},
   "outputs": [
    {
     "data": {
      "text/plain": [
       "334976   -94.855833\n",
       "Name: y, dtype: float64"
      ]
     },
     "execution_count": 151,
     "metadata": {},
     "output_type": "execute_result"
    }
   ],
   "source": [
    "kansas_data.loc[kansas_data['x'] == 39.051429]['y']"
   ]
  },
  {
   "cell_type": "markdown",
   "metadata": {},
   "source": [
    "### We see there's a problem of wrong input of x and y. It seems there are 2707 cases where people mistake x for y and mistake y for x."
   ]
  },
  {
   "cell_type": "code",
   "execution_count": 152,
   "metadata": {},
   "outputs": [
    {
     "data": {
      "text/plain": [
       "count    335609.000000\n",
       "mean         37.846984\n",
       "std          11.957851\n",
       "min         -94.897892\n",
       "25%          38.882506\n",
       "50%          38.917891\n",
       "75%          38.969716\n",
       "max          39.369999\n",
       "Name: y, dtype: float64"
      ]
     },
     "execution_count": 152,
     "metadata": {},
     "output_type": "execute_result"
    }
   ],
   "source": [
    "kansas_data['y'].describe()"
   ]
  },
  {
   "cell_type": "code",
   "execution_count": 153,
   "metadata": {
    "collapsed": true
   },
   "outputs": [],
   "source": [
    "y_cord = kansas_data['y']"
   ]
  },
  {
   "cell_type": "code",
   "execution_count": 154,
   "metadata": {},
   "outputs": [
    {
     "data": {
      "text/plain": [
       "2707"
      ]
     },
     "execution_count": 154,
     "metadata": {},
     "output_type": "execute_result"
    }
   ],
   "source": [
    "y_cord.loc[y_cord < 38].count()   ## 2707 wrong y coordinates"
   ]
  },
  {
   "cell_type": "code",
   "execution_count": 155,
   "metadata": {},
   "outputs": [
    {
     "data": {
      "text/plain": [
       "-94.772829    143\n",
       "-94.782270     78\n",
       "-94.849959     49\n",
       "-94.767982     27\n",
       "-94.717735     21\n",
       "-94.713525     21\n",
       "-94.765834     16\n",
       "-94.743511     16\n",
       "-94.724791     13\n",
       "-94.767166     12\n",
       "-94.705533     12\n",
       "-94.725471     10\n",
       "-94.738690     10\n",
       "-94.734575      8\n",
       "-94.775383      8\n",
       "-94.722023      7\n",
       "-94.713874      7\n",
       "-94.744538      7\n",
       "-94.720092      7\n",
       "-94.720095      7\n",
       "-94.825173      7\n",
       "-94.730274      7\n",
       "-94.749485      6\n",
       "-94.705624      6\n",
       "-94.826514      6\n",
       "-94.721454      5\n",
       "-94.713249      5\n",
       "-94.743221      5\n",
       "-94.844000      5\n",
       "-94.710278      5\n",
       "             ... \n",
       "-94.747169      1\n",
       "-94.847170      1\n",
       "-94.783102      1\n",
       "-94.716898      1\n",
       "-94.748457      1\n",
       "-94.713305      1\n",
       "-94.712113      1\n",
       "-94.731525      1\n",
       "-94.746443      1\n",
       "-94.865623      1\n",
       "-94.830402      1\n",
       "-94.748885      1\n",
       "-94.763644      1\n",
       "-94.860345      1\n",
       "-94.839055      1\n",
       "-94.717796      1\n",
       "-94.711776      1\n",
       "-94.747571      1\n",
       "-94.708703      1\n",
       "-94.734399      1\n",
       "-94.755927      1\n",
       "-94.750083      1\n",
       "-94.850010      1\n",
       "-94.762765      1\n",
       "-94.714960      1\n",
       "-94.715304      1\n",
       "-94.726472      1\n",
       "-94.868299      1\n",
       "-94.724601      1\n",
       "-94.725378      1\n",
       "Name: y, Length: 1834, dtype: int64"
      ]
     },
     "execution_count": 155,
     "metadata": {},
     "output_type": "execute_result"
    }
   ],
   "source": [
    "y_cord.loc[y_cord < 38].value_counts()   ## 2707 wrong y coordinates"
   ]
  },
  {
   "cell_type": "markdown",
   "metadata": {},
   "source": [
    "### We want to make sure that the wrong input of x corresponds to the wrong input of y."
   ]
  },
  {
   "cell_type": "code",
   "execution_count": 156,
   "metadata": {},
   "outputs": [
    {
     "data": {
      "text/plain": [
       "count    2707.000000\n",
       "mean      -94.758371\n",
       "std         0.048858\n",
       "min       -94.897892\n",
       "25%       -94.780556\n",
       "50%       -94.744538\n",
       "75%       -94.717787\n",
       "max       -94.624417\n",
       "Name: y, dtype: float64"
      ]
     },
     "execution_count": 156,
     "metadata": {},
     "output_type": "execute_result"
    }
   ],
   "source": [
    "kansas_data[kansas_data['x'] > -94]['y'].describe()"
   ]
  },
  {
   "cell_type": "code",
   "execution_count": 157,
   "metadata": {},
   "outputs": [
    {
     "data": {
      "text/plain": [
       "count    2707.000000\n",
       "mean       39.013336\n",
       "std         0.016459\n",
       "min        38.741549\n",
       "25%        39.004136\n",
       "50%        39.012503\n",
       "75%        39.023860\n",
       "max        39.051429\n",
       "Name: x, dtype: float64"
      ]
     },
     "execution_count": 157,
     "metadata": {},
     "output_type": "execute_result"
    }
   ],
   "source": [
    "kansas_data[kansas_data['y'] < 38]['x'].describe()"
   ]
  },
  {
   "cell_type": "markdown",
   "metadata": {},
   "source": [
    "### Now what we need to do is we need to switch x and y coordinates for those pieces of data."
   ]
  },
  {
   "cell_type": "code",
   "execution_count": 158,
   "metadata": {
    "collapsed": true
   },
   "outputs": [],
   "source": [
    "wrong_y_cord = kansas_data[kansas_data['x'] > - 94]['y']"
   ]
  },
  {
   "cell_type": "code",
   "execution_count": 159,
   "metadata": {
    "collapsed": true
   },
   "outputs": [],
   "source": [
    "#wrong_y_cord"
   ]
  },
  {
   "cell_type": "code",
   "execution_count": 160,
   "metadata": {},
   "outputs": [
    {
     "data": {
      "text/plain": [
       "Int64Index([332907, 332908, 332909, 332910, 332911, 332912, 332913, 332914,\n",
       "            332915, 332916,\n",
       "            ...\n",
       "            335604, 335605, 335606, 335607, 335608, 335609, 335610, 335611,\n",
       "            335612, 335613],\n",
       "           dtype='int64', length=2707)"
      ]
     },
     "execution_count": 160,
     "metadata": {},
     "output_type": "execute_result"
    }
   ],
   "source": [
    "wrong_y_cord.index"
   ]
  },
  {
   "cell_type": "code",
   "execution_count": 161,
   "metadata": {
    "collapsed": true
   },
   "outputs": [],
   "source": [
    "wrong_x_cord = kansas_data[kansas_data['y'] < 38]['x']"
   ]
  },
  {
   "cell_type": "code",
   "execution_count": 162,
   "metadata": {},
   "outputs": [
    {
     "data": {
      "text/plain": [
       "Int64Index([332907, 332908, 332909, 332910, 332911, 332912, 332913, 332914,\n",
       "            332915, 332916,\n",
       "            ...\n",
       "            335604, 335605, 335606, 335607, 335608, 335609, 335610, 335611,\n",
       "            335612, 335613],\n",
       "           dtype='int64', length=2707)"
      ]
     },
     "execution_count": 162,
     "metadata": {},
     "output_type": "execute_result"
    }
   ],
   "source": [
    "wrong_x_cord.index"
   ]
  },
  {
   "cell_type": "code",
   "execution_count": 163,
   "metadata": {},
   "outputs": [
    {
     "data": {
      "text/plain": [
       "0"
      ]
     },
     "execution_count": 163,
     "metadata": {},
     "output_type": "execute_result"
    }
   ],
   "source": [
    "sum(wrong_x_cord.index != wrong_y_cord.index)"
   ]
  },
  {
   "cell_type": "code",
   "execution_count": 164,
   "metadata": {
    "collapsed": true
   },
   "outputs": [],
   "source": [
    "kansas_data.loc[wrong_x_cord.index, 'x'] = wrong_y_cord\n",
    "kansas_data.loc[wrong_y_cord.index, 'y'] = wrong_x_cord"
   ]
  },
  {
   "cell_type": "code",
   "execution_count": 165,
   "metadata": {},
   "outputs": [
    {
     "data": {
      "text/plain": [
       "count    335609.000000\n",
       "mean        -94.735063\n",
       "std           0.079062\n",
       "min         -95.073315\n",
       "25%         -94.791439\n",
       "50%         -94.719921\n",
       "75%         -94.671605\n",
       "max         -94.596676\n",
       "Name: x, dtype: float64"
      ]
     },
     "execution_count": 165,
     "metadata": {},
     "output_type": "execute_result"
    }
   ],
   "source": [
    "kansas_data['x'].describe()"
   ]
  },
  {
   "cell_type": "code",
   "execution_count": 166,
   "metadata": {},
   "outputs": [
    {
     "data": {
      "text/plain": [
       "count    335609.000000\n",
       "mean         38.925978\n",
       "std           0.060539\n",
       "min          38.569660\n",
       "25%          38.883036\n",
       "50%          38.919071\n",
       "75%          38.970980\n",
       "max          39.369999\n",
       "Name: y, dtype: float64"
      ]
     },
     "execution_count": 166,
     "metadata": {},
     "output_type": "execute_result"
    }
   ],
   "source": [
    "kansas_data['y'].describe()"
   ]
  },
  {
   "cell_type": "code",
   "execution_count": 167,
   "metadata": {},
   "outputs": [
    {
     "data": {
      "text/plain": [
       "2433"
      ]
     },
     "execution_count": 167,
     "metadata": {},
     "output_type": "execute_result"
    }
   ],
   "source": [
    "kansas_data['x'].loc[kansas_data['x'] < -95].count()"
   ]
  },
  {
   "cell_type": "code",
   "execution_count": 168,
   "metadata": {
    "collapsed": true
   },
   "outputs": [],
   "source": [
    "#missing_count(kansas_data)"
   ]
  },
  {
   "cell_type": "code",
   "execution_count": 169,
   "metadata": {
    "collapsed": true
   },
   "outputs": [],
   "source": [
    "kansas_data = kansas_data.dropna(subset = ['ucrcode'])"
   ]
  },
  {
   "cell_type": "code",
   "execution_count": 170,
   "metadata": {},
   "outputs": [
    {
     "data": {
      "text/plain": [
       "0"
      ]
     },
     "execution_count": 170,
     "metadata": {},
     "output_type": "execute_result"
    }
   ],
   "source": [
    "missing_count(kansas_data)['ucrcode']"
   ]
  },
  {
   "cell_type": "code",
   "execution_count": 171,
   "metadata": {
    "collapsed": true
   },
   "outputs": [],
   "source": [
    "kansas_data.to_csv('kansas_data_cleaned.csv')"
   ]
  },
  {
   "cell_type": "code",
   "execution_count": 172,
   "metadata": {},
   "outputs": [
    {
     "data": {
      "text/plain": [
       "(335484, 35)"
      ]
     },
     "execution_count": 172,
     "metadata": {},
     "output_type": "execute_result"
    }
   ],
   "source": [
    "kansas_data.shape"
   ]
  },
  {
   "cell_type": "markdown",
   "metadata": {},
   "source": [
    "### We've reduced the dataset from 335614 cases to 335484 cases, and we cleaned the data and add more features."
   ]
  }
 ],
 "metadata": {
  "kernelspec": {
   "display_name": "Python 2",
   "language": "python",
   "name": "python2"
  },
  "language_info": {
   "codemirror_mode": {
    "name": "ipython",
    "version": 2
   },
   "file_extension": ".py",
   "mimetype": "text/x-python",
   "name": "python",
   "nbconvert_exporter": "python",
   "pygments_lexer": "ipython2",
   "version": "2.7.14"
  }
 },
 "nbformat": 4,
 "nbformat_minor": 2
}
